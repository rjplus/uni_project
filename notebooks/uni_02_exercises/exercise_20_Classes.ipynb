{
 "cells": [
  {
   "cell_type": "markdown",
   "metadata": {
    "slideshow": {
     "slide_type": "slide"
    }
   },
   "source": [
    "# Classes\n",
    "\n",
    "Programming in Python\n",
    "\n",
    "School of Computer Science, University of St Andrews"
   ]
  },
  {
   "cell_type": "markdown",
   "metadata": {
    "slideshow": {
     "slide_type": "slide"
    }
   },
   "source": [
    "## Motivation\n",
    "How can we model a length?"
   ]
  },
  {
   "cell_type": "code",
   "execution_count": 1,
   "metadata": {
    "execution": {
     "iopub.execute_input": "2023-11-07T21:47:52.302963Z",
     "iopub.status.busy": "2023-11-07T21:47:52.301684Z",
     "iopub.status.idle": "2023-11-07T21:47:52.314809Z",
     "shell.execute_reply": "2023-11-07T21:47:52.313704Z"
    },
    "slideshow": {
     "slide_type": "fragment"
    }
   },
   "outputs": [],
   "source": [
    "# Easy: use an int or a float\n",
    "x = 17"
   ]
  },
  {
   "cell_type": "markdown",
   "metadata": {
    "slideshow": {
     "slide_type": "fragment"
    }
   },
   "source": [
    "How about a point in 2D space?"
   ]
  },
  {
   "cell_type": "code",
   "execution_count": 2,
   "metadata": {
    "execution": {
     "iopub.execute_input": "2023-11-07T21:47:52.320264Z",
     "iopub.status.busy": "2023-11-07T21:47:52.319847Z",
     "iopub.status.idle": "2023-11-07T21:47:52.324585Z",
     "shell.execute_reply": "2023-11-07T21:47:52.323465Z"
    },
    "slideshow": {
     "slide_type": "fragment"
    }
   },
   "outputs": [],
   "source": [
    "# tuple (x, y)\n",
    "point = (17, 12)"
   ]
  },
  {
   "cell_type": "markdown",
   "metadata": {
    "slideshow": {
     "slide_type": "subslide"
    }
   },
   "source": [
    "Now how about a circle plotted in 2D space?"
   ]
  },
  {
   "cell_type": "code",
   "execution_count": 3,
   "metadata": {
    "execution": {
     "iopub.execute_input": "2023-11-07T21:47:52.329149Z",
     "iopub.status.busy": "2023-11-07T21:47:52.328799Z",
     "iopub.status.idle": "2023-11-07T21:47:52.332810Z",
     "shell.execute_reply": "2023-11-07T21:47:52.331979Z"
    },
    "slideshow": {
     "slide_type": "fragment"
    }
   },
   "outputs": [],
   "source": [
    "# tuple (x, y, radius)\n",
    "circle = (17, 12, 5)"
   ]
  },
  {
   "cell_type": "markdown",
   "metadata": {
    "slideshow": {
     "slide_type": "fragment"
    }
   },
   "source": [
    "What if the circle has a colour?"
   ]
  },
  {
   "cell_type": "code",
   "execution_count": 4,
   "metadata": {
    "execution": {
     "iopub.execute_input": "2023-11-07T21:47:52.336898Z",
     "iopub.status.busy": "2023-11-07T21:47:52.336507Z",
     "iopub.status.idle": "2023-11-07T21:47:52.339933Z",
     "shell.execute_reply": "2023-11-07T21:47:52.339331Z"
    },
    "slideshow": {
     "slide_type": "fragment"
    }
   },
   "outputs": [],
   "source": [
    "# tuple (x, y, radius, r, g, b)\n",
    "circle = (17, 12, 5, 0, 128, 255)"
   ]
  },
  {
   "cell_type": "markdown",
   "metadata": {
    "slideshow": {
     "slide_type": "subslide"
    }
   },
   "source": [
    "We can write code that uses this"
   ]
  },
  {
   "cell_type": "code",
   "execution_count": 5,
   "metadata": {
    "execution": {
     "iopub.execute_input": "2023-11-07T21:47:52.343602Z",
     "iopub.status.busy": "2023-11-07T21:47:52.343273Z",
     "iopub.status.idle": "2023-11-07T21:47:52.347228Z",
     "shell.execute_reply": "2023-11-07T21:47:52.346526Z"
    },
    "slideshow": {
     "slide_type": "fragment"
    }
   },
   "outputs": [
    {
     "name": "stdout",
     "output_type": "stream",
     "text": [
      "Circle at (17, 12) with radius 5\n"
     ]
    }
   ],
   "source": [
    "print(f\"Circle at ({circle[0]}, {circle[1]}) with radius {circle[2]}\")"
   ]
  },
  {
   "cell_type": "markdown",
   "metadata": {
    "slideshow": {
     "slide_type": "subslide"
    }
   },
   "source": [
    "Now what if we want to introduce a $z$ coordinate?\n",
    "- Have to update existing code\n",
    "- Starting to struggle to keep all these variables straight\n",
    "- Errors likely!\n",
    "- Complex objects might want something more sophisticated"
   ]
  },
  {
   "cell_type": "markdown",
   "metadata": {
    "slideshow": {
     "slide_type": "slide"
    }
   },
   "source": [
    "## Classes\n",
    "* Good way to structure code\n",
    "* Less code replication\n",
    "* Constrain functionality\n",
    "* May be easier to debug\n",
    "* If you have any experience with Java, you may already know that classes are great!"
   ]
  },
  {
   "cell_type": "markdown",
   "metadata": {
    "slideshow": {
     "slide_type": "slide"
    }
   },
   "source": [
    "## Python has classes!\n",
    "* Python is object-oriented (*if you want it to be*)\n",
    "* https://docs.python.org/3/tutorial/classes.html\n",
    "* Python package = collection of modules\n",
    "* Python module can be a collection of classes\n",
    "* But (*remember if coming from Java*) **everything is public**"
   ]
  },
  {
   "cell_type": "markdown",
   "metadata": {
    "slideshow": {
     "slide_type": "slide"
    }
   },
   "source": [
    "### Syntax\n",
    "```python\n",
    "class ClassName:\n",
    "    <statement-1> # normally, a function definition\n",
    "    ...           # but other statements are allowed \n",
    "    <statement-N> # and sometimes useful\n",
    "```\n",
    "* indent the content of the class\n",
    "* `CamelCase` names for classes and `lower_case_with_underscores` for functions and methods"
   ]
  },
  {
   "cell_type": "markdown",
   "metadata": {
    "slideshow": {
     "slide_type": "slide"
    }
   },
   "source": [
    "# Example: a simple class for greetings"
   ]
  },
  {
   "cell_type": "code",
   "execution_count": 6,
   "metadata": {
    "execution": {
     "iopub.execute_input": "2023-11-07T21:47:52.388755Z",
     "iopub.status.busy": "2023-11-07T21:47:52.388027Z",
     "iopub.status.idle": "2023-11-07T21:47:52.393215Z",
     "shell.execute_reply": "2023-11-07T21:47:52.392429Z"
    },
    "slideshow": {
     "slide_type": "fragment"
    }
   },
   "outputs": [],
   "source": [
    "class Greetings:\n",
    "    \"\"\"This class implements greetings\"\"\"\n",
    "\n",
    "    def hello_world(self):\n",
    "        \"\"\"A traditional greeting from a new programming language.\n",
    "        See https://en.wikipedia.org/wiki/%22Hello,_World!%22_program\n",
    "        \"\"\"\n",
    "        # the meaning of the argument `self` to be explained below\n",
    "        return \"Hello, world!\"\n",
    "    \n",
    "    def ukrainian_salute(self):\n",
    "        \"\"\"See https://en.wikipedia.org/wiki/Slava_Ukraini\"\"\"\n",
    "        return \"Слава Україні!\"   "
   ]
  },
  {
   "cell_type": "markdown",
   "metadata": {
    "slideshow": {
     "slide_type": "slide"
    }
   },
   "source": [
    "**Class instantiation**"
   ]
  },
  {
   "cell_type": "code",
   "execution_count": 7,
   "metadata": {
    "execution": {
     "iopub.execute_input": "2023-11-07T21:47:52.397302Z",
     "iopub.status.busy": "2023-11-07T21:47:52.396995Z",
     "iopub.status.idle": "2023-11-07T21:47:52.400564Z",
     "shell.execute_reply": "2023-11-07T21:47:52.399798Z"
    },
    "slideshow": {
     "slide_type": "fragment"
    }
   },
   "outputs": [],
   "source": [
    "h = Greetings()"
   ]
  },
  {
   "cell_type": "code",
   "execution_count": 8,
   "metadata": {
    "execution": {
     "iopub.execute_input": "2023-11-07T21:47:52.404153Z",
     "iopub.status.busy": "2023-11-07T21:47:52.403859Z",
     "iopub.status.idle": "2023-11-07T21:47:52.407631Z",
     "shell.execute_reply": "2023-11-07T21:47:52.406964Z"
    },
    "slideshow": {
     "slide_type": "fragment"
    }
   },
   "outputs": [
    {
     "name": "stdout",
     "output_type": "stream",
     "text": [
      "Hello, world!\n"
     ]
    }
   ],
   "source": [
    "print(h.hello_world()) # calling a method from this class"
   ]
  },
  {
   "cell_type": "code",
   "execution_count": 9,
   "metadata": {
    "execution": {
     "iopub.execute_input": "2023-11-07T21:47:52.411414Z",
     "iopub.status.busy": "2023-11-07T21:47:52.411124Z",
     "iopub.status.idle": "2023-11-07T21:47:52.415040Z",
     "shell.execute_reply": "2023-11-07T21:47:52.414353Z"
    },
    "slideshow": {
     "slide_type": "fragment"
    }
   },
   "outputs": [
    {
     "name": "stdout",
     "output_type": "stream",
     "text": [
      "Слава Україні!\n"
     ]
    }
   ],
   "source": [
    "print(h.ukrainian_salute())"
   ]
  },
  {
   "cell_type": "code",
   "execution_count": 10,
   "metadata": {
    "execution": {
     "iopub.execute_input": "2023-11-07T21:47:52.418828Z",
     "iopub.status.busy": "2023-11-07T21:47:52.418489Z",
     "iopub.status.idle": "2023-11-07T21:47:52.425423Z",
     "shell.execute_reply": "2023-11-07T21:47:52.424639Z"
    },
    "slideshow": {
     "slide_type": "fragment"
    }
   },
   "outputs": [
    {
     "data": {
      "text/plain": [
       "<__main__.Greetings at 0x7f9f78aa9400>"
      ]
     },
     "execution_count": 10,
     "metadata": {},
     "output_type": "execute_result"
    }
   ],
   "source": [
    "h # an instance of the class `Greetings`"
   ]
  },
  {
   "cell_type": "code",
   "execution_count": 11,
   "metadata": {
    "execution": {
     "iopub.execute_input": "2023-11-07T21:47:52.428933Z",
     "iopub.status.busy": "2023-11-07T21:47:52.428658Z",
     "iopub.status.idle": "2023-11-07T21:47:52.432959Z",
     "shell.execute_reply": "2023-11-07T21:47:52.432302Z"
    },
    "slideshow": {
     "slide_type": "fragment"
    }
   },
   "outputs": [
    {
     "data": {
      "text/plain": [
       "__main__.Greetings"
      ]
     },
     "execution_count": 11,
     "metadata": {},
     "output_type": "execute_result"
    }
   ],
   "source": [
    "type(h)"
   ]
  },
  {
   "cell_type": "code",
   "execution_count": 12,
   "metadata": {
    "execution": {
     "iopub.execute_input": "2023-11-07T21:47:52.436731Z",
     "iopub.status.busy": "2023-11-07T21:47:52.436357Z",
     "iopub.status.idle": "2023-11-07T21:47:52.441574Z",
     "shell.execute_reply": "2023-11-07T21:47:52.440851Z"
    },
    "slideshow": {
     "slide_type": "slide"
    }
   },
   "outputs": [
    {
     "name": "stdout",
     "output_type": "stream",
     "text": [
      "Help on class Greetings in module __main__:\n",
      "\n",
      "class Greetings(builtins.object)\n",
      " |  This class implements greetings\n",
      " |  \n",
      " |  Methods defined here:\n",
      " |  \n",
      " |  hello_world(self)\n",
      " |      A traditional greeting from a new programming language.\n",
      " |      See https://en.wikipedia.org/wiki/%22Hello,_World!%22_program\n",
      " |  \n",
      " |  ukrainian_salute(self)\n",
      " |      See https://en.wikipedia.org/wiki/Slava_Ukraini\n",
      " |  \n",
      " |  ----------------------------------------------------------------------\n",
      " |  Data descriptors defined here:\n",
      " |  \n",
      " |  __dict__\n",
      " |      dictionary for instance variables (if defined)\n",
      " |  \n",
      " |  __weakref__\n",
      " |      list of weak references to the object (if defined)\n",
      "\n"
     ]
    }
   ],
   "source": [
    "help(Greetings) # displays a list of methods defined in this class"
   ]
  },
  {
   "cell_type": "markdown",
   "metadata": {
    "slideshow": {
     "slide_type": "slide"
    }
   },
   "source": [
    "## The meaning of self\n",
    "* The first argument of a method refers to the object itself\n",
    "* By convention, it's usually called `self`\n",
    "* But code which does not follow it may be less readable to others\n",
    "* And it is plausible that some tools to browse classes may rely on it\n",
    "* Methods may call other methods by using method attributes of the `self` argument"
   ]
  },
  {
   "cell_type": "markdown",
   "metadata": {
    "slideshow": {
     "slide_type": "slide"
    }
   },
   "source": [
    "## But what if there is no self?"
   ]
  },
  {
   "cell_type": "code",
   "execution_count": 13,
   "metadata": {
    "execution": {
     "iopub.execute_input": "2023-11-07T21:47:52.445366Z",
     "iopub.status.busy": "2023-11-07T21:47:52.445035Z",
     "iopub.status.idle": "2023-11-07T21:47:52.448532Z",
     "shell.execute_reply": "2023-11-07T21:47:52.447947Z"
    },
    "slideshow": {
     "slide_type": "fragment"
    }
   },
   "outputs": [],
   "source": [
    "class HelloWorldNoSelf:\n",
    "    \"\"\"A class to demonstrate a method without `self` argument\"\"\"\n",
    "\n",
    "    def hello():\n",
    "        return \"Hello, World!\""
   ]
  },
  {
   "cell_type": "code",
   "execution_count": 14,
   "metadata": {
    "execution": {
     "iopub.execute_input": "2023-11-07T21:47:52.451943Z",
     "iopub.status.busy": "2023-11-07T21:47:52.451565Z",
     "iopub.status.idle": "2023-11-07T21:47:52.455102Z",
     "shell.execute_reply": "2023-11-07T21:47:52.454404Z"
    },
    "slideshow": {
     "slide_type": "fragment"
    }
   },
   "outputs": [],
   "source": [
    "h = HelloWorldNoSelf()"
   ]
  },
  {
   "cell_type": "code",
   "execution_count": 15,
   "metadata": {
    "execution": {
     "iopub.execute_input": "2023-11-07T21:47:52.458990Z",
     "iopub.status.busy": "2023-11-07T21:47:52.458602Z",
     "iopub.status.idle": "2023-11-07T21:47:52.660635Z",
     "shell.execute_reply": "2023-11-07T21:47:52.659471Z"
    },
    "slideshow": {
     "slide_type": "fragment"
    }
   },
   "outputs": [
    {
     "ename": "TypeError",
     "evalue": "hello() takes 0 positional arguments but 1 was given",
     "output_type": "error",
     "traceback": [
      "\u001b[0;31m---------------------------------------------------------------------------\u001b[0m",
      "\u001b[0;31mTypeError\u001b[0m                                 Traceback (most recent call last)",
      "Cell \u001b[0;32mIn[15], line 1\u001b[0m\n\u001b[0;32m----> 1\u001b[0m \u001b[43mh\u001b[49m\u001b[38;5;241;43m.\u001b[39;49m\u001b[43mhello\u001b[49m\u001b[43m(\u001b[49m\u001b[43m)\u001b[49m\n",
      "\u001b[0;31mTypeError\u001b[0m: hello() takes 0 positional arguments but 1 was given"
     ]
    }
   ],
   "source": [
    "h.hello()"
   ]
  },
  {
   "cell_type": "markdown",
   "metadata": {
    "slideshow": {
     "slide_type": "slide"
    }
   },
   "source": [
    "### Equality of objects"
   ]
  },
  {
   "cell_type": "code",
   "execution_count": 16,
   "metadata": {
    "execution": {
     "iopub.execute_input": "2023-11-07T21:47:52.665205Z",
     "iopub.status.busy": "2023-11-07T21:47:52.664914Z",
     "iopub.status.idle": "2023-11-07T21:47:52.668719Z",
     "shell.execute_reply": "2023-11-07T21:47:52.667961Z"
    },
    "slideshow": {
     "slide_type": "fragment"
    }
   },
   "outputs": [],
   "source": [
    "class HelloWorld:\n",
    "    \"\"\"A simple class\"\"\"\n",
    "    \n",
    "    def hello(self):\n",
    "        return \"Hello, World!\""
   ]
  },
  {
   "cell_type": "code",
   "execution_count": 17,
   "metadata": {
    "execution": {
     "iopub.execute_input": "2023-11-07T21:47:52.672159Z",
     "iopub.status.busy": "2023-11-07T21:47:52.671854Z",
     "iopub.status.idle": "2023-11-07T21:47:52.675306Z",
     "shell.execute_reply": "2023-11-07T21:47:52.674571Z"
    },
    "slideshow": {
     "slide_type": "fragment"
    }
   },
   "outputs": [],
   "source": [
    "a = HelloWorld()"
   ]
  },
  {
   "cell_type": "code",
   "execution_count": 18,
   "metadata": {
    "execution": {
     "iopub.execute_input": "2023-11-07T21:47:52.678959Z",
     "iopub.status.busy": "2023-11-07T21:47:52.678644Z",
     "iopub.status.idle": "2023-11-07T21:47:52.682079Z",
     "shell.execute_reply": "2023-11-07T21:47:52.681433Z"
    },
    "slideshow": {
     "slide_type": "fragment"
    }
   },
   "outputs": [],
   "source": [
    "b = HelloWorld()"
   ]
  },
  {
   "cell_type": "code",
   "execution_count": 19,
   "metadata": {
    "execution": {
     "iopub.execute_input": "2023-11-07T21:47:52.685886Z",
     "iopub.status.busy": "2023-11-07T21:47:52.685549Z",
     "iopub.status.idle": "2023-11-07T21:47:52.689978Z",
     "shell.execute_reply": "2023-11-07T21:47:52.689318Z"
    },
    "slideshow": {
     "slide_type": "fragment"
    }
   },
   "outputs": [
    {
     "data": {
      "text/plain": [
       "False"
      ]
     },
     "execution_count": 19,
     "metadata": {},
     "output_type": "execute_result"
    }
   ],
   "source": [
    "a == b"
   ]
  },
  {
   "cell_type": "code",
   "execution_count": 20,
   "metadata": {
    "execution": {
     "iopub.execute_input": "2023-11-07T21:47:52.693647Z",
     "iopub.status.busy": "2023-11-07T21:47:52.693347Z",
     "iopub.status.idle": "2023-11-07T21:47:52.697637Z",
     "shell.execute_reply": "2023-11-07T21:47:52.696928Z"
    },
    "slideshow": {
     "slide_type": "fragment"
    }
   },
   "outputs": [
    {
     "data": {
      "text/plain": [
       "__main__.HelloWorld"
      ]
     },
     "execution_count": 20,
     "metadata": {},
     "output_type": "execute_result"
    }
   ],
   "source": [
    "type(a)"
   ]
  },
  {
   "cell_type": "markdown",
   "metadata": {
    "slideshow": {
     "slide_type": "slide"
    }
   },
   "source": [
    "# Storing data in a class"
   ]
  },
  {
   "cell_type": "code",
   "execution_count": 21,
   "metadata": {
    "execution": {
     "iopub.execute_input": "2023-11-07T21:47:52.701533Z",
     "iopub.status.busy": "2023-11-07T21:47:52.701242Z",
     "iopub.status.idle": "2023-11-07T21:47:52.705303Z",
     "shell.execute_reply": "2023-11-07T21:47:52.704570Z"
    },
    "slideshow": {
     "slide_type": "subslide"
    }
   },
   "outputs": [],
   "source": [
    "import time\n",
    "class DeepThought:\n",
    "    \"\"\"There is an answer. But, I'll have to think about it.\"\"\"\n",
    "    delay_seconds = 10\n",
    "    def answer(self):\n",
    "        # wait for the specified number of seconds\n",
    "        time.sleep(self.delay_seconds) # uses `self`\n",
    "        return 42"
   ]
  },
  {
   "cell_type": "code",
   "execution_count": 22,
   "metadata": {
    "execution": {
     "iopub.execute_input": "2023-11-07T21:47:52.708731Z",
     "iopub.status.busy": "2023-11-07T21:47:52.708409Z",
     "iopub.status.idle": "2023-11-07T21:48:02.719815Z",
     "shell.execute_reply": "2023-11-07T21:48:02.718219Z"
    },
    "slideshow": {
     "slide_type": "fragment"
    }
   },
   "outputs": [
    {
     "data": {
      "text/plain": [
       "42"
      ]
     },
     "execution_count": 22,
     "metadata": {},
     "output_type": "execute_result"
    }
   ],
   "source": [
    "a = DeepThought()\n",
    "a.answer()"
   ]
  },
  {
   "cell_type": "code",
   "execution_count": 23,
   "metadata": {
    "execution": {
     "iopub.execute_input": "2023-11-07T21:48:02.729056Z",
     "iopub.status.busy": "2023-11-07T21:48:02.728479Z",
     "iopub.status.idle": "2023-11-07T21:48:02.736738Z",
     "shell.execute_reply": "2023-11-07T21:48:02.735526Z"
    },
    "slideshow": {
     "slide_type": "fragment"
    }
   },
   "outputs": [
    {
     "data": {
      "text/plain": [
       "10"
      ]
     },
     "execution_count": 23,
     "metadata": {},
     "output_type": "execute_result"
    }
   ],
   "source": [
    "a.delay_seconds"
   ]
  },
  {
   "cell_type": "code",
   "execution_count": 24,
   "metadata": {
    "execution": {
     "iopub.execute_input": "2023-11-07T21:48:02.742387Z",
     "iopub.status.busy": "2023-11-07T21:48:02.741980Z",
     "iopub.status.idle": "2023-11-07T21:48:02.746247Z",
     "shell.execute_reply": "2023-11-07T21:48:02.745317Z"
    },
    "slideshow": {
     "slide_type": "fragment"
    }
   },
   "outputs": [],
   "source": [
    "a.question = \"The Ultimate Question Of Life, the Universe and Everything\""
   ]
  },
  {
   "cell_type": "code",
   "execution_count": 25,
   "metadata": {
    "execution": {
     "iopub.execute_input": "2023-11-07T21:48:02.750959Z",
     "iopub.status.busy": "2023-11-07T21:48:02.750533Z",
     "iopub.status.idle": "2023-11-07T21:48:02.755872Z",
     "shell.execute_reply": "2023-11-07T21:48:02.754984Z"
    },
    "slideshow": {
     "slide_type": "fragment"
    }
   },
   "outputs": [
    {
     "data": {
      "text/plain": [
       "'The Ultimate Question Of Life, the Universe and Everything'"
      ]
     },
     "execution_count": 25,
     "metadata": {},
     "output_type": "execute_result"
    }
   ],
   "source": [
    "a.question"
   ]
  },
  {
   "cell_type": "markdown",
   "metadata": {
    "slideshow": {
     "slide_type": "slide"
    }
   },
   "source": [
    "## Initialisation"
   ]
  },
  {
   "cell_type": "code",
   "execution_count": 26,
   "metadata": {
    "execution": {
     "iopub.execute_input": "2023-11-07T21:48:02.760348Z",
     "iopub.status.busy": "2023-11-07T21:48:02.759727Z",
     "iopub.status.idle": "2023-11-07T21:48:02.764984Z",
     "shell.execute_reply": "2023-11-07T21:48:02.764312Z"
    },
    "slideshow": {
     "slide_type": "fragment"
    }
   },
   "outputs": [],
   "source": [
    "class Circle:\n",
    "    def __init__(self, x, y, radius, red, green, blue):\n",
    "        self.x = x\n",
    "        self.y = y\n",
    "        self.radius = radius\n",
    "        self.red = red\n",
    "        self.green = green\n",
    "        self.blue = blue\n",
    "        \n",
    "    def area(self):\n",
    "        return 3.1415 * self.radius * self.radius\n",
    "    \n",
    "    def color(self):\n",
    "        return (self.red, self.green, self.blue)"
   ]
  },
  {
   "cell_type": "code",
   "execution_count": 27,
   "metadata": {
    "execution": {
     "iopub.execute_input": "2023-11-07T21:48:02.768411Z",
     "iopub.status.busy": "2023-11-07T21:48:02.768116Z",
     "iopub.status.idle": "2023-11-07T21:48:02.771562Z",
     "shell.execute_reply": "2023-11-07T21:48:02.770875Z"
    },
    "slideshow": {
     "slide_type": "fragment"
    }
   },
   "outputs": [],
   "source": [
    "c = Circle(17, 12, 5, 0, 128, 255)"
   ]
  },
  {
   "cell_type": "code",
   "execution_count": 28,
   "metadata": {
    "execution": {
     "iopub.execute_input": "2023-11-07T21:48:02.775091Z",
     "iopub.status.busy": "2023-11-07T21:48:02.774732Z",
     "iopub.status.idle": "2023-11-07T21:48:02.778937Z",
     "shell.execute_reply": "2023-11-07T21:48:02.778298Z"
    },
    "slideshow": {
     "slide_type": "subslide"
    }
   },
   "outputs": [
    {
     "data": {
      "text/plain": [
       "5"
      ]
     },
     "execution_count": 28,
     "metadata": {},
     "output_type": "execute_result"
    }
   ],
   "source": [
    "c.radius"
   ]
  },
  {
   "cell_type": "code",
   "execution_count": 29,
   "metadata": {
    "execution": {
     "iopub.execute_input": "2023-11-07T21:48:02.782755Z",
     "iopub.status.busy": "2023-11-07T21:48:02.782426Z",
     "iopub.status.idle": "2023-11-07T21:48:02.786777Z",
     "shell.execute_reply": "2023-11-07T21:48:02.786077Z"
    },
    "scrolled": true,
    "slideshow": {
     "slide_type": "fragment"
    }
   },
   "outputs": [
    {
     "data": {
      "text/plain": [
       "128"
      ]
     },
     "execution_count": 29,
     "metadata": {},
     "output_type": "execute_result"
    }
   ],
   "source": [
    "c.green"
   ]
  },
  {
   "cell_type": "code",
   "execution_count": 30,
   "metadata": {
    "execution": {
     "iopub.execute_input": "2023-11-07T21:48:02.790372Z",
     "iopub.status.busy": "2023-11-07T21:48:02.790068Z",
     "iopub.status.idle": "2023-11-07T21:48:02.794501Z",
     "shell.execute_reply": "2023-11-07T21:48:02.793807Z"
    },
    "slideshow": {
     "slide_type": "fragment"
    }
   },
   "outputs": [
    {
     "data": {
      "text/plain": [
       "78.53750000000001"
      ]
     },
     "execution_count": 30,
     "metadata": {},
     "output_type": "execute_result"
    }
   ],
   "source": [
    "c.area()"
   ]
  },
  {
   "cell_type": "code",
   "execution_count": 31,
   "metadata": {
    "execution": {
     "iopub.execute_input": "2023-11-07T21:48:02.798105Z",
     "iopub.status.busy": "2023-11-07T21:48:02.797610Z",
     "iopub.status.idle": "2023-11-07T21:48:02.802131Z",
     "shell.execute_reply": "2023-11-07T21:48:02.801446Z"
    },
    "slideshow": {
     "slide_type": "fragment"
    }
   },
   "outputs": [
    {
     "data": {
      "text/plain": [
       "(0, 128, 255)"
      ]
     },
     "execution_count": 31,
     "metadata": {},
     "output_type": "execute_result"
    }
   ],
   "source": [
    "c.color()"
   ]
  },
  {
   "cell_type": "code",
   "execution_count": 32,
   "metadata": {
    "execution": {
     "iopub.execute_input": "2023-11-07T21:48:02.805745Z",
     "iopub.status.busy": "2023-11-07T21:48:02.805422Z",
     "iopub.status.idle": "2023-11-07T21:48:02.808733Z",
     "shell.execute_reply": "2023-11-07T21:48:02.808063Z"
    },
    "slideshow": {
     "slide_type": "subslide"
    }
   },
   "outputs": [],
   "source": [
    "# still can store some more data\n",
    "c.counter = 1"
   ]
  },
  {
   "cell_type": "code",
   "execution_count": 33,
   "metadata": {
    "execution": {
     "iopub.execute_input": "2023-11-07T21:48:02.812512Z",
     "iopub.status.busy": "2023-11-07T21:48:02.812028Z",
     "iopub.status.idle": "2023-11-07T21:48:02.815546Z",
     "shell.execute_reply": "2023-11-07T21:48:02.814874Z"
    },
    "slideshow": {
     "slide_type": "fragment"
    }
   },
   "outputs": [],
   "source": [
    "while c.counter < 10:\n",
    "    c.counter = c.counter * 2"
   ]
  },
  {
   "cell_type": "code",
   "execution_count": 34,
   "metadata": {
    "execution": {
     "iopub.execute_input": "2023-11-07T21:48:02.819147Z",
     "iopub.status.busy": "2023-11-07T21:48:02.818816Z",
     "iopub.status.idle": "2023-11-07T21:48:02.822999Z",
     "shell.execute_reply": "2023-11-07T21:48:02.822368Z"
    },
    "slideshow": {
     "slide_type": "fragment"
    }
   },
   "outputs": [
    {
     "data": {
      "text/plain": [
       "16"
      ]
     },
     "execution_count": 34,
     "metadata": {},
     "output_type": "execute_result"
    }
   ],
   "source": [
    "c.counter"
   ]
  },
  {
   "cell_type": "code",
   "execution_count": 35,
   "metadata": {
    "execution": {
     "iopub.execute_input": "2023-11-07T21:48:02.826463Z",
     "iopub.status.busy": "2023-11-07T21:48:02.826198Z",
     "iopub.status.idle": "2023-11-07T21:48:02.829414Z",
     "shell.execute_reply": "2023-11-07T21:48:02.828626Z"
    },
    "slideshow": {
     "slide_type": "fragment"
    }
   },
   "outputs": [],
   "source": [
    "# can also delete data\n",
    "del(c.counter)"
   ]
  },
  {
   "cell_type": "code",
   "execution_count": 36,
   "metadata": {
    "execution": {
     "iopub.execute_input": "2023-11-07T21:48:02.833125Z",
     "iopub.status.busy": "2023-11-07T21:48:02.832795Z",
     "iopub.status.idle": "2023-11-07T21:48:02.846440Z",
     "shell.execute_reply": "2023-11-07T21:48:02.845756Z"
    },
    "scrolled": false,
    "slideshow": {
     "slide_type": "fragment"
    }
   },
   "outputs": [
    {
     "ename": "AttributeError",
     "evalue": "'Circle' object has no attribute 'counter'",
     "output_type": "error",
     "traceback": [
      "\u001b[0;31m---------------------------------------------------------------------------\u001b[0m",
      "\u001b[0;31mAttributeError\u001b[0m                            Traceback (most recent call last)",
      "Cell \u001b[0;32mIn[36], line 1\u001b[0m\n\u001b[0;32m----> 1\u001b[0m \u001b[43mc\u001b[49m\u001b[38;5;241;43m.\u001b[39;49m\u001b[43mcounter\u001b[49m \u001b[38;5;66;03m# now gives an error\u001b[39;00m\n",
      "\u001b[0;31mAttributeError\u001b[0m: 'Circle' object has no attribute 'counter'"
     ]
    }
   ],
   "source": [
    "c.counter # now gives an error"
   ]
  },
  {
   "cell_type": "markdown",
   "metadata": {
    "slideshow": {
     "slide_type": "slide"
    }
   },
   "source": [
    "## Exercise\n",
    "\n",
    "Write a class that represents students on this course.  It should capture:\n",
    "- Name\n",
    "- Date of birth\n",
    "- Modules codes taken\n",
    "\n",
    "and should have a method that prints the student's details in a readable fashion.\n",
    "\n",
    "Then initialise an instance that represents you!"
   ]
  },
  {
   "cell_type": "code",
   "execution_count": 37,
   "metadata": {
    "execution": {
     "iopub.execute_input": "2023-11-07T21:48:02.849969Z",
     "iopub.status.busy": "2023-11-07T21:48:02.849659Z",
     "iopub.status.idle": "2023-11-07T21:48:02.854947Z",
     "shell.execute_reply": "2023-11-07T21:48:02.854270Z"
    },
    "scrolled": true,
    "slideshow": {
     "slide_type": "skip"
    }
   },
   "outputs": [
    {
     "name": "stdout",
     "output_type": "stream",
     "text": [
      "Michael Young was born on 19/04/1991 and is taking CS5901, CS5902, CS5905 and CS5999\n"
     ]
    }
   ],
   "source": [
    "class Student:\n",
    "    def __init__(self, name, date_of_birth, modules):\n",
    "        self.name = name\n",
    "        self.date_of_birth = date_of_birth\n",
    "        self.modules = modules\n",
    "        \n",
    "    def print_details(self):\n",
    "        print(\n",
    "            self.name,\n",
    "            \"was born on\",\n",
    "            self.date_of_birth, \n",
    "            \"and is taking\",\n",
    "            \", \".join(self.modules[:-1]),\n",
    "            \"and\",\n",
    "            self.modules[-1],\n",
    "        )\n",
    "\n",
    "michael = Student(\"Michael Young\", \"19/04/1991\", [\"CS5901\", \"CS5902\", \"CS5905\", \"CS5999\"])\n",
    "michael.print_details()"
   ]
  }
 ],
 "metadata": {
  "celltoolbar": "Slideshow",
  "kernelspec": {
   "display_name": "Python 3 (ipykernel)",
   "language": "python",
   "name": "python3"
  },
  "language_info": {
   "codemirror_mode": {
    "name": "ipython",
    "version": 3
   },
   "file_extension": ".py",
   "mimetype": "text/x-python",
   "name": "python",
   "nbconvert_exporter": "python",
   "pygments_lexer": "ipython3",
   "version": "3.9.1"
  }
 },
 "nbformat": 4,
 "nbformat_minor": 1
}
