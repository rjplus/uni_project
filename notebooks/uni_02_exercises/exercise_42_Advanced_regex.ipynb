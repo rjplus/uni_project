{
 "cells": [
  {
   "cell_type": "markdown",
   "id": "f70a1c3d",
   "metadata": {
    "slideshow": {
     "slide_type": "slide"
    }
   },
   "source": [
    "# Advanced regular expressions\n",
    "\n",
    "Programming in Python\n",
    "\n",
    "School of Computer Science, University of St Andrews"
   ]
  },
  {
   "cell_type": "markdown",
   "id": "b2b6ccbc",
   "metadata": {
    "slideshow": {
     "slide_type": "slide"
    }
   },
   "source": [
    "## Previously\n",
    "- Simple find-and-replace\n",
    "- Search using regex: `re.search` and `re.match`\n",
    "- Replace using regex: `re.sub`\n",
    "- Repetition: `*` and `+`\n",
    "- Special characters: `.` `\\b` `\\d` `\\s` `\\w` and complements"
   ]
  },
  {
   "cell_type": "markdown",
   "id": "88be097d",
   "metadata": {
    "slideshow": {
     "slide_type": "slide"
    }
   },
   "source": [
    "## Today\n",
    "- Character classes\n",
    "- Specified-length repetition\n",
    "- Capturing groups"
   ]
  },
  {
   "cell_type": "code",
   "execution_count": 1,
   "id": "b30879d6",
   "metadata": {
    "execution": {
     "iopub.execute_input": "2024-01-12T16:25:02.520815Z",
     "iopub.status.busy": "2024-01-12T16:25:02.520480Z",
     "iopub.status.idle": "2024-01-12T16:25:02.528556Z",
     "shell.execute_reply": "2024-01-12T16:25:02.527675Z"
    },
    "slideshow": {
     "slide_type": "fragment"
    }
   },
   "outputs": [],
   "source": [
    "import re"
   ]
  },
  {
   "cell_type": "markdown",
   "id": "5423f4dc",
   "metadata": {
    "slideshow": {
     "slide_type": "slide"
    }
   },
   "source": [
    "## A tricky problem"
   ]
  },
  {
   "cell_type": "code",
   "execution_count": 2,
   "id": "d7560f38",
   "metadata": {
    "execution": {
     "iopub.execute_input": "2024-01-12T16:25:02.532758Z",
     "iopub.status.busy": "2024-01-12T16:25:02.532310Z",
     "iopub.status.idle": "2024-01-12T16:25:02.536513Z",
     "shell.execute_reply": "2024-01-12T16:25:02.535547Z"
    },
    "slideshow": {
     "slide_type": "fragment"
    }
   },
   "outputs": [],
   "source": [
    "text = \"Launch prices for the Nintendo 64 were $199 in the US, £250 in the UK and ¥25,000 in Japan\""
   ]
  },
  {
   "cell_type": "code",
   "execution_count": 3,
   "id": "e1cb0537",
   "metadata": {
    "execution": {
     "iopub.execute_input": "2024-01-12T16:25:02.540265Z",
     "iopub.status.busy": "2024-01-12T16:25:02.539966Z",
     "iopub.status.idle": "2024-01-12T16:25:02.547172Z",
     "shell.execute_reply": "2024-01-12T16:25:02.546571Z"
    },
    "slideshow": {
     "slide_type": "fragment"
    }
   },
   "outputs": [
    {
     "data": {
      "text/plain": [
       "[('$', '199'), ('£', '250'), ('¥', '25,000')]"
      ]
     },
     "execution_count": 3,
     "metadata": {},
     "output_type": "execute_result"
    }
   ],
   "source": [
    "re.findall(\"([^\\\\d\\\\s])([\\\\d,]+)\\\\b\", text)"
   ]
  },
  {
   "cell_type": "markdown",
   "id": "4d9664bd",
   "metadata": {
    "slideshow": {
     "slide_type": "fragment"
    }
   },
   "source": [
    "How did we get to the string above?"
   ]
  },
  {
   "cell_type": "markdown",
   "id": "3242771e",
   "metadata": {
    "slideshow": {
     "slide_type": "slide"
    }
   },
   "source": [
    "## Groups\n",
    "- Part of a match pattern can have an option in it\n",
    "- We use `(x|y)` syntax"
   ]
  },
  {
   "cell_type": "code",
   "execution_count": 4,
   "id": "ba6acc1f",
   "metadata": {
    "execution": {
     "iopub.execute_input": "2024-01-12T16:25:02.552148Z",
     "iopub.status.busy": "2024-01-12T16:25:02.551645Z",
     "iopub.status.idle": "2024-01-12T16:25:02.557631Z",
     "shell.execute_reply": "2024-01-12T16:25:02.556774Z"
    },
    "slideshow": {
     "slide_type": "fragment"
    }
   },
   "outputs": [
    {
     "data": {
      "text/plain": [
       "<re.Match object; span=(3, 10), match='you are'>"
      ]
     },
     "execution_count": 4,
     "metadata": {},
     "output_type": "execute_result"
    }
   ],
   "source": [
    "text = \"If you are happy, then we are happy and we are likely to remain happy\"\n",
    "re.search(\"(we|you|they) are\", text)"
   ]
  },
  {
   "cell_type": "markdown",
   "id": "95e6a5de",
   "metadata": {
    "slideshow": {
     "slide_type": "slide"
    }
   },
   "source": [
    "## Capturing groups\n",
    "- Aside from allowing options, groups have another purpose\n",
    "- They mark a part of the search pattern that should be *captured* and treated separately"
   ]
  },
  {
   "cell_type": "code",
   "execution_count": 5,
   "id": "99ad88f2",
   "metadata": {
    "execution": {
     "iopub.execute_input": "2024-01-12T16:25:02.561294Z",
     "iopub.status.busy": "2024-01-12T16:25:02.560989Z",
     "iopub.status.idle": "2024-01-12T16:25:02.566722Z",
     "shell.execute_reply": "2024-01-12T16:25:02.565564Z"
    },
    "slideshow": {
     "slide_type": "fragment"
    }
   },
   "outputs": [
    {
     "name": "stdout",
     "output_type": "stream",
     "text": [
      "you are\n",
      "you\n"
     ]
    }
   ],
   "source": [
    "match = re.search(\"(we|you|they) are\", text)  # matches\n",
    "print(match.group(0))  # whole match\n",
    "print(match.group(1))  # first captured group"
   ]
  },
  {
   "cell_type": "code",
   "execution_count": 6,
   "id": "569a87c1",
   "metadata": {
    "execution": {
     "iopub.execute_input": "2024-01-12T16:25:02.571341Z",
     "iopub.status.busy": "2024-01-12T16:25:02.570926Z",
     "iopub.status.idle": "2024-01-12T16:25:02.576774Z",
     "shell.execute_reply": "2024-01-12T16:25:02.575898Z"
    },
    "scrolled": true,
    "slideshow": {
     "slide_type": "subslide"
    }
   },
   "outputs": [
    {
     "name": "stdout",
     "output_type": "stream",
     "text": [
      "Amelia is tall\n",
      "Noun: Amelia\n",
      "Adjective: tall\n"
     ]
    }
   ],
   "source": [
    "text = \"I think Amelia is tall, Oliver is short and Grace is medium-height.\"\n",
    "match = re.search(\"\\\\b(\\\\w+) is (\\\\w+)\\\\b\", text)\n",
    "print(match.group(0))\n",
    "print(\"Noun:\", match.group(1))\n",
    "print(\"Adjective:\", match.group(2))"
   ]
  },
  {
   "cell_type": "markdown",
   "id": "821aae08",
   "metadata": {
    "slideshow": {
     "slide_type": "subslide"
    }
   },
   "source": [
    "Find multiple matches with `re.finditer`"
   ]
  },
  {
   "cell_type": "code",
   "execution_count": 7,
   "id": "8e423ec9",
   "metadata": {
    "execution": {
     "iopub.execute_input": "2024-01-12T16:25:02.580762Z",
     "iopub.status.busy": "2024-01-12T16:25:02.580454Z",
     "iopub.status.idle": "2024-01-12T16:25:02.585313Z",
     "shell.execute_reply": "2024-01-12T16:25:02.584553Z"
    },
    "slideshow": {
     "slide_type": "fragment"
    }
   },
   "outputs": [
    {
     "name": "stdout",
     "output_type": "stream",
     "text": [
      "Noun: Amelia\n",
      "Adjective: tall\n",
      "\n",
      "Noun: Oliver\n",
      "Adjective: short\n",
      "\n",
      "Noun: Grace\n",
      "Adjective: medium\n",
      "\n"
     ]
    }
   ],
   "source": [
    "for match in re.finditer(\"\\\\b(\\\\w+) is (\\\\w+)\\\\b\", text):\n",
    "    print(\"Noun:\", match.group(1))\n",
    "    print(\"Adjective:\", match.group(2))\n",
    "    print()"
   ]
  },
  {
   "cell_type": "markdown",
   "id": "d4380625",
   "metadata": {
    "slideshow": {
     "slide_type": "subslide"
    }
   },
   "source": [
    "**Note:** `re.findall` uses captured groups if available, and ignores the rest of the string"
   ]
  },
  {
   "cell_type": "code",
   "execution_count": 8,
   "id": "41218836",
   "metadata": {
    "execution": {
     "iopub.execute_input": "2024-01-12T16:25:02.589552Z",
     "iopub.status.busy": "2024-01-12T16:25:02.589213Z",
     "iopub.status.idle": "2024-01-12T16:25:02.593971Z",
     "shell.execute_reply": "2024-01-12T16:25:02.593264Z"
    },
    "slideshow": {
     "slide_type": "fragment"
    }
   },
   "outputs": [
    {
     "data": {
      "text/plain": [
       "[('Amelia', 'tall'), ('Oliver', 'short'), ('Grace', 'medium')]"
      ]
     },
     "execution_count": 8,
     "metadata": {},
     "output_type": "execute_result"
    }
   ],
   "source": [
    "re.findall(\"\\\\b(\\\\w+) is (\\\\w+)\\\\b\", text)"
   ]
  },
  {
   "cell_type": "code",
   "execution_count": 9,
   "id": "92f5acf9",
   "metadata": {
    "execution": {
     "iopub.execute_input": "2024-01-12T16:25:02.597905Z",
     "iopub.status.busy": "2024-01-12T16:25:02.597478Z",
     "iopub.status.idle": "2024-01-12T16:25:02.603800Z",
     "shell.execute_reply": "2024-01-12T16:25:02.602794Z"
    },
    "slideshow": {
     "slide_type": "fragment"
    }
   },
   "outputs": [
    {
     "data": {
      "text/plain": [
       "[('Amelia is tall', 'Amelia', 'tall'),\n",
       " ('Oliver is short', 'Oliver', 'short'),\n",
       " ('Grace is medium', 'Grace', 'medium')]"
      ]
     },
     "execution_count": 9,
     "metadata": {},
     "output_type": "execute_result"
    }
   ],
   "source": [
    "re.findall(\"(\\\\b(\\\\w+) is (\\\\w+)\\\\b)\", text)"
   ]
  },
  {
   "cell_type": "markdown",
   "id": "de06eba7",
   "metadata": {
    "slideshow": {
     "slide_type": "slide"
    }
   },
   "source": [
    "## Character classes\n",
    "- We've seen some special character classes: `\\d` `\\s` `\\w`\n",
    "- We've also seen their complements: `\\D` `\\S` `\\W`\n",
    "- But we can define our own classes using the characters `[]^`"
   ]
  },
  {
   "cell_type": "code",
   "execution_count": 10,
   "id": "ee2c4cfb",
   "metadata": {
    "execution": {
     "iopub.execute_input": "2024-01-12T16:25:02.607580Z",
     "iopub.status.busy": "2024-01-12T16:25:02.607254Z",
     "iopub.status.idle": "2024-01-12T16:25:02.614152Z",
     "shell.execute_reply": "2024-01-12T16:25:02.613133Z"
    },
    "slideshow": {
     "slide_type": "subslide"
    }
   },
   "outputs": [
    {
     "data": {
      "text/plain": [
       "['fLs', 'xZs', 'NBs', 'J3s', 'Sfs', 'oRs', 'xas', '9Ps']"
      ]
     },
     "execution_count": 10,
     "metadata": {},
     "output_type": "execute_result"
    }
   ],
   "source": [
    "code = \"PsfLsXsqNxZsNBs0sp8xYJ3ssSfsoRsH1xas9Ps\"\n",
    "re.findall(\"..s\", code)"
   ]
  },
  {
   "cell_type": "code",
   "execution_count": 11,
   "id": "179dbfaf",
   "metadata": {
    "execution": {
     "iopub.execute_input": "2024-01-12T16:25:02.618808Z",
     "iopub.status.busy": "2024-01-12T16:25:02.618425Z",
     "iopub.status.idle": "2024-01-12T16:25:02.624746Z",
     "shell.execute_reply": "2024-01-12T16:25:02.624094Z"
    },
    "slideshow": {
     "slide_type": "fragment"
    }
   },
   "outputs": [
    {
     "data": {
      "text/plain": [
       "['x', 'N', 'J', 'x', '9']"
      ]
     },
     "execution_count": 11,
     "metadata": {},
     "output_type": "execute_result"
    }
   ],
   "source": [
    "re.findall(\"(x|N|J|9).s\", code)"
   ]
  },
  {
   "cell_type": "markdown",
   "id": "b525f353",
   "metadata": {
    "slideshow": {
     "slide_type": "subslide"
    }
   },
   "source": [
    "`[...]` matches any character inside the brackets"
   ]
  },
  {
   "cell_type": "code",
   "execution_count": 12,
   "id": "401d2cb9",
   "metadata": {
    "execution": {
     "iopub.execute_input": "2024-01-12T16:25:02.628728Z",
     "iopub.status.busy": "2024-01-12T16:25:02.628414Z",
     "iopub.status.idle": "2024-01-12T16:25:02.634768Z",
     "shell.execute_reply": "2024-01-12T16:25:02.634027Z"
    },
    "slideshow": {
     "slide_type": "fragment"
    }
   },
   "outputs": [
    {
     "data": {
      "text/plain": [
       "['xZs', 'NBs', 'J3s', 'xas', '9Ps']"
      ]
     },
     "execution_count": 12,
     "metadata": {},
     "output_type": "execute_result"
    }
   ],
   "source": [
    "re.findall(\"[xNJ9].s\", code)"
   ]
  },
  {
   "cell_type": "markdown",
   "id": "c9150ea4",
   "metadata": {
    "slideshow": {
     "slide_type": "subslide"
    }
   },
   "source": [
    "`[^...]` matches any character *not* inside the brackets"
   ]
  },
  {
   "cell_type": "code",
   "execution_count": 13,
   "id": "a5275af4",
   "metadata": {
    "execution": {
     "iopub.execute_input": "2024-01-12T16:25:02.638870Z",
     "iopub.status.busy": "2024-01-12T16:25:02.638320Z",
     "iopub.status.idle": "2024-01-12T16:25:02.643631Z",
     "shell.execute_reply": "2024-01-12T16:25:02.642920Z"
    },
    "slideshow": {
     "slide_type": "fragment"
    }
   },
   "outputs": [
    {
     "data": {
      "text/plain": [
       "['fLs', 's0s', '3ss', 'Sfs', 'oRs']"
      ]
     },
     "execution_count": 13,
     "metadata": {},
     "output_type": "execute_result"
    }
   ],
   "source": [
    "re.findall(\"[^xNJ9].s\", code)"
   ]
  },
  {
   "cell_type": "code",
   "execution_count": 14,
   "id": "8ce264f4",
   "metadata": {
    "execution": {
     "iopub.execute_input": "2024-01-12T16:25:02.647478Z",
     "iopub.status.busy": "2024-01-12T16:25:02.647181Z",
     "iopub.status.idle": "2024-01-12T16:25:02.652341Z",
     "shell.execute_reply": "2024-01-12T16:25:02.651439Z"
    },
    "slideshow": {
     "slide_type": "subslide"
    }
   },
   "outputs": [
    {
     "name": "stdout",
     "output_type": "stream",
     "text": [
      "['aardvark', 'abacus', 'Adam', 'Adrian', 'bag', 'Bartholomew', 'bale']\n"
     ]
    }
   ],
   "source": [
    "text = \"aardvark abacus Adam Adrian bag Bartholomew bale\"\n",
    "words = re.findall(\"\\\\w+\", text)\n",
    "print(words)"
   ]
  },
  {
   "cell_type": "code",
   "execution_count": 15,
   "id": "d5760468",
   "metadata": {
    "execution": {
     "iopub.execute_input": "2024-01-12T16:25:02.657494Z",
     "iopub.status.busy": "2024-01-12T16:25:02.657076Z",
     "iopub.status.idle": "2024-01-12T16:25:02.661656Z",
     "shell.execute_reply": "2024-01-12T16:25:02.660927Z"
    },
    "slideshow": {
     "slide_type": "fragment"
    }
   },
   "outputs": [
    {
     "name": "stdout",
     "output_type": "stream",
     "text": [
      "['Adam', 'Adrian', 'Bartholomew']\n"
     ]
    }
   ],
   "source": [
    "names = re.findall(\"[A-Z]\\\\w*\", text)  # [A-Z] matches any character in the range\n",
    "print(names)"
   ]
  },
  {
   "cell_type": "markdown",
   "id": "81246b64",
   "metadata": {
    "slideshow": {
     "slide_type": "slide"
    }
   },
   "source": [
    "## Repeating a specified number of times\n",
    "- `x*`: 0 or more times\n",
    "- `x+`: 1 or more times\n",
    "- `x?`: 0 or 1 times\n",
    "- `x{n}`: n times exactly"
   ]
  },
  {
   "cell_type": "code",
   "execution_count": 16,
   "id": "cebcd09c",
   "metadata": {
    "execution": {
     "iopub.execute_input": "2024-01-12T16:25:02.666817Z",
     "iopub.status.busy": "2024-01-12T16:25:02.665874Z",
     "iopub.status.idle": "2024-01-12T16:25:02.672149Z",
     "shell.execute_reply": "2024-01-12T16:25:02.671110Z"
    },
    "slideshow": {
     "slide_type": "subslide"
    }
   },
   "outputs": [
    {
     "data": {
      "text/plain": [
       "<re.Match object; span=(23, 25), match='ss'>"
      ]
     },
     "execution_count": 16,
     "metadata": {},
     "output_type": "execute_result"
    }
   ],
   "source": [
    "code = \"PsfLsXsqNxZsNBs0sp8xYJ3ssSfsoRsH1xas9Ps\"\n",
    "re.search(\"s{2}\", code)"
   ]
  },
  {
   "cell_type": "code",
   "execution_count": 17,
   "id": "75228c78",
   "metadata": {
    "execution": {
     "iopub.execute_input": "2024-01-12T16:25:02.677583Z",
     "iopub.status.busy": "2024-01-12T16:25:02.676865Z",
     "iopub.status.idle": "2024-01-12T16:25:02.682131Z",
     "shell.execute_reply": "2024-01-12T16:25:02.681514Z"
    },
    "slideshow": {
     "slide_type": "fragment"
    }
   },
   "outputs": [
    {
     "data": {
      "text/plain": [
       "<re.Match object; span=(12, 14), match='NB'>"
      ]
     },
     "execution_count": 17,
     "metadata": {},
     "output_type": "execute_result"
    }
   ],
   "source": [
    "re.search(\"[A-Z]{2}\", code)"
   ]
  },
  {
   "cell_type": "markdown",
   "id": "9ba61d6f",
   "metadata": {
    "slideshow": {
     "slide_type": "slide"
    }
   },
   "source": [
    "## Back to the N64 price example"
   ]
  },
  {
   "cell_type": "code",
   "execution_count": 18,
   "id": "f457afaa",
   "metadata": {
    "execution": {
     "iopub.execute_input": "2024-01-12T16:25:02.685847Z",
     "iopub.status.busy": "2024-01-12T16:25:02.685550Z",
     "iopub.status.idle": "2024-01-12T16:25:02.689363Z",
     "shell.execute_reply": "2024-01-12T16:25:02.688583Z"
    },
    "slideshow": {
     "slide_type": "fragment"
    }
   },
   "outputs": [],
   "source": [
    "text = \"Launch prices for the Nintendo 64 were $199 in the US, £250 in the UK and ¥25,000 in Japan\"\n",
    "# get list of tuples of the form (currency, value)"
   ]
  },
  {
   "cell_type": "markdown",
   "id": "69bd0dff",
   "metadata": {
    "slideshow": {
     "slide_type": "slide"
    }
   },
   "source": [
    "## Regex can get complex!\n",
    "See some examples at <https://www.variables.sh/complex-regular-expression-examples/>:\n",
    "- URL: `(https?:\\/\\/)?([\\da-z\\.-]+)\\.([a-z\\.]{2,6})([\\/\\w \\.-]*)*\\/?`\n",
    "- Decimal number: `[+-]?([0-9]*[.])?[0-9]+`\n",
    "- Time (AM/PM): `(0?[1-9]|1[0-2]):[0-5]\\d\\s?(am|pm)?`"
   ]
  },
  {
   "cell_type": "markdown",
   "id": "a20b6688",
   "metadata": {
    "slideshow": {
     "slide_type": "slide"
    }
   },
   "source": [
    "## Exercise\n",
    "Write a function that takes a string and returns a boolean indicating whether it is a valid email address or not\n",
    "\n",
    "The full email address spec is rather complicated, so just use the restrictions specified at <https://help.xmatters.com/ondemand/trial/valid_email_format.htm>\n",
    "\n",
    "Next modify your function so that instead of returning a boolean it returns the email's *domain*, or `None` if the address is invalid"
   ]
  }
 ],
 "metadata": {
  "celltoolbar": "Slideshow",
  "kernelspec": {
   "display_name": "Python 3 (ipykernel)",
   "language": "python",
   "name": "python3"
  },
  "language_info": {
   "codemirror_mode": {
    "name": "ipython",
    "version": 3
   },
   "file_extension": ".py",
   "mimetype": "text/x-python",
   "name": "python",
   "nbconvert_exporter": "python",
   "pygments_lexer": "ipython3",
   "version": "3.9.1"
  }
 },
 "nbformat": 4,
 "nbformat_minor": 5
}
