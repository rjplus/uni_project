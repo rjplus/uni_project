{
 "cells": [
  {
   "cell_type": "markdown",
   "metadata": {
    "slideshow": {
     "slide_type": "slide"
    }
   },
   "source": [
    "# Dynamic UIs in Jupyter\n",
    "\n",
    "Programming in Python\n",
    "\n",
    "School of Computer Science, University of St Andrews"
   ]
  },
  {
   "cell_type": "markdown",
   "metadata": {
    "slideshow": {
     "slide_type": "slide"
    }
   },
   "source": [
    "## Jupyter widgets\n",
    "\n",
    "Interactive elements for Jupyter notebooks, for example:\n",
    "- sliders\n",
    "- checkboxes\n",
    "- text inputs\n",
    "- selectors\n",
    "etc. \n",
    "\n",
    "See https://ipywidgets.readthedocs.io/:\n"
   ]
  },
  {
   "cell_type": "code",
   "execution_count": 1,
   "metadata": {
    "slideshow": {
     "slide_type": "slide"
    }
   },
   "outputs": [],
   "source": [
    "%matplotlib inline\n",
    "import matplotlib.pyplot as plt"
   ]
  },
  {
   "cell_type": "code",
   "execution_count": 2,
   "metadata": {
    "slideshow": {
     "slide_type": "fragment"
    }
   },
   "outputs": [],
   "source": [
    "from ipywidgets import interact"
   ]
  },
  {
   "cell_type": "markdown",
   "metadata": {
    "slideshow": {
     "slide_type": "fragment"
    }
   },
   "source": [
    "NetworkX (https://networkx.org/) is a package for network analysys. We will use some of its functionality for graphs."
   ]
  },
  {
   "cell_type": "code",
   "execution_count": 3,
   "metadata": {
    "slideshow": {
     "slide_type": "fragment"
    }
   },
   "outputs": [],
   "source": [
    "import networkx as nx"
   ]
  },
  {
   "cell_type": "markdown",
   "metadata": {
    "slideshow": {
     "slide_type": "slide"
    }
   },
   "source": [
    "The graphs library of the NetworkX package has, among others, the following two functions:\n",
    "- [gnp_random_graph](https://networkx.org/documentation/stable/reference/generated/networkx.generators.random_graphs.gnp_random_graph.html)\n",
    "- [fast_gnp_random_graph](https://networkx.org/documentation/stable/reference/generated/networkx.generators.random_graphs.fast_gnp_random_graph.html#fast-gnp-random-graph)\n",
    "\n",
    "which return a $G_{n,p}$ random graph, also known as an Erdős-Rényi graph or a binomial graph, where $n$ is the number of vertices and $p$ is the probability of an edge creation to connect them. \n",
    "\n",
    "The \"fast\" version works more efficiently for sparse graphs (i.e. when $p$ is small) of small size.\n",
    "\n",
    "It also implements various algorithms to draw graphs using different layouts, including, for example:\n",
    "- [shell layout](https://networkx.org/documentation/stable/reference/generated/networkx.drawing.layout.shell_layout.html) (positioning vertices in concentric circles)\n",
    "- [spring layout](https://networkx.org/documentation/stable/reference/generated/networkx.drawing.layout.spring_layout.html#networkx.drawing.layout.spring_layout) (force-directed representation:  edges as springs holding vertices close, vertices as repelling objects)"
   ]
  },
  {
   "cell_type": "markdown",
   "metadata": {
    "slideshow": {
     "slide_type": "slide"
    }
   },
   "source": [
    "We want to build a visualisation with control elements to vary graph parameters.\n",
    "\n",
    "First we define a function to draw a graph with given number of vertices $n$, edge probability $p$, using the specified graph constructor and a layout."
   ]
  },
  {
   "cell_type": "code",
   "execution_count": 4,
   "metadata": {
    "slideshow": {
     "slide_type": "fragment"
    }
   },
   "outputs": [],
   "source": [
    "def plot_random_binomial_graph(n, p, generator, layout):\n",
    "    g = generator(n, p)\n",
    "    pos = layout(g)\n",
    "    nx.draw(g, pos=pos)\n",
    "    plt.show()"
   ]
  },
  {
   "cell_type": "markdown",
   "metadata": {
    "slideshow": {
     "slide_type": "fragment"
    }
   },
   "source": [
    "Next, we call `interact`, specifying this function and the range of parameters that may be used to call it."
   ]
  },
  {
   "cell_type": "code",
   "execution_count": 5,
   "metadata": {
    "slideshow": {
     "slide_type": "slide"
    }
   },
   "outputs": [
    {
     "data": {
      "application/vnd.jupyter.widget-view+json": {
       "model_id": "d1822fd7962c4c4a918df1ff3a880ba7",
       "version_major": 2,
       "version_minor": 0
      },
      "text/plain": [
       "interactive(children=(IntSlider(value=11, description='n', max=20, min=2), FloatSlider(value=0.5, description=…"
      ]
     },
     "metadata": {},
     "output_type": "display_data"
    }
   ],
   "source": [
    "interact(plot_random_binomial_graph, n=(2,20), p=(0.0, 1.0, 0.001),\n",
    "        generator={'fast': nx.fast_gnp_random_graph,\n",
    "                   'standard': nx.gnp_random_graph},\n",
    "        layout={'shell_layout': nx.shell_layout,\n",
    "                'spring_layout': nx.spring_layout});"
   ]
  },
  {
   "cell_type": "markdown",
   "metadata": {
    "slideshow": {
     "slide_type": "slide"
    }
   },
   "source": [
    "## Exercise\n",
    "* Currently, choosing a new layout triggers generation of a new random graph\n",
    "* Refactor the code so that the *same* graph may be drawn using different layouts\n",
    "* Optionally, experiment with other layouts and graph constructors\n",
    "* What would you do to add a graph constructors which has a different number of arguments, or their different meaning? Do you think your approach is scalable for all other available constructors?"
   ]
  }
 ],
 "metadata": {
  "celltoolbar": "Slideshow",
  "kernelspec": {
   "display_name": "Python 3 (ipykernel)",
   "language": "python",
   "name": "python3"
  },
  "language_info": {
   "codemirror_mode": {
    "name": "ipython",
    "version": 3
   },
   "file_extension": ".py",
   "mimetype": "text/x-python",
   "name": "python",
   "nbconvert_exporter": "python",
   "pygments_lexer": "ipython3",
   "version": "3.9.1"
  }
 },
 "nbformat": 4,
 "nbformat_minor": 4
}
