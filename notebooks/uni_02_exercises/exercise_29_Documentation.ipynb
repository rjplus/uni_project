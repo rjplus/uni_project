{
 "cells": [
  {
   "cell_type": "markdown",
   "id": "b09bb6b1",
   "metadata": {
    "slideshow": {
     "slide_type": "slide"
    }
   },
   "source": [
    "# Documentation\n",
    "\n",
    "Programming in Python\n",
    "\n",
    "School of Computer Science, University of St Andrews"
   ]
  },
  {
   "cell_type": "markdown",
   "id": "5dd43a80",
   "metadata": {
    "slideshow": {
     "slide_type": "slide"
    }
   },
   "source": [
    "## Document your code\n",
    "It's important to make it clear what your code does.  This helps:\n",
    "- Maintenance\n",
    "- Debugging\n",
    "- Usage\n",
    "\n",
    "But how do we do it?"
   ]
  },
  {
   "cell_type": "markdown",
   "id": "ecbfd0b7",
   "metadata": {
    "slideshow": {
     "slide_type": "slide"
    }
   },
   "source": [
    "## Option 1: Self-documenting code\n",
    "Write code that is easy to understand\n",
    "- Meaningful identifiers\n",
    "- Small functions\n",
    "- Logical program order"
   ]
  },
  {
   "cell_type": "markdown",
   "id": "c615c7fe",
   "metadata": {
    "slideshow": {
     "slide_type": "subslide"
    }
   },
   "source": [
    "```python\n",
    "def authenticate_user(database_connection):\n",
    "    username = get_username_from_command_line()\n",
    "    password = get_password_from_command_line()\n",
    "    encrypted = encrypt_password(password, LOCAL_KEY)\n",
    "    if is_valid_credentials(\n",
    "        database_connection, \n",
    "        username, \n",
    "        encrypted\n",
    "    ):\n",
    "        return True\n",
    "    return False\n",
    "```"
   ]
  },
  {
   "cell_type": "markdown",
   "id": "657f88b1",
   "metadata": {
    "slideshow": {
     "slide_type": "slide"
    }
   },
   "source": [
    "## Option 2: Comments\n",
    "If necessary, add comments\n",
    "- Explain the intention of the code\n",
    "- Draw attention to surprising behaviour\n",
    "- Explain anything that looks odd\n",
    "- Don't say anything obvious\n",
    "- Don't say anything untrue"
   ]
  },
  {
   "cell_type": "markdown",
   "id": "02f0ed66",
   "metadata": {
    "slideshow": {
     "slide_type": "subslide"
    }
   },
   "source": [
    "```python\n",
    "def gcd(a, b):  # gcd: Greatest common divisor\n",
    "    # Highest number that divides both a and b\n",
    "    # Based on the Euclidean algorithm (see textbook)\n",
    "    while b != 0:\n",
    "        t = b\n",
    "        b = a % b  # assumes both a and b are ints\n",
    "        a = t\n",
    "    return a\n",
    "```"
   ]
  },
  {
   "cell_type": "markdown",
   "id": "8f23099a",
   "metadata": {
    "slideshow": {
     "slide_type": "slide"
    }
   },
   "source": [
    "## Option 3: Docstrings\n",
    "\n",
    "- String surrounded by `\"\"\"triple quotes\"\"\"`\n",
    "- Inserted at start of a function, class or module\n",
    "- Explains what the thing does\n",
    "- Helps understanding when:\n",
    "  - Looking at the code\n",
    "  - Looking at generated doc\n",
    "- See PEP 257 for conventions\n",
    "  - <https://peps.python.org/pep-0257/>"
   ]
  },
  {
   "cell_type": "markdown",
   "id": "a3cf2885",
   "metadata": {
    "slideshow": {
     "slide_type": "subslide"
    }
   },
   "source": [
    "One-liners:\n",
    "```python\n",
    "def kos_root():\n",
    "    \"\"\"Return the path to the KOS root directory.\"\"\"\n",
    "    global _kos_root\n",
    "    if _kos_root: return _kos_root\n",
    "    ...\n",
    "```"
   ]
  },
  {
   "cell_type": "markdown",
   "id": "199a95e1",
   "metadata": {
    "slideshow": {
     "slide_type": "subslide"
    }
   },
   "source": [
    "Multi-line docstrings:\n",
    "```python\n",
    "def complex(real=0.0, imag=0.0):\n",
    "    \"\"\"Form a complex number.\n",
    "\n",
    "    Keyword arguments:\n",
    "    real -- the real part (default 0.0)\n",
    "    imag -- the imaginary part (default 0.0)\n",
    "    \"\"\"\n",
    "    if imag == 0.0 and real == 0.0:\n",
    "        return complex_zero\n",
    "    ...\n",
    "```"
   ]
  },
  {
   "cell_type": "markdown",
   "id": "fe55935e",
   "metadata": {
    "slideshow": {
     "slide_type": "subslide"
    }
   },
   "source": [
    "Don't include complicated formatting:\n",
    "```python\n",
    "def kos_root():\n",
    "   \"\"\"<p class=\"function\">Return the path to the\n",
    "   <code>KOS</code> root directory.</p>\"\"\"\n",
    "```"
   ]
  },
  {
   "cell_type": "markdown",
   "id": "bd38f806",
   "metadata": {
    "slideshow": {
     "slide_type": "subslide"
    }
   },
   "source": [
    "Don't repeat information from the method signature:\n",
    "```python\n",
    "def gcd(a, b):\n",
    "    \"\"\"function gcd with args (a, b)\n",
    "    \n",
    "    Returns the greatest common divisor of a and b.\n",
    "    \"\"\"\n",
    "```"
   ]
  },
  {
   "cell_type": "markdown",
   "id": "75b924f7",
   "metadata": {
    "slideshow": {
     "slide_type": "subslide"
    }
   },
   "source": [
    "Include useful information like return types, examples and related functions."
   ]
  },
  {
   "cell_type": "code",
   "execution_count": 1,
   "id": "4eece736",
   "metadata": {
    "execution": {
     "iopub.execute_input": "2023-11-07T21:59:59.433313Z",
     "iopub.status.busy": "2023-11-07T21:59:59.432625Z",
     "iopub.status.idle": "2023-11-07T21:59:59.449072Z",
     "shell.execute_reply": "2023-11-07T21:59:59.448011Z"
    },
    "slideshow": {
     "slide_type": "subslide"
    }
   },
   "outputs": [],
   "source": [
    "def pickle(obj):\n",
    "    \"\"\"Return a string representation of the object `obj`\n",
    "\n",
    "    This function takes any object, and uses the `pickle` and `base64` modules\n",
    "    to create a string which represents it.  This string consists only of\n",
    "    alphanumeric characters, hyphens and underscores.  The object `obj` can\n",
    "    later be reconstructed from this string using the `unpickle` function.\n",
    "\n",
    "    Examples\n",
    "    --------\n",
    "    >>> pickle(\"Hello world\")\n",
    "    'gANYCwAAAEhlbGxvIHdvcmxkcQAu'\n",
    "    >>> unpickle(\"gANYCwAAAEhlbGxvIHdvcmxkcQAu\")\n",
    "    'Hello world'\n",
    "\n",
    "    \"\"\"\n",
    "    b = pickle_to_bytes(obj)  # object to bytes\n",
    "    b64 = urlsafe_b64encode(b)  # bytes to base64 bytes\n",
    "    s = b64.decode(CHAR_ENCODING)  # base64 bytes to string\n",
    "    return s"
   ]
  },
  {
   "cell_type": "markdown",
   "id": "fa0debbf",
   "metadata": {
    "slideshow": {
     "slide_type": "subslide"
    }
   },
   "source": [
    "Document your modules and classes as well!"
   ]
  },
  {
   "cell_type": "code",
   "execution_count": 2,
   "id": "7fc1a1f7",
   "metadata": {
    "execution": {
     "iopub.execute_input": "2023-11-07T21:59:59.455329Z",
     "iopub.status.busy": "2023-11-07T21:59:59.454813Z",
     "iopub.status.idle": "2023-11-07T21:59:59.461483Z",
     "shell.execute_reply": "2023-11-07T21:59:59.460144Z"
    },
    "slideshow": {
     "slide_type": "subslide"
    }
   },
   "outputs": [
    {
     "ename": "SyntaxError",
     "evalue": "invalid syntax (486579277.py, line 3)",
     "output_type": "error",
     "traceback": [
      "\u001b[0;36m  Cell \u001b[0;32mIn[2], line 3\u001b[0;36m\u001b[0m\n\u001b[0;31m    class Calculator\u001b[0m\n\u001b[0m                    ^\u001b[0m\n\u001b[0;31mSyntaxError\u001b[0m\u001b[0;31m:\u001b[0m invalid syntax\n"
     ]
    }
   ],
   "source": [
    "\"\"\"Objects used for storing and manipulating integer sequences.\"\"\"\n",
    "\n",
    "class Calculator\n",
    "    \"\"\"A model calculator for sequences of operations.\n",
    "    \n",
    "    Attributes\n",
    "    ----------\n",
    "    base (int): The base to use for display (e.g. decimal)\n",
    "    \"\"\"\n",
    "    def __init__:\n",
    "        ..."
   ]
  },
  {
   "cell_type": "markdown",
   "id": "86884401",
   "metadata": {
    "slideshow": {
     "slide_type": "slide"
    }
   },
   "source": [
    "## Help systems use docstrings\n",
    "- When you use `help(x)` or `x?` the help displayed is from docstrings\n",
    "- You can also generate HTML documentation from your docstrings using `pydoc`\n",
    "- Include docstrings in your own code, and others will be able to use these tools!"
   ]
  },
  {
   "cell_type": "code",
   "execution_count": 3,
   "id": "2a7e4435",
   "metadata": {
    "execution": {
     "iopub.execute_input": "2023-11-07T21:59:59.466249Z",
     "iopub.status.busy": "2023-11-07T21:59:59.465851Z",
     "iopub.status.idle": "2023-11-07T21:59:59.470330Z",
     "shell.execute_reply": "2023-11-07T21:59:59.469311Z"
    },
    "slideshow": {
     "slide_type": "subslide"
    }
   },
   "outputs": [],
   "source": [
    "def sum_of_squares(a, b):\n",
    "    \"\"\"Returns the sum of the squares of the two numbers a and b.\n",
    "    \n",
    "    Both parameters should be ints or floats.\n",
    "    \"\"\"\n",
    "    return a ** 2 + b ** 2"
   ]
  },
  {
   "cell_type": "code",
   "execution_count": 4,
   "id": "5c5a963a",
   "metadata": {
    "execution": {
     "iopub.execute_input": "2023-11-07T21:59:59.474921Z",
     "iopub.status.busy": "2023-11-07T21:59:59.474541Z",
     "iopub.status.idle": "2023-11-07T21:59:59.479447Z",
     "shell.execute_reply": "2023-11-07T21:59:59.478334Z"
    },
    "scrolled": true,
    "slideshow": {
     "slide_type": "subslide"
    }
   },
   "outputs": [
    {
     "name": "stdout",
     "output_type": "stream",
     "text": [
      "Help on function sum_of_squares in module __main__:\n",
      "\n",
      "sum_of_squares(a, b)\n",
      "    Returns the sum of the squares of the two numbers a and b.\n",
      "    \n",
      "    Both parameters should be ints or floats.\n",
      "\n"
     ]
    }
   ],
   "source": [
    "help(sum_of_squares)"
   ]
  },
  {
   "cell_type": "markdown",
   "id": "ff9b2a9b",
   "metadata": {
    "slideshow": {
     "slide_type": "slide"
    }
   },
   "source": [
    "## Summary\n",
    "- Documentation is critical for your code to be understood and maintained\n",
    "- If there are no docs, code is unusable!"
   ]
  },
  {
   "cell_type": "markdown",
   "id": "00274fa3",
   "metadata": {
    "slideshow": {
     "slide_type": "slide"
    }
   },
   "source": [
    "## Exercise\n",
    "- Find your solution to the reversing exercise in the Lists lecture\n",
    "- Turn it into a function\n",
    "- Write a docstring, including expected input types and an example call\n",
    "- Use the help system to view the documentation"
   ]
  },
  {
   "cell_type": "markdown",
   "id": "907a7372",
   "metadata": {
    "slideshow": {
     "slide_type": "skip"
    }
   },
   "source": [
    "## Solution"
   ]
  },
  {
   "cell_type": "code",
   "execution_count": 5,
   "id": "e43fb819",
   "metadata": {
    "execution": {
     "iopub.execute_input": "2023-11-07T21:59:59.484322Z",
     "iopub.status.busy": "2023-11-07T21:59:59.483934Z",
     "iopub.status.idle": "2023-11-07T21:59:59.488314Z",
     "shell.execute_reply": "2023-11-07T21:59:59.487184Z"
    },
    "slideshow": {
     "slide_type": "skip"
    }
   },
   "outputs": [],
   "source": [
    "def reversed_string(a):\n",
    "    \"\"\"Return a string which is the reverse of the input.\n",
    "    \n",
    "    a should be of type str.\n",
    "    \n",
    "    Example\n",
    "    -------\n",
    "    >>> reversed_string(\"abacus\")\n",
    "    \"sucaba\"\n",
    "    \"\"\"\n",
    "    return a[::-1]"
   ]
  },
  {
   "cell_type": "code",
   "execution_count": 6,
   "id": "e01d2f6f",
   "metadata": {
    "execution": {
     "iopub.execute_input": "2023-11-07T21:59:59.493003Z",
     "iopub.status.busy": "2023-11-07T21:59:59.492371Z",
     "iopub.status.idle": "2023-11-07T21:59:59.497891Z",
     "shell.execute_reply": "2023-11-07T21:59:59.497043Z"
    },
    "slideshow": {
     "slide_type": "skip"
    }
   },
   "outputs": [
    {
     "name": "stdout",
     "output_type": "stream",
     "text": [
      "Help on function reversed_string in module __main__:\n",
      "\n",
      "reversed_string(a)\n",
      "    Return a string which is the reverse of the input.\n",
      "    \n",
      "    a should be of type str.\n",
      "    \n",
      "    Example\n",
      "    -------\n",
      "    >>> reversed_string(\"abacus\")\n",
      "    \"sucaba\"\n",
      "\n"
     ]
    }
   ],
   "source": [
    "help(reversed_string)"
   ]
  }
 ],
 "metadata": {
  "celltoolbar": "Slideshow",
  "kernelspec": {
   "display_name": "Python 3 (ipykernel)",
   "language": "python",
   "name": "python3"
  },
  "language_info": {
   "codemirror_mode": {
    "name": "ipython",
    "version": 3
   },
   "file_extension": ".py",
   "mimetype": "text/x-python",
   "name": "python",
   "nbconvert_exporter": "python",
   "pygments_lexer": "ipython3",
   "version": "3.9.1"
  }
 },
 "nbformat": 4,
 "nbformat_minor": 5
}
