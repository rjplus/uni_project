{
 "cells": [
  {
   "cell_type": "markdown",
   "id": "4d01ce0d",
   "metadata": {
    "slideshow": {
     "slide_type": "slide"
    }
   },
   "source": [
    "# Scientific Computing In Python\n",
    "\n",
    "Programming in Python\n",
    "\n",
    "School of Computer Science, University of St Andrews"
   ]
  },
  {
   "cell_type": "markdown",
   "id": "1c85776c",
   "metadata": {
    "slideshow": {
     "slide_type": "slide"
    }
   },
   "source": [
    "## What is Scientific Computing?"
   ]
  },
  {
   "cell_type": "markdown",
   "id": "52b46b29",
   "metadata": {
    "slideshow": {
     "slide_type": "fragment"
    }
   },
   "source": [
    "Scientific computing refers to the application of computational techniques to solve problems in science and engineering. It's a very broad term but it does have a specific set of concerns and techniques. These include:"
   ]
  },
  {
   "cell_type": "markdown",
   "id": "6ab6aa2a",
   "metadata": {
    "slideshow": {
     "slide_type": "subslide"
    }
   },
   "source": [
    "- Numerical Computation: this refers to algorithms that solve mathematical problems by iteratively updating some value rather that deriving an analytical solution (solving an equation directly). An example from machine learning would be optimisation methods."
   ]
  },
  {
   "cell_type": "markdown",
   "id": "9218babd",
   "metadata": {
    "slideshow": {
     "slide_type": "subslide"
    }
   },
   "source": [
    "- Data Analysis and Visualisation: methods for analysing, understanding, and communicating the results of experiments."
   ]
  },
  {
   "cell_type": "markdown",
   "id": "d1b74054",
   "metadata": {
    "slideshow": {
     "slide_type": "subslide"
    }
   },
   "source": [
    "- Data Modelling: Fitting models to data to understand the patterns present in them. Examples are traditional statistical models or ones based on machine learning."
   ]
  },
  {
   "cell_type": "markdown",
   "id": "bc7d9fcb",
   "metadata": {
    "slideshow": {
     "slide_type": "subslide"
    }
   },
   "source": [
    "- High-Performance Computing (HPC): Scientific computing tasks often require a lot of store and compute resource. For example, the genomic sequencing required in bioinfomatics is very resource hungry. Powerful distributed computation resources such as clusters and supercomputers are required."
   ]
  },
  {
   "cell_type": "markdown",
   "id": "0314bf48",
   "metadata": {
    "slideshow": {
     "slide_type": "slide"
    }
   },
   "source": [
    "# Scientific Computing in Python"
   ]
  },
  {
   "cell_type": "markdown",
   "id": "5fa06f30",
   "metadata": {
    "slideshow": {
     "slide_type": "fragment"
    }
   },
   "source": [
    "Python has great support for scientific computing."
   ]
  },
  {
   "cell_type": "markdown",
   "id": "41074e9b",
   "metadata": {
    "slideshow": {
     "slide_type": "fragment"
    }
   },
   "source": [
    "NumPy - array programming for Python, the fundamental package for scientific computing in Python."
   ]
  },
  {
   "cell_type": "markdown",
   "id": "46855487",
   "metadata": {
    "slideshow": {
     "slide_type": "fragment"
    }
   },
   "source": [
    "Pandas - tabular data manipulation and analysis tool built on top of NumPy. Similar to R data frames."
   ]
  },
  {
   "cell_type": "markdown",
   "id": "bb2768a1",
   "metadata": {
    "slideshow": {
     "slide_type": "fragment"
    }
   },
   "source": [
    "Matplotlib - a plotting and visualisation library for Python. Similar to Matlab's plotting system."
   ]
  },
  {
   "cell_type": "markdown",
   "id": "0445ee3b",
   "metadata": {
    "slideshow": {
     "slide_type": "slide"
    }
   },
   "source": [
    "Let's get started!"
   ]
  }
 ],
 "metadata": {
  "celltoolbar": "Slideshow",
  "kernelspec": {
   "display_name": "Python 3 (ipykernel)",
   "language": "python",
   "name": "python3"
  },
  "language_info": {
   "codemirror_mode": {
    "name": "ipython",
    "version": 3
   },
   "file_extension": ".py",
   "mimetype": "text/x-python",
   "name": "python",
   "nbconvert_exporter": "python",
   "pygments_lexer": "ipython3",
   "version": "3.9.1"
  }
 },
 "nbformat": 4,
 "nbformat_minor": 5
}
