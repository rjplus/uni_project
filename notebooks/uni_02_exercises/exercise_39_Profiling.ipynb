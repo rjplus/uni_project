{
 "cells": [
  {
   "cell_type": "markdown",
   "metadata": {
    "slideshow": {
     "slide_type": "slide"
    }
   },
   "source": [
    "# Profiling in Python\n",
    "\n",
    "Programming in Python\n",
    "\n",
    "School of Computer Science, University of St Andrews"
   ]
  },
  {
   "cell_type": "markdown",
   "metadata": {
    "slideshow": {
     "slide_type": "slide"
    }
   },
   "source": [
    "## Profiling HOWTO"
   ]
  },
  {
   "cell_type": "markdown",
   "metadata": {
    "slideshow": {
     "slide_type": "fragment"
    }
   },
   "source": [
    "## provided your code has the `main()` function:\n",
    "- import `profile`\n",
    "- modify the call of `main`:\n",
    "\n",
    "```\n",
    "import profile\n",
    "\n",
    "...\n",
    "...\n",
    "...\n",
    "\n",
    "profile.run(’main()’)\n",
    "```\n",
    "\n",
    "Documentation: https://docs.python.org/3/library/profile.html"
   ]
  },
  {
   "cell_type": "markdown",
   "metadata": {
    "collapsed": true,
    "slideshow": {
     "slide_type": "slide"
    }
   },
   "source": [
    "## Counting word frequencies"
   ]
  },
  {
   "cell_type": "markdown",
   "metadata": {
    "collapsed": true,
    "slideshow": {
     "slide_type": "fragment"
    }
   },
   "source": [
    "`./wordcount.py <text file>`"
   ]
  },
  {
   "cell_type": "markdown",
   "metadata": {
    "slideshow": {
     "slide_type": "fragment"
    }
   },
   "source": [
    "```\n",
    "Total  122817\n",
    "         330189 function calls (330185 primitive calls) in 1.122 seconds\n",
    "\n",
    "   Ordered by: standard name\n",
    "\n",
    "   ncalls  tottime  percall  cumtime  percall filename:lineno(function)\n",
    "        1    0.000    0.000    0.000    0.000 :0(__new__)\n",
    "       30    0.000    0.000    0.000    0.000 :0(append)\n",
    "        1    0.000    0.000    0.000    0.000 :0(compile)\n",
    "        1    0.000    0.000    1.107    1.107 :0(exec)\n",
    "        5    0.000    0.000    0.000    0.000 :0(find)\n",
    "        1    0.000    0.000    0.000    0.000 :0(fromkeys)\n",
    "   122818    0.236    0.000    0.236    0.000 :0(get)\n",
    "        1    0.000    0.000    0.000    0.000 :0(insert)\n",
    "    21459    0.035    0.000    0.035    0.000 :0(isinstance)\n",
    "        1    0.000    0.000    0.000    0.000 :0(items)\n",
    "140375/140373    0.192    0.000    0.192    0.000 :0(len)\n",
    "        5    0.000    0.000    0.000    0.000 :0(min)\n",
    "        1    0.000    0.000    0.000    0.000 :0(nl_langinfo)\n",
    "        1    0.000    0.000    0.000    0.000 :0(open)\n",
    "        4    0.000    0.000    0.000    0.000 :0(ord)\n",
    "        1    0.000    0.000    0.000    0.000 :0(print)\n",
    "        1    0.000    0.000    0.000    0.000 :0(setdefault)\n",
    "        1    0.015    0.015    0.015    0.015 :0(setprofile)\n",
    "        1    0.000    0.000    0.000    0.000 :0(sort)\n",
    "    10721    0.059    0.000    0.059    0.000 :0(split)\n",
    "    13030    0.019    0.000    0.019    0.000 :0(strip)\n",
    "        1    0.000    0.000    0.000    0.000 :0(sum)\n",
    "       87    0.000    0.000    0.000    0.000 :0(utf_8_decode)\n",
    "        1    0.000    0.000    1.107    1.107 <string>:1(<module>)\n",
    "        1    0.000    0.000    0.000    0.000 _bootlocale.py:33(getpreferredencoding)\n",
    "        1    0.000    0.000    0.000    0.000 codecs.py:260(__init__)\n",
    "        1    0.000    0.000    0.000    0.000 codecs.py:309(__init__)\n",
    "       87    0.001    0.000    0.001    0.000 codecs.py:319(decode)\n",
    "        2    0.000    0.000    0.000    0.000 enum.py:289(__call__)\n",
    "        1    0.000    0.000    0.000    0.000 enum.py:357(__iter__)\n",
    "       10    0.000    0.000    0.000    0.000 enum.py:358(<genexpr>)\n",
    "        2    0.000    0.000    0.000    0.000 enum.py:580(__new__)\n",
    "        9    0.000    0.000    0.000    0.000 enum.py:683(value)\n",
    "        1    0.000    0.000    0.000    0.000 enum.py:809(_missing_)\n",
    "        1    0.000    0.000    0.000    0.000 enum.py:816(_create_pseudo_member_)\n",
    "        1    0.000    0.000    0.000    0.000 enum.py:852(__and__)\n",
    "        1    0.000    0.000    0.000    0.000 enum.py:888(_decompose)\n",
    "        1    0.000    0.000    1.122    1.122 profile:0(main())\n",
    "        0    0.000             0.000          profile:0(profiler)\n",
    "    10721    0.052    0.000    0.203    0.000 re.py:223(split)\n",
    "        1    0.000    0.000    0.001    0.001 re.py:250(compile)\n",
    "    10722    0.058    0.000    0.094    0.000 re.py:289(_compile)\n",
    "        1    0.000    0.000    0.000    0.000 sre_compile.py:249(_compile_charset)\n",
    "        1    0.000    0.000    0.000    0.000 sre_compile.py:276(_optimize_charset)\n",
    "        1    0.000    0.000    0.000    0.000 sre_compile.py:423(_simple)\n",
    "        2    0.000    0.000    0.000    0.000 sre_compile.py:453(_get_iscased)\n",
    "        1    0.000    0.000    0.000    0.000 sre_compile.py:461(_get_literal_prefix)\n",
    "        1    0.000    0.000    0.000    0.000 sre_compile.py:492(_get_charset_prefix)\n",
    "        1    0.000    0.000    0.000    0.000 sre_compile.py:536(_compile_info)\n",
    "        2    0.000    0.000    0.000    0.000 sre_compile.py:595(isstring)\n",
    "        1    0.000    0.000    0.000    0.000 sre_compile.py:598(_code)\n",
    "      2/1    0.000    0.000    0.000    0.000 sre_compile.py:71(_compile)\n",
    "        1    0.000    0.000    0.001    0.001 sre_compile.py:759(compile)\n",
    "        2    0.000    0.000    0.000    0.000 sre_parse.py:111(__init__)\n",
    "        4    0.000    0.000    0.000    0.000 sre_parse.py:160(__len__)\n",
    "        8    0.000    0.000    0.000    0.000 sre_parse.py:164(__getitem__)\n",
    "        1    0.000    0.000    0.000    0.000 sre_parse.py:168(__setitem__)\n",
    "        1    0.000    0.000    0.000    0.000 sre_parse.py:172(append)\n",
    "      2/1    0.000    0.000    0.000    0.000 sre_parse.py:174(getwidth)\n",
    "        1    0.000    0.000    0.000    0.000 sre_parse.py:224(__init__)\n",
    "       11    0.000    0.000    0.000    0.000 sre_parse.py:233(__next)\n",
    "        5    0.000    0.000    0.000    0.000 sre_parse.py:249(match)\n",
    "        7    0.000    0.000    0.000    0.000 sre_parse.py:254(get)\n",
    "        3    0.000    0.000    0.000    0.000 sre_parse.py:286(tell)\n",
    "        1    0.000    0.000    0.000    0.000 sre_parse.py:432(_uniq)\n",
    "        1    0.000    0.000    0.000    0.000 sre_parse.py:435(_parse_sub)\n",
    "        1    0.000    0.000    0.000    0.000 sre_parse.py:493(_parse)\n",
    "        1    0.000    0.000    0.000    0.000 sre_parse.py:76(__init__)\n",
    "        2    0.000    0.000    0.000    0.000 sre_parse.py:81(groups)\n",
    "        1    0.000    0.000    0.000    0.000 sre_parse.py:921(fix_flags)\n",
    "        1    0.000    0.000    0.000    0.000 sre_parse.py:937(parse)\n",
    "        9    0.000    0.000    0.000    0.000 types.py:171(__get__)\n",
    "        1    0.000    0.000    0.000    0.000 wordcount_profile.py:18(<listcomp>)\n",
    "        1    0.453    0.453    1.107    1.107 wordcount_profile.py:7(main)\n",
    "```            "
   ]
  },
  {
   "cell_type": "markdown",
   "metadata": {
    "slideshow": {
     "slide_type": "slide"
    }
   },
   "source": [
    "## How to read this output:\n",
    "- `ncalls`\n",
    "  - number of calls.\n",
    "- `tottime`\n",
    "  - total time spent in the given function (and excluding time made in calls to sub-functions)\n",
    "- `percall`\n",
    "  - quotient of tottime divided by ncalls\n",
    "- `cumtime`\n",
    "  - cumulative time spent in this and all subfunctions (from invocation till exit). \n",
    "- `percall`\n",
    "  - quotient of cumtime divided by primitive calls\n",
    "- `filename:lineno(function)`\n",
    "  - respective information for each function"
   ]
  },
  {
   "cell_type": "markdown",
   "metadata": {
    "slideshow": {
     "slide_type": "slide"
    }
   },
   "source": [
    "`./wordcount_opt.py <text_file>`"
   ]
  },
  {
   "cell_type": "markdown",
   "metadata": {
    "slideshow": {
     "slide_type": "fragment"
    }
   },
   "source": [
    "```\n",
    "Total  127320\n",
    "         67022 function calls (67018 primitive calls) in 0.297 seconds\n",
    "\n",
    "   Ordered by: standard name\n",
    "\n",
    "   ncalls  tottime  percall  cumtime  percall filename:lineno(function)\n",
    "        1    0.000    0.000    0.000    0.000 :0(__new__)\n",
    "       30    0.000    0.000    0.000    0.000 :0(append)\n",
    "        1    0.000    0.000    0.000    0.000 :0(compile)\n",
    "        1    0.000    0.000    0.285    0.285 :0(exec)\n",
    "        5    0.000    0.000    0.000    0.000 :0(find)\n",
    "        1    0.000    0.000    0.000    0.000 :0(fromkeys)\n",
    "        1    0.000    0.000    0.000    0.000 :0(get)\n",
    "        1    0.000    0.000    0.000    0.000 :0(insert)\n",
    "    21459    0.032    0.000    0.032    0.000 :0(isinstance)\n",
    "        1    0.000    0.000    0.000    0.000 :0(items)\n",
    "    25/23    0.000    0.000    0.000    0.000 :0(len)\n",
    "        5    0.000    0.000    0.000    0.000 :0(min)\n",
    "        1    0.000    0.000    0.000    0.000 :0(nl_langinfo)\n",
    "        1    0.000    0.000    0.000    0.000 :0(open)\n",
    "        4    0.000    0.000    0.000    0.000 :0(ord)\n",
    "        1    0.000    0.000    0.000    0.000 :0(print)\n",
    "        1    0.000    0.000    0.000    0.000 :0(setdefault)\n",
    "        1    0.012    0.012    0.012    0.012 :0(setprofile)\n",
    "        1    0.000    0.000    0.000    0.000 :0(sort)\n",
    "    10721    0.050    0.000    0.050    0.000 :0(split)\n",
    "    13030    0.018    0.000    0.018    0.000 :0(strip)\n",
    "        1    0.000    0.000    0.000    0.000 :0(sum)\n",
    "       87    0.000    0.000    0.000    0.000 :0(utf_8_decode)\n",
    "        1    0.000    0.000    0.285    0.285 <string>:1(<module>)\n",
    "        1    0.000    0.000    0.000    0.000 _bootlocale.py:33(getpreferredencoding)\n",
    "        1    0.000    0.000    0.000    0.000 codecs.py:260(__init__)\n",
    "        1    0.000    0.000    0.000    0.000 codecs.py:309(__init__)\n",
    "       87    0.001    0.000    0.001    0.000 codecs.py:319(decode)\n",
    "        2    0.000    0.000    0.000    0.000 enum.py:289(__call__)\n",
    "        1    0.000    0.000    0.000    0.000 enum.py:357(__iter__)\n",
    "       10    0.000    0.000    0.000    0.000 enum.py:358(<genexpr>)\n",
    "        2    0.000    0.000    0.000    0.000 enum.py:580(__new__)\n",
    "        9    0.000    0.000    0.000    0.000 enum.py:683(value)\n",
    "        1    0.000    0.000    0.000    0.000 enum.py:809(_missing_)\n",
    "        1    0.000    0.000    0.000    0.000 enum.py:816(_create_pseudo_member_)\n",
    "        1    0.000    0.000    0.000    0.000 enum.py:852(__and__)\n",
    "        1    0.000    0.000    0.000    0.000 enum.py:888(_decompose)\n",
    "        1    0.000    0.000    0.297    0.297 profile:0(main())\n",
    "        0    0.000             0.000          profile:0(profiler)\n",
    "    10721    0.049    0.000    0.185    0.000 re.py:223(split)\n",
    "        1    0.000    0.000    0.001    0.001 re.py:250(compile)\n",
    "    10722    0.054    0.000    0.088    0.000 re.py:289(_compile)\n",
    "        1    0.000    0.000    0.000    0.000 sre_compile.py:249(_compile_charset)\n",
    "        1    0.000    0.000    0.000    0.000 sre_compile.py:276(_optimize_charset)\n",
    "        1    0.000    0.000    0.000    0.000 sre_compile.py:423(_simple)\n",
    "        2    0.000    0.000    0.000    0.000 sre_compile.py:453(_get_iscased)\n",
    "        1    0.000    0.000    0.000    0.000 sre_compile.py:461(_get_literal_prefix)\n",
    "        1    0.000    0.000    0.000    0.000 sre_compile.py:492(_get_charset_prefix)\n",
    "        1    0.000    0.000    0.000    0.000 sre_compile.py:536(_compile_info)\n",
    "        2    0.000    0.000    0.000    0.000 sre_compile.py:595(isstring)\n",
    "        1    0.000    0.000    0.000    0.000 sre_compile.py:598(_code)\n",
    "      2/1    0.000    0.000    0.000    0.000 sre_compile.py:71(_compile)\n",
    "        1    0.000    0.000    0.001    0.001 sre_compile.py:759(compile)\n",
    "        2    0.000    0.000    0.000    0.000 sre_parse.py:111(__init__)\n",
    "        4    0.000    0.000    0.000    0.000 sre_parse.py:160(__len__)\n",
    "        8    0.000    0.000    0.000    0.000 sre_parse.py:164(__getitem__)\n",
    "        1    0.000    0.000    0.000    0.000 sre_parse.py:168(__setitem__)\n",
    "        1    0.000    0.000    0.000    0.000 sre_parse.py:172(append)\n",
    "      2/1    0.000    0.000    0.000    0.000 sre_parse.py:174(getwidth)\n",
    "        1    0.000    0.000    0.000    0.000 sre_parse.py:224(__init__)\n",
    "       11    0.000    0.000    0.000    0.000 sre_parse.py:233(__next)\n",
    "        5    0.000    0.000    0.000    0.000 sre_parse.py:249(match)\n",
    "        7    0.000    0.000    0.000    0.000 sre_parse.py:254(get)\n",
    "        3    0.000    0.000    0.000    0.000 sre_parse.py:286(tell)\n",
    "        1    0.000    0.000    0.000    0.000 sre_parse.py:432(_uniq)\n",
    "        1    0.000    0.000    0.000    0.000 sre_parse.py:435(_parse_sub)\n",
    "        1    0.000    0.000    0.000    0.000 sre_parse.py:493(_parse)\n",
    "        1    0.000    0.000    0.000    0.000 sre_parse.py:76(__init__)\n",
    "        2    0.000    0.000    0.000    0.000 sre_parse.py:81(groups)\n",
    "        1    0.000    0.000    0.000    0.000 sre_parse.py:921(fix_flags)\n",
    "        1    0.000    0.000    0.000    0.000 sre_parse.py:937(parse)\n",
    "        9    0.000    0.000    0.000    0.000 types.py:171(__get__)\n",
    "        1    0.000    0.000    0.000    0.000 wordcount_opt2.py:20(<listcomp>)\n",
    "        1    0.078    0.078    0.285    0.285 wordcount_opt2.py:7(main)\n",
    "```"
   ]
  },
  {
   "cell_type": "markdown",
   "metadata": {},
   "source": [
    "## Exercises\n",
    "\n",
    "Experiment further with profiling the code from `wordcount.py`, for example:\n",
    "- Check whether the use of `re.compile` impacts performance\n",
    "- What will happen if `sum([counts[w] for w in counts])` will be replaced by a `for` loop with an accumulator?\n",
    "- Experiment with other, possibly larger, texts\n",
    "- Try to profile some other Python code of yours"
   ]
  }
 ],
 "metadata": {
  "celltoolbar": "Slideshow",
  "kernelspec": {
   "display_name": "Python 3 (ipykernel)",
   "language": "python",
   "name": "python3"
  },
  "language_info": {
   "codemirror_mode": {
    "name": "ipython",
    "version": 3
   },
   "file_extension": ".py",
   "mimetype": "text/x-python",
   "name": "python",
   "nbconvert_exporter": "python",
   "pygments_lexer": "ipython3",
   "version": "3.9.1"
  }
 },
 "nbformat": 4,
 "nbformat_minor": 1
}
