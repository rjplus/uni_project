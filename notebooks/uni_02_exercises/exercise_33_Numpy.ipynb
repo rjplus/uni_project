{
 "cells": [
  {
   "cell_type": "markdown",
   "id": "30ff6a90",
   "metadata": {
    "slideshow": {
     "slide_type": "slide"
    }
   },
   "source": [
    "# NumPy\n",
    "\n",
    "Programming in Python\n",
    "\n",
    "School of Computer Science, University of St Andrews"
   ]
  },
  {
   "cell_type": "markdown",
   "id": "824ad0d6",
   "metadata": {
    "slideshow": {
     "slide_type": "slide"
    }
   },
   "source": [
    "NumPy is a Python library that adds support for **Array Programming** to the language."
   ]
  },
  {
   "cell_type": "markdown",
   "id": "1f816493",
   "metadata": {
    "slideshow": {
     "slide_type": "fragment"
    }
   },
   "source": [
    "Array programming is a high-level programminng model where operations are applied to many data values simultaneously."
   ]
  },
  {
   "cell_type": "markdown",
   "id": "5669ce5e",
   "metadata": {
    "slideshow": {
     "slide_type": "fragment"
    }
   },
   "source": [
    "To achive this, we bundle many data values into tables of elements that all have the same type. We call these **Arrays**!"
   ]
  },
  {
   "cell_type": "markdown",
   "id": "cff05ce3",
   "metadata": {
    "slideshow": {
     "slide_type": "subslide"
    }
   },
   "source": [
    "Array programming has a long history in computer science, going back to 1960s. Languages that support Array programming include:\n",
    "- APL\n",
    "- Matlab\n",
    "- Julia"
   ]
  },
  {
   "cell_type": "markdown",
   "id": "7612e507",
   "metadata": {
    "slideshow": {
     "slide_type": "slide"
    }
   },
   "source": [
    "## Benefits of Array programming vs. Scalar Programming"
   ]
  },
  {
   "cell_type": "markdown",
   "id": "883eb437",
   "metadata": {
    "slideshow": {
     "slide_type": "fragment"
    }
   },
   "source": [
    "**Concision** - Often allows for transformations on data to be written as short expressions that retain their readability."
   ]
  },
  {
   "cell_type": "markdown",
   "id": "a3b63591",
   "metadata": {
    "slideshow": {
     "slide_type": "fragment"
    }
   },
   "source": [
    "**Parallel** - Better suited to implicit parallellisation via SIMD instructions in modern CPU cores."
   ]
  },
  {
   "cell_type": "markdown",
   "id": "5e6ed6b6",
   "metadata": {
    "slideshow": {
     "slide_type": "fragment"
    }
   },
   "source": [
    "**Performance** - Improved cache utilisations due to contiguous memory layout."
   ]
  },
  {
   "cell_type": "markdown",
   "id": "9e300258",
   "metadata": {
    "slideshow": {
     "slide_type": "fragment"
    }
   },
   "source": [
    "**Mathlike** - Code can more closely resemble standard mathematical notation."
   ]
  },
  {
   "cell_type": "markdown",
   "id": "875169c4",
   "metadata": {
    "slideshow": {
     "slide_type": "slide"
    }
   },
   "source": [
    "## What is an Array?"
   ]
  },
  {
   "cell_type": "markdown",
   "id": "4b637133",
   "metadata": {
    "slideshow": {
     "slide_type": "fragment"
    }
   },
   "source": [
    "An array is a multidimensional table of elements that all have the same type."
   ]
  },
  {
   "cell_type": "markdown",
   "id": "2f913711",
   "metadata": {
    "slideshow": {
     "slide_type": "fragment"
    }
   },
   "source": [
    "Each dimension (called an axis) has a length, this is the number of elements long it is."
   ]
  },
  {
   "cell_type": "markdown",
   "id": "2ea0c87a",
   "metadata": {
    "slideshow": {
     "slide_type": "fragment"
    }
   },
   "source": [
    "Arrays have a type of data that each element is a member of (e.g. float, int)."
   ]
  },
  {
   "cell_type": "markdown",
   "id": "2dc887e2",
   "metadata": {
    "slideshow": {
     "slide_type": "fragment"
    }
   },
   "source": [
    "The lengths of each axis, when taken together, define the shape of the array."
   ]
  },
  {
   "cell_type": "markdown",
   "id": "464b9d29",
   "metadata": {
    "slideshow": {
     "slide_type": "slide"
    }
   },
   "source": [
    "![A diagram showing an array](array_diagram.png)"
   ]
  },
  {
   "cell_type": "markdown",
   "id": "20859ce8",
   "metadata": {
    "slideshow": {
     "slide_type": "slide"
    }
   },
   "source": [
    "## Array Programming with NumPy"
   ]
  },
  {
   "cell_type": "markdown",
   "id": "f7f9762e",
   "metadata": {
    "slideshow": {
     "slide_type": "fragment"
    }
   },
   "source": [
    "NumPy provides support for array programming in Python."
   ]
  },
  {
   "cell_type": "markdown",
   "id": "d8601b43",
   "metadata": {
    "slideshow": {
     "slide_type": "fragment"
    }
   },
   "source": [
    "It's the fundamental building block for Python's scientific computing stack and is used in many libraries including: Pandas, Matplotlib, Scipy, and PyTorch."
   ]
  },
  {
   "cell_type": "markdown",
   "id": "ebd8ddab",
   "metadata": {
    "slideshow": {
     "slide_type": "fragment"
    }
   },
   "source": [
    "In addition to basic array programming, it also contain an assortments of fast operations such as Fourier transforms, linear algebra, and basic statistcs."
   ]
  },
  {
   "cell_type": "markdown",
   "id": "997cb2e1",
   "metadata": {
    "slideshow": {
     "slide_type": "fragment"
    }
   },
   "source": [
    "NumPy is built on top of two more fundamental technologies: Basic Linear Algebra Subprograms (BLAS) and Linear Algebra Package (LAPACK)."
   ]
  },
  {
   "cell_type": "markdown",
   "id": "74d099a3",
   "metadata": {
    "slideshow": {
     "slide_type": "slide"
    }
   },
   "source": [
    "# Importing NumPy"
   ]
  },
  {
   "cell_type": "code",
   "execution_count": 1,
   "id": "f23e5d22",
   "metadata": {
    "execution": {
     "iopub.execute_input": "2024-01-12T16:07:26.487407Z",
     "iopub.status.busy": "2024-01-12T16:07:26.486849Z",
     "iopub.status.idle": "2024-01-12T16:07:26.628332Z",
     "shell.execute_reply": "2024-01-12T16:07:26.627059Z"
    },
    "slideshow": {
     "slide_type": "fragment"
    }
   },
   "outputs": [],
   "source": [
    "import numpy as np"
   ]
  },
  {
   "cell_type": "markdown",
   "id": "4d29c228",
   "metadata": {
    "slideshow": {
     "slide_type": "slide"
    }
   },
   "source": [
    "## Arrays in NumPy: the ndarray class"
   ]
  },
  {
   "cell_type": "code",
   "execution_count": 2,
   "id": "06851d30",
   "metadata": {
    "execution": {
     "iopub.execute_input": "2024-01-12T16:07:26.632618Z",
     "iopub.status.busy": "2024-01-12T16:07:26.632253Z",
     "iopub.status.idle": "2024-01-12T16:07:26.639599Z",
     "shell.execute_reply": "2024-01-12T16:07:26.638926Z"
    },
    "slideshow": {
     "slide_type": "fragment"
    }
   },
   "outputs": [
    {
     "data": {
      "text/plain": [
       "array([1, 2, 3])"
      ]
     },
     "execution_count": 2,
     "metadata": {},
     "output_type": "execute_result"
    }
   ],
   "source": [
    "# creation using NumPy's array constructor\n",
    "np.array([1, 2, 3])"
   ]
  },
  {
   "cell_type": "code",
   "execution_count": 3,
   "id": "cbbda8ee",
   "metadata": {
    "execution": {
     "iopub.execute_input": "2024-01-12T16:07:26.643500Z",
     "iopub.status.busy": "2024-01-12T16:07:26.643216Z",
     "iopub.status.idle": "2024-01-12T16:07:26.648403Z",
     "shell.execute_reply": "2024-01-12T16:07:26.647676Z"
    },
    "slideshow": {
     "slide_type": "fragment"
    }
   },
   "outputs": [
    {
     "data": {
      "text/plain": [
       "array([[0.1, 3.3],\n",
       "       [1.1, 5.2]])"
      ]
     },
     "execution_count": 3,
     "metadata": {},
     "output_type": "execute_result"
    }
   ],
   "source": [
    "# we can create a two-dimensional array by passing in a list of lists\n",
    "arr = np.array([[0.1, 3.3], [1.1, 5.2]])\n",
    "arr"
   ]
  },
  {
   "cell_type": "code",
   "execution_count": 4,
   "id": "f59ba6a0",
   "metadata": {
    "execution": {
     "iopub.execute_input": "2024-01-12T16:07:26.652635Z",
     "iopub.status.busy": "2024-01-12T16:07:26.652126Z",
     "iopub.status.idle": "2024-01-12T16:07:26.657252Z",
     "shell.execute_reply": "2024-01-12T16:07:26.656500Z"
    },
    "slideshow": {
     "slide_type": "subslide"
    }
   },
   "outputs": [
    {
     "name": "stdout",
     "output_type": "stream",
     "text": [
      "arr.ndim = 2\n",
      "arr.shape = (2, 2)\n",
      "arr.size = 4\n",
      "arr.dtype = float64\n",
      "arr.itemsize = 8\n",
      "arr.data = <memory at 0x7fc888b085f0>\n"
     ]
    }
   ],
   "source": [
    "# arrays have some properties that are useful to know about\n",
    "print(\"arr.ndim =\", arr.ndim)\n",
    "print(\"arr.shape =\", arr.shape)\n",
    "print(\"arr.size =\", arr.size)\n",
    "print(\"arr.dtype =\", arr.dtype)\n",
    "print(\"arr.itemsize =\", arr.itemsize)\n",
    "print(\"arr.data =\", arr.data)"
   ]
  },
  {
   "cell_type": "code",
   "execution_count": 5,
   "id": "5a124f3f",
   "metadata": {
    "execution": {
     "iopub.execute_input": "2024-01-12T16:07:26.661983Z",
     "iopub.status.busy": "2024-01-12T16:07:26.661300Z",
     "iopub.status.idle": "2024-01-12T16:07:26.667063Z",
     "shell.execute_reply": "2024-01-12T16:07:26.666384Z"
    },
    "slideshow": {
     "slide_type": "fragment"
    }
   },
   "outputs": [
    {
     "data": {
      "text/plain": [
       "array([1, 2, 3], dtype=int16)"
      ]
     },
     "execution_count": 5,
     "metadata": {},
     "output_type": "execute_result"
    }
   ],
   "source": [
    "# the data type is infered from the argument but can also be specified explicitly\n",
    "arr = np.array([1, 2, 3], dtype=np.int16)\n",
    "arr"
   ]
  },
  {
   "cell_type": "markdown",
   "id": "e8691aca",
   "metadata": {
    "slideshow": {
     "slide_type": "slide"
    }
   },
   "source": [
    "# Understanding shapes"
   ]
  },
  {
   "cell_type": "markdown",
   "id": "08ccaffb",
   "metadata": {
    "slideshow": {
     "slide_type": "fragment"
    }
   },
   "source": [
    "The shape property of an array is normally straight-forward to understand. It's a tuple where the length of each axis is shown at that axis's index."
   ]
  },
  {
   "cell_type": "markdown",
   "id": "b8145525",
   "metadata": {
    "slideshow": {
     "slide_type": "fragment"
    }
   },
   "source": [
    "e.g. (64, 3, 256, 256) means there are 4 axes with:\n",
    "\n",
    "Axis 0 has 64 elements, \n",
    "\n",
    "Axis 1 has 3 elements, \n",
    "\n",
    "Axis 2 has 256 elements, \n",
    "\n",
    "Axis 3 has 256 elements."
   ]
  },
  {
   "cell_type": "markdown",
   "id": "416b3116",
   "metadata": {
    "slideshow": {
     "slide_type": "subslide"
    }
   },
   "source": [
    "However, if an array only has one axis then its shape is written like so $(n,)$, where $n$ is the length of the axis, which in this case is the number of elements."
   ]
  },
  {
   "cell_type": "markdown",
   "id": "faec9412",
   "metadata": {
    "slideshow": {
     "slide_type": "fragment"
    }
   },
   "source": [
    "Note - this notation is used because the shape is a tuple and the way that tuples with one element are written in Python is as $(element,)$ in order to make the notion different from an expression in brackets. "
   ]
  },
  {
   "cell_type": "markdown",
   "id": "5e3b7b51",
   "metadata": {
    "slideshow": {
     "slide_type": "subslide"
    }
   },
   "source": [
    "However, you might want to be more explicit about row and column vectors by having an explicit extra dimension. For example: "
   ]
  },
  {
   "cell_type": "code",
   "execution_count": 6,
   "id": "1366f1d7",
   "metadata": {
    "execution": {
     "iopub.execute_input": "2024-01-12T16:07:26.671792Z",
     "iopub.status.busy": "2024-01-12T16:07:26.671477Z",
     "iopub.status.idle": "2024-01-12T16:07:26.676892Z",
     "shell.execute_reply": "2024-01-12T16:07:26.675908Z"
    },
    "slideshow": {
     "slide_type": "fragment"
    }
   },
   "outputs": [
    {
     "name": "stdout",
     "output_type": "stream",
     "text": [
      "row:  (3,)\n",
      "explicit_row:  (1, 3)\n",
      "explicit_col:  (3, 1)\n"
     ]
    }
   ],
   "source": [
    "# let's have a look\n",
    "row = np.array([1,2,3])\n",
    "explicit_row = np.array([[1,2,3]])\n",
    "explicit_col = np.array([[4],[5],[6]])\n",
    "\n",
    "print(\"row: \", row.shape)\n",
    "print(\"explicit_row: \", explicit_row.shape)\n",
    "print(\"explicit_col: \", explicit_col.shape)"
   ]
  },
  {
   "cell_type": "markdown",
   "id": "a98e2c42",
   "metadata": {
    "slideshow": {
     "slide_type": "slide"
    }
   },
   "source": [
    "# Other ways to create arrays\n",
    "NumPy provides various ways to create arrays in addition to the array constructor. These functions commonly take a tuple specifying the size and an optional dtype."
   ]
  },
  {
   "cell_type": "code",
   "execution_count": 7,
   "id": "d0d89176",
   "metadata": {
    "execution": {
     "iopub.execute_input": "2024-01-12T16:07:26.681014Z",
     "iopub.status.busy": "2024-01-12T16:07:26.680731Z",
     "iopub.status.idle": "2024-01-12T16:07:26.685271Z",
     "shell.execute_reply": "2024-01-12T16:07:26.684599Z"
    },
    "slideshow": {
     "slide_type": "fragment"
    }
   },
   "outputs": [
    {
     "data": {
      "text/plain": [
       "array([[0., 0.],\n",
       "       [0., 0.]])"
      ]
     },
     "execution_count": 7,
     "metadata": {},
     "output_type": "execute_result"
    }
   ],
   "source": [
    "# create an array full of zeros\n",
    "np.zeros((2, 2))"
   ]
  },
  {
   "cell_type": "code",
   "execution_count": 8,
   "id": "2712931d",
   "metadata": {
    "execution": {
     "iopub.execute_input": "2024-01-12T16:07:26.688705Z",
     "iopub.status.busy": "2024-01-12T16:07:26.688400Z",
     "iopub.status.idle": "2024-01-12T16:07:26.693031Z",
     "shell.execute_reply": "2024-01-12T16:07:26.692353Z"
    },
    "slideshow": {
     "slide_type": "fragment"
    }
   },
   "outputs": [
    {
     "data": {
      "text/plain": [
       "array([[1., 1.],\n",
       "       [1., 1.]])"
      ]
     },
     "execution_count": 8,
     "metadata": {},
     "output_type": "execute_result"
    }
   ],
   "source": [
    "# create an array full of ones\n",
    "np.ones((2, 2))"
   ]
  },
  {
   "cell_type": "code",
   "execution_count": 9,
   "id": "681bf618",
   "metadata": {
    "execution": {
     "iopub.execute_input": "2024-01-12T16:07:26.697028Z",
     "iopub.status.busy": "2024-01-12T16:07:26.696744Z",
     "iopub.status.idle": "2024-01-12T16:07:26.701947Z",
     "shell.execute_reply": "2024-01-12T16:07:26.701022Z"
    },
    "slideshow": {
     "slide_type": "fragment"
    }
   },
   "outputs": [
    {
     "data": {
      "text/plain": [
       "array([[55, 55, 55],\n",
       "       [55, 55, 55],\n",
       "       [55, 55, 55]])"
      ]
     },
     "execution_count": 9,
     "metadata": {},
     "output_type": "execute_result"
    }
   ],
   "source": [
    "# create an array full of a specified value\n",
    "np.full((3,3), 55)"
   ]
  },
  {
   "cell_type": "code",
   "execution_count": 10,
   "id": "a508f331",
   "metadata": {
    "execution": {
     "iopub.execute_input": "2024-01-12T16:07:26.705805Z",
     "iopub.status.busy": "2024-01-12T16:07:26.705439Z",
     "iopub.status.idle": "2024-01-12T16:07:26.711042Z",
     "shell.execute_reply": "2024-01-12T16:07:26.710267Z"
    },
    "slideshow": {
     "slide_type": "subslide"
    }
   },
   "outputs": [
    {
     "data": {
      "text/plain": [
       "array([[1., 1.],\n",
       "       [1., 1.]])"
      ]
     },
     "execution_count": 10,
     "metadata": {},
     "output_type": "execute_result"
    }
   ],
   "source": [
    "# create an array but don't initalise its memory\n",
    "# content is based on the current content of the allocation memory\n",
    "# faster than initalising but only use if you are overwriting afterwards\n",
    "np.empty((2, 2))"
   ]
  },
  {
   "cell_type": "code",
   "execution_count": 11,
   "id": "615a2e29",
   "metadata": {
    "execution": {
     "iopub.execute_input": "2024-01-12T16:07:26.714953Z",
     "iopub.status.busy": "2024-01-12T16:07:26.714646Z",
     "iopub.status.idle": "2024-01-12T16:07:26.720318Z",
     "shell.execute_reply": "2024-01-12T16:07:26.719400Z"
    },
    "slideshow": {
     "slide_type": "fragment"
    }
   },
   "outputs": [
    {
     "data": {
      "text/plain": [
       "array([ 0., 11., 22., 33., 44., 55., 66., 77., 88., 99.])"
      ]
     },
     "execution_count": 11,
     "metadata": {},
     "output_type": "execute_result"
    }
   ],
   "source": [
    "# create an array of values between a start and a stop values with a specified number of steps\n",
    "np.linspace(0, 99, num=10)"
   ]
  },
  {
   "cell_type": "code",
   "execution_count": 12,
   "id": "e2c5d70b",
   "metadata": {
    "execution": {
     "iopub.execute_input": "2024-01-12T16:07:26.724096Z",
     "iopub.status.busy": "2024-01-12T16:07:26.723804Z",
     "iopub.status.idle": "2024-01-12T16:07:26.729794Z",
     "shell.execute_reply": "2024-01-12T16:07:26.728971Z"
    },
    "slideshow": {
     "slide_type": "fragment"
    }
   },
   "outputs": [
    {
     "data": {
      "text/plain": [
       "array([ 0,  5, 10, 15, 20, 25, 30, 35, 40, 45, 50, 55, 60, 65, 70, 75, 80,\n",
       "       85, 90, 95])"
      ]
     },
     "execution_count": 12,
     "metadata": {},
     "output_type": "execute_result"
    }
   ],
   "source": [
    "# create an array of values between a start and a stop values with a specified size of step\n",
    "np.arange(0, 99, 5)"
   ]
  },
  {
   "cell_type": "markdown",
   "id": "096f16de",
   "metadata": {
    "slideshow": {
     "slide_type": "slide"
    }
   },
   "source": [
    "# Basic Array Operations"
   ]
  },
  {
   "cell_type": "markdown",
   "id": "a9e54454",
   "metadata": {
    "slideshow": {
     "slide_type": "fragment"
    }
   },
   "source": [
    "Now that we know how to create arrays, let's look at some basic operations for transforming their elements."
   ]
  },
  {
   "cell_type": "code",
   "execution_count": 13,
   "id": "dcee2e19",
   "metadata": {
    "execution": {
     "iopub.execute_input": "2024-01-12T16:07:26.733606Z",
     "iopub.status.busy": "2024-01-12T16:07:26.733323Z",
     "iopub.status.idle": "2024-01-12T16:07:26.738475Z",
     "shell.execute_reply": "2024-01-12T16:07:26.737803Z"
    },
    "slideshow": {
     "slide_type": "fragment"
    }
   },
   "outputs": [
    {
     "data": {
      "text/plain": [
       "(array([[4, 4],\n",
       "        [4, 4]]),\n",
       " array([[3, 3],\n",
       "        [3, 3]]))"
      ]
     },
     "execution_count": 13,
     "metadata": {},
     "output_type": "execute_result"
    }
   ],
   "source": [
    "# let's declare a couple of arrays to manipulate\n",
    "a = np.full((2,2), 4)\n",
    "b = np.full((2,2), 3)\n",
    "a, b "
   ]
  },
  {
   "cell_type": "code",
   "execution_count": 14,
   "id": "068e22bc",
   "metadata": {
    "execution": {
     "iopub.execute_input": "2024-01-12T16:07:26.741925Z",
     "iopub.status.busy": "2024-01-12T16:07:26.741662Z",
     "iopub.status.idle": "2024-01-12T16:07:26.746295Z",
     "shell.execute_reply": "2024-01-12T16:07:26.745660Z"
    },
    "slideshow": {
     "slide_type": "subslide"
    }
   },
   "outputs": [
    {
     "name": "stdout",
     "output_type": "stream",
     "text": [
      "[[7 7]\n",
      " [7 7]]\n",
      "[[1 1]\n",
      " [1 1]]\n",
      "[[12 12]\n",
      " [12 12]]\n",
      "[[1.33333333 1.33333333]\n",
      " [1.33333333 1.33333333]]\n"
     ]
    }
   ],
   "source": [
    "# we can perform many common mathematical operators, for example\n",
    "print(a+b)\n",
    "print(a-b)\n",
    "print(a*b)\n",
    "print(a/b)"
   ]
  },
  {
   "cell_type": "markdown",
   "id": "bf7a922e",
   "metadata": {
    "slideshow": {
     "slide_type": "subslide"
    }
   },
   "source": [
    "Note that we are using operators to perform these operations. These also have equivalent implementations as functions in NumPy. Sometimes these are more readable."
   ]
  },
  {
   "cell_type": "code",
   "execution_count": 15,
   "id": "35a3288b",
   "metadata": {
    "execution": {
     "iopub.execute_input": "2024-01-12T16:07:26.750333Z",
     "iopub.status.busy": "2024-01-12T16:07:26.749982Z",
     "iopub.status.idle": "2024-01-12T16:07:26.755663Z",
     "shell.execute_reply": "2024-01-12T16:07:26.754737Z"
    },
    "slideshow": {
     "slide_type": "fragment"
    }
   },
   "outputs": [
    {
     "name": "stdout",
     "output_type": "stream",
     "text": [
      "[[7 7]\n",
      " [7 7]]\n",
      "[[1 1]\n",
      " [1 1]]\n",
      "[[12 12]\n",
      " [12 12]]\n",
      "[[1.33333333 1.33333333]\n",
      " [1.33333333 1.33333333]]\n"
     ]
    }
   ],
   "source": [
    "# we can perform many common mathematical operators, for example\n",
    "print(np.add(a,b))\n",
    "print(np.subtract(a,b))\n",
    "print(np.multiply(a,b))\n",
    "print(np.divide(a,b))"
   ]
  },
  {
   "cell_type": "markdown",
   "id": "2dc68287",
   "metadata": {
    "slideshow": {
     "slide_type": "subslide"
    }
   },
   "source": [
    "Notice that these are all operating on the elements of the arrays individually. Not all array operators are like this. For example:"
   ]
  },
  {
   "cell_type": "code",
   "execution_count": 16,
   "id": "143bebbb",
   "metadata": {
    "execution": {
     "iopub.execute_input": "2024-01-12T16:07:26.760086Z",
     "iopub.status.busy": "2024-01-12T16:07:26.759534Z",
     "iopub.status.idle": "2024-01-12T16:07:26.765139Z",
     "shell.execute_reply": "2024-01-12T16:07:26.764481Z"
    },
    "slideshow": {
     "slide_type": "fragment"
    }
   },
   "outputs": [
    {
     "data": {
      "text/plain": [
       "array([[24, 24],\n",
       "       [24, 24]])"
      ]
     },
     "execution_count": 16,
     "metadata": {},
     "output_type": "execute_result"
    }
   ],
   "source": [
    "# matrix multiplication\n",
    "a @ b"
   ]
  },
  {
   "cell_type": "code",
   "execution_count": 17,
   "id": "0a9bec39",
   "metadata": {
    "execution": {
     "iopub.execute_input": "2024-01-12T16:07:26.769303Z",
     "iopub.status.busy": "2024-01-12T16:07:26.768670Z",
     "iopub.status.idle": "2024-01-12T16:07:26.773850Z",
     "shell.execute_reply": "2024-01-12T16:07:26.772993Z"
    },
    "slideshow": {
     "slide_type": "fragment"
    }
   },
   "outputs": [
    {
     "data": {
      "text/plain": [
       "array([[24, 24],\n",
       "       [24, 24]])"
      ]
     },
     "execution_count": 17,
     "metadata": {},
     "output_type": "execute_result"
    }
   ],
   "source": [
    "np.dot(a, b)"
   ]
  },
  {
   "cell_type": "markdown",
   "id": "f3d5bbd9",
   "metadata": {
    "slideshow": {
     "slide_type": "slide"
    }
   },
   "source": [
    "# Broadcasting"
   ]
  },
  {
   "cell_type": "markdown",
   "id": "767a0900",
   "metadata": {
    "slideshow": {
     "slide_type": "fragment"
    }
   },
   "source": [
    "So far we have looked at operations where the arrays are the same shape. However, NumPy supports performing operations on arrays of different shape, with some limitations. The term broadcasting is used to describe how Numpy treats these arrays during such operators."
   ]
  },
  {
   "cell_type": "markdown",
   "id": "25bded2f",
   "metadata": {
    "slideshow": {
     "slide_type": "fragment"
    }
   },
   "source": [
    "The most basic example would be operators between arrays and scalars. Let's say we wanted to multiply every element in an array by three."
   ]
  },
  {
   "cell_type": "code",
   "execution_count": 18,
   "id": "0236516b",
   "metadata": {
    "execution": {
     "iopub.execute_input": "2024-01-12T16:07:26.778083Z",
     "iopub.status.busy": "2024-01-12T16:07:26.777767Z",
     "iopub.status.idle": "2024-01-12T16:07:26.782918Z",
     "shell.execute_reply": "2024-01-12T16:07:26.782178Z"
    },
    "slideshow": {
     "slide_type": "fragment"
    }
   },
   "outputs": [
    {
     "data": {
      "text/plain": [
       "array([[12, 12],\n",
       "       [12, 12]])"
      ]
     },
     "execution_count": 18,
     "metadata": {},
     "output_type": "execute_result"
    }
   ],
   "source": [
    "# we could create an array of the same shape full of threes.\n",
    "a = np.full((2,2), 4)\n",
    "b = np.full((2,2), 3)\n",
    "a * b"
   ]
  },
  {
   "cell_type": "code",
   "execution_count": 19,
   "id": "71da6fa3",
   "metadata": {
    "execution": {
     "iopub.execute_input": "2024-01-12T16:07:26.786463Z",
     "iopub.status.busy": "2024-01-12T16:07:26.786114Z",
     "iopub.status.idle": "2024-01-12T16:07:26.790410Z",
     "shell.execute_reply": "2024-01-12T16:07:26.789776Z"
    },
    "slideshow": {
     "slide_type": "subslide"
    }
   },
   "outputs": [
    {
     "data": {
      "text/plain": [
       "array([[12, 12],\n",
       "       [12, 12]])"
      ]
     },
     "execution_count": 19,
     "metadata": {},
     "output_type": "execute_result"
    }
   ],
   "source": [
    "# but there is a simpler notation\n",
    "a * 3"
   ]
  },
  {
   "cell_type": "markdown",
   "id": "b92823e4",
   "metadata": {
    "slideshow": {
     "slide_type": "fragment"
    }
   },
   "source": [
    "What's going on here? We can think of the scalar 3 being replicated for every element in a. It's as though it's being stretched out."
   ]
  },
  {
   "cell_type": "markdown",
   "id": "74665aed",
   "metadata": {
    "slideshow": {
     "slide_type": "fragment"
    }
   },
   "source": [
    "![A diagram showing an array](broadcasting_diagram.png)"
   ]
  },
  {
   "cell_type": "markdown",
   "id": "06e47493",
   "metadata": {
    "slideshow": {
     "slide_type": "slide"
    }
   },
   "source": [
    "# Accessing and modifying elements"
   ]
  },
  {
   "cell_type": "code",
   "execution_count": 20,
   "id": "631cf412",
   "metadata": {
    "execution": {
     "iopub.execute_input": "2024-01-12T16:07:26.794384Z",
     "iopub.status.busy": "2024-01-12T16:07:26.794060Z",
     "iopub.status.idle": "2024-01-12T16:07:26.799032Z",
     "shell.execute_reply": "2024-01-12T16:07:26.798372Z"
    },
    "slideshow": {
     "slide_type": "fragment"
    }
   },
   "outputs": [
    {
     "data": {
      "text/plain": [
       "1"
      ]
     },
     "execution_count": 20,
     "metadata": {},
     "output_type": "execute_result"
    }
   ],
   "source": [
    "# like lists and strings, we can use the subscript operators to \n",
    "# retrive a single element of an array\n",
    "arr[0]"
   ]
  },
  {
   "cell_type": "code",
   "execution_count": 21,
   "id": "c160321b",
   "metadata": {
    "execution": {
     "iopub.execute_input": "2024-01-12T16:07:26.802853Z",
     "iopub.status.busy": "2024-01-12T16:07:26.802298Z",
     "iopub.status.idle": "2024-01-12T16:07:26.807419Z",
     "shell.execute_reply": "2024-01-12T16:07:26.806737Z"
    },
    "slideshow": {
     "slide_type": "fragment"
    }
   },
   "outputs": [
    {
     "data": {
      "text/plain": [
       "array([9, 2, 3], dtype=int16)"
      ]
     },
     "execution_count": 21,
     "metadata": {},
     "output_type": "execute_result"
    }
   ],
   "source": [
    "# we can also use it to modify the value\n",
    "arr[0] = 9\n",
    "arr"
   ]
  },
  {
   "cell_type": "code",
   "execution_count": 22,
   "id": "4d9b8098",
   "metadata": {
    "execution": {
     "iopub.execute_input": "2024-01-12T16:07:26.811336Z",
     "iopub.status.busy": "2024-01-12T16:07:26.811021Z",
     "iopub.status.idle": "2024-01-12T16:07:26.816668Z",
     "shell.execute_reply": "2024-01-12T16:07:26.815856Z"
    },
    "slideshow": {
     "slide_type": "subslide"
    }
   },
   "outputs": [
    {
     "data": {
      "text/plain": [
       "6"
      ]
     },
     "execution_count": 22,
     "metadata": {},
     "output_type": "execute_result"
    }
   ],
   "source": [
    "# arrays can have multiple dimensions, so we need a syntax for indexing them\n",
    "# for this we use a comma to seperate the indices for each dimension\n",
    "arr = np.array([[1,2,3],[4,5,6]])\n",
    "\n",
    "# not that the indices start at axis 0 (rows) and go up by 1 each time, so columns is next.\n",
    "arr[1,2]\n",
    "\n",
    "# thinking about rows and columns only really makes sense for 2d arrays"
   ]
  },
  {
   "cell_type": "code",
   "execution_count": 23,
   "id": "11d5efdd",
   "metadata": {
    "execution": {
     "iopub.execute_input": "2024-01-12T16:07:26.820483Z",
     "iopub.status.busy": "2024-01-12T16:07:26.820130Z",
     "iopub.status.idle": "2024-01-12T16:07:26.824885Z",
     "shell.execute_reply": "2024-01-12T16:07:26.824258Z"
    },
    "slideshow": {
     "slide_type": "fragment"
    }
   },
   "outputs": [
    {
     "data": {
      "text/plain": [
       "6"
      ]
     },
     "execution_count": 23,
     "metadata": {},
     "output_type": "execute_result"
    }
   ],
   "source": [
    "# as with other indices, negative numbers start from the end and count back\n",
    "arr[-1,-1]"
   ]
  },
  {
   "cell_type": "markdown",
   "id": "b7513c00",
   "metadata": {
    "slideshow": {
     "slide_type": "slide"
    }
   },
   "source": [
    "# Slices and Indexing"
   ]
  },
  {
   "cell_type": "code",
   "execution_count": 24,
   "id": "4748e73c",
   "metadata": {
    "execution": {
     "iopub.execute_input": "2024-01-12T16:07:26.829543Z",
     "iopub.status.busy": "2024-01-12T16:07:26.829178Z",
     "iopub.status.idle": "2024-01-12T16:07:26.833985Z",
     "shell.execute_reply": "2024-01-12T16:07:26.833381Z"
    },
    "slideshow": {
     "slide_type": "fragment"
    }
   },
   "outputs": [
    {
     "data": {
      "text/plain": [
       "array([[2]])"
      ]
     },
     "execution_count": 24,
     "metadata": {},
     "output_type": "execute_result"
    }
   ],
   "source": [
    "# Like lists and string, we can use slices to retrive parts of arrays\n",
    "# remember the slice syntax is start:stop:step\n",
    "# NumPy extends this idea to work in N dimensions. For example:\n",
    "arr[0:1,1:2]"
   ]
  },
  {
   "cell_type": "code",
   "execution_count": 25,
   "id": "c3318ecd",
   "metadata": {
    "execution": {
     "iopub.execute_input": "2024-01-12T16:07:26.838338Z",
     "iopub.status.busy": "2024-01-12T16:07:26.837747Z",
     "iopub.status.idle": "2024-01-12T16:07:26.843324Z",
     "shell.execute_reply": "2024-01-12T16:07:26.842486Z"
    },
    "slideshow": {
     "slide_type": "fragment"
    }
   },
   "outputs": [
    {
     "data": {
      "text/plain": [
       "array([40, 50, 60])"
      ]
     },
     "execution_count": 25,
     "metadata": {},
     "output_type": "execute_result"
    }
   ],
   "source": [
    "# we can also index with an integer array\n",
    "# the array just specifies the position in the array\n",
    "arr = np.array([10,20,30,40,50,60])\n",
    "indices = np.array([3,4,5])\n",
    "arr[indices]"
   ]
  },
  {
   "cell_type": "code",
   "execution_count": 26,
   "id": "9a6e6290",
   "metadata": {
    "execution": {
     "iopub.execute_input": "2024-01-12T16:07:26.846908Z",
     "iopub.status.busy": "2024-01-12T16:07:26.846608Z",
     "iopub.status.idle": "2024-01-12T16:07:26.852992Z",
     "shell.execute_reply": "2024-01-12T16:07:26.852117Z"
    },
    "slideshow": {
     "slide_type": "subslide"
    }
   },
   "outputs": [
    {
     "data": {
      "text/plain": [
       "array([[4, 5, 6],\n",
       "       [4, 5, 6],\n",
       "       [7, 8, 9]])"
      ]
     },
     "execution_count": 26,
     "metadata": {},
     "output_type": "execute_result"
    }
   ],
   "source": [
    "# when the array being indexed is multidimensional then the index refers to the first axis\n",
    "arr = np.array([[1,2,3],[4,5,6],[7,8,9]])\n",
    "indices = np.array([1,1,2])\n",
    "arr[indices]"
   ]
  },
  {
   "cell_type": "code",
   "execution_count": 27,
   "id": "64e4d371",
   "metadata": {
    "execution": {
     "iopub.execute_input": "2024-01-12T16:07:26.856669Z",
     "iopub.status.busy": "2024-01-12T16:07:26.856385Z",
     "iopub.status.idle": "2024-01-12T16:07:26.863658Z",
     "shell.execute_reply": "2024-01-12T16:07:26.862897Z"
    },
    "slideshow": {
     "slide_type": "fragment"
    }
   },
   "outputs": [
    {
     "data": {
      "text/plain": [
       "array([1, 3, 6])"
      ]
     },
     "execution_count": 27,
     "metadata": {},
     "output_type": "execute_result"
    }
   ],
   "source": [
    "# indexing with a boolean array is a powerful way of selecting elements\n",
    "# we call this a boolean mask\n",
    "arr = np.array([[1,2,3],[4,5,6]])\n",
    "mask = np.array([[True, False, True],[False, False, True]])\n",
    "arr[mask]"
   ]
  },
  {
   "cell_type": "code",
   "execution_count": 28,
   "id": "316c8db0",
   "metadata": {
    "execution": {
     "iopub.execute_input": "2024-01-12T16:07:26.867395Z",
     "iopub.status.busy": "2024-01-12T16:07:26.867044Z",
     "iopub.status.idle": "2024-01-12T16:07:26.874903Z",
     "shell.execute_reply": "2024-01-12T16:07:26.873790Z"
    },
    "slideshow": {
     "slide_type": "subslide"
    }
   },
   "outputs": [
    {
     "name": "stdout",
     "output_type": "stream",
     "text": [
      "[[ True  True False]\n",
      " [False False False]]\n"
     ]
    },
    {
     "data": {
      "text/plain": [
       "array([1, 2])"
      ]
     },
     "execution_count": 28,
     "metadata": {},
     "output_type": "execute_result"
    }
   ],
   "source": [
    "# Using boolean operators to selected elements\n",
    "arr = np.array([[1,2,3],[4,5,6]])\n",
    "mask = arr < 3\n",
    "print(mask)\n",
    "arr[mask]"
   ]
  },
  {
   "cell_type": "code",
   "execution_count": 29,
   "id": "fd503170",
   "metadata": {
    "execution": {
     "iopub.execute_input": "2024-01-12T16:07:26.879155Z",
     "iopub.status.busy": "2024-01-12T16:07:26.878840Z",
     "iopub.status.idle": "2024-01-12T16:07:26.883947Z",
     "shell.execute_reply": "2024-01-12T16:07:26.883166Z"
    },
    "slideshow": {
     "slide_type": "fragment"
    }
   },
   "outputs": [
    {
     "data": {
      "text/plain": [
       "array([1, 2])"
      ]
     },
     "execution_count": 29,
     "metadata": {},
     "output_type": "execute_result"
    }
   ],
   "source": [
    "# we can write this more consisely by putting the boolean expression in line with the indexing operation\n",
    "arr[arr < 3]"
   ]
  },
  {
   "cell_type": "markdown",
   "id": "d7833fcc",
   "metadata": {
    "slideshow": {
     "slide_type": "slide"
    }
   },
   "source": [
    "# Basic Aggregation Operations"
   ]
  },
  {
   "cell_type": "code",
   "execution_count": 30,
   "id": "43f1220c",
   "metadata": {
    "execution": {
     "iopub.execute_input": "2024-01-12T16:07:26.887710Z",
     "iopub.status.busy": "2024-01-12T16:07:26.887406Z",
     "iopub.status.idle": "2024-01-12T16:07:26.891798Z",
     "shell.execute_reply": "2024-01-12T16:07:26.891142Z"
    },
    "slideshow": {
     "slide_type": "fragment"
    }
   },
   "outputs": [
    {
     "name": "stdout",
     "output_type": "stream",
     "text": [
      "3.5\n",
      "1.707825127659933\n",
      "1\n",
      "6\n"
     ]
    }
   ],
   "source": [
    "arr = np.array([[1,2,3],[4,5,6]])\n",
    "print(np.mean(arr))\n",
    "print(np.std(arr))\n",
    "print(np.min(arr))\n",
    "print(np.max(arr))"
   ]
  },
  {
   "cell_type": "markdown",
   "id": "516061ee",
   "metadata": {
    "slideshow": {
     "slide_type": "slide"
    }
   },
   "source": [
    "# Finding Unique Values\n",
    "Sometimes it's useful to find all the unique values in a dataset. For example, we might have a table of data with labels specifying some category and want to find all the categories."
   ]
  },
  {
   "cell_type": "code",
   "execution_count": 31,
   "id": "2dc0786b",
   "metadata": {
    "execution": {
     "iopub.execute_input": "2024-01-12T16:07:26.896738Z",
     "iopub.status.busy": "2024-01-12T16:07:26.896433Z",
     "iopub.status.idle": "2024-01-12T16:07:26.901702Z",
     "shell.execute_reply": "2024-01-12T16:07:26.900840Z"
    },
    "slideshow": {
     "slide_type": "fragment"
    }
   },
   "outputs": [
    {
     "data": {
      "text/plain": [
       "array([1, 2, 3, 4])"
      ]
     },
     "execution_count": 31,
     "metadata": {},
     "output_type": "execute_result"
    }
   ],
   "source": [
    "arr = np.array([1,2,1,2,3,4])\n",
    "np.unique(arr)"
   ]
  },
  {
   "cell_type": "markdown",
   "id": "7ad7cdb9",
   "metadata": {
    "slideshow": {
     "slide_type": "slide"
    }
   },
   "source": [
    "# Transpose\n",
    "Getting the transpose of an array is useful in many circumstances. For example, if we wanted to convert a row vector into a column vector."
   ]
  },
  {
   "cell_type": "code",
   "execution_count": 32,
   "id": "2e3e2ba4",
   "metadata": {
    "execution": {
     "iopub.execute_input": "2024-01-12T16:07:26.906718Z",
     "iopub.status.busy": "2024-01-12T16:07:26.906366Z",
     "iopub.status.idle": "2024-01-12T16:07:26.910610Z",
     "shell.execute_reply": "2024-01-12T16:07:26.909907Z"
    },
    "slideshow": {
     "slide_type": "fragment"
    }
   },
   "outputs": [
    {
     "name": "stdout",
     "output_type": "stream",
     "text": [
      "[[1 2 3]]\n",
      "(1, 3)\n",
      "(3, 1)\n"
     ]
    }
   ],
   "source": [
    "row = np.array([[1,2,3]])\n",
    "print(row)\n",
    "print(row.shape)\n",
    "print(row.T.shape)"
   ]
  },
  {
   "cell_type": "code",
   "execution_count": 33,
   "id": "5474329a",
   "metadata": {
    "execution": {
     "iopub.execute_input": "2024-01-12T16:07:26.914962Z",
     "iopub.status.busy": "2024-01-12T16:07:26.914638Z",
     "iopub.status.idle": "2024-01-12T16:07:26.921259Z",
     "shell.execute_reply": "2024-01-12T16:07:26.920372Z"
    },
    "slideshow": {
     "slide_type": "subslide"
    }
   },
   "outputs": [
    {
     "data": {
      "text/plain": [
       "(array([[1, 2, 3],\n",
       "        [4, 5, 6],\n",
       "        [7, 8, 9]]),\n",
       " array([[1, 4, 7],\n",
       "        [2, 5, 8],\n",
       "        [3, 6, 9]]))"
      ]
     },
     "execution_count": 33,
     "metadata": {},
     "output_type": "execute_result"
    }
   ],
   "source": [
    "# we can do this with matrices\n",
    "arr = np.array([[1,2,3],[4,5,6],[7,8,9]])\n",
    "arr, arr.T"
   ]
  },
  {
   "cell_type": "markdown",
   "id": "e9c45429",
   "metadata": {
    "slideshow": {
     "slide_type": "slide"
    }
   },
   "source": [
    "# Reshaping\n",
    "Sometimes we might want to reshape an array, so it has a different number of axes and/or a different number of elements per axis.\n",
    "\n",
    "This can be done using the reshape function."
   ]
  },
  {
   "cell_type": "code",
   "execution_count": 34,
   "id": "52c17a94",
   "metadata": {
    "execution": {
     "iopub.execute_input": "2024-01-12T16:07:26.925033Z",
     "iopub.status.busy": "2024-01-12T16:07:26.924722Z",
     "iopub.status.idle": "2024-01-12T16:07:26.931026Z",
     "shell.execute_reply": "2024-01-12T16:07:26.930406Z"
    },
    "scrolled": true,
    "slideshow": {
     "slide_type": "fragment"
    }
   },
   "outputs": [
    {
     "name": "stdout",
     "output_type": "stream",
     "text": [
      "[[ 1  2  3  4]\n",
      " [ 5  6  7  8]\n",
      " [ 9 10 11 12]]\n",
      "(3, 4)\n",
      "[[ 1  2  3]\n",
      " [ 4  5  6]\n",
      " [ 7  8  9]\n",
      " [10 11 12]]\n",
      "(4, 3)\n"
     ]
    }
   ],
   "source": [
    "arr = np.array([[1,2,3,4],[5,6,7,8],[9,10,11,12]])\n",
    "reshaped = np.reshape(arr, (4,3)) \n",
    "print(arr)\n",
    "print(arr.shape)\n",
    "print(reshaped)\n",
    "print(reshaped.shape)"
   ]
  },
  {
   "cell_type": "markdown",
   "id": "7239abf9",
   "metadata": {
    "slideshow": {
     "slide_type": "slide"
    }
   },
   "source": [
    "# Loading and Saving arrays"
   ]
  },
  {
   "cell_type": "markdown",
   "id": "aafd15f7",
   "metadata": {
    "slideshow": {
     "slide_type": "fragment"
    }
   },
   "source": [
    "There are several ways to load and save NumPy arrays to disk."
   ]
  },
  {
   "cell_type": "markdown",
   "id": "4857bfde",
   "metadata": {
    "slideshow": {
     "slide_type": "fragment"
    }
   },
   "source": [
    "There is a binary format for NumPy that uses the extension .npy."
   ]
  },
  {
   "cell_type": "markdown",
   "id": "452eaaf0",
   "metadata": {
    "slideshow": {
     "slide_type": "fragment"
    }
   },
   "source": [
    "It uses the `np.save` and `np.load` functions."
   ]
  },
  {
   "cell_type": "markdown",
   "id": "1ca71fa6",
   "metadata": {
    "slideshow": {
     "slide_type": "subslide"
    }
   },
   "source": [
    "The `np.genfromtext` function lets us save NumPy arrays to Comma Seperated Value (csv) files."
   ]
  },
  {
   "cell_type": "markdown",
   "id": "452b890b",
   "metadata": {
    "slideshow": {
     "slide_type": "fragment"
    }
   },
   "source": [
    "The `np.savetxt` function lets us load NumPy arrays from csv files."
   ]
  },
  {
   "cell_type": "code",
   "execution_count": 35,
   "id": "aa5649dc",
   "metadata": {
    "execution": {
     "iopub.execute_input": "2024-01-12T16:07:26.935394Z",
     "iopub.status.busy": "2024-01-12T16:07:26.935082Z",
     "iopub.status.idle": "2024-01-12T16:07:26.941588Z",
     "shell.execute_reply": "2024-01-12T16:07:26.940918Z"
    },
    "slideshow": {
     "slide_type": "fragment"
    }
   },
   "outputs": [
    {
     "data": {
      "text/plain": [
       "array([[1.00e+00, 1.50e+03, 3.00e+00, 2.00e+00, 2.50e+05],\n",
       "       [2.00e+00, 2.00e+03, 4.00e+00, 3.00e+00, 3.50e+05],\n",
       "       [3.00e+00, 1.80e+03, 3.00e+00, 2.00e+00, 2.75e+05],\n",
       "       [4.00e+00, 2.20e+03, 4.00e+00, 3.00e+00, 4.00e+05],\n",
       "       [5.00e+00, 1.60e+03, 3.00e+00, 2.00e+00, 2.65e+05]])"
      ]
     },
     "execution_count": 35,
     "metadata": {},
     "output_type": "execute_result"
    }
   ],
   "source": [
    "# for example, let's load a csv of house prices\n",
    "house_prices = np.genfromtxt(\"data/houseprices.csv\", delimiter=',', skip_header=1)\n",
    "house_prices[:5,:]"
   ]
  },
  {
   "cell_type": "code",
   "execution_count": 36,
   "id": "1b28923e",
   "metadata": {
    "execution": {
     "iopub.execute_input": "2024-01-12T16:07:26.945391Z",
     "iopub.status.busy": "2024-01-12T16:07:26.944990Z",
     "iopub.status.idle": "2024-01-12T16:07:26.950548Z",
     "shell.execute_reply": "2024-01-12T16:07:26.949394Z"
    },
    "slideshow": {
     "slide_type": "fragment"
    }
   },
   "outputs": [],
   "source": [
    "# then save it back out under a different name\n",
    "np.savetxt(\"data/houseprices2.csv\", house_prices, delimiter=\",\")"
   ]
  },
  {
   "cell_type": "markdown",
   "id": "ba4d7b62",
   "metadata": {
    "slideshow": {
     "slide_type": "slide"
    }
   },
   "source": [
    "# Summary"
   ]
  },
  {
   "cell_type": "markdown",
   "id": "8976589a",
   "metadata": {
    "slideshow": {
     "slide_type": "fragment"
    }
   },
   "source": [
    "- Why array programming is useful for data processing. "
   ]
  },
  {
   "cell_type": "markdown",
   "id": "c539f2b1",
   "metadata": {
    "slideshow": {
     "slide_type": "fragment"
    }
   },
   "source": [
    "- How to import NumPy and create arrays."
   ]
  },
  {
   "cell_type": "markdown",
   "id": "82f68276",
   "metadata": {
    "slideshow": {
     "slide_type": "fragment"
    }
   },
   "source": [
    "- Basic Array Operations and Broadcasting"
   ]
  },
  {
   "cell_type": "markdown",
   "id": "ceb147ff",
   "metadata": {
    "slideshow": {
     "slide_type": "subslide"
    }
   },
   "source": [
    "- Indexing, Slicing, and Masking with Boolean Operators"
   ]
  },
  {
   "cell_type": "markdown",
   "id": "e2f0e9f9",
   "metadata": {
    "slideshow": {
     "slide_type": "fragment"
    }
   },
   "source": [
    "- Aggregating, Transposing, and Reshaping"
   ]
  },
  {
   "cell_type": "markdown",
   "id": "3327dacf",
   "metadata": {
    "slideshow": {
     "slide_type": "fragment"
    }
   },
   "source": [
    "- Loading and Saving"
   ]
  },
  {
   "cell_type": "markdown",
   "id": "90e4941a",
   "metadata": {
    "slideshow": {
     "slide_type": "slide"
    }
   },
   "source": [
    "## Exercise\n",
    "In the exercise, please read in the file `data/grades.csv`, compute the mean and standard deviation of the grade column, then write the these values out to a file as an array. "
   ]
  }
 ],
 "metadata": {
  "celltoolbar": "Slideshow",
  "kernelspec": {
   "display_name": "Python 3 (ipykernel)",
   "language": "python",
   "name": "python3"
  },
  "language_info": {
   "codemirror_mode": {
    "name": "ipython",
    "version": 3
   },
   "file_extension": ".py",
   "mimetype": "text/x-python",
   "name": "python",
   "nbconvert_exporter": "python",
   "pygments_lexer": "ipython3",
   "version": "3.9.1"
  }
 },
 "nbformat": 4,
 "nbformat_minor": 5
}
