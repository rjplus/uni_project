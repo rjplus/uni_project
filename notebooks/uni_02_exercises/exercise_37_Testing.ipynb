{
 "cells": [
  {
   "cell_type": "markdown",
   "metadata": {
    "slideshow": {
     "slide_type": "slide"
    }
   },
   "source": [
    "# Unit tests in Python\n",
    "\n",
    "Programming in Python\n",
    "\n",
    "School of Computer Science, University of St Andrews"
   ]
  },
  {
   "cell_type": "markdown",
   "metadata": {
    "slideshow": {
     "slide_type": "slide"
    }
   },
   "source": [
    "## unittest - unit testing framework\n",
    "- similar to major unit testing frameworks in other languages\n",
    "- supports organisation and automation of tests\n",
    "- executing them in an independent environment\n",
    "\n",
    "Concepts:\n",
    "- **test fixture**: actions to prepare to one or more tests, and associated cleanup actions\n",
    "- **test case:**: an individual *unit of testing*\n",
    "- **test suite**: a collection of test cases and/or test suites\n",
    "- **test runner**: a component to run tests and report their results\n",
    "\n",
    "See https://docs.python.org/3/library/unittest.html"
   ]
  },
  {
   "cell_type": "markdown",
   "metadata": {
    "slideshow": {
     "slide_type": "slide"
    }
   },
   "source": [
    "## A small example of using unit tests"
   ]
  },
  {
   "cell_type": "code",
   "execution_count": 1,
   "metadata": {
    "execution": {
     "iopub.execute_input": "2024-01-12T16:14:52.406510Z",
     "iopub.status.busy": "2024-01-12T16:14:52.406000Z",
     "iopub.status.idle": "2024-01-12T16:14:52.434555Z",
     "shell.execute_reply": "2024-01-12T16:14:52.433144Z"
    },
    "slideshow": {
     "slide_type": "fragment"
    }
   },
   "outputs": [],
   "source": [
    "import sys\n",
    "import unittest\n",
    "import random"
   ]
  },
  {
   "cell_type": "code",
   "execution_count": 2,
   "metadata": {
    "execution": {
     "iopub.execute_input": "2024-01-12T16:14:52.439301Z",
     "iopub.status.busy": "2024-01-12T16:14:52.438910Z",
     "iopub.status.idle": "2024-01-12T16:14:52.443423Z",
     "shell.execute_reply": "2024-01-12T16:14:52.442674Z"
    },
    "slideshow": {
     "slide_type": "fragment"
    }
   },
   "outputs": [],
   "source": [
    "# a class with two perfect tests which always pass :)\n",
    "class MyTest(unittest.TestCase):\n",
    "    def test_one(self):\n",
    "       # some test code goes here\n",
    "       pass\n",
    "    def test_two(self):\n",
    "       # some test code goes here\n",
    "       pass"
   ]
  },
  {
   "cell_type": "code",
   "execution_count": 3,
   "metadata": {
    "execution": {
     "iopub.execute_input": "2024-01-12T16:14:52.447659Z",
     "iopub.status.busy": "2024-01-12T16:14:52.447321Z",
     "iopub.status.idle": "2024-01-12T16:14:52.451581Z",
     "shell.execute_reply": "2024-01-12T16:14:52.450722Z"
    },
    "slideshow": {
     "slide_type": "slide"
    }
   },
   "outputs": [],
   "source": [
    "# test suite\n",
    "def suite():\n",
    "    loader = unittest.TestLoader()\n",
    "    testsuite = loader.loadTestsFromTestCase(MyTest)\n",
    "    return testsuite"
   ]
  },
  {
   "cell_type": "code",
   "execution_count": 4,
   "metadata": {
    "execution": {
     "iopub.execute_input": "2024-01-12T16:14:52.455142Z",
     "iopub.status.busy": "2024-01-12T16:14:52.454789Z",
     "iopub.status.idle": "2024-01-12T16:14:52.459212Z",
     "shell.execute_reply": "2024-01-12T16:14:52.458111Z"
    },
    "slideshow": {
     "slide_type": "fragment"
    }
   },
   "outputs": [],
   "source": [
    "# test runner: a function to run the tests\n",
    "def test():\n",
    "    testsuite = suite()\n",
    "    runner = unittest.TextTestRunner(sys.stdout, verbosity=2)\n",
    "    result = runner.run(testsuite)"
   ]
  },
  {
   "cell_type": "code",
   "execution_count": 5,
   "metadata": {
    "execution": {
     "iopub.execute_input": "2024-01-12T16:14:52.463686Z",
     "iopub.status.busy": "2024-01-12T16:14:52.463243Z",
     "iopub.status.idle": "2024-01-12T16:14:52.468741Z",
     "shell.execute_reply": "2024-01-12T16:14:52.467965Z"
    },
    "slideshow": {
     "slide_type": "slide"
    }
   },
   "outputs": [
    {
     "name": "stdout",
     "output_type": "stream",
     "text": [
      "test_one (__main__.MyTest) ... ok\n",
      "test_two (__main__.MyTest) ... ok\n",
      "\n",
      "----------------------------------------------------------------------\n",
      "Ran 2 tests in 0.002s\n",
      "\n",
      "OK\n"
     ]
    }
   ],
   "source": [
    "# now call the function to run the tests\n",
    "test()"
   ]
  },
  {
   "cell_type": "markdown",
   "metadata": {
    "slideshow": {
     "slide_type": "slide"
    }
   },
   "source": [
    "## A more sensible example of using unit tests"
   ]
  },
  {
   "cell_type": "code",
   "execution_count": 6,
   "metadata": {
    "execution": {
     "iopub.execute_input": "2024-01-12T16:14:52.522250Z",
     "iopub.status.busy": "2024-01-12T16:14:52.521321Z",
     "iopub.status.idle": "2024-01-12T16:14:52.529528Z",
     "shell.execute_reply": "2024-01-12T16:14:52.528639Z"
    },
    "slideshow": {
     "slide_type": "slide"
    }
   },
   "outputs": [],
   "source": [
    "# an example to test some functionality for sequences\n",
    "class TestSequenceFunctions(unittest.TestCase):\n",
    "\n",
    "    def setUp(self):\n",
    "        self.seq = [i for i in range(10)]\n",
    "\n",
    "    def test_shuffle(self):\n",
    "        # make sure the shuffled sequence does not lose any elements\n",
    "        random.shuffle(self.seq)\n",
    "        self.seq.sort()\n",
    "        self.assertEqual(self.seq, [i for i in range(10)])\n",
    "\n",
    "        # should raise an exception for an immutable sequence\n",
    "        self.assertRaises(TypeError, random.shuffle, (1,2,3))\n",
    "\n",
    "    def test_choice(self):\n",
    "        # random choice should return an element from the original sequence\n",
    "        element = random.choice(self.seq)\n",
    "        self.assertTrue(element in self.seq)\n",
    "\n",
    "    def test_sample(self):\n",
    "        # can not choose 20 distinct random elements out of 10\n",
    "        with self.assertRaises(ValueError):\n",
    "            random.sample(self.seq, 20)\n",
    "        # but it should be possible to pick 5\n",
    "        for element in random.sample(self.seq, 5):\n",
    "            self.assertTrue(element in self.seq)"
   ]
  },
  {
   "cell_type": "markdown",
   "metadata": {
    "slideshow": {
     "slide_type": "slide"
    }
   },
   "source": [
    "## Shorter way to run a test\n",
    "\n",
    "(compare with the previous example)"
   ]
  },
  {
   "cell_type": "code",
   "execution_count": 7,
   "metadata": {
    "execution": {
     "iopub.execute_input": "2024-01-12T16:14:52.533928Z",
     "iopub.status.busy": "2024-01-12T16:14:52.533611Z",
     "iopub.status.idle": "2024-01-12T16:14:52.543075Z",
     "shell.execute_reply": "2024-01-12T16:14:52.542536Z"
    },
    "slideshow": {
     "slide_type": "fragment"
    }
   },
   "outputs": [
    {
     "name": "stderr",
     "output_type": "stream",
     "text": [
      "test_choice (__main__.TestSequenceFunctions) ... ok\n",
      "test_sample (__main__.TestSequenceFunctions) ... ok\n",
      "test_shuffle (__main__.TestSequenceFunctions) ... ok\n",
      "\n",
      "----------------------------------------------------------------------\n",
      "Ran 3 tests in 0.002s\n",
      "\n",
      "OK\n"
     ]
    },
    {
     "data": {
      "text/plain": [
       "<unittest.runner.TextTestResult run=3 errors=0 failures=0>"
      ]
     },
     "execution_count": 7,
     "metadata": {},
     "output_type": "execute_result"
    }
   ],
   "source": [
    "suite = unittest.TestLoader().loadTestsFromTestCase(TestSequenceFunctions)\n",
    "unittest.TextTestRunner(verbosity=2).run(suite)"
   ]
  },
  {
   "cell_type": "markdown",
   "metadata": {
    "slideshow": {
     "slide_type": "slide"
    }
   },
   "source": [
    "## Exercise\n",
    "\n",
    "* Convert the code of the last example into an executable Python script that can be run from the command line"
   ]
  }
 ],
 "metadata": {
  "celltoolbar": "Slideshow",
  "kernelspec": {
   "display_name": "Python 3 (ipykernel)",
   "language": "python",
   "name": "python3"
  },
  "language_info": {
   "codemirror_mode": {
    "name": "ipython",
    "version": 3
   },
   "file_extension": ".py",
   "mimetype": "text/x-python",
   "name": "python",
   "nbconvert_exporter": "python",
   "pygments_lexer": "ipython3",
   "version": "3.9.1"
  }
 },
 "nbformat": 4,
 "nbformat_minor": 1
}
