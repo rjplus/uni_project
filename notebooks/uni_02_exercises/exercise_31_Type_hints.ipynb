{
 "cells": [
  {
   "cell_type": "markdown",
   "id": "97eea7b3",
   "metadata": {
    "slideshow": {
     "slide_type": "slide"
    }
   },
   "source": [
    "# Type hints\n",
    "\n",
    "Programming in Python\n",
    "\n",
    "School of Computer Science, University of St Andrews"
   ]
  },
  {
   "cell_type": "markdown",
   "id": "12860bf4",
   "metadata": {
    "slideshow": {
     "slide_type": "slide"
    }
   },
   "source": [
    "## Types in Python\n",
    "Recall that Python is *dynamically typed*:\n",
    "* you don't have to say what type a variable is when you declare it\n",
    "* variables can change type when you assign them\n",
    "* no checking is done\n",
    "* however..."
   ]
  },
  {
   "cell_type": "markdown",
   "id": "1e2d174f",
   "metadata": {
    "slideshow": {
     "slide_type": "slide"
    }
   },
   "source": [
    "## Type hinting\n",
    "- You can add *hints* to your code to specify some types\n",
    "- See this example from the official docs:"
   ]
  },
  {
   "cell_type": "code",
   "execution_count": 1,
   "id": "0606a4ea",
   "metadata": {
    "execution": {
     "iopub.execute_input": "2024-01-12T15:53:51.380296Z",
     "iopub.status.busy": "2024-01-12T15:53:51.379839Z",
     "iopub.status.idle": "2024-01-12T15:53:51.390455Z",
     "shell.execute_reply": "2024-01-12T15:53:51.389113Z"
    },
    "slideshow": {
     "slide_type": "fragment"
    }
   },
   "outputs": [],
   "source": [
    "def greeting(name):\n",
    "    return 'Hello ' + name"
   ]
  },
  {
   "cell_type": "code",
   "execution_count": 2,
   "id": "a275aec3",
   "metadata": {
    "execution": {
     "iopub.execute_input": "2024-01-12T15:53:51.395088Z",
     "iopub.status.busy": "2024-01-12T15:53:51.394672Z",
     "iopub.status.idle": "2024-01-12T15:53:51.398786Z",
     "shell.execute_reply": "2024-01-12T15:53:51.398037Z"
    },
    "slideshow": {
     "slide_type": "fragment"
    }
   },
   "outputs": [],
   "source": [
    "def greeting(name: str) -> str:\n",
    "    return 'Hello ' + name"
   ]
  },
  {
   "cell_type": "markdown",
   "id": "a8626d6d",
   "metadata": {
    "slideshow": {
     "slide_type": "fragment"
    }
   },
   "source": [
    "<https://docs.python.org/3/library/typing.html>"
   ]
  },
  {
   "cell_type": "markdown",
   "id": "edc2f47a",
   "metadata": {
    "slideshow": {
     "slide_type": "subslide"
    }
   },
   "source": [
    "Type hints don't **do** anything:"
   ]
  },
  {
   "cell_type": "code",
   "execution_count": 3,
   "id": "addc032b",
   "metadata": {
    "execution": {
     "iopub.execute_input": "2024-01-12T15:53:51.403331Z",
     "iopub.status.busy": "2024-01-12T15:53:51.402842Z",
     "iopub.status.idle": "2024-01-12T15:53:51.411588Z",
     "shell.execute_reply": "2024-01-12T15:53:51.410496Z"
    },
    "slideshow": {
     "slide_type": "fragment"
    }
   },
   "outputs": [
    {
     "data": {
      "text/plain": [
       "'Hello Michael'"
      ]
     },
     "execution_count": 3,
     "metadata": {},
     "output_type": "execute_result"
    }
   ],
   "source": [
    "greeting(\"Michael\")"
   ]
  },
  {
   "cell_type": "code",
   "execution_count": 4,
   "id": "8ef3f654",
   "metadata": {
    "execution": {
     "iopub.execute_input": "2024-01-12T15:53:51.416285Z",
     "iopub.status.busy": "2024-01-12T15:53:51.415902Z",
     "iopub.status.idle": "2024-01-12T15:53:51.644795Z",
     "shell.execute_reply": "2024-01-12T15:53:51.643129Z"
    },
    "scrolled": true,
    "slideshow": {
     "slide_type": "fragment"
    }
   },
   "outputs": [
    {
     "ename": "TypeError",
     "evalue": "can only concatenate str (not \"int\") to str",
     "output_type": "error",
     "traceback": [
      "\u001b[0;31m---------------------------------------------------------------------------\u001b[0m",
      "\u001b[0;31mTypeError\u001b[0m                                 Traceback (most recent call last)",
      "Cell \u001b[0;32mIn[4], line 1\u001b[0m\n\u001b[0;32m----> 1\u001b[0m \u001b[43mgreeting\u001b[49m\u001b[43m(\u001b[49m\u001b[38;5;241;43m42\u001b[39;49m\u001b[43m)\u001b[49m\n",
      "Cell \u001b[0;32mIn[2], line 2\u001b[0m, in \u001b[0;36mgreeting\u001b[0;34m(name)\u001b[0m\n\u001b[1;32m      1\u001b[0m \u001b[38;5;28;01mdef\u001b[39;00m \u001b[38;5;21mgreeting\u001b[39m(name: \u001b[38;5;28mstr\u001b[39m) \u001b[38;5;241m-\u001b[39m\u001b[38;5;241m>\u001b[39m \u001b[38;5;28mstr\u001b[39m:\n\u001b[0;32m----> 2\u001b[0m     \u001b[38;5;28;01mreturn\u001b[39;00m \u001b[38;5;124;43m'\u001b[39;49m\u001b[38;5;124;43mHello \u001b[39;49m\u001b[38;5;124;43m'\u001b[39;49m\u001b[43m \u001b[49m\u001b[38;5;241;43m+\u001b[39;49m\u001b[43m \u001b[49m\u001b[43mname\u001b[49m\n",
      "\u001b[0;31mTypeError\u001b[0m: can only concatenate str (not \"int\") to str"
     ]
    }
   ],
   "source": [
    "greeting(42)"
   ]
  },
  {
   "cell_type": "markdown",
   "id": "20877c49",
   "metadata": {
    "slideshow": {
     "slide_type": "slide"
    }
   },
   "source": [
    "## So why use them?"
   ]
  },
  {
   "cell_type": "markdown",
   "id": "00a864b5",
   "metadata": {
    "slideshow": {
     "slide_type": "fragment"
    }
   },
   "source": [
    "- External tools can do some checking for you\n",
    "  - MyPy type checker\n",
    "  - Common IDEs\n",
    "\n",
    "- Problems can be detected and flagged to you"
   ]
  },
  {
   "attachments": {
    "pycharm_type_error.webp": {
     "image/webp": "[encoded data removed]"
    }
   },
   "cell_type": "markdown",
   "id": "72f1e36c",
   "metadata": {
    "slideshow": {
     "slide_type": "subslide"
    }
   },
   "source": [
    "See this example in the PyCharm IDE:\n",
    "![pycharm_type_error.webp](attachment:pycharm_type_error.webp)\n",
    "(From <https://realpython.com/python-type-checking/>)"
   ]
  },
  {
   "cell_type": "markdown",
   "id": "1a51da0c",
   "metadata": {
    "slideshow": {
     "slide_type": "slide"
    }
   },
   "source": [
    "## Should I use them?\n",
    "Pros\n",
    "- Can avoid errors earlier\n",
    "- A neat way of documenting expected types\n",
    "\n",
    "Cons\n",
    "- More cluttered code\n",
    "- Loses some benefits of dynamically typed languages"
   ]
  },
  {
   "cell_type": "markdown",
   "id": "85a429f1",
   "metadata": {
    "slideshow": {
     "slide_type": "subslide"
    }
   },
   "source": [
    "Alternatives:\n",
    "- Make intended types clear in documentation\n",
    "- Use obvious \"natural\" types\n",
    "- Use another language!"
   ]
  },
  {
   "cell_type": "markdown",
   "id": "af389d85",
   "metadata": {
    "slideshow": {
     "slide_type": "slide"
    }
   },
   "source": [
    "## Exercise\n",
    "Read the following code, and add type annotations to the header to hint at the types that it should accept."
   ]
  },
  {
   "cell_type": "code",
   "execution_count": 5,
   "id": "e816f744",
   "metadata": {
    "execution": {
     "iopub.execute_input": "2024-01-12T15:53:51.650873Z",
     "iopub.status.busy": "2024-01-12T15:53:51.650499Z",
     "iopub.status.idle": "2024-01-12T15:53:51.655806Z",
     "shell.execute_reply": "2024-01-12T15:53:51.655120Z"
    },
    "slideshow": {
     "slide_type": "fragment"
    }
   },
   "outputs": [],
   "source": [
    "def word_repeated(word, n, use_comma_separator):\n",
    "    output = \"\"\n",
    "    for i in range(n):\n",
    "        output += word\n",
    "        if i < n - 1 and use_comma_separator:\n",
    "            output += \", \"\n",
    "    return output"
   ]
  },
  {
   "cell_type": "code",
   "execution_count": 6,
   "id": "3b7f636c",
   "metadata": {
    "execution": {
     "iopub.execute_input": "2024-01-12T15:53:51.659601Z",
     "iopub.status.busy": "2024-01-12T15:53:51.659248Z",
     "iopub.status.idle": "2024-01-12T15:53:51.664928Z",
     "shell.execute_reply": "2024-01-12T15:53:51.664225Z"
    },
    "slideshow": {
     "slide_type": "subslide"
    }
   },
   "outputs": [
    {
     "data": {
      "text/plain": [
       "'hellohellohellohellohello'"
      ]
     },
     "execution_count": 6,
     "metadata": {},
     "output_type": "execute_result"
    }
   ],
   "source": [
    "word_repeated(\"hello\", 5, False)"
   ]
  },
  {
   "cell_type": "code",
   "execution_count": 7,
   "id": "2038ba9a",
   "metadata": {
    "execution": {
     "iopub.execute_input": "2024-01-12T15:53:51.669181Z",
     "iopub.status.busy": "2024-01-12T15:53:51.668598Z",
     "iopub.status.idle": "2024-01-12T15:53:51.675391Z",
     "shell.execute_reply": "2024-01-12T15:53:51.674456Z"
    },
    "slideshow": {
     "slide_type": "fragment"
    }
   },
   "outputs": [
    {
     "data": {
      "text/plain": [
       "'world, world, world'"
      ]
     },
     "execution_count": 7,
     "metadata": {},
     "output_type": "execute_result"
    }
   ],
   "source": [
    "word_repeated(\"world\", 3, True)"
   ]
  },
  {
   "cell_type": "markdown",
   "id": "967b0ecb",
   "metadata": {
    "slideshow": {
     "slide_type": "skip"
    }
   },
   "source": [
    "## Solution"
   ]
  },
  {
   "cell_type": "code",
   "execution_count": 8,
   "id": "a288774a",
   "metadata": {
    "execution": {
     "iopub.execute_input": "2024-01-12T15:53:51.680400Z",
     "iopub.status.busy": "2024-01-12T15:53:51.680018Z",
     "iopub.status.idle": "2024-01-12T15:53:51.686168Z",
     "shell.execute_reply": "2024-01-12T15:53:51.684587Z"
    },
    "slideshow": {
     "slide_type": "skip"
    },
    "tags": []
   },
   "outputs": [],
   "source": [
    "def word_repeated(word: str, n: int, use_comma_separator: bool) -> str:\n",
    "    output = \"\"\n",
    "    for i in range(n):\n",
    "        output += word\n",
    "        if i < n - 1 and use_comma_separator:\n",
    "            output += \", \"\n",
    "    return output"
   ]
  }
 ],
 "metadata": {
  "celltoolbar": "Slideshow",
  "kernelspec": {
   "display_name": "Python 3 (ipykernel)",
   "language": "python",
   "name": "python3"
  },
  "language_info": {
   "codemirror_mode": {
    "name": "ipython",
    "version": 3
   },
   "file_extension": ".py",
   "mimetype": "text/x-python",
   "name": "python",
   "nbconvert_exporter": "python",
   "pygments_lexer": "ipython3",
   "version": "3.9.1"
  }
 },
 "nbformat": 4,
 "nbformat_minor": 5
}
