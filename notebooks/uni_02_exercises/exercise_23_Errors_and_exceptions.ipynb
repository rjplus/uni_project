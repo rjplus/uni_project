{
 "cells": [
  {
   "cell_type": "markdown",
   "metadata": {
    "slideshow": {
     "slide_type": "slide"
    }
   },
   "source": [
    "# Errors and exceptions\n",
    "\n",
    "Programming in Python\n",
    "\n",
    "School of Computer Science, University of St Andrews"
   ]
  },
  {
   "cell_type": "markdown",
   "metadata": {
    "slideshow": {
     "slide_type": "slide"
    }
   },
   "source": [
    "## Errors\n",
    "* **Syntax errors**: Python can't understand the source code\n",
    "* **Runtime errors**: something goes wrong during the execution of a program\n",
    "* **Logical errors**: The code does not work as intended (but does not necessarily crash)"
   ]
  },
  {
   "cell_type": "markdown",
   "metadata": {
    "slideshow": {
     "slide_type": "slide"
    }
   },
   "source": [
    "## Syntax errors\n",
    "* Can not parse\n",
    "* Can not execute\n",
    "* The earliest location of an error is shown"
   ]
  },
  {
   "cell_type": "code",
   "execution_count": null,
   "metadata": {
    "slideshow": {
     "slide_type": "fragment"
    }
   },
   "outputs": [],
   "source": [
    "letter = 'x"
   ]
  },
  {
   "cell_type": "code",
   "execution_count": null,
   "metadata": {
    "slideshow": {
     "slide_type": "slide"
    }
   },
   "outputs": [],
   "source": [
    "len(letter"
   ]
  },
  {
   "cell_type": "code",
   "execution_count": null,
   "metadata": {
    "slideshow": {
     "slide_type": "fragment"
    }
   },
   "outputs": [],
   "source": [
    "len(letter) <> 0"
   ]
  },
  {
   "cell_type": "markdown",
   "metadata": {
    "slideshow": {
     "slide_type": "slide"
    }
   },
   "source": [
    "## Runtime errors\n",
    "* Can parse\n",
    "* Can not execute\n",
    "* Are also called _exceptions_\n",
    "* The context, including the location and exception type, is shown in a _traceback_"
   ]
  },
  {
   "cell_type": "code",
   "execution_count": null,
   "metadata": {
    "scrolled": true,
    "slideshow": {
     "slide_type": "fragment"
    }
   },
   "outputs": [],
   "source": [
    "len(lettr)"
   ]
  },
  {
   "cell_type": "code",
   "execution_count": null,
   "metadata": {
    "slideshow": {
     "slide_type": "slide"
    }
   },
   "outputs": [],
   "source": [
    "len(10)"
   ]
  },
  {
   "cell_type": "code",
   "execution_count": null,
   "metadata": {
    "slideshow": {
     "slide_type": "fragment"
    }
   },
   "outputs": [],
   "source": [
    "1/0"
   ]
  },
  {
   "cell_type": "code",
   "execution_count": null,
   "metadata": {
    "slideshow": {
     "slide_type": "slide"
    }
   },
   "outputs": [],
   "source": [
    "2 + '3'"
   ]
  },
  {
   "cell_type": "code",
   "execution_count": null,
   "metadata": {
    "slideshow": {
     "slide_type": "fragment"
    }
   },
   "outputs": [],
   "source": [
    "'python'[6]"
   ]
  },
  {
   "cell_type": "markdown",
   "metadata": {
    "slideshow": {
     "slide_type": "slide"
    }
   },
   "source": [
    "## Logical errors\n",
    "* Can parse\n",
    "* Possibly can execute\n",
    "* The behaviour is wrong"
   ]
  },
  {
   "cell_type": "code",
   "execution_count": null,
   "metadata": {
    "slideshow": {
     "slide_type": "fragment"
    }
   },
   "outputs": [],
   "source": [
    "total = 0\n",
    "\n",
    "for i in [1,2,3]:\n",
    "    tota1 = total + i\n",
    "\n",
    "print(total)"
   ]
  },
  {
   "cell_type": "markdown",
   "metadata": {
    "slideshow": {
     "slide_type": "slide"
    }
   },
   "source": [
    "## How to deal with errors?\n",
    "* Syntax errors: fixing the source code to make it syntactically correct\n",
    "* Runtime and logical errors: tracing the program’s execution steps (reading the source, debugging)\n",
    "* Runtime errors are not necessarily fatal:\n",
    "    * Handle them using the `try` statement\n",
    "    * Raise exceptions using the `raise` statement\n",
    "    * Can also have user-defined types of exceptions (but only if you have to)\n",
    "    * \"Defensive programming\" style\n",
    "* This makes the code more robust, modular, easier to maintain, and more user and developer friendly"
   ]
  },
  {
   "cell_type": "markdown",
   "metadata": {
    "slideshow": {
     "slide_type": "slide"
    }
   },
   "source": [
    "##  `try` statement\n",
    "* In the simplest form:\n",
    "```python\n",
    "try:\n",
    "    statements_1\n",
    "except:\n",
    "    # skip if no exceptions occur in the `try` clause\n",
    "    statements_2\n",
    "```\n",
    "* The `except` clause is mandatory, so this Python language construction is also known as `try/except`\n"
   ]
  },
  {
   "cell_type": "code",
   "execution_count": null,
   "metadata": {
    "slideshow": {
     "slide_type": "slide"
    }
   },
   "outputs": [],
   "source": [
    "try:\n",
    "    print('Hello world')    "
   ]
  },
  {
   "cell_type": "code",
   "execution_count": null,
   "metadata": {
    "slideshow": {
     "slide_type": "fragment"
    }
   },
   "outputs": [],
   "source": [
    "try:\n",
    "    print('Hello world')\n",
    "except:\n",
    "    pass"
   ]
  },
  {
   "cell_type": "markdown",
   "metadata": {
    "slideshow": {
     "slide_type": "slide"
    }
   },
   "source": [
    "## Simple example"
   ]
  },
  {
   "cell_type": "code",
   "execution_count": null,
   "metadata": {
    "slideshow": {
     "slide_type": "fragment"
    }
   },
   "outputs": [],
   "source": [
    "while True:\n",
    "    try:\n",
    "        x = int(input('Please enter an integer: '))\n",
    "        print('You have entered', x)\n",
    "        break\n",
    "    except:\n",
    "        print('This is not a valid input. Please try again.')"
   ]
  },
  {
   "cell_type": "markdown",
   "metadata": {
    "slideshow": {
     "slide_type": "slide"
    }
   },
   "source": [
    "## Specifying exception type\n",
    "* If the type does not match, an exception will be passed to outer `try` statements\n",
    "* If none of them handle it, it will be an unhandled exception, and execution will stop"
   ]
  },
  {
   "cell_type": "code",
   "execution_count": null,
   "metadata": {
    "slideshow": {
     "slide_type": "fragment"
    }
   },
   "outputs": [],
   "source": [
    "while True:\n",
    "    try:\n",
    "        x = int(input('Please enter an integer: '))\n",
    "        print('The inverse of', x, 'is', 1/x)\n",
    "        break\n",
    "    except ValueError:\n",
    "        print('This is not a valid input. Please try again.')"
   ]
  },
  {
   "cell_type": "markdown",
   "metadata": {
    "slideshow": {
     "slide_type": "slide"
    }
   },
   "source": [
    "## Multiple exception types in one `except` clause"
   ]
  },
  {
   "cell_type": "code",
   "execution_count": null,
   "metadata": {
    "slideshow": {
     "slide_type": "fragment"
    }
   },
   "outputs": [],
   "source": [
    "while True:\n",
    "    try:\n",
    "        x = int(input('Please enter an integer: '))\n",
    "        print('The inverse of', x, 'is', 1/x)\n",
    "        break\n",
    "    except (ValueError, ZeroDivisionError):\n",
    "        print('This is not a valid input. Please try again.')"
   ]
  },
  {
   "cell_type": "markdown",
   "metadata": {
    "slideshow": {
     "slide_type": "slide"
    }
   },
   "source": [
    "## Multiple `except` clauses\n",
    "* Used to define specific actions for special kinds of errors\n",
    "* Let's have a separate error message if zero is entered"
   ]
  },
  {
   "cell_type": "code",
   "execution_count": null,
   "metadata": {
    "slideshow": {
     "slide_type": "fragment"
    }
   },
   "outputs": [],
   "source": [
    "while True:\n",
    "    try:\n",
    "        x = int(input('Please enter a non-zero integer: '))\n",
    "        print('The inverse of', x, 'is', 1/x)\n",
    "        break\n",
    "    except ValueError:\n",
    "        print('This is not a valid input. Please try again.')\n",
    "    except ZeroDivisionError:\n",
    "        print('A non-zero integer, please!')"
   ]
  },
  {
   "cell_type": "markdown",
   "metadata": {
    "slideshow": {
     "slide_type": "slide"
    }
   },
   "source": [
    "## Optional `else` clause\n",
    "* Further code to execute if there is no error\n",
    "* Should follow all `except` clauses\n",
    "* Can make code more readable\n",
    "* Helps to avoid catching another exception happening elsewhere\n",
    "* For example, let's add a praise to the user under the `else` close\n"
   ]
  },
  {
   "cell_type": "code",
   "execution_count": null,
   "metadata": {
    "slideshow": {
     "slide_type": "slide"
    }
   },
   "outputs": [],
   "source": [
    "done = False\n",
    "while True:\n",
    "    try:\n",
    "        x = int(input('Please enter a non-zero integer: '))\n",
    "        print('The inverse of', x, 'is', 1/x)\n",
    "        done = True\n",
    "    except ValueError:\n",
    "        print('This is not a valid input. Please try again.')\n",
    "    except ZeroDivisionError:\n",
    "        print('A non-zero integer, please!')\n",
    "    else:\n",
    "        print('Well done!')\n",
    "    if done:\n",
    "        break"
   ]
  },
  {
   "cell_type": "markdown",
   "metadata": {
    "slideshow": {
     "slide_type": "slide"
    }
   },
   "source": [
    "## Optional `finally` clause\n",
    "* Further code to execute regardless of the results of `try` and `except` clauses\n",
    "* Can be useful for clean-up actions, e.g. closing open files, etc.\n",
    "* For example, let's add the counter of the number of attempts"
   ]
  },
  {
   "cell_type": "code",
   "execution_count": null,
   "metadata": {
    "slideshow": {
     "slide_type": "slide"
    }
   },
   "outputs": [],
   "source": [
    "done = False\n",
    "counter = 1\n",
    "while True:\n",
    "    try:\n",
    "        x = int(input('Attempt ' + str(counter) + ': Please enter a non-zero integer: '))\n",
    "        print('The inverse of', x, 'is', 1/x)\n",
    "        done = True\n",
    "    except ValueError:\n",
    "        print('This is not a valid input. Please try again.')\n",
    "    except ZeroDivisionError:\n",
    "        print('A non-zero integer, please!')\n",
    "    else:\n",
    "        print('Well done!')\n",
    "    finally:\n",
    "        counter = counter + 1\n",
    "    if done:\n",
    "        break"
   ]
  },
  {
   "cell_type": "markdown",
   "metadata": {
    "slideshow": {
     "slide_type": "slide"
    }
   },
   "source": [
    "## The full syntax of the `try/except` statement\n",
    "\n",
    "```python\n",
    "try:\n",
    "    ...\n",
    "except:  # skip if no exceptions occur, otherwise one or more\n",
    "    ...\n",
    "else:    # further code to execute if there were no errors\n",
    "    ...\n",
    "finally: # execute this whatever happens\n",
    "    ...\n",
    "```"
   ]
  },
  {
   "cell_type": "markdown",
   "metadata": {
    "slideshow": {
     "slide_type": "slide"
    }
   },
   "source": [
    "## EAFP paradigm\n",
    "- EAFP = \"Easier to ask for forgiveness than permission\"\n",
    "- Common Python coding style\n",
    "- Assume existence of keys, attributes, values of the right type, etc.\n",
    "- Catch exception if this assumption fails\n",
    "- See https://docs.python.org/3/glossary.html"
   ]
  },
  {
   "cell_type": "markdown",
   "metadata": {
    "slideshow": {
     "slide_type": "slide"
    }
   },
   "source": [
    "## Asking for permission\n",
    "```python\n",
    "if Some_MaybeEvenHardToCheckInAdvance_Condition: \n",
    "    DoSomething\n",
    "else: \n",
    "    DoSomethingElse\n",
    "```"
   ]
  },
  {
   "cell_type": "markdown",
   "metadata": {
    "slideshow": {
     "slide_type": "fragment"
    }
   },
   "source": [
    "## Asking for forgiveness\n",
    "```python\n",
    "try: \n",
    "    DoSomething\n",
    "except: \n",
    "    DoSomethingElse\n",
    "```"
   ]
  },
  {
   "cell_type": "markdown",
   "metadata": {
    "slideshow": {
     "slide_type": "slide"
    }
   },
   "source": [
    "## Exercise\n",
    "* Modify the example from this lecture to introduce the limit the number of attempts\n",
    "* Make sure that the code still produces sensible error messages\n",
    "    * It would be frustrating to the user to see \"try again\" not followed by the next input prompt"
   ]
  },
  {
   "cell_type": "code",
   "execution_count": null,
   "metadata": {
    "slideshow": {
     "slide_type": "skip"
    }
   },
   "outputs": [],
   "source": [
    "done = False\n",
    "counter = 1\n",
    "limit = 5\n",
    "again = 'Please try again.'\n",
    "while True:\n",
    "    try:\n",
    "        x = int(input('Attempt ' + str(counter) + ' of ' +str(limit) + ': Please enter a non-zero integer: '))\n",
    "        print('The inverse of', x, 'is', 1/x)\n",
    "        done = True\n",
    "    except ValueError:\n",
    "        print('This is not a valid input.')\n",
    "        if counter < limit:\n",
    "            print(again)\n",
    "    except ZeroDivisionError:\n",
    "        print('A non-zero integer is required.')\n",
    "        if counter < limit:\n",
    "            print(again)\n",
    "    else:\n",
    "        print('Well done!')\n",
    "    finally:\n",
    "        counter = counter + 1\n",
    "        if counter > limit:\n",
    "            print('Exceeded the maximal number of attempts')\n",
    "            break\n",
    "    if done:\n",
    "        break"
   ]
  }
 ],
 "metadata": {
  "celltoolbar": "Slideshow",
  "kernelspec": {
   "display_name": "Python 3 (ipykernel)",
   "language": "python",
   "name": "python3"
  },
  "language_info": {
   "codemirror_mode": {
    "name": "ipython",
    "version": 3
   },
   "file_extension": ".py",
   "mimetype": "text/x-python",
   "name": "python",
   "nbconvert_exporter": "python",
   "pygments_lexer": "ipython3",
   "version": "3.11.2"
  }
 },
 "nbformat": 4,
 "nbformat_minor": 4
}
