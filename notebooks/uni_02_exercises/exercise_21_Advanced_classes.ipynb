{
 "cells": [
  {
   "cell_type": "markdown",
   "id": "f1183bc6",
   "metadata": {
    "slideshow": {
     "slide_type": "slide"
    }
   },
   "source": [
    "# Advanced classes\n",
    "\n",
    "Programming in Python\n",
    "\n",
    "School of Computer Science, University of St Andrews"
   ]
  },
  {
   "cell_type": "markdown",
   "id": "2b0ae423",
   "metadata": {
    "slideshow": {
     "slide_type": "slide"
    }
   },
   "source": [
    "## More on initialisation"
   ]
  },
  {
   "cell_type": "code",
   "execution_count": 1,
   "id": "e1e29a06",
   "metadata": {
    "execution": {
     "iopub.execute_input": "2023-11-07T21:49:24.864177Z",
     "iopub.status.busy": "2023-11-07T21:49:24.863723Z",
     "iopub.status.idle": "2023-11-07T21:49:24.874535Z",
     "shell.execute_reply": "2023-11-07T21:49:24.873540Z"
    },
    "slideshow": {
     "slide_type": "fragment"
    }
   },
   "outputs": [],
   "source": [
    "class Hello:\n",
    "\n",
    "    \"\"\"A class to show __init__ method\"\"\"\n",
    "\n",
    "    def __init__(self, name):\n",
    "        self.name = name\n",
    "\n",
    "    def hello(self):\n",
    "        \"\"\"A function to show using `self` to refer to a data attribute\"\"\"\n",
    "        return \"Hello from \" + self.name"
   ]
  },
  {
   "cell_type": "code",
   "execution_count": 2,
   "id": "60334d05",
   "metadata": {
    "execution": {
     "iopub.execute_input": "2023-11-07T21:49:24.878296Z",
     "iopub.status.busy": "2023-11-07T21:49:24.878002Z",
     "iopub.status.idle": "2023-11-07T21:49:24.881467Z",
     "shell.execute_reply": "2023-11-07T21:49:24.880765Z"
    },
    "slideshow": {
     "slide_type": "fragment"
    }
   },
   "outputs": [],
   "source": [
    "t = Hello(\"Clara\")"
   ]
  },
  {
   "cell_type": "code",
   "execution_count": 3,
   "id": "b8a178a6",
   "metadata": {
    "execution": {
     "iopub.execute_input": "2023-11-07T21:49:24.885479Z",
     "iopub.status.busy": "2023-11-07T21:49:24.885150Z",
     "iopub.status.idle": "2023-11-07T21:49:24.891471Z",
     "shell.execute_reply": "2023-11-07T21:49:24.890820Z"
    },
    "slideshow": {
     "slide_type": "fragment"
    }
   },
   "outputs": [
    {
     "data": {
      "text/plain": [
       "'Hello from Clara'"
      ]
     },
     "execution_count": 3,
     "metadata": {},
     "output_type": "execute_result"
    }
   ],
   "source": [
    "t.hello()"
   ]
  },
  {
   "cell_type": "code",
   "execution_count": 4,
   "id": "5d6e925b",
   "metadata": {
    "execution": {
     "iopub.execute_input": "2023-11-07T21:49:24.895307Z",
     "iopub.status.busy": "2023-11-07T21:49:24.894981Z",
     "iopub.status.idle": "2023-11-07T21:49:24.899626Z",
     "shell.execute_reply": "2023-11-07T21:49:24.898945Z"
    },
    "slideshow": {
     "slide_type": "slide"
    }
   },
   "outputs": [
    {
     "name": "stdout",
     "output_type": "stream",
     "text": [
      "Help on class Hello in module __main__:\n",
      "\n",
      "class Hello(builtins.object)\n",
      " |  Hello(name)\n",
      " |  \n",
      " |  A class to show __init__ method\n",
      " |  \n",
      " |  Methods defined here:\n",
      " |  \n",
      " |  __init__(self, name)\n",
      " |      Initialize self.  See help(type(self)) for accurate signature.\n",
      " |  \n",
      " |  hello(self)\n",
      " |      A function to show using `self` to refer to a data attribute\n",
      " |  \n",
      " |  ----------------------------------------------------------------------\n",
      " |  Data descriptors defined here:\n",
      " |  \n",
      " |  __dict__\n",
      " |      dictionary for instance variables (if defined)\n",
      " |  \n",
      " |  __weakref__\n",
      " |      list of weak references to the object (if defined)\n",
      "\n"
     ]
    }
   ],
   "source": [
    "help(Hello) # see `__init__` entry below"
   ]
  },
  {
   "cell_type": "markdown",
   "id": "18878696",
   "metadata": {
    "slideshow": {
     "slide_type": "slide"
    }
   },
   "source": [
    "# Example class with info, __init__, __str__ and __repr__"
   ]
  },
  {
   "cell_type": "code",
   "execution_count": 5,
   "id": "18bbe1ef",
   "metadata": {
    "execution": {
     "iopub.execute_input": "2023-11-07T21:49:24.903372Z",
     "iopub.status.busy": "2023-11-07T21:49:24.903023Z",
     "iopub.status.idle": "2023-11-07T21:49:24.907671Z",
     "shell.execute_reply": "2023-11-07T21:49:24.907026Z"
    },
    "slideshow": {
     "slide_type": "fragment"
    }
   },
   "outputs": [],
   "source": [
    "class MyClass:\n",
    "    \"\"\"A list wrapper class to demonstrate __init__, __str__ and __repr__ methods\"\"\"\n",
    "    def __init__(self, info):\n",
    "        \"Store an underlying list as a data attribute while creating an instance of the class\"\n",
    "        self.info = info\n",
    "    def size(self): \n",
    "        return len(self.info)\n",
    "    def __str__(self): # overwrite \"print\"\n",
    "        return \"<\" + str(self.info) + \">\"\n",
    "    def __repr__(self): # if we want to generate a valid Python input\n",
    "        return \"MyClass(\" + str(self.info) +\")\""
   ]
  },
  {
   "cell_type": "code",
   "execution_count": 6,
   "id": "37cda0c8",
   "metadata": {
    "execution": {
     "iopub.execute_input": "2023-11-07T21:49:24.911235Z",
     "iopub.status.busy": "2023-11-07T21:49:24.910879Z",
     "iopub.status.idle": "2023-11-07T21:49:24.914471Z",
     "shell.execute_reply": "2023-11-07T21:49:24.913810Z"
    },
    "slideshow": {
     "slide_type": "fragment"
    }
   },
   "outputs": [],
   "source": [
    "a = MyClass([1, 4, 5]) # instance object"
   ]
  },
  {
   "cell_type": "code",
   "execution_count": 7,
   "id": "9457a4c5",
   "metadata": {
    "execution": {
     "iopub.execute_input": "2023-11-07T21:49:24.917887Z",
     "iopub.status.busy": "2023-11-07T21:49:24.917571Z",
     "iopub.status.idle": "2023-11-07T21:49:24.921293Z",
     "shell.execute_reply": "2023-11-07T21:49:24.920548Z"
    },
    "slideshow": {
     "slide_type": "subslide"
    }
   },
   "outputs": [
    {
     "name": "stdout",
     "output_type": "stream",
     "text": [
      "<[1, 4, 5]>\n"
     ]
    }
   ],
   "source": [
    "print(a)"
   ]
  },
  {
   "cell_type": "code",
   "execution_count": 8,
   "id": "4346e2d0",
   "metadata": {
    "execution": {
     "iopub.execute_input": "2023-11-07T21:49:24.924815Z",
     "iopub.status.busy": "2023-11-07T21:49:24.924478Z",
     "iopub.status.idle": "2023-11-07T21:49:24.928695Z",
     "shell.execute_reply": "2023-11-07T21:49:24.928065Z"
    },
    "slideshow": {
     "slide_type": "fragment"
    }
   },
   "outputs": [
    {
     "data": {
      "text/plain": [
       "MyClass([1, 4, 5])"
      ]
     },
     "execution_count": 8,
     "metadata": {},
     "output_type": "execute_result"
    }
   ],
   "source": [
    "a"
   ]
  },
  {
   "cell_type": "code",
   "execution_count": 9,
   "id": "1bc814f3",
   "metadata": {
    "execution": {
     "iopub.execute_input": "2023-11-07T21:49:24.933138Z",
     "iopub.status.busy": "2023-11-07T21:49:24.932460Z",
     "iopub.status.idle": "2023-11-07T21:49:24.936777Z",
     "shell.execute_reply": "2023-11-07T21:49:24.936150Z"
    },
    "slideshow": {
     "slide_type": "slide"
    }
   },
   "outputs": [
    {
     "data": {
      "text/plain": [
       "<bound method MyClass.size of MyClass([1, 4, 5])>"
      ]
     },
     "execution_count": 9,
     "metadata": {},
     "output_type": "execute_result"
    }
   ],
   "source": [
    "a.size"
   ]
  },
  {
   "cell_type": "code",
   "execution_count": 10,
   "id": "032cc50b",
   "metadata": {
    "execution": {
     "iopub.execute_input": "2023-11-07T21:49:24.940483Z",
     "iopub.status.busy": "2023-11-07T21:49:24.940157Z",
     "iopub.status.idle": "2023-11-07T21:49:24.944422Z",
     "shell.execute_reply": "2023-11-07T21:49:24.943721Z"
    },
    "slideshow": {
     "slide_type": "fragment"
    }
   },
   "outputs": [
    {
     "data": {
      "text/plain": [
       "3"
      ]
     },
     "execution_count": 10,
     "metadata": {},
     "output_type": "execute_result"
    }
   ],
   "source": [
    "a.size()"
   ]
  },
  {
   "cell_type": "code",
   "execution_count": 11,
   "id": "1b1a3ba2",
   "metadata": {
    "execution": {
     "iopub.execute_input": "2023-11-07T21:49:24.948001Z",
     "iopub.status.busy": "2023-11-07T21:49:24.947663Z",
     "iopub.status.idle": "2023-11-07T21:49:24.952139Z",
     "shell.execute_reply": "2023-11-07T21:49:24.951476Z"
    },
    "slideshow": {
     "slide_type": "fragment"
    }
   },
   "outputs": [
    {
     "data": {
      "text/plain": [
       "[1, 4, 5]"
      ]
     },
     "execution_count": 11,
     "metadata": {},
     "output_type": "execute_result"
    }
   ],
   "source": [
    "a.info # data attribute"
   ]
  },
  {
   "cell_type": "code",
   "execution_count": 12,
   "id": "c269dec4",
   "metadata": {
    "execution": {
     "iopub.execute_input": "2023-11-07T21:49:24.956131Z",
     "iopub.status.busy": "2023-11-07T21:49:24.955543Z",
     "iopub.status.idle": "2023-11-07T21:49:24.959074Z",
     "shell.execute_reply": "2023-11-07T21:49:24.958431Z"
    },
    "slideshow": {
     "slide_type": "fragment"
    }
   },
   "outputs": [],
   "source": [
    "a.info.append(4)"
   ]
  },
  {
   "cell_type": "code",
   "execution_count": 13,
   "id": "3369dafc",
   "metadata": {
    "execution": {
     "iopub.execute_input": "2023-11-07T21:49:24.962589Z",
     "iopub.status.busy": "2023-11-07T21:49:24.962264Z",
     "iopub.status.idle": "2023-11-07T21:49:24.966120Z",
     "shell.execute_reply": "2023-11-07T21:49:24.965397Z"
    },
    "slideshow": {
     "slide_type": "fragment"
    }
   },
   "outputs": [
    {
     "name": "stdout",
     "output_type": "stream",
     "text": [
      "<[1, 4, 5, 4]>\n"
     ]
    }
   ],
   "source": [
    "print(a)"
   ]
  },
  {
   "cell_type": "code",
   "execution_count": 14,
   "id": "28d17aee",
   "metadata": {
    "execution": {
     "iopub.execute_input": "2023-11-07T21:49:24.969682Z",
     "iopub.status.busy": "2023-11-07T21:49:24.969331Z",
     "iopub.status.idle": "2023-11-07T21:49:24.973589Z",
     "shell.execute_reply": "2023-11-07T21:49:24.972936Z"
    },
    "slideshow": {
     "slide_type": "fragment"
    }
   },
   "outputs": [
    {
     "data": {
      "text/plain": [
       "'__main__'"
      ]
     },
     "execution_count": 14,
     "metadata": {},
     "output_type": "execute_result"
    }
   ],
   "source": [
    "a.__module__ # a \"knows\" a lot about itself. Use `dir` to find out!"
   ]
  },
  {
   "cell_type": "code",
   "execution_count": 15,
   "id": "bb371a13",
   "metadata": {
    "execution": {
     "iopub.execute_input": "2023-11-07T21:49:24.977313Z",
     "iopub.status.busy": "2023-11-07T21:49:24.977033Z",
     "iopub.status.idle": "2023-11-07T21:49:24.981534Z",
     "shell.execute_reply": "2023-11-07T21:49:24.980961Z"
    },
    "slideshow": {
     "slide_type": "slide"
    }
   },
   "outputs": [
    {
     "data": {
      "text/plain": [
       "['__class__',\n",
       " '__delattr__',\n",
       " '__dict__',\n",
       " '__dir__',\n",
       " '__doc__',\n",
       " '__eq__',\n",
       " '__format__',\n",
       " '__ge__',\n",
       " '__getattribute__',\n",
       " '__gt__',\n",
       " '__hash__',\n",
       " '__init__',\n",
       " '__init_subclass__',\n",
       " '__le__',\n",
       " '__lt__',\n",
       " '__module__',\n",
       " '__ne__',\n",
       " '__new__',\n",
       " '__reduce__',\n",
       " '__reduce_ex__',\n",
       " '__repr__',\n",
       " '__setattr__',\n",
       " '__sizeof__',\n",
       " '__str__',\n",
       " '__subclasshook__',\n",
       " '__weakref__',\n",
       " 'info',\n",
       " 'size']"
      ]
     },
     "execution_count": 15,
     "metadata": {},
     "output_type": "execute_result"
    }
   ],
   "source": [
    "dir(a)"
   ]
  },
  {
   "cell_type": "code",
   "execution_count": 16,
   "id": "3c25a702",
   "metadata": {
    "execution": {
     "iopub.execute_input": "2023-11-07T21:49:24.985133Z",
     "iopub.status.busy": "2023-11-07T21:49:24.984844Z",
     "iopub.status.idle": "2023-11-07T21:49:24.989535Z",
     "shell.execute_reply": "2023-11-07T21:49:24.988938Z"
    },
    "slideshow": {
     "slide_type": "slide"
    }
   },
   "outputs": [
    {
     "name": "stdout",
     "output_type": "stream",
     "text": [
      "Help on class MyClass in module __main__:\n",
      "\n",
      "class MyClass(builtins.object)\n",
      " |  MyClass(info)\n",
      " |  \n",
      " |  A list wrapper class to demonstrate __init__, __str__ and __repr__ methods\n",
      " |  \n",
      " |  Methods defined here:\n",
      " |  \n",
      " |  __init__(self, info)\n",
      " |      Store an underlying list as a data attribute while creating an instance of the class\n",
      " |  \n",
      " |  __repr__(self)\n",
      " |      Return repr(self).\n",
      " |  \n",
      " |  __str__(self)\n",
      " |      Return str(self).\n",
      " |  \n",
      " |  size(self)\n",
      " |  \n",
      " |  ----------------------------------------------------------------------\n",
      " |  Data descriptors defined here:\n",
      " |  \n",
      " |  __dict__\n",
      " |      dictionary for instance variables (if defined)\n",
      " |  \n",
      " |  __weakref__\n",
      " |      list of weak references to the object (if defined)\n",
      "\n"
     ]
    }
   ],
   "source": [
    "help(MyClass)"
   ]
  },
  {
   "cell_type": "markdown",
   "id": "ff4e16de",
   "metadata": {
    "slideshow": {
     "slide_type": "slide"
    }
   },
   "source": [
    "### Warning\n",
    "* data attributes override method attributes with the same name!"
   ]
  },
  {
   "cell_type": "code",
   "execution_count": 17,
   "id": "c51e5606",
   "metadata": {
    "execution": {
     "iopub.execute_input": "2023-11-07T21:49:24.993362Z",
     "iopub.status.busy": "2023-11-07T21:49:24.992868Z",
     "iopub.status.idle": "2023-11-07T21:49:24.996353Z",
     "shell.execute_reply": "2023-11-07T21:49:24.995652Z"
    },
    "slideshow": {
     "slide_type": "fragment"
    }
   },
   "outputs": [],
   "source": [
    "a.size = 1"
   ]
  },
  {
   "cell_type": "code",
   "execution_count": 18,
   "id": "9db2f043",
   "metadata": {
    "execution": {
     "iopub.execute_input": "2023-11-07T21:49:25.000120Z",
     "iopub.status.busy": "2023-11-07T21:49:24.999577Z",
     "iopub.status.idle": "2023-11-07T21:49:25.168078Z",
     "shell.execute_reply": "2023-11-07T21:49:25.166375Z"
    },
    "slideshow": {
     "slide_type": "fragment"
    }
   },
   "outputs": [
    {
     "ename": "TypeError",
     "evalue": "'int' object is not callable",
     "output_type": "error",
     "traceback": [
      "\u001b[0;31m---------------------------------------------------------------------------\u001b[0m",
      "\u001b[0;31mTypeError\u001b[0m                                 Traceback (most recent call last)",
      "Cell \u001b[0;32mIn[18], line 1\u001b[0m\n\u001b[0;32m----> 1\u001b[0m \u001b[43ma\u001b[49m\u001b[38;5;241;43m.\u001b[39;49m\u001b[43msize\u001b[49m\u001b[43m(\u001b[49m\u001b[43m)\u001b[49m \u001b[38;5;66;03m# now gives an error\u001b[39;00m\n",
      "\u001b[0;31mTypeError\u001b[0m: 'int' object is not callable"
     ]
    }
   ],
   "source": [
    "a.size() # now gives an error"
   ]
  },
  {
   "cell_type": "markdown",
   "id": "006b60e3",
   "metadata": {
    "slideshow": {
     "slide_type": "slide"
    }
   },
   "source": [
    "## Another pitfall"
   ]
  },
  {
   "cell_type": "code",
   "execution_count": 19,
   "id": "99cff109",
   "metadata": {
    "execution": {
     "iopub.execute_input": "2023-11-07T21:49:25.172794Z",
     "iopub.status.busy": "2023-11-07T21:49:25.172374Z",
     "iopub.status.idle": "2023-11-07T21:49:25.177129Z",
     "shell.execute_reply": "2023-11-07T21:49:25.176474Z"
    },
    "slideshow": {
     "slide_type": "fragment"
    }
   },
   "outputs": [],
   "source": [
    "class Dog:\n",
    "    \"\"\"The Dog Who Wouldn't Be (a tribute to Farley Mowat)\"\"\"\n",
    "\n",
    "    tricks = []\n",
    "\n",
    "    def __init__(self, name):\n",
    "        self.name = name\n",
    "\n",
    "    def add_trick(self, trick):\n",
    "        self.tricks.append(trick)"
   ]
  },
  {
   "cell_type": "code",
   "execution_count": 20,
   "id": "16f1f06c",
   "metadata": {
    "execution": {
     "iopub.execute_input": "2023-11-07T21:49:25.180819Z",
     "iopub.status.busy": "2023-11-07T21:49:25.180439Z",
     "iopub.status.idle": "2023-11-07T21:49:25.184058Z",
     "shell.execute_reply": "2023-11-07T21:49:25.183324Z"
    },
    "slideshow": {
     "slide_type": "subslide"
    }
   },
   "outputs": [],
   "source": [
    "f = Dog(\"Floppy\")\n",
    "p = Dog(\"Ping\")"
   ]
  },
  {
   "cell_type": "code",
   "execution_count": 21,
   "id": "6a1e6e9a",
   "metadata": {
    "execution": {
     "iopub.execute_input": "2023-11-07T21:49:25.187787Z",
     "iopub.status.busy": "2023-11-07T21:49:25.187447Z",
     "iopub.status.idle": "2023-11-07T21:49:25.190922Z",
     "shell.execute_reply": "2023-11-07T21:49:25.190262Z"
    },
    "slideshow": {
     "slide_type": "fragment"
    }
   },
   "outputs": [],
   "source": [
    "f.add_trick(\"stores everything\")\n",
    "p.add_trick(\"barks loudly\")"
   ]
  },
  {
   "cell_type": "code",
   "execution_count": 22,
   "id": "74d65063",
   "metadata": {
    "execution": {
     "iopub.execute_input": "2023-11-07T21:49:25.194711Z",
     "iopub.status.busy": "2023-11-07T21:49:25.194132Z",
     "iopub.status.idle": "2023-11-07T21:49:25.198599Z",
     "shell.execute_reply": "2023-11-07T21:49:25.197886Z"
    },
    "slideshow": {
     "slide_type": "fragment"
    }
   },
   "outputs": [
    {
     "data": {
      "text/plain": [
       "['stores everything', 'barks loudly']"
      ]
     },
     "execution_count": 22,
     "metadata": {},
     "output_type": "execute_result"
    }
   ],
   "source": [
    "p.tricks # unexpected sharing"
   ]
  },
  {
   "cell_type": "markdown",
   "id": "65061e23",
   "metadata": {
    "slideshow": {
     "slide_type": "subslide"
    }
   },
   "source": [
    "* Class variables shared by all instances\n",
    "* Instead, one should use an instance variable"
   ]
  },
  {
   "cell_type": "code",
   "execution_count": 23,
   "id": "b2d06313",
   "metadata": {
    "execution": {
     "iopub.execute_input": "2023-11-07T21:49:25.202739Z",
     "iopub.status.busy": "2023-11-07T21:49:25.202359Z",
     "iopub.status.idle": "2023-11-07T21:49:25.206740Z",
     "shell.execute_reply": "2023-11-07T21:49:25.206060Z"
    },
    "slideshow": {
     "slide_type": "fragment"
    }
   },
   "outputs": [],
   "source": [
    "class Dog:\n",
    "    \"\"\"Another Dog Who Wouldn't Be\"\"\"\n",
    "\n",
    "    def __init__(self, name):\n",
    "        self.name = name\n",
    "        self.tricks = []    # creates a new empty list for each dog\n",
    "\n",
    "    def add_trick(self, trick):\n",
    "        self.tricks.append(trick)"
   ]
  },
  {
   "cell_type": "code",
   "execution_count": 24,
   "id": "fcd3f99d",
   "metadata": {
    "execution": {
     "iopub.execute_input": "2023-11-07T21:49:25.210337Z",
     "iopub.status.busy": "2023-11-07T21:49:25.210051Z",
     "iopub.status.idle": "2023-11-07T21:49:25.213767Z",
     "shell.execute_reply": "2023-11-07T21:49:25.213062Z"
    },
    "slideshow": {
     "slide_type": "subslide"
    }
   },
   "outputs": [],
   "source": [
    "f = Dog(\"Floppy\")\n",
    "p = Dog(\"Ping\")\n",
    "f.add_trick(\"stores everything\")\n",
    "p.add_trick(\"barks loudly\")"
   ]
  },
  {
   "cell_type": "code",
   "execution_count": 25,
   "id": "d7526241",
   "metadata": {
    "execution": {
     "iopub.execute_input": "2023-11-07T21:49:25.217271Z",
     "iopub.status.busy": "2023-11-07T21:49:25.216970Z",
     "iopub.status.idle": "2023-11-07T21:49:25.221035Z",
     "shell.execute_reply": "2023-11-07T21:49:25.220399Z"
    },
    "slideshow": {
     "slide_type": "fragment"
    }
   },
   "outputs": [
    {
     "data": {
      "text/plain": [
       "['stores everything']"
      ]
     },
     "execution_count": 25,
     "metadata": {},
     "output_type": "execute_result"
    }
   ],
   "source": [
    "f.tricks"
   ]
  },
  {
   "cell_type": "code",
   "execution_count": 26,
   "id": "81040c44",
   "metadata": {
    "execution": {
     "iopub.execute_input": "2023-11-07T21:49:25.224711Z",
     "iopub.status.busy": "2023-11-07T21:49:25.224118Z",
     "iopub.status.idle": "2023-11-07T21:49:25.228528Z",
     "shell.execute_reply": "2023-11-07T21:49:25.227884Z"
    },
    "slideshow": {
     "slide_type": "fragment"
    }
   },
   "outputs": [
    {
     "data": {
      "text/plain": [
       "['barks loudly']"
      ]
     },
     "execution_count": 26,
     "metadata": {},
     "output_type": "execute_result"
    }
   ],
   "source": [
    "p.tricks"
   ]
  },
  {
   "cell_type": "markdown",
   "id": "5a1b7470",
   "metadata": {
    "slideshow": {
     "slide_type": "slide"
    }
   },
   "source": [
    "## Methods can call other methods"
   ]
  },
  {
   "cell_type": "code",
   "execution_count": 27,
   "id": "3196a42e",
   "metadata": {
    "execution": {
     "iopub.execute_input": "2023-11-07T21:49:25.232242Z",
     "iopub.status.busy": "2023-11-07T21:49:25.231888Z",
     "iopub.status.idle": "2023-11-07T21:49:25.236233Z",
     "shell.execute_reply": "2023-11-07T21:49:25.235552Z"
    },
    "slideshow": {
     "slide_type": "fragment"
    }
   },
   "outputs": [],
   "source": [
    "class Bag:\n",
    "\n",
    "    def __init__(self):\n",
    "        self.data = []\n",
    "    \n",
    "    def add(self, x):\n",
    "        self.data.append(x)\n",
    "    \n",
    "    def addtwice(self, x):\n",
    "        self.add(x)\n",
    "        self.add(x)\n"
   ]
  },
  {
   "cell_type": "code",
   "execution_count": 28,
   "id": "b0311af7",
   "metadata": {
    "execution": {
     "iopub.execute_input": "2023-11-07T21:49:25.240053Z",
     "iopub.status.busy": "2023-11-07T21:49:25.239713Z",
     "iopub.status.idle": "2023-11-07T21:49:25.243121Z",
     "shell.execute_reply": "2023-11-07T21:49:25.242416Z"
    },
    "slideshow": {
     "slide_type": "slide"
    }
   },
   "outputs": [],
   "source": [
    "a = Bag()"
   ]
  },
  {
   "cell_type": "code",
   "execution_count": 29,
   "id": "e8393c66",
   "metadata": {
    "execution": {
     "iopub.execute_input": "2023-11-07T21:49:25.246606Z",
     "iopub.status.busy": "2023-11-07T21:49:25.246214Z",
     "iopub.status.idle": "2023-11-07T21:49:25.250471Z",
     "shell.execute_reply": "2023-11-07T21:49:25.249792Z"
    },
    "slideshow": {
     "slide_type": "fragment"
    }
   },
   "outputs": [
    {
     "data": {
      "text/plain": [
       "[]"
      ]
     },
     "execution_count": 29,
     "metadata": {},
     "output_type": "execute_result"
    }
   ],
   "source": [
    "a.data"
   ]
  },
  {
   "cell_type": "code",
   "execution_count": 30,
   "id": "3a978b9b",
   "metadata": {
    "execution": {
     "iopub.execute_input": "2023-11-07T21:49:25.254260Z",
     "iopub.status.busy": "2023-11-07T21:49:25.253754Z",
     "iopub.status.idle": "2023-11-07T21:49:25.257245Z",
     "shell.execute_reply": "2023-11-07T21:49:25.256583Z"
    },
    "slideshow": {
     "slide_type": "fragment"
    }
   },
   "outputs": [],
   "source": [
    "a.add(2)"
   ]
  },
  {
   "cell_type": "code",
   "execution_count": 31,
   "id": "a072b792",
   "metadata": {
    "execution": {
     "iopub.execute_input": "2023-11-07T21:49:25.261075Z",
     "iopub.status.busy": "2023-11-07T21:49:25.260702Z",
     "iopub.status.idle": "2023-11-07T21:49:25.265049Z",
     "shell.execute_reply": "2023-11-07T21:49:25.264337Z"
    },
    "slideshow": {
     "slide_type": "fragment"
    }
   },
   "outputs": [
    {
     "data": {
      "text/plain": [
       "[2]"
      ]
     },
     "execution_count": 31,
     "metadata": {},
     "output_type": "execute_result"
    }
   ],
   "source": [
    "a.data"
   ]
  },
  {
   "cell_type": "code",
   "execution_count": 32,
   "id": "13e14c11",
   "metadata": {
    "execution": {
     "iopub.execute_input": "2023-11-07T21:49:25.268828Z",
     "iopub.status.busy": "2023-11-07T21:49:25.268520Z",
     "iopub.status.idle": "2023-11-07T21:49:25.271855Z",
     "shell.execute_reply": "2023-11-07T21:49:25.271234Z"
    },
    "slideshow": {
     "slide_type": "fragment"
    }
   },
   "outputs": [],
   "source": [
    "a.addtwice(1)"
   ]
  },
  {
   "cell_type": "code",
   "execution_count": 33,
   "id": "15e2764d",
   "metadata": {
    "execution": {
     "iopub.execute_input": "2023-11-07T21:49:25.275382Z",
     "iopub.status.busy": "2023-11-07T21:49:25.275052Z",
     "iopub.status.idle": "2023-11-07T21:49:25.279393Z",
     "shell.execute_reply": "2023-11-07T21:49:25.278690Z"
    },
    "slideshow": {
     "slide_type": "fragment"
    }
   },
   "outputs": [
    {
     "data": {
      "text/plain": [
       "[2, 1, 1]"
      ]
     },
     "execution_count": 33,
     "metadata": {},
     "output_type": "execute_result"
    }
   ],
   "source": [
    "a.data"
   ]
  },
  {
   "cell_type": "markdown",
   "id": "394656ca",
   "metadata": {
    "slideshow": {
     "slide_type": "slide"
    }
   },
   "source": [
    "# Using `pass`\n",
    "* Create an empty employee record"
   ]
  },
  {
   "cell_type": "code",
   "execution_count": 34,
   "id": "68569a63",
   "metadata": {
    "execution": {
     "iopub.execute_input": "2023-11-07T21:49:25.283107Z",
     "iopub.status.busy": "2023-11-07T21:49:25.282787Z",
     "iopub.status.idle": "2023-11-07T21:49:25.286082Z",
     "shell.execute_reply": "2023-11-07T21:49:25.285402Z"
    },
    "slideshow": {
     "slide_type": "fragment"
    }
   },
   "outputs": [],
   "source": [
    "class Employee:\n",
    "    pass"
   ]
  },
  {
   "cell_type": "code",
   "execution_count": 35,
   "id": "086d389b",
   "metadata": {
    "execution": {
     "iopub.execute_input": "2023-11-07T21:49:25.289628Z",
     "iopub.status.busy": "2023-11-07T21:49:25.289336Z",
     "iopub.status.idle": "2023-11-07T21:49:25.292547Z",
     "shell.execute_reply": "2023-11-07T21:49:25.291916Z"
    },
    "slideshow": {
     "slide_type": "fragment"
    }
   },
   "outputs": [],
   "source": [
    "john = Employee()"
   ]
  },
  {
   "cell_type": "code",
   "execution_count": 36,
   "id": "7031962a",
   "metadata": {
    "execution": {
     "iopub.execute_input": "2023-11-07T21:49:25.296073Z",
     "iopub.status.busy": "2023-11-07T21:49:25.295731Z",
     "iopub.status.idle": "2023-11-07T21:49:25.299275Z",
     "shell.execute_reply": "2023-11-07T21:49:25.298663Z"
    },
    "slideshow": {
     "slide_type": "fragment"
    }
   },
   "outputs": [],
   "source": [
    "john.name = 'John Smith'; john.dept = 'computer lab'; john.salary = 30000"
   ]
  },
  {
   "cell_type": "code",
   "execution_count": 37,
   "id": "f9d5857e",
   "metadata": {
    "execution": {
     "iopub.execute_input": "2023-11-07T21:49:25.302838Z",
     "iopub.status.busy": "2023-11-07T21:49:25.302526Z",
     "iopub.status.idle": "2023-11-07T21:49:25.306743Z",
     "shell.execute_reply": "2023-11-07T21:49:25.306007Z"
    },
    "slideshow": {
     "slide_type": "fragment"
    }
   },
   "outputs": [
    {
     "data": {
      "text/plain": [
       "<__main__.Employee at 0x7f8418257940>"
      ]
     },
     "execution_count": 37,
     "metadata": {},
     "output_type": "execute_result"
    }
   ],
   "source": [
    "john"
   ]
  },
  {
   "cell_type": "code",
   "execution_count": 38,
   "id": "5e50b6a3",
   "metadata": {
    "execution": {
     "iopub.execute_input": "2023-11-07T21:49:25.310344Z",
     "iopub.status.busy": "2023-11-07T21:49:25.310054Z",
     "iopub.status.idle": "2023-11-07T21:49:25.314071Z",
     "shell.execute_reply": "2023-11-07T21:49:25.313469Z"
    },
    "slideshow": {
     "slide_type": "fragment"
    }
   },
   "outputs": [
    {
     "data": {
      "text/plain": [
       "'John Smith'"
      ]
     },
     "execution_count": 38,
     "metadata": {},
     "output_type": "execute_result"
    }
   ],
   "source": [
    "john.name"
   ]
  },
  {
   "cell_type": "markdown",
   "id": "7eaa7e2a",
   "metadata": {
    "slideshow": {
     "slide_type": "slide"
    }
   },
   "source": [
    "# Inheritance"
   ]
  },
  {
   "cell_type": "code",
   "execution_count": 39,
   "id": "8d9a084e",
   "metadata": {
    "execution": {
     "iopub.execute_input": "2023-11-07T21:49:25.317835Z",
     "iopub.status.busy": "2023-11-07T21:49:25.317500Z",
     "iopub.status.idle": "2023-11-07T21:49:25.322072Z",
     "shell.execute_reply": "2023-11-07T21:49:25.321430Z"
    },
    "slideshow": {
     "slide_type": "fragment"
    }
   },
   "outputs": [],
   "source": [
    "class Scientist:\n",
    "\n",
    "    def __init__(self, name, occupation):\n",
    "        self.name = name\n",
    "        self.occupation = occupation\n",
    "\n",
    "    def scientist_name(self):\n",
    "        return self.name\n",
    "    \n",
    "    def scientist_occupation(self):\n",
    "        return self.occupation\n",
    "\n",
    "    def __str__(self): # overwrite \"print\"\n",
    "        return \"%s is a %s\" % (self.name, self.occupation)"
   ]
  },
  {
   "cell_type": "code",
   "execution_count": 40,
   "id": "69713f82",
   "metadata": {
    "execution": {
     "iopub.execute_input": "2023-11-07T21:49:25.326047Z",
     "iopub.status.busy": "2023-11-07T21:49:25.325573Z",
     "iopub.status.idle": "2023-11-07T21:49:25.329277Z",
     "shell.execute_reply": "2023-11-07T21:49:25.328548Z"
    },
    "slideshow": {
     "slide_type": "subslide"
    }
   },
   "outputs": [],
   "source": [
    "alice = Scientist(\"Alice\", \"biochemist\")"
   ]
  },
  {
   "cell_type": "code",
   "execution_count": 41,
   "id": "c7ea2c03",
   "metadata": {
    "execution": {
     "iopub.execute_input": "2023-11-07T21:49:25.333058Z",
     "iopub.status.busy": "2023-11-07T21:49:25.332749Z",
     "iopub.status.idle": "2023-11-07T21:49:25.336850Z",
     "shell.execute_reply": "2023-11-07T21:49:25.336225Z"
    },
    "slideshow": {
     "slide_type": "fragment"
    }
   },
   "outputs": [
    {
     "data": {
      "text/plain": [
       "<__main__.Scientist at 0x7f840910a880>"
      ]
     },
     "execution_count": 41,
     "metadata": {},
     "output_type": "execute_result"
    }
   ],
   "source": [
    "alice"
   ]
  },
  {
   "cell_type": "code",
   "execution_count": 42,
   "id": "59d100f0",
   "metadata": {
    "execution": {
     "iopub.execute_input": "2023-11-07T21:49:25.340524Z",
     "iopub.status.busy": "2023-11-07T21:49:25.340193Z",
     "iopub.status.idle": "2023-11-07T21:49:25.343637Z",
     "shell.execute_reply": "2023-11-07T21:49:25.342989Z"
    },
    "slideshow": {
     "slide_type": "fragment"
    }
   },
   "outputs": [
    {
     "name": "stdout",
     "output_type": "stream",
     "text": [
      "Alice is a biochemist\n"
     ]
    }
   ],
   "source": [
    "print(alice)"
   ]
  },
  {
   "cell_type": "code",
   "execution_count": 43,
   "id": "8635e086",
   "metadata": {
    "execution": {
     "iopub.execute_input": "2023-11-07T21:49:25.347527Z",
     "iopub.status.busy": "2023-11-07T21:49:25.347148Z",
     "iopub.status.idle": "2023-11-07T21:49:25.351685Z",
     "shell.execute_reply": "2023-11-07T21:49:25.351056Z"
    },
    "slideshow": {
     "slide_type": "slide"
    }
   },
   "outputs": [
    {
     "name": "stdout",
     "output_type": "stream",
     "text": [
      "Help on Scientist in module __main__ object:\n",
      "\n",
      "class Scientist(builtins.object)\n",
      " |  Scientist(name, occupation)\n",
      " |  \n",
      " |  Methods defined here:\n",
      " |  \n",
      " |  __init__(self, name, occupation)\n",
      " |      Initialize self.  See help(type(self)) for accurate signature.\n",
      " |  \n",
      " |  __str__(self)\n",
      " |      Return str(self).\n",
      " |  \n",
      " |  scientist_name(self)\n",
      " |  \n",
      " |  scientist_occupation(self)\n",
      " |  \n",
      " |  ----------------------------------------------------------------------\n",
      " |  Data descriptors defined here:\n",
      " |  \n",
      " |  __dict__\n",
      " |      dictionary for instance variables (if defined)\n",
      " |  \n",
      " |  __weakref__\n",
      " |      list of weak references to the object (if defined)\n",
      "\n"
     ]
    }
   ],
   "source": [
    "help(alice)"
   ]
  },
  {
   "cell_type": "code",
   "execution_count": 44,
   "id": "7c4094a5",
   "metadata": {
    "execution": {
     "iopub.execute_input": "2023-11-07T21:49:25.355527Z",
     "iopub.status.busy": "2023-11-07T21:49:25.355200Z",
     "iopub.status.idle": "2023-11-07T21:49:25.359458Z",
     "shell.execute_reply": "2023-11-07T21:49:25.358848Z"
    },
    "slideshow": {
     "slide_type": "subslide"
    }
   },
   "outputs": [
    {
     "data": {
      "text/plain": [
       "'Alice'"
      ]
     },
     "execution_count": 44,
     "metadata": {},
     "output_type": "execute_result"
    }
   ],
   "source": [
    "alice.scientist_name()"
   ]
  },
  {
   "cell_type": "code",
   "execution_count": 45,
   "id": "30071b58",
   "metadata": {
    "execution": {
     "iopub.execute_input": "2023-11-07T21:49:25.363267Z",
     "iopub.status.busy": "2023-11-07T21:49:25.362694Z",
     "iopub.status.idle": "2023-11-07T21:49:25.367143Z",
     "shell.execute_reply": "2023-11-07T21:49:25.366466Z"
    },
    "slideshow": {
     "slide_type": "fragment"
    }
   },
   "outputs": [
    {
     "data": {
      "text/plain": [
       "'biochemist'"
      ]
     },
     "execution_count": 45,
     "metadata": {},
     "output_type": "execute_result"
    }
   ],
   "source": [
    "alice.scientist_occupation()"
   ]
  },
  {
   "cell_type": "code",
   "execution_count": 46,
   "id": "eb9371e3",
   "metadata": {
    "execution": {
     "iopub.execute_input": "2023-11-07T21:49:25.370788Z",
     "iopub.status.busy": "2023-11-07T21:49:25.370420Z",
     "iopub.status.idle": "2023-11-07T21:49:25.375417Z",
     "shell.execute_reply": "2023-11-07T21:49:25.374514Z"
    },
    "slideshow": {
     "slide_type": "subslide"
    }
   },
   "outputs": [],
   "source": [
    "class Algebraist(Scientist):\n",
    "    \"\"\"All algebraists are mathematicians (?) and may be able to program\"\"\"\n",
    "    def __init__(self, name, can_code):\n",
    "        Scientist.__init__(self, name, \"mathematician\")\n",
    "        self.is_coder = can_code\n",
    "\n",
    "    def can_code(self):\n",
    "        return self.is_coder\n",
    "    \n",
    "    def __str__(self):\n",
    "        if self.is_coder is True:\n",
    "            return \"%s is a %s who can write programs\" % (self.name, self.occupation)\n",
    "        else:\n",
    "            return \"%s is a %s who can not write programs\" % (self.name, self.occupation)\n"
   ]
  },
  {
   "cell_type": "code",
   "execution_count": 47,
   "id": "0e702a9f",
   "metadata": {
    "execution": {
     "iopub.execute_input": "2023-11-07T21:49:25.379076Z",
     "iopub.status.busy": "2023-11-07T21:49:25.378715Z",
     "iopub.status.idle": "2023-11-07T21:49:25.382181Z",
     "shell.execute_reply": "2023-11-07T21:49:25.381551Z"
    },
    "slideshow": {
     "slide_type": "slide"
    }
   },
   "outputs": [],
   "source": [
    "bob = Algebraist(\"Bob\", False)"
   ]
  },
  {
   "cell_type": "code",
   "execution_count": 48,
   "id": "6ab523c5",
   "metadata": {
    "execution": {
     "iopub.execute_input": "2023-11-07T21:49:25.385966Z",
     "iopub.status.busy": "2023-11-07T21:49:25.385658Z",
     "iopub.status.idle": "2023-11-07T21:49:25.389864Z",
     "shell.execute_reply": "2023-11-07T21:49:25.389219Z"
    },
    "slideshow": {
     "slide_type": "fragment"
    }
   },
   "outputs": [
    {
     "data": {
      "text/plain": [
       "'Bob'"
      ]
     },
     "execution_count": 48,
     "metadata": {},
     "output_type": "execute_result"
    }
   ],
   "source": [
    "bob.scientist_name()"
   ]
  },
  {
   "cell_type": "code",
   "execution_count": 49,
   "id": "92122ca8",
   "metadata": {
    "execution": {
     "iopub.execute_input": "2023-11-07T21:49:25.393560Z",
     "iopub.status.busy": "2023-11-07T21:49:25.393192Z",
     "iopub.status.idle": "2023-11-07T21:49:25.396564Z",
     "shell.execute_reply": "2023-11-07T21:49:25.395982Z"
    },
    "slideshow": {
     "slide_type": "fragment"
    }
   },
   "outputs": [],
   "source": [
    "clara = Algebraist(\"Clara\", True)"
   ]
  },
  {
   "cell_type": "code",
   "execution_count": 50,
   "id": "673f892d",
   "metadata": {
    "execution": {
     "iopub.execute_input": "2023-11-07T21:49:25.400187Z",
     "iopub.status.busy": "2023-11-07T21:49:25.399893Z",
     "iopub.status.idle": "2023-11-07T21:49:25.403418Z",
     "shell.execute_reply": "2023-11-07T21:49:25.402829Z"
    },
    "slideshow": {
     "slide_type": "fragment"
    }
   },
   "outputs": [
    {
     "name": "stdout",
     "output_type": "stream",
     "text": [
      "Bob is a mathematician who can not write programs\n"
     ]
    }
   ],
   "source": [
    "print(bob)"
   ]
  },
  {
   "cell_type": "code",
   "execution_count": 51,
   "id": "71f011c6",
   "metadata": {
    "execution": {
     "iopub.execute_input": "2023-11-07T21:49:25.407176Z",
     "iopub.status.busy": "2023-11-07T21:49:25.406795Z",
     "iopub.status.idle": "2023-11-07T21:49:25.410382Z",
     "shell.execute_reply": "2023-11-07T21:49:25.409772Z"
    },
    "slideshow": {
     "slide_type": "fragment"
    }
   },
   "outputs": [
    {
     "name": "stdout",
     "output_type": "stream",
     "text": [
      "Clara is a mathematician who can write programs\n"
     ]
    }
   ],
   "source": [
    "print(clara)"
   ]
  },
  {
   "cell_type": "code",
   "execution_count": 52,
   "id": "e2c3452a",
   "metadata": {
    "execution": {
     "iopub.execute_input": "2023-11-07T21:49:25.414299Z",
     "iopub.status.busy": "2023-11-07T21:49:25.413921Z",
     "iopub.status.idle": "2023-11-07T21:49:25.418153Z",
     "shell.execute_reply": "2023-11-07T21:49:25.417538Z"
    },
    "slideshow": {
     "slide_type": "fragment"
    }
   },
   "outputs": [
    {
     "data": {
      "text/plain": [
       "False"
      ]
     },
     "execution_count": 52,
     "metadata": {},
     "output_type": "execute_result"
    }
   ],
   "source": [
    "bob.can_code()"
   ]
  },
  {
   "cell_type": "code",
   "execution_count": 53,
   "id": "44cdd99a",
   "metadata": {
    "execution": {
     "iopub.execute_input": "2023-11-07T21:49:25.421555Z",
     "iopub.status.busy": "2023-11-07T21:49:25.421185Z",
     "iopub.status.idle": "2023-11-07T21:49:25.425874Z",
     "shell.execute_reply": "2023-11-07T21:49:25.425176Z"
    },
    "scrolled": true,
    "slideshow": {
     "slide_type": "slide"
    }
   },
   "outputs": [
    {
     "name": "stdout",
     "output_type": "stream",
     "text": [
      "Help on Algebraist in module __main__ object:\n",
      "\n",
      "class Algebraist(Scientist)\n",
      " |  Algebraist(name, can_code)\n",
      " |  \n",
      " |  All algebraists are mathematicians (?) and may be able to program\n",
      " |  \n",
      " |  Method resolution order:\n",
      " |      Algebraist\n",
      " |      Scientist\n",
      " |      builtins.object\n",
      " |  \n",
      " |  Methods defined here:\n",
      " |  \n",
      " |  __init__(self, name, can_code)\n",
      " |      Initialize self.  See help(type(self)) for accurate signature.\n",
      " |  \n",
      " |  __str__(self)\n",
      " |      Return str(self).\n",
      " |  \n",
      " |  can_code(self)\n",
      " |  \n",
      " |  ----------------------------------------------------------------------\n",
      " |  Methods inherited from Scientist:\n",
      " |  \n",
      " |  scientist_name(self)\n",
      " |  \n",
      " |  scientist_occupation(self)\n",
      " |  \n",
      " |  ----------------------------------------------------------------------\n",
      " |  Data descriptors inherited from Scientist:\n",
      " |  \n",
      " |  __dict__\n",
      " |      dictionary for instance variables (if defined)\n",
      " |  \n",
      " |  __weakref__\n",
      " |      list of weak references to the object (if defined)\n",
      "\n"
     ]
    }
   ],
   "source": [
    "help(bob) # this shows how methods are resolved and inherited"
   ]
  },
  {
   "cell_type": "code",
   "execution_count": 54,
   "id": "219a902a",
   "metadata": {
    "execution": {
     "iopub.execute_input": "2023-11-07T21:49:25.429567Z",
     "iopub.status.busy": "2023-11-07T21:49:25.429263Z",
     "iopub.status.idle": "2023-11-07T21:49:25.432962Z",
     "shell.execute_reply": "2023-11-07T21:49:25.432257Z"
    },
    "slideshow": {
     "slide_type": "slide"
    }
   },
   "outputs": [
    {
     "name": "stdout",
     "output_type": "stream",
     "text": [
      "Alice is a scientist\n"
     ]
    }
   ],
   "source": [
    "if (isinstance(alice, Scientist)):\n",
    "    print(\"Alice is a scientist\")"
   ]
  },
  {
   "cell_type": "code",
   "execution_count": 55,
   "id": "fb3e7d18",
   "metadata": {
    "execution": {
     "iopub.execute_input": "2023-11-07T21:49:25.436671Z",
     "iopub.status.busy": "2023-11-07T21:49:25.436342Z",
     "iopub.status.idle": "2023-11-07T21:49:25.440260Z",
     "shell.execute_reply": "2023-11-07T21:49:25.439467Z"
    },
    "slideshow": {
     "slide_type": "fragment"
    }
   },
   "outputs": [
    {
     "name": "stdout",
     "output_type": "stream",
     "text": [
      "Bob is a scientist\n"
     ]
    }
   ],
   "source": [
    "if (isinstance(bob, Scientist)):\n",
    "    print(\"Bob is a scientist\")"
   ]
  },
  {
   "cell_type": "code",
   "execution_count": 56,
   "id": "56b5d6b5",
   "metadata": {
    "execution": {
     "iopub.execute_input": "2023-11-07T21:49:25.444152Z",
     "iopub.status.busy": "2023-11-07T21:49:25.443781Z",
     "iopub.status.idle": "2023-11-07T21:49:25.447303Z",
     "shell.execute_reply": "2023-11-07T21:49:25.446683Z"
    },
    "slideshow": {
     "slide_type": "fragment"
    }
   },
   "outputs": [
    {
     "name": "stdout",
     "output_type": "stream",
     "text": [
      "Alice is not an algebraist\n"
     ]
    }
   ],
   "source": [
    "if not (isinstance(alice, Algebraist)):\n",
    "    print(\"Alice is not an algebraist\")"
   ]
  },
  {
   "cell_type": "code",
   "execution_count": 57,
   "id": "05b8930b",
   "metadata": {
    "execution": {
     "iopub.execute_input": "2023-11-07T21:49:25.451627Z",
     "iopub.status.busy": "2023-11-07T21:49:25.451039Z",
     "iopub.status.idle": "2023-11-07T21:49:25.455173Z",
     "shell.execute_reply": "2023-11-07T21:49:25.454405Z"
    },
    "slideshow": {
     "slide_type": "fragment"
    }
   },
   "outputs": [
    {
     "name": "stdout",
     "output_type": "stream",
     "text": [
      "Bob is an algebraist\n"
     ]
    }
   ],
   "source": [
    "if (isinstance(bob, Algebraist)):\n",
    "    print(\"Bob is an algebraist\")"
   ]
  },
  {
   "cell_type": "code",
   "execution_count": 58,
   "id": "c01e21d0",
   "metadata": {
    "execution": {
     "iopub.execute_input": "2023-11-07T21:49:25.458759Z",
     "iopub.status.busy": "2023-11-07T21:49:25.458480Z",
     "iopub.status.idle": "2023-11-07T21:49:25.462087Z",
     "shell.execute_reply": "2023-11-07T21:49:25.461403Z"
    },
    "slideshow": {
     "slide_type": "fragment"
    }
   },
   "outputs": [
    {
     "name": "stdout",
     "output_type": "stream",
     "text": [
      "Clara is an algebraist\n"
     ]
    }
   ],
   "source": [
    "if (isinstance(clara, Algebraist)):\n",
    "    print(\"Clara is an algebraist\")"
   ]
  },
  {
   "cell_type": "markdown",
   "id": "66022b9b",
   "metadata": {
    "slideshow": {
     "slide_type": "slide"
    }
   },
   "source": [
    "* Multiple inheritance: https://docs.python.org/3.9/tutorial/classes.html#multiple-inheritance"
   ]
  },
  {
   "cell_type": "markdown",
   "id": "c6df4fdd",
   "metadata": {
    "slideshow": {
     "slide_type": "slide"
    }
   },
   "source": [
    "## Exercise\n",
    "Go back to your solution to the exercise in the first Classes lecture.\n",
    "- Add code so that the student is displayed nicely when passed to `print`\n",
    "- Add a subclass `OnlineStudent` which also contains information on where the student lives\n",
    "- Test your code!"
   ]
  },
  {
   "cell_type": "markdown",
   "id": "bafec644",
   "metadata": {
    "slideshow": {
     "slide_type": "skip"
    }
   },
   "source": [
    "## Solution"
   ]
  },
  {
   "cell_type": "code",
   "execution_count": 59,
   "id": "8267b95a",
   "metadata": {
    "execution": {
     "iopub.execute_input": "2023-11-07T21:49:25.465985Z",
     "iopub.status.busy": "2023-11-07T21:49:25.465701Z",
     "iopub.status.idle": "2023-11-07T21:49:25.472393Z",
     "shell.execute_reply": "2023-11-07T21:49:25.471613Z"
    },
    "slideshow": {
     "slide_type": "skip"
    }
   },
   "outputs": [
    {
     "name": "stdout",
     "output_type": "stream",
     "text": [
      "<Michael Young: student studying 4 modules>\n",
      "Mexico\n"
     ]
    }
   ],
   "source": [
    "class Student:\n",
    "    def __init__(self, name, date_of_birth, modules):\n",
    "        self.name = name\n",
    "        self.date_of_birth = date_of_birth\n",
    "        self.modules = modules\n",
    "        \n",
    "    def print_details(self):\n",
    "        print(\n",
    "            self.name,\n",
    "            \"was born on\",\n",
    "            self.date_of_birth, \n",
    "            \"and is taking\",\n",
    "            \", \".join(self.modules[:-1]),\n",
    "            \"and\",\n",
    "            self.modules[-1],\n",
    "        )\n",
    "        \n",
    "    def __str__(self):\n",
    "        return f\"<{self.name}: student studying {len(self.modules)} modules>\"\n",
    "\n",
    "\n",
    "class OnlineStudent(Student):\n",
    "    def __init__(self, name, date_of_birth, modules, location):\n",
    "        Student.__init__(self, name, date_of_birth, modules)\n",
    "        self.location = location\n",
    "\n",
    "\n",
    "michael = OnlineStudent(\"Michael Young\", \"19/04/1991\", [\"CS5901\", \"CS5902\", \"CS5905\", \"CS5999\"], \"Mexico\")\n",
    "print(michael)\n",
    "print(michael.location)"
   ]
  }
 ],
 "metadata": {
  "celltoolbar": "Slideshow",
  "kernelspec": {
   "display_name": "Python 3 (ipykernel)",
   "language": "python",
   "name": "python3"
  },
  "language_info": {
   "codemirror_mode": {
    "name": "ipython",
    "version": 3
   },
   "file_extension": ".py",
   "mimetype": "text/x-python",
   "name": "python",
   "nbconvert_exporter": "python",
   "pygments_lexer": "ipython3",
   "version": "3.9.1"
  }
 },
 "nbformat": 4,
 "nbformat_minor": 5
}
