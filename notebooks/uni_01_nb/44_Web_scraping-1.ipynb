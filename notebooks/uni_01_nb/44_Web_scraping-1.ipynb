{
 "cells": [
  {
   "cell_type": "markdown",
   "id": "d9b9160f",
   "metadata": {
    "slideshow": {
     "slide_type": "slide"
    }
   },
   "source": [
    "# Web scraping\n",
    "\n",
    "Programming in Python\n",
    "\n",
    "School of Computer Science, University of St Andrews"
   ]
  },
  {
   "cell_type": "markdown",
   "id": "c704677f",
   "metadata": {
    "slideshow": {
     "slide_type": "slide"
    }
   },
   "source": [
    "## Data on the web\n",
    "- There's a lot of *unstructured* data on the web\n",
    "- Placed on web pages for display, with no API\n",
    "- We may want to get this data automatically\n",
    "- Libraries exist to help us!"
   ]
  },
  {
   "cell_type": "markdown",
   "id": "58f5e305",
   "metadata": {
    "slideshow": {
     "slide_type": "slide"
    }
   },
   "source": [
    "## BeautifulSoup\n",
    "- Python library for scraping data: `bs4`\n",
    "- May need installation first\n",
    "- Allows us to search through the document tree"
   ]
  },
  {
   "cell_type": "markdown",
   "id": "562f115e",
   "metadata": {
    "slideshow": {
     "slide_type": "slide"
    }
   },
   "source": [
    "Let's open a page: https://www.st-andrews.ac.uk/computer-science/"
   ]
  },
  {
   "cell_type": "code",
   "execution_count": 1,
   "id": "62e29912",
   "metadata": {
    "slideshow": {
     "slide_type": "fragment"
    },
    "tags": []
   },
   "outputs": [],
   "source": [
    "from bs4 import BeautifulSoup\n",
    "from urllib.request import urlopen\n",
    "\n",
    "url = \"https://www.st-andrews.ac.uk/computer-science/\"\n",
    "page = urlopen(url)\n",
    "html = page.read().decode(\"utf-8\")\n",
    "soup = BeautifulSoup(html, \"html.parser\")"
   ]
  },
  {
   "cell_type": "code",
   "execution_count": 2,
   "id": "0cb13213",
   "metadata": {
    "scrolled": true,
    "slideshow": {
     "slide_type": "fragment"
    },
    "tags": []
   },
   "outputs": [
    {
     "data": {
      "text/plain": [
       "<title>School of Computer Science - University of St Andrews</title>"
      ]
     },
     "execution_count": 2,
     "metadata": {},
     "output_type": "execute_result"
    }
   ],
   "source": [
    "soup.title"
   ]
  },
  {
   "cell_type": "code",
   "execution_count": 3,
   "id": "6f71f5c8",
   "metadata": {
    "slideshow": {
     "slide_type": "fragment"
    },
    "tags": []
   },
   "outputs": [
    {
     "data": {
      "text/plain": [
       "'School of Computer Science - University of St Andrews'"
      ]
     },
     "execution_count": 3,
     "metadata": {},
     "output_type": "execute_result"
    }
   ],
   "source": [
    "soup.title.text"
   ]
  },
  {
   "cell_type": "code",
   "execution_count": 4,
   "id": "339f1b7a",
   "metadata": {
    "scrolled": true,
    "slideshow": {
     "slide_type": "subslide"
    },
    "tags": []
   },
   "outputs": [
    {
     "name": "stdout",
     "output_type": "stream",
     "text": [
      "\n",
      "\n",
      "\n",
      "\n",
      "\n",
      "\n",
      "\n",
      "School of Computer Science - University of St Andrews\n",
      "\n",
      "\n",
      "\n",
      "\n",
      "\n",
      "\n",
      "\n",
      "\n",
      "\n",
      "\n",
      "\n",
      "\n",
      "\n",
      "\n",
      "\n",
      "\n",
      "\n",
      "\n",
      "\n",
      "\n",
      "\n",
      "\n",
      "\n",
      "\n",
      "\n",
      "\n",
      "\n",
      "Skip to content\n",
      "\n",
      "Skip to content\n",
      "\n",
      "\n",
      "\n",
      "Current studentsCurrent staff\n",
      "\n",
      "\n",
      "University of St Andrews\n",
      "\n",
      "\n",
      "\n",
      "\n",
      "\n",
      "\n",
      "\n",
      "\n",
      "\n",
      "\n",
      "\n",
      "\n",
      "\n",
      "\n",
      "\n",
      "\n",
      "\n",
      "\n",
      "\n",
      "\n",
      "\n",
      "School of Computer Science\n",
      "\n",
      "\n",
      "\n",
      "\n",
      "Navigation \n",
      "PeopleProspective studentsAboutResearch EventsNews \n",
      "\n",
      "\n",
      "\n",
      "\n",
      "\n",
      "\n",
      "Build a smarter worldComputer science is more important than ever. Be part of building a more intelligent world through computing technology.  StudyResearch \n",
      "\n",
      "\n",
      "\n",
      "\n",
      "\n",
      "People\n",
      "\n",
      "\n",
      "\n",
      "Equality and diversity\n",
      "\n",
      "\n",
      "\n",
      "Research \n",
      "\n",
      "\n",
      "Latest School news\n",
      "\n",
      "\n",
      "All School news\n",
      "\n",
      "\n",
      "\n",
      "\n",
      "Fully-funded PhD scholarship in user experience design\n",
      "Applications are sought from passionate, creative and outgoing students interested in using their skills and interests in tabletop gaming in application to research in computer science, Human Computer Interaction, and User Experience design. This exciting PhD project will see the worlds of TTRPG and computing coincide to produce meaningful interactions to support the design, development […]\n",
      "\n",
      "Category\n",
      "\n",
      "\n",
      "\n",
      "\n",
      "\n",
      "\n",
      "\n",
      "Fully-funded PhD scholarship in Privacy and Trust on the Web\n",
      "As part of their efforts to enhance privacy and trust on the Web, many applications need to be able to determine whether or not a relationship exists between different entities. For example, it is desirable for web browsers to be able to determine that two domain names are under the same administrative control, such that […]\n",
      "\n",
      "Category\n",
      "\n",
      "\n",
      "\n",
      "\n",
      "\n",
      "\n",
      "\n",
      "Winter Graduation reception\n",
      "We would like to invite our graduating students and their guests to join us for a celebration in honour of their achievements. Please join us for a small reception with a glass of bubbly and some Fisher and Donaldson’s cakes. The event will take place on Tuesday, November 28th, between 12 noon and 2 p.m. […]\n",
      "\n",
      "Category\n",
      "\n",
      "\n",
      "\n",
      "\n",
      "\n",
      "\n",
      "\n",
      "\n",
      "\n",
      "\n",
      "Latest School events\n",
      "\n",
      "\n",
      "See all School events\n",
      "\n",
      "\n",
      "\n",
      "\n",
      "\n",
      "\n",
      "Doors Open @ Computer Science\n",
      "\n",
      "\n",
      "DateThursday 11 April 2024\n",
      "Time10:00 am to 04:00 pm\n",
      "LocationJack Cole Building\n",
      "\n",
      "\n",
      "\n",
      " \n",
      "\n",
      "\n",
      "\n",
      "\n",
      "\n",
      "\n",
      "\n",
      "\n",
      "\n",
      "\n",
      "\n",
      "Tools\n",
      "\n",
      "Search for courses\n",
      "\n",
      "School social media\n",
      "\n",
      "Twitter\n",
      "Facebook\n",
      "\n",
      "\n",
      "\n",
      "Navigation\n",
      "\n",
      "People\n",
      "Prospective students\n",
      "About the School\n",
      "Research\n",
      "\n",
      "\n",
      "\n",
      "\n",
      "Contact\n",
      "School of Computer ScienceUniversity of St AndrewsJack Cole BuildingNorth HaughSt Andrews KY16 9SX\n",
      "Phone: +44 (0)1334 46 3253Email: admin-cs@st-andrews.ac.uk\n",
      "\n",
      "\n",
      "\n",
      "\n",
      "\n",
      "\n",
      "\n",
      "\n",
      "© 2024 The University of St Andrews is a charity registered in Scotland, No: SC013532\n",
      "\n",
      "Cookie preferences\n",
      "Accessibility statement\n",
      "Terms and conditions\n",
      "Website help\n",
      "\n",
      "\n",
      "\n",
      "\n",
      "\n",
      "\n",
      "\n",
      "\n",
      "\n",
      "\n",
      "\n",
      "\n",
      "\n",
      "\n",
      "\n",
      "\n",
      "\n",
      "\n",
      "\n",
      " \n"
     ]
    }
   ],
   "source": [
    "print(soup.get_text())"
   ]
  },
  {
   "cell_type": "markdown",
   "id": "bb5e393e",
   "metadata": {
    "slideshow": {
     "slide_type": "slide"
    }
   },
   "source": [
    "## Search for a type of element"
   ]
  },
  {
   "cell_type": "code",
   "execution_count": 5,
   "id": "8c63d4a2",
   "metadata": {
    "slideshow": {
     "slide_type": "fragment"
    },
    "tags": []
   },
   "outputs": [
    {
     "name": "stdout",
     "output_type": "stream",
     "text": [
      "[<img alt=\"Students in the lab\" src=\"data:image/gif;base64,R0lGODlhAQABAAAAACH5BAEKAAEALAAAAAABAAEAAAICTAEAOw==\"/>, <img alt=\"Two academic staff in discussion\" class=\"lazyload\" data-src=\"/assets/university/schools/school-of-computer-science/images/cs-staff.jpg\" src=\"data:image/gif;base64,R0lGODlhAQABAAAAACH5BAEKAAEALAAAAAABAAEAAAICTAEAOw==\"/>, <img alt=\"Students and staff interacting\" class=\"lazyload\" data-src=\"/assets/university/schools/school-of-computer-science/images/students-staff-social-space.jpg\" src=\"data:image/gif;base64,R0lGODlhAQABAAAAACH5BAEKAAEALAAAAAABAAEAAAICTAEAOw==\"/>, <img alt=\"Staff and PGR students in discussion\" class=\"lazyload\" data-src=\"/assets/university/schools/school-of-computer-science/images/research-discussion-750x500.jpg\" src=\"data:image/gif;base64,R0lGODlhAQABAAAAACH5BAEKAAEALAAAAAABAAEAAAICTAEAOw==\"/>]\n"
     ]
    }
   ],
   "source": [
    "images = soup.find_all(\"img\")\n",
    "print(images)"
   ]
  },
  {
   "cell_type": "code",
   "execution_count": 6,
   "id": "cb8ca59f",
   "metadata": {
    "slideshow": {
     "slide_type": "subslide"
    },
    "tags": []
   },
   "outputs": [
    {
     "data": {
      "text/plain": [
       "<img alt=\"Students and staff interacting\" class=\"lazyload\" data-src=\"/assets/university/schools/school-of-computer-science/images/students-staff-social-space.jpg\" src=\"data:image/gif;base64,R0lGODlhAQABAAAAACH5BAEKAAEALAAAAAABAAEAAAICTAEAOw==\"/>"
      ]
     },
     "execution_count": 6,
     "metadata": {},
     "output_type": "execute_result"
    }
   ],
   "source": [
    "images[2]"
   ]
  },
  {
   "cell_type": "code",
   "execution_count": 7,
   "id": "4cda118f",
   "metadata": {
    "slideshow": {
     "slide_type": "fragment"
    },
    "tags": []
   },
   "outputs": [
    {
     "data": {
      "text/plain": [
       "'img'"
      ]
     },
     "execution_count": 7,
     "metadata": {},
     "output_type": "execute_result"
    }
   ],
   "source": [
    "images[2].name"
   ]
  },
  {
   "cell_type": "code",
   "execution_count": 8,
   "id": "b687e107",
   "metadata": {
    "slideshow": {
     "slide_type": "fragment"
    },
    "tags": []
   },
   "outputs": [
    {
     "data": {
      "text/plain": [
       "'Students and staff interacting'"
      ]
     },
     "execution_count": 8,
     "metadata": {},
     "output_type": "execute_result"
    }
   ],
   "source": [
    "images[2][\"alt\"]"
   ]
  },
  {
   "cell_type": "code",
   "execution_count": 9,
   "id": "8efb8f0b",
   "metadata": {
    "slideshow": {
     "slide_type": "subslide"
    },
    "tags": []
   },
   "outputs": [
    {
     "data": {
      "text/plain": [
       "'data:image/gif;base64,R0lGODlhAQABAAAAACH5BAEKAAEALAAAAAABAAEAAAICTAEAOw=='"
      ]
     },
     "execution_count": 9,
     "metadata": {},
     "output_type": "execute_result"
    }
   ],
   "source": [
    "images[2][\"src\"]"
   ]
  },
  {
   "cell_type": "code",
   "execution_count": 10,
   "id": "7b7a21c1",
   "metadata": {
    "scrolled": true,
    "slideshow": {
     "slide_type": "fragment"
    },
    "tags": []
   },
   "outputs": [
    {
     "data": {
      "text/plain": [
       "'/assets/university/schools/school-of-computer-science/images/students-staff-social-space.jpg'"
      ]
     },
     "execution_count": 10,
     "metadata": {},
     "output_type": "execute_result"
    }
   ],
   "source": [
    "images[2][\"data-src\"]"
   ]
  },
  {
   "cell_type": "markdown",
   "id": "42bf3b25",
   "metadata": {
    "slideshow": {
     "slide_type": "subslide"
    }
   },
   "source": [
    "![](https://www.st-andrews.ac.uk/assets/university/schools/school-of-computer-science/images/students-staff-social-space.jpg)"
   ]
  },
  {
   "cell_type": "markdown",
   "id": "9943fb84",
   "metadata": {
    "slideshow": {
     "slide_type": "slide"
    }
   },
   "source": [
    "## Example: find all links"
   ]
  },
  {
   "cell_type": "code",
   "execution_count": 11,
   "id": "cf9263a9",
   "metadata": {
    "slideshow": {
     "slide_type": "fragment"
    },
    "tags": []
   },
   "outputs": [
    {
     "name": "stdout",
     "output_type": "stream",
     "text": [
      "[<a href=\"#content-begin\">Skip to content</a>, <a href=\"#content-begin\">Skip to content</a>, <a class=\"audience\" href=\"https://info.cs.st-andrews.ac.uk\">Current students</a>, <a class=\"audience\" href=\"https://universityofstandrews907.sharepoint.com/sites/compsci\">Current staff</a>, <a aria-label=\"University of St Andrews\" href=\"https://www.st-andrews.ac.uk/\"><span>University of St Andrews</span></a>, <a href=\"/computer-science/\">School of Computer Science</a>, <a class=\"navigation-button\">Navigation <i class=\"chevron down\"></i></a>, <a href=\"/computer-science/people/\">People</a>, <a href=\"/computer-science/prospective/\">Prospective students</a>, <a href=\"/computer-science/about/\">About</a>, <a href=\"/computer-science/research/\">Research </a>, <a href=\"/computer-science/events/\">Events</a>, <a href=\"/computer-science/news/\">News</a>, <a class=\"btn btn-action\" href=\"/computer-science/prospective/\">  Study</a>, <a class=\"btn btn-action\" href=\"/computer-science/research/\">Research </a>, <a href=\"/computer-science/people/\"><span>People</span></a>, <a href=\"/computer-science/about/equality-diversity/\"><span>Equality and diversity</span></a>, <a href=\"/computer-science/research/\"><span>Research </span></a>, <a href=\"https://blogs.cs.st-andrews.ac.uk/csblog\" style=\"margin-bottom: 30px;\">All School news</a>, <a href=\"https://blogs.cs.st-andrews.ac.uk/csblog/2023/12/18/fully-funded-phd-scholarship-in-user-experience-design-roll-for-initiative/\">Fully-funded PhD scholarship in user experience design</a>, <a href=\"https://blogs.cs.st-andrews.ac.uk/csblog/2023/12/12/fully-funded-phd-scholarship-in-privacy-and-trust-on-the-web/\">Fully-funded PhD scholarship in Privacy and Trust on the Web</a>, <a href=\"https://blogs.cs.st-andrews.ac.uk/csblog/2023/11/27/winter-graduation-reception/\">Winter Graduation reception</a>, <a href=\"./events\">See all School events</a>, <a class=\"event-listing__details\" href=\"https://events.st-andrews.ac.uk/events/doors-open-computer-science/\">\n",
      "<h3 class=\"event-listing__heading\">Doors Open @ Computer Science</h3>\n",
      "</a>, <a href=\"/subjects/\">Search for courses</a>, <a href=\"https://twitter.com/StAndrewsCS\">Twitter</a>, <a href=\"https://www.facebook.com/StAndrewsCS\">Facebook</a>, <a href=\"/computer-science/people/\">People</a>, <a href=\"/computer-science/prospective/\">Prospective students</a>, <a href=\"/computer-science/about/\">About the School</a>, <a href=\"/computer-science/research/\">Research</a>, <a href=\"/computer-science/contact/\">Contact</a>, <a href=\"tel:+44%20(0)1334%2046 3253\">+44 (0)1334 46 3253</a>, <a href=\"mailto:admin-cs@st-andrews.ac.uk\">admin-cs@st-andrews.ac.uk</a>, <a aria-controls=\"ccc-module\" class=\"footer-links__link cookie-control__open\" tabindex=\"0\">Cookie preferences</a>, <a class=\"footer-links__link\" href=\"https://www.st-andrews.ac.uk/digital-standards/accessibility/accessibility-statement/\">Accessibility statement</a>, <a class=\"footer-links__link\" href=\"https://www.st-andrews.ac.uk/terms/\">Terms and conditions</a>, <a class=\"footer-links__link\" href=\"https://www.st-andrews.ac.uk/help/\">Website help</a>]\n"
     ]
    }
   ],
   "source": [
    "links = soup.find_all(\"a\")\n",
    "print(links)"
   ]
  },
  {
   "cell_type": "code",
   "execution_count": 12,
   "id": "f3f1f264",
   "metadata": {
    "slideshow": {
     "slide_type": "subslide"
    },
    "tags": []
   },
   "outputs": [
    {
     "data": {
      "text/plain": [
       "38"
      ]
     },
     "execution_count": 12,
     "metadata": {},
     "output_type": "execute_result"
    }
   ],
   "source": [
    "len(links)"
   ]
  },
  {
   "cell_type": "code",
   "execution_count": 13,
   "id": "3cf2e817",
   "metadata": {
    "slideshow": {
     "slide_type": "fragment"
    },
    "tags": []
   },
   "outputs": [
    {
     "data": {
      "text/plain": [
       "<a href=\"https://blogs.cs.st-andrews.ac.uk/csblog\" style=\"margin-bottom: 30px;\">All School news</a>"
      ]
     },
     "execution_count": 13,
     "metadata": {},
     "output_type": "execute_result"
    }
   ],
   "source": [
    "links[18]"
   ]
  },
  {
   "cell_type": "code",
   "execution_count": 14,
   "id": "bdb516d3",
   "metadata": {
    "slideshow": {
     "slide_type": "fragment"
    },
    "tags": []
   },
   "outputs": [
    {
     "data": {
      "text/plain": [
       "'a'"
      ]
     },
     "execution_count": 14,
     "metadata": {},
     "output_type": "execute_result"
    }
   ],
   "source": [
    "links[18].name"
   ]
  },
  {
   "cell_type": "code",
   "execution_count": 15,
   "id": "70de3584",
   "metadata": {
    "slideshow": {
     "slide_type": "fragment"
    },
    "tags": []
   },
   "outputs": [
    {
     "data": {
      "text/plain": [
       "'All School news'"
      ]
     },
     "execution_count": 15,
     "metadata": {},
     "output_type": "execute_result"
    }
   ],
   "source": [
    "links[18].text"
   ]
  },
  {
   "cell_type": "code",
   "execution_count": 16,
   "id": "1415bac2",
   "metadata": {
    "slideshow": {
     "slide_type": "fragment"
    },
    "tags": []
   },
   "outputs": [
    {
     "data": {
      "text/plain": [
       "'https://blogs.cs.st-andrews.ac.uk/csblog'"
      ]
     },
     "execution_count": 16,
     "metadata": {},
     "output_type": "execute_result"
    }
   ],
   "source": [
    "links[18][\"href\"]"
   ]
  },
  {
   "cell_type": "code",
   "execution_count": 17,
   "id": "c086e39f",
   "metadata": {
    "scrolled": true,
    "slideshow": {
     "slide_type": "subslide"
    },
    "tags": []
   },
   "outputs": [
    {
     "data": {
      "text/plain": [
       "['https://info.cs.st-andrews.ac.uk',\n",
       " 'https://universityofstandrews907.sharepoint.com/sites/compsci',\n",
       " 'https://www.st-andrews.ac.uk/',\n",
       " 'https://blogs.cs.st-andrews.ac.uk/csblog',\n",
       " 'https://blogs.cs.st-andrews.ac.uk/csblog/2023/12/18/fully-funded-phd-scholarship-in-user-experience-design-roll-for-initiative/',\n",
       " 'https://blogs.cs.st-andrews.ac.uk/csblog/2023/12/12/fully-funded-phd-scholarship-in-privacy-and-trust-on-the-web/',\n",
       " 'https://blogs.cs.st-andrews.ac.uk/csblog/2023/11/27/winter-graduation-reception/',\n",
       " 'https://events.st-andrews.ac.uk/events/doors-open-computer-science/',\n",
       " 'https://twitter.com/StAndrewsCS',\n",
       " 'https://www.facebook.com/StAndrewsCS',\n",
       " 'https://www.st-andrews.ac.uk/digital-standards/accessibility/accessibility-statement/',\n",
       " 'https://www.st-andrews.ac.uk/terms/',\n",
       " 'https://www.st-andrews.ac.uk/help/']"
      ]
     },
     "execution_count": 17,
     "metadata": {},
     "output_type": "execute_result"
    }
   ],
   "source": [
    "[link[\"href\"] for link in links if link.has_attr(\"href\") and link[\"href\"].startswith(\"http\")]"
   ]
  },
  {
   "cell_type": "markdown",
   "id": "3701ae2b",
   "metadata": {
    "slideshow": {
     "slide_type": "slide"
    }
   },
   "source": [
    "## Inspecting a particular area"
   ]
  },
  {
   "cell_type": "code",
   "execution_count": 18,
   "id": "63e96bc3",
   "metadata": {
    "slideshow": {
     "slide_type": "fragment"
    },
    "tags": []
   },
   "outputs": [],
   "source": [
    "divs = soup.find_all(\"div\", {\"class\": \"hero-section__content\"})"
   ]
  },
  {
   "cell_type": "code",
   "execution_count": 19,
   "id": "5ec694f1",
   "metadata": {
    "slideshow": {
     "slide_type": "fragment"
    },
    "tags": []
   },
   "outputs": [
    {
     "data": {
      "text/plain": [
       "1"
      ]
     },
     "execution_count": 19,
     "metadata": {},
     "output_type": "execute_result"
    }
   ],
   "source": [
    "len(divs)"
   ]
  },
  {
   "cell_type": "code",
   "execution_count": 20,
   "id": "671f3769",
   "metadata": {
    "scrolled": true,
    "slideshow": {
     "slide_type": "fragment"
    },
    "tags": []
   },
   "outputs": [
    {
     "name": "stdout",
     "output_type": "stream",
     "text": [
      "<div class=\"hero-section__content\"><h1 class=\"hero-section__heading\">Build a smarter world</h1><div class=\"hero-section__content-group\"><p class=\"hero-section__intro\">Computer science is more important than ever. Be part of building a more intelligent world through computing technology.</p><a class=\"btn btn-action\" href=\"/computer-science/prospective/\">  Study</a><a class=\"btn btn-action\" href=\"/computer-science/research/\">Research </a></div></div>\n"
     ]
    }
   ],
   "source": [
    "div = divs[0]\n",
    "print(div)"
   ]
  },
  {
   "cell_type": "code",
   "execution_count": 21,
   "id": "d209b3e3",
   "metadata": {
    "slideshow": {
     "slide_type": "subslide"
    },
    "tags": []
   },
   "outputs": [
    {
     "data": {
      "text/plain": [
       "['h1', 'div']"
      ]
     },
     "execution_count": 21,
     "metadata": {},
     "output_type": "execute_result"
    }
   ],
   "source": [
    "[child.name for child in div.children]"
   ]
  },
  {
   "cell_type": "code",
   "execution_count": 22,
   "id": "94075340",
   "metadata": {
    "slideshow": {
     "slide_type": "fragment"
    },
    "tags": []
   },
   "outputs": [],
   "source": [
    "heading = div.find(\"h1\")"
   ]
  },
  {
   "cell_type": "code",
   "execution_count": 23,
   "id": "744b5b04",
   "metadata": {
    "slideshow": {
     "slide_type": "fragment"
    },
    "tags": []
   },
   "outputs": [
    {
     "data": {
      "text/plain": [
       "'Build a smarter world'"
      ]
     },
     "execution_count": 23,
     "metadata": {},
     "output_type": "execute_result"
    }
   ],
   "source": [
    "heading.text"
   ]
  },
  {
   "cell_type": "code",
   "execution_count": 24,
   "id": "7e3cb6dd",
   "metadata": {
    "slideshow": {
     "slide_type": "subslide"
    },
    "tags": []
   },
   "outputs": [],
   "source": [
    "subdiv = div.find(\"div\")"
   ]
  },
  {
   "cell_type": "code",
   "execution_count": 25,
   "id": "882ff2ee",
   "metadata": {
    "slideshow": {
     "slide_type": "fragment"
    },
    "tags": []
   },
   "outputs": [
    {
     "data": {
      "text/plain": [
       "<div class=\"hero-section__content-group\"><p class=\"hero-section__intro\">Computer science is more important than ever. Be part of building a more intelligent world through computing technology.</p><a class=\"btn btn-action\" href=\"/computer-science/prospective/\">  Study</a><a class=\"btn btn-action\" href=\"/computer-science/research/\">Research </a></div>"
      ]
     },
     "execution_count": 25,
     "metadata": {},
     "output_type": "execute_result"
    }
   ],
   "source": [
    "subdiv"
   ]
  },
  {
   "cell_type": "code",
   "execution_count": 26,
   "id": "f9de1208",
   "metadata": {
    "slideshow": {
     "slide_type": "fragment"
    },
    "tags": []
   },
   "outputs": [
    {
     "data": {
      "text/plain": [
       "['p', 'a', 'a']"
      ]
     },
     "execution_count": 26,
     "metadata": {},
     "output_type": "execute_result"
    }
   ],
   "source": [
    "[child.name for child in subdiv.children]"
   ]
  },
  {
   "cell_type": "code",
   "execution_count": 27,
   "id": "e6907c3f",
   "metadata": {
    "slideshow": {
     "slide_type": "subslide"
    },
    "tags": []
   },
   "outputs": [],
   "source": [
    "link = div.find(\"a\")"
   ]
  },
  {
   "cell_type": "code",
   "execution_count": 28,
   "id": "393aceb8",
   "metadata": {
    "slideshow": {
     "slide_type": "fragment"
    },
    "tags": []
   },
   "outputs": [
    {
     "data": {
      "text/plain": [
       "'  Study'"
      ]
     },
     "execution_count": 28,
     "metadata": {},
     "output_type": "execute_result"
    }
   ],
   "source": [
    "link.text"
   ]
  },
  {
   "cell_type": "code",
   "execution_count": 29,
   "id": "20589d32",
   "metadata": {
    "scrolled": true,
    "slideshow": {
     "slide_type": "fragment"
    },
    "tags": []
   },
   "outputs": [
    {
     "data": {
      "text/plain": [
       "'/computer-science/prospective/'"
      ]
     },
     "execution_count": 29,
     "metadata": {},
     "output_type": "execute_result"
    }
   ],
   "source": [
    "link[\"href\"]"
   ]
  },
  {
   "cell_type": "code",
   "execution_count": 30,
   "id": "5732b975",
   "metadata": {
    "slideshow": {
     "slide_type": "subslide"
    },
    "tags": []
   },
   "outputs": [],
   "source": [
    "link2 = link.next_sibling"
   ]
  },
  {
   "cell_type": "code",
   "execution_count": 31,
   "id": "ee77415d",
   "metadata": {
    "slideshow": {
     "slide_type": "fragment"
    },
    "tags": []
   },
   "outputs": [
    {
     "data": {
      "text/plain": [
       "'Research '"
      ]
     },
     "execution_count": 31,
     "metadata": {},
     "output_type": "execute_result"
    }
   ],
   "source": [
    "link2.text"
   ]
  },
  {
   "cell_type": "code",
   "execution_count": 32,
   "id": "d4b1a334",
   "metadata": {
    "slideshow": {
     "slide_type": "fragment"
    },
    "tags": []
   },
   "outputs": [
    {
     "data": {
      "text/plain": [
       "'/computer-science/research/'"
      ]
     },
     "execution_count": 32,
     "metadata": {},
     "output_type": "execute_result"
    }
   ],
   "source": [
    "link2[\"href\"]"
   ]
  },
  {
   "cell_type": "code",
   "execution_count": 33,
   "id": "776567bf",
   "metadata": {
    "scrolled": true,
    "slideshow": {
     "slide_type": "subslide"
    },
    "tags": []
   },
   "outputs": [
    {
     "data": {
      "text/plain": [
       "<div class=\"hero-section__content-group\"><p class=\"hero-section__intro\">Computer science is more important than ever. Be part of building a more intelligent world through computing technology.</p><a class=\"btn btn-action\" href=\"/computer-science/prospective/\">  Study</a><a class=\"btn btn-action\" href=\"/computer-science/research/\">Research </a></div>"
      ]
     },
     "execution_count": 33,
     "metadata": {},
     "output_type": "execute_result"
    }
   ],
   "source": [
    "link2.parent"
   ]
  },
  {
   "cell_type": "code",
   "execution_count": 34,
   "id": "275deec6",
   "metadata": {
    "scrolled": true,
    "slideshow": {
     "slide_type": "fragment"
    },
    "tags": []
   },
   "outputs": [
    {
     "data": {
      "text/plain": [
       "True"
      ]
     },
     "execution_count": 34,
     "metadata": {},
     "output_type": "execute_result"
    }
   ],
   "source": [
    "link2.parent == subdiv"
   ]
  },
  {
   "cell_type": "code",
   "execution_count": 35,
   "id": "856a8a4e",
   "metadata": {
    "slideshow": {
     "slide_type": "fragment"
    },
    "tags": []
   },
   "outputs": [
    {
     "data": {
      "text/plain": [
       "True"
      ]
     },
     "execution_count": 35,
     "metadata": {},
     "output_type": "execute_result"
    }
   ],
   "source": [
    "link2.parent.parent == div"
   ]
  },
  {
   "cell_type": "markdown",
   "id": "96dc53ab",
   "metadata": {
    "slideshow": {
     "slide_type": "slide"
    }
   },
   "source": [
    "## Summary\n",
    "- Use `BeautifulSoup` to extract information from web pages.\n",
    "- Use `find_all`, `find`, `parent`, `children` and `next_sibling` to explore\n",
    "- Many more features: read the docs or search for a solution to learn more!"
   ]
  },
  {
   "cell_type": "markdown",
   "id": "dc01e847",
   "metadata": {
    "slideshow": {
     "slide_type": "slide"
    }
   },
   "source": [
    "## Exercise\n",
    "- Take a look at a classic of web design, the Space Jam website: https://www.spacejam.com/1996/\n",
    "- Write BeautifulSoup code to produce a Python dictionary of the 11 planet-shaped links on the page\n",
    "- The dictionary's keys should be the alt-text of the images in the links\n",
    "- The dictionary's values should be tuples of the form `(url, img)` where `url` is the URL the link points to, and `img` is the address of the image displayed"
   ]
  },
  {
   "cell_type": "markdown",
   "id": "915a63aa",
   "metadata": {
    "slideshow": {
     "slide_type": "skip"
    }
   },
   "source": [
    "## Solution"
   ]
  },
  {
   "cell_type": "code",
   "execution_count": 36,
   "id": "391d397a",
   "metadata": {
    "slideshow": {
     "slide_type": "skip"
    },
    "tags": []
   },
   "outputs": [
    {
     "name": "stdout",
     "output_type": "stream",
     "text": [
      "{'Press Box Shuttle': ('cmp/pressbox/pressboxframes.html', 'img/p-pressbox.gif'), 'Jam Central': ('cmp/jamcentral/jamcentralframes.html', 'img/p-jamcentral.gif'), 'Planet B-Ball': ('cmp/bball/bballframes.html', 'img/p-bball.gif'), 'Lunar Tunes': ('cmp/tunes/tunesframes.html', 'img/p-lunartunes.gif'), 'The Lineup': ('cmp/lineup/lineupframes.html', 'img/p-lineup.gif'), 'Jump Station': ('cmp/jump/jumpframes.html', 'img/p-jump.gif'), 'Junior Jam': ('cmp/junior/juniorframes.html', 'img/p-junior.gif'), 'Warner Studio Store': ('https://shop.looneytunes.com/spacejam96?utm_source=SpaceJam1996&utm_medium=Website&utm_campaign=Theatrical2021', 'img/p-studiostore.gif'), 'Stellar Souvenirs': ('cmp/souvenirs/souvenirsframes.html', 'img/p-souvenirs.gif'), 'Site Map': ('cmp/sitemap.html', 'img/p-sitemap.gif'), 'Behind the Jam': ('cmp/behind/behindframes.html', 'img/p-behind.gif')}\n"
     ]
    }
   ],
   "source": [
    "from bs4 import BeautifulSoup\n",
    "from urllib.request import urlopen\n",
    "\n",
    "url = \"https://www.spacejam.com/1996/\"\n",
    "page = urlopen(url)\n",
    "html = page.read().decode(\"utf-8\")\n",
    "soup = BeautifulSoup(html, \"html.parser\")\n",
    "\n",
    "links = soup.find_all(\"a\")\n",
    "d = {}\n",
    "for link in links:\n",
    "    image = link.find(\"img\")\n",
    "    if image is not None:\n",
    "        alt = image[\"alt\"]\n",
    "        url = link[\"href\"]\n",
    "        img = image[\"src\"]\n",
    "        d[alt] = (url, img)\n",
    "\n",
    "print(d)"
   ]
  },
  {
   "cell_type": "code",
   "execution_count": null,
   "id": "43ebc630-c13d-4e2d-b669-d03844fa0c2f",
   "metadata": {},
   "outputs": [],
   "source": []
  }
 ],
 "metadata": {
  "celltoolbar": "Slideshow",
  "kernelspec": {
   "display_name": "Python 3 (ipykernel)",
   "language": "python",
   "name": "python3"
  },
  "language_info": {
   "codemirror_mode": {
    "name": "ipython",
    "version": 3
   },
   "file_extension": ".py",
   "mimetype": "text/x-python",
   "name": "python",
   "nbconvert_exporter": "python",
   "pygments_lexer": "ipython3",
   "version": "3.9.1"
  }
 },
 "nbformat": 4,
 "nbformat_minor": 5
}
