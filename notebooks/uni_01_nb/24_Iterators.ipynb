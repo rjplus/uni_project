{
 "cells": [
  {
   "cell_type": "markdown",
   "metadata": {
    "slideshow": {
     "slide_type": "slide"
    }
   },
   "source": [
    "# Iterators\n",
    "\n",
    "Programming in Python\n",
    "\n",
    "School of Computer Science, University of St Andrews"
   ]
  },
  {
   "cell_type": "markdown",
   "metadata": {
    "slideshow": {
     "slide_type": "slide"
    }
   },
   "source": [
    "## Iteration, iteration, iteration!\n",
    "* We will first consider examples of iterating over objects of various types:\n",
    "    * iterations over list\n",
    "    * iterations over text\n",
    "    * iterations over lines\n",
    "    * iterations over set\n",
    "    * iterations here and there!\n",
    "    * iterations everwhere!!!\n",
    "    \n",
    "*(inspired by Dr. Seuss)*"
   ]
  },
  {
   "cell_type": "markdown",
   "metadata": {
    "slideshow": {
     "slide_type": "slide"
    }
   },
   "source": [
    "### Iterating over a list"
   ]
  },
  {
   "cell_type": "code",
   "execution_count": 1,
   "metadata": {
    "execution": {
     "iopub.execute_input": "2023-11-07T21:58:36.648570Z",
     "iopub.status.busy": "2023-11-07T21:58:36.647884Z",
     "iopub.status.idle": "2023-11-07T21:58:36.662695Z",
     "shell.execute_reply": "2023-11-07T21:58:36.661785Z"
    },
    "slideshow": {
     "slide_type": "fragment"
    }
   },
   "outputs": [
    {
     "name": "stdout",
     "output_type": "stream",
     "text": [
      "1\n",
      "2\n",
      "3\n",
      "4\n"
     ]
    }
   ],
   "source": [
    "for i in [1, 2, 3, 4]:\n",
    "    print(i)"
   ]
  },
  {
   "cell_type": "code",
   "execution_count": 2,
   "metadata": {
    "execution": {
     "iopub.execute_input": "2023-11-07T21:58:36.710088Z",
     "iopub.status.busy": "2023-11-07T21:58:36.709689Z",
     "iopub.status.idle": "2023-11-07T21:58:36.715266Z",
     "shell.execute_reply": "2023-11-07T21:58:36.714446Z"
    },
    "slideshow": {
     "slide_type": "fragment"
    }
   },
   "outputs": [
    {
     "name": "stdout",
     "output_type": "stream",
     "text": [
      "1 2 3 4 "
     ]
    }
   ],
   "source": [
    "for i in [1, 2, 3, 4]:\n",
    "    # `end` is the string appended after the last printed value (newline by default)\n",
    "    print(i, end=' ')"
   ]
  },
  {
   "cell_type": "markdown",
   "metadata": {
    "slideshow": {
     "slide_type": "slide"
    }
   },
   "source": [
    "### Iterating over a set"
   ]
  },
  {
   "cell_type": "code",
   "execution_count": 3,
   "metadata": {
    "execution": {
     "iopub.execute_input": "2023-11-07T21:58:36.719370Z",
     "iopub.status.busy": "2023-11-07T21:58:36.718952Z",
     "iopub.status.idle": "2023-11-07T21:58:36.723425Z",
     "shell.execute_reply": "2023-11-07T21:58:36.722729Z"
    },
    "slideshow": {
     "slide_type": "fragment"
    }
   },
   "outputs": [
    {
     "name": "stdout",
     "output_type": "stream",
     "text": [
      "1\n",
      "2\n",
      "3\n",
      "4\n"
     ]
    }
   ],
   "source": [
    "for i in set([4, 2, 3, 1]):\n",
    "    print(i)"
   ]
  },
  {
   "cell_type": "markdown",
   "metadata": {
    "slideshow": {
     "slide_type": "slide"
    }
   },
   "source": [
    "### Iterating over a range"
   ]
  },
  {
   "cell_type": "code",
   "execution_count": 4,
   "metadata": {
    "execution": {
     "iopub.execute_input": "2023-11-07T21:58:36.727291Z",
     "iopub.status.busy": "2023-11-07T21:58:36.726972Z",
     "iopub.status.idle": "2023-11-07T21:58:36.731036Z",
     "shell.execute_reply": "2023-11-07T21:58:36.730267Z"
    },
    "slideshow": {
     "slide_type": "fragment"
    }
   },
   "outputs": [
    {
     "name": "stdout",
     "output_type": "stream",
     "text": [
      "0 1 2 3 4 "
     ]
    }
   ],
   "source": [
    "for i in range(5):\n",
    "    print(i, end=' ')"
   ]
  },
  {
   "cell_type": "code",
   "execution_count": 5,
   "metadata": {
    "execution": {
     "iopub.execute_input": "2023-11-07T21:58:36.734991Z",
     "iopub.status.busy": "2023-11-07T21:58:36.734668Z",
     "iopub.status.idle": "2023-11-07T21:58:36.738589Z",
     "shell.execute_reply": "2023-11-07T21:58:36.737897Z"
    },
    "slideshow": {
     "slide_type": "fragment"
    }
   },
   "outputs": [
    {
     "name": "stdout",
     "output_type": "stream",
     "text": [
      "2 5 8 11 14 "
     ]
    }
   ],
   "source": [
    "for i in range(2, 17, 3):\n",
    "    print(i, end=' ')"
   ]
  },
  {
   "cell_type": "markdown",
   "metadata": {
    "slideshow": {
     "slide_type": "slide"
    }
   },
   "source": [
    "### Iterating over a string"
   ]
  },
  {
   "cell_type": "code",
   "execution_count": 6,
   "metadata": {
    "execution": {
     "iopub.execute_input": "2023-11-07T21:58:36.742655Z",
     "iopub.status.busy": "2023-11-07T21:58:36.742272Z",
     "iopub.status.idle": "2023-11-07T21:58:36.746305Z",
     "shell.execute_reply": "2023-11-07T21:58:36.745648Z"
    },
    "slideshow": {
     "slide_type": "fragment"
    }
   },
   "outputs": [
    {
     "name": "stdout",
     "output_type": "stream",
     "text": [
      "H e l l o "
     ]
    }
   ],
   "source": [
    "for i in \"Hello\":\n",
    "    print(i,end=' ')"
   ]
  },
  {
   "cell_type": "markdown",
   "metadata": {
    "slideshow": {
     "slide_type": "slide"
    }
   },
   "source": [
    "### Iterating over a tuple"
   ]
  },
  {
   "cell_type": "code",
   "execution_count": 7,
   "metadata": {
    "execution": {
     "iopub.execute_input": "2023-11-07T21:58:36.750186Z",
     "iopub.status.busy": "2023-11-07T21:58:36.749828Z",
     "iopub.status.idle": "2023-11-07T21:58:36.753963Z",
     "shell.execute_reply": "2023-11-07T21:58:36.753199Z"
    },
    "slideshow": {
     "slide_type": "fragment"
    }
   },
   "outputs": [
    {
     "name": "stdout",
     "output_type": "stream",
     "text": [
      "1 2 3 4 "
     ]
    }
   ],
   "source": [
    "for i in (1, 2, 3, 4):\n",
    "    print(i, end=' ')"
   ]
  },
  {
   "cell_type": "markdown",
   "metadata": {
    "slideshow": {
     "slide_type": "slide"
    }
   },
   "source": [
    "### Iterating over a dictionary"
   ]
  },
  {
   "cell_type": "code",
   "execution_count": 8,
   "metadata": {
    "execution": {
     "iopub.execute_input": "2023-11-07T21:58:36.758634Z",
     "iopub.status.busy": "2023-11-07T21:58:36.758089Z",
     "iopub.status.idle": "2023-11-07T21:58:36.761831Z",
     "shell.execute_reply": "2023-11-07T21:58:36.761161Z"
    },
    "slideshow": {
     "slide_type": "fragment"
    }
   },
   "outputs": [],
   "source": [
    "d = {'x':3, 'y':1, 't':2}"
   ]
  },
  {
   "cell_type": "code",
   "execution_count": 9,
   "metadata": {
    "execution": {
     "iopub.execute_input": "2023-11-07T21:58:36.765328Z",
     "iopub.status.busy": "2023-11-07T21:58:36.765019Z",
     "iopub.status.idle": "2023-11-07T21:58:36.768983Z",
     "shell.execute_reply": "2023-11-07T21:58:36.768301Z"
    },
    "slideshow": {
     "slide_type": "fragment"
    }
   },
   "outputs": [
    {
     "name": "stdout",
     "output_type": "stream",
     "text": [
      "x y t "
     ]
    }
   ],
   "source": [
    "# over unsorted keys\n",
    "for key in d:\n",
    "    print(key, end=' ')"
   ]
  },
  {
   "cell_type": "code",
   "execution_count": 10,
   "metadata": {
    "execution": {
     "iopub.execute_input": "2023-11-07T21:58:36.773027Z",
     "iopub.status.busy": "2023-11-07T21:58:36.772479Z",
     "iopub.status.idle": "2023-11-07T21:58:36.776641Z",
     "shell.execute_reply": "2023-11-07T21:58:36.775914Z"
    },
    "slideshow": {
     "slide_type": "fragment"
    }
   },
   "outputs": [
    {
     "name": "stdout",
     "output_type": "stream",
     "text": [
      "t x y "
     ]
    }
   ],
   "source": [
    "# over sorted keys\n",
    "for k in sorted(d.keys()):\n",
    "    print(k, end=' ')"
   ]
  },
  {
   "cell_type": "code",
   "execution_count": 11,
   "metadata": {
    "execution": {
     "iopub.execute_input": "2023-11-07T21:58:36.780545Z",
     "iopub.status.busy": "2023-11-07T21:58:36.780220Z",
     "iopub.status.idle": "2023-11-07T21:58:36.784361Z",
     "shell.execute_reply": "2023-11-07T21:58:36.783430Z"
    },
    "scrolled": true,
    "slideshow": {
     "slide_type": "fragment"
    }
   },
   "outputs": [
    {
     "name": "stdout",
     "output_type": "stream",
     "text": [
      "1 2 3 "
     ]
    }
   ],
   "source": [
    "# over sorted values\n",
    "for v in sorted(d.values()):\n",
    "    print(v, end=' ')"
   ]
  },
  {
   "cell_type": "code",
   "execution_count": 12,
   "metadata": {
    "execution": {
     "iopub.execute_input": "2023-11-07T21:58:36.788389Z",
     "iopub.status.busy": "2023-11-07T21:58:36.787805Z",
     "iopub.status.idle": "2023-11-07T21:58:36.791849Z",
     "shell.execute_reply": "2023-11-07T21:58:36.791181Z"
    },
    "slideshow": {
     "slide_type": "slide"
    }
   },
   "outputs": [
    {
     "name": "stdout",
     "output_type": "stream",
     "text": [
      "<class 'tuple'> ('x', 3)\n",
      "<class 'tuple'> ('y', 1)\n",
      "<class 'tuple'> ('t', 2)\n"
     ]
    }
   ],
   "source": [
    "# over dictionary items\n",
    "for t in d.items():\n",
    "    print(type(t), t)"
   ]
  },
  {
   "cell_type": "code",
   "execution_count": 13,
   "metadata": {
    "execution": {
     "iopub.execute_input": "2023-11-07T21:58:36.795707Z",
     "iopub.status.busy": "2023-11-07T21:58:36.795410Z",
     "iopub.status.idle": "2023-11-07T21:58:36.802194Z",
     "shell.execute_reply": "2023-11-07T21:58:36.801529Z"
    },
    "slideshow": {
     "slide_type": "fragment"
    }
   },
   "outputs": [
    {
     "data": {
      "text/plain": [
       "dict_items([('x', 3), ('y', 1), ('t', 2)])"
      ]
     },
     "execution_count": 13,
     "metadata": {},
     "output_type": "execute_result"
    }
   ],
   "source": [
    "d.items()"
   ]
  },
  {
   "cell_type": "code",
   "execution_count": 14,
   "metadata": {
    "execution": {
     "iopub.execute_input": "2023-11-07T21:58:36.806057Z",
     "iopub.status.busy": "2023-11-07T21:58:36.805729Z",
     "iopub.status.idle": "2023-11-07T21:58:36.810235Z",
     "shell.execute_reply": "2023-11-07T21:58:36.809543Z"
    },
    "scrolled": true,
    "slideshow": {
     "slide_type": "fragment"
    }
   },
   "outputs": [
    {
     "data": {
      "text/plain": [
       "dict_items"
      ]
     },
     "execution_count": 14,
     "metadata": {},
     "output_type": "execute_result"
    }
   ],
   "source": [
    "type(d.items())"
   ]
  },
  {
   "cell_type": "markdown",
   "metadata": {
    "slideshow": {
     "slide_type": "slide"
    }
   },
   "source": [
    "### Iterating over a text file"
   ]
  },
  {
   "cell_type": "code",
   "execution_count": 15,
   "metadata": {
    "execution": {
     "iopub.execute_input": "2023-11-07T21:58:36.814275Z",
     "iopub.status.busy": "2023-11-07T21:58:36.813931Z",
     "iopub.status.idle": "2023-11-07T21:58:37.097690Z",
     "shell.execute_reply": "2023-11-07T21:58:37.095983Z"
    },
    "scrolled": true,
    "slideshow": {
     "slide_type": "fragment"
    }
   },
   "outputs": [
    {
     "ename": "FileNotFoundError",
     "evalue": "[Errno 2] No such file or directory: '27_Iterators.ipynb'",
     "output_type": "error",
     "traceback": [
      "\u001b[0;31m---------------------------------------------------------------------------\u001b[0m",
      "\u001b[0;31mFileNotFoundError\u001b[0m                         Traceback (most recent call last)",
      "Cell \u001b[0;32mIn[15], line 2\u001b[0m\n\u001b[1;32m      1\u001b[0m linenr\u001b[38;5;241m=\u001b[39m\u001b[38;5;241m1\u001b[39m\n\u001b[0;32m----> 2\u001b[0m \u001b[38;5;28;01mfor\u001b[39;00m line \u001b[38;5;129;01min\u001b[39;00m \u001b[38;5;28;43mopen\u001b[39;49m\u001b[43m(\u001b[49m\u001b[38;5;124;43m\"\u001b[39;49m\u001b[38;5;124;43m27_Iterators.ipynb\u001b[39;49m\u001b[38;5;124;43m\"\u001b[39;49m\u001b[43m)\u001b[49m:\n\u001b[1;32m      3\u001b[0m     \u001b[38;5;28mprint\u001b[39m(line, end\u001b[38;5;241m=\u001b[39m\u001b[38;5;124m'\u001b[39m\u001b[38;5;124m'\u001b[39m)\n\u001b[1;32m      4\u001b[0m     linenr \u001b[38;5;241m=\u001b[39m linenr \u001b[38;5;241m+\u001b[39m \u001b[38;5;241m1\u001b[39m\n",
      "File \u001b[0;32m~/Library/Python/3.9/lib/python/site-packages/IPython/core/interactiveshell.py:282\u001b[0m, in \u001b[0;36m_modified_open\u001b[0;34m(file, *args, **kwargs)\u001b[0m\n\u001b[1;32m    275\u001b[0m \u001b[38;5;28;01mif\u001b[39;00m file \u001b[38;5;129;01min\u001b[39;00m {\u001b[38;5;241m0\u001b[39m, \u001b[38;5;241m1\u001b[39m, \u001b[38;5;241m2\u001b[39m}:\n\u001b[1;32m    276\u001b[0m     \u001b[38;5;28;01mraise\u001b[39;00m \u001b[38;5;167;01mValueError\u001b[39;00m(\n\u001b[1;32m    277\u001b[0m         \u001b[38;5;124mf\u001b[39m\u001b[38;5;124m\"\u001b[39m\u001b[38;5;124mIPython won\u001b[39m\u001b[38;5;124m'\u001b[39m\u001b[38;5;124mt let you open fd=\u001b[39m\u001b[38;5;132;01m{\u001b[39;00mfile\u001b[38;5;132;01m}\u001b[39;00m\u001b[38;5;124m by default \u001b[39m\u001b[38;5;124m\"\u001b[39m\n\u001b[1;32m    278\u001b[0m         \u001b[38;5;124m\"\u001b[39m\u001b[38;5;124mas it is likely to crash IPython. If you know what you are doing, \u001b[39m\u001b[38;5;124m\"\u001b[39m\n\u001b[1;32m    279\u001b[0m         \u001b[38;5;124m\"\u001b[39m\u001b[38;5;124myou can use builtins\u001b[39m\u001b[38;5;124m'\u001b[39m\u001b[38;5;124m open.\u001b[39m\u001b[38;5;124m\"\u001b[39m\n\u001b[1;32m    280\u001b[0m     )\n\u001b[0;32m--> 282\u001b[0m \u001b[38;5;28;01mreturn\u001b[39;00m \u001b[43mio_open\u001b[49m\u001b[43m(\u001b[49m\u001b[43mfile\u001b[49m\u001b[43m,\u001b[49m\u001b[43m \u001b[49m\u001b[38;5;241;43m*\u001b[39;49m\u001b[43margs\u001b[49m\u001b[43m,\u001b[49m\u001b[43m \u001b[49m\u001b[38;5;241;43m*\u001b[39;49m\u001b[38;5;241;43m*\u001b[39;49m\u001b[43mkwargs\u001b[49m\u001b[43m)\u001b[49m\n",
      "\u001b[0;31mFileNotFoundError\u001b[0m: [Errno 2] No such file or directory: '27_Iterators.ipynb'"
     ]
    }
   ],
   "source": [
    "linenr=1\n",
    "for line in open(\"27_Iterators.ipynb\"):\n",
    "    print(line, end='')\n",
    "    linenr = linenr + 1\n",
    "    if linenr>12:\n",
    "        break"
   ]
  },
  {
   "cell_type": "markdown",
   "metadata": {
    "slideshow": {
     "slide_type": "slide"
    }
   },
   "source": [
    "### Iterating over `enumerate`"
   ]
  },
  {
   "cell_type": "code",
   "execution_count": 16,
   "metadata": {
    "execution": {
     "iopub.execute_input": "2023-11-07T21:58:37.102711Z",
     "iopub.status.busy": "2023-11-07T21:58:37.102331Z",
     "iopub.status.idle": "2023-11-07T21:58:37.106511Z",
     "shell.execute_reply": "2023-11-07T21:58:37.105831Z"
    },
    "slideshow": {
     "slide_type": "fragment"
    }
   },
   "outputs": [],
   "source": [
    "names = ['Alice', 'Bob', 'Clara', 'Doctor']"
   ]
  },
  {
   "cell_type": "code",
   "execution_count": 17,
   "metadata": {
    "execution": {
     "iopub.execute_input": "2023-11-07T21:58:37.110654Z",
     "iopub.status.busy": "2023-11-07T21:58:37.110354Z",
     "iopub.status.idle": "2023-11-07T21:58:37.114828Z",
     "shell.execute_reply": "2023-11-07T21:58:37.114190Z"
    },
    "slideshow": {
     "slide_type": "fragment"
    }
   },
   "outputs": [
    {
     "data": {
      "text/plain": [
       "<enumerate at 0x7f8788f58340>"
      ]
     },
     "execution_count": 17,
     "metadata": {},
     "output_type": "execute_result"
    }
   ],
   "source": [
    "enumerate(names) # will iterate over (index,value) pairs"
   ]
  },
  {
   "cell_type": "code",
   "execution_count": 18,
   "metadata": {
    "execution": {
     "iopub.execute_input": "2023-11-07T21:58:37.118565Z",
     "iopub.status.busy": "2023-11-07T21:58:37.118235Z",
     "iopub.status.idle": "2023-11-07T21:58:37.121997Z",
     "shell.execute_reply": "2023-11-07T21:58:37.121358Z"
    },
    "slideshow": {
     "slide_type": "fragment"
    }
   },
   "outputs": [
    {
     "name": "stdout",
     "output_type": "stream",
     "text": [
      "(0, 'Alice')\n",
      "(1, 'Bob')\n",
      "(2, 'Clara')\n",
      "(3, 'Doctor')\n"
     ]
    }
   ],
   "source": [
    "for i in enumerate(names):\n",
    "    print(i)"
   ]
  },
  {
   "cell_type": "markdown",
   "metadata": {
    "slideshow": {
     "slide_type": "slide"
    }
   },
   "source": [
    "### Iterating over `zip`"
   ]
  },
  {
   "cell_type": "code",
   "execution_count": 19,
   "metadata": {
    "execution": {
     "iopub.execute_input": "2023-11-07T21:58:37.126151Z",
     "iopub.status.busy": "2023-11-07T21:58:37.125738Z",
     "iopub.status.idle": "2023-11-07T21:58:37.129790Z",
     "shell.execute_reply": "2023-11-07T21:58:37.128945Z"
    },
    "slideshow": {
     "slide_type": "fragment"
    }
   },
   "outputs": [],
   "source": [
    "names = ['Alice', 'Bob', 'Clara', 'Doctor']"
   ]
  },
  {
   "cell_type": "code",
   "execution_count": 20,
   "metadata": {
    "execution": {
     "iopub.execute_input": "2023-11-07T21:58:37.133750Z",
     "iopub.status.busy": "2023-11-07T21:58:37.133143Z",
     "iopub.status.idle": "2023-11-07T21:58:37.136816Z",
     "shell.execute_reply": "2023-11-07T21:58:37.136181Z"
    },
    "slideshow": {
     "slide_type": "fragment"
    }
   },
   "outputs": [],
   "source": [
    "othernames = ['in Wonderland', 'the Builder', 'Oswald', 'Who']"
   ]
  },
  {
   "cell_type": "code",
   "execution_count": 21,
   "metadata": {
    "execution": {
     "iopub.execute_input": "2023-11-07T21:58:37.140633Z",
     "iopub.status.busy": "2023-11-07T21:58:37.139907Z",
     "iopub.status.idle": "2023-11-07T21:58:37.144646Z",
     "shell.execute_reply": "2023-11-07T21:58:37.143940Z"
    },
    "slideshow": {
     "slide_type": "fragment"
    }
   },
   "outputs": [
    {
     "name": "stdout",
     "output_type": "stream",
     "text": [
      "Alice in Wonderland\n",
      "Bob the Builder\n",
      "Clara Oswald\n",
      "Doctor Who\n"
     ]
    }
   ],
   "source": [
    "for n1, n2 in zip(names, othernames):\n",
    "    print(n1,n2)"
   ]
  },
  {
   "cell_type": "markdown",
   "metadata": {
    "slideshow": {
     "slide_type": "slide"
    }
   },
   "source": [
    "## How does this work?\n",
    "* The object to iterate over is called the *container* object\n",
    "* `for` calls `iter()` on the *container* object\n",
    "* `iter` returns an *iterator* object\n",
    "* the latter must have a method `__next__` to access elements of the container one at a time\n",
    "* the `__next__` method is called via the function `next()`\n",
    "* when there are no more elements, `__next__` raises a `StopIteration` exception, which terminates the loop\n",
    "* the iterator object also must support a method `__iter__` to allow the use of `for` and `in` with both containers and iterators\n",
    "* see the low level demonstration of this process below"
   ]
  },
  {
   "cell_type": "code",
   "execution_count": 22,
   "metadata": {
    "execution": {
     "iopub.execute_input": "2023-11-07T21:58:37.148586Z",
     "iopub.status.busy": "2023-11-07T21:58:37.148195Z",
     "iopub.status.idle": "2023-11-07T21:58:37.151585Z",
     "shell.execute_reply": "2023-11-07T21:58:37.150975Z"
    },
    "slideshow": {
     "slide_type": "slide"
    }
   },
   "outputs": [],
   "source": [
    "s = 'abc'"
   ]
  },
  {
   "cell_type": "code",
   "execution_count": 23,
   "metadata": {
    "execution": {
     "iopub.execute_input": "2023-11-07T21:58:37.155225Z",
     "iopub.status.busy": "2023-11-07T21:58:37.154879Z",
     "iopub.status.idle": "2023-11-07T21:58:37.158474Z",
     "shell.execute_reply": "2023-11-07T21:58:37.157608Z"
    },
    "slideshow": {
     "slide_type": "fragment"
    }
   },
   "outputs": [],
   "source": [
    "it = iter(s)"
   ]
  },
  {
   "cell_type": "code",
   "execution_count": 24,
   "metadata": {
    "execution": {
     "iopub.execute_input": "2023-11-07T21:58:37.162442Z",
     "iopub.status.busy": "2023-11-07T21:58:37.162120Z",
     "iopub.status.idle": "2023-11-07T21:58:37.166349Z",
     "shell.execute_reply": "2023-11-07T21:58:37.165743Z"
    },
    "slideshow": {
     "slide_type": "fragment"
    }
   },
   "outputs": [
    {
     "data": {
      "text/plain": [
       "<str_iterator at 0x7f8779250dc0>"
      ]
     },
     "execution_count": 24,
     "metadata": {},
     "output_type": "execute_result"
    }
   ],
   "source": [
    "it"
   ]
  },
  {
   "cell_type": "code",
   "execution_count": 25,
   "metadata": {
    "execution": {
     "iopub.execute_input": "2023-11-07T21:58:37.169952Z",
     "iopub.status.busy": "2023-11-07T21:58:37.169663Z",
     "iopub.status.idle": "2023-11-07T21:58:37.173835Z",
     "shell.execute_reply": "2023-11-07T21:58:37.173162Z"
    },
    "slideshow": {
     "slide_type": "fragment"
    }
   },
   "outputs": [
    {
     "data": {
      "text/plain": [
       "'a'"
      ]
     },
     "execution_count": 25,
     "metadata": {},
     "output_type": "execute_result"
    }
   ],
   "source": [
    "next(it)"
   ]
  },
  {
   "cell_type": "code",
   "execution_count": 26,
   "metadata": {
    "execution": {
     "iopub.execute_input": "2023-11-07T21:58:37.178026Z",
     "iopub.status.busy": "2023-11-07T21:58:37.177626Z",
     "iopub.status.idle": "2023-11-07T21:58:37.182025Z",
     "shell.execute_reply": "2023-11-07T21:58:37.181341Z"
    },
    "slideshow": {
     "slide_type": "fragment"
    }
   },
   "outputs": [
    {
     "data": {
      "text/plain": [
       "'b'"
      ]
     },
     "execution_count": 26,
     "metadata": {},
     "output_type": "execute_result"
    }
   ],
   "source": [
    "next(it)"
   ]
  },
  {
   "cell_type": "code",
   "execution_count": 27,
   "metadata": {
    "execution": {
     "iopub.execute_input": "2023-11-07T21:58:37.185795Z",
     "iopub.status.busy": "2023-11-07T21:58:37.185480Z",
     "iopub.status.idle": "2023-11-07T21:58:37.189827Z",
     "shell.execute_reply": "2023-11-07T21:58:37.189113Z"
    },
    "slideshow": {
     "slide_type": "fragment"
    }
   },
   "outputs": [
    {
     "data": {
      "text/plain": [
       "'c'"
      ]
     },
     "execution_count": 27,
     "metadata": {},
     "output_type": "execute_result"
    }
   ],
   "source": [
    "next(it)"
   ]
  },
  {
   "cell_type": "code",
   "execution_count": 28,
   "metadata": {
    "execution": {
     "iopub.execute_input": "2023-11-07T21:58:37.193702Z",
     "iopub.status.busy": "2023-11-07T21:58:37.193325Z",
     "iopub.status.idle": "2023-11-07T21:58:37.206956Z",
     "shell.execute_reply": "2023-11-07T21:58:37.206297Z"
    },
    "slideshow": {
     "slide_type": "fragment"
    }
   },
   "outputs": [
    {
     "ename": "StopIteration",
     "evalue": "",
     "output_type": "error",
     "traceback": [
      "\u001b[0;31m---------------------------------------------------------------------------\u001b[0m",
      "\u001b[0;31mStopIteration\u001b[0m                             Traceback (most recent call last)",
      "Cell \u001b[0;32mIn[28], line 1\u001b[0m\n\u001b[0;32m----> 1\u001b[0m \u001b[38;5;28;43mnext\u001b[39;49m\u001b[43m(\u001b[49m\u001b[43mit\u001b[49m\u001b[43m)\u001b[49m\n",
      "\u001b[0;31mStopIteration\u001b[0m: "
     ]
    }
   ],
   "source": [
    "next(it)"
   ]
  },
  {
   "cell_type": "markdown",
   "metadata": {
    "slideshow": {
     "slide_type": "slide"
    }
   },
   "source": [
    "## Example: Iterating backwards"
   ]
  },
  {
   "cell_type": "code",
   "execution_count": 29,
   "metadata": {
    "execution": {
     "iopub.execute_input": "2023-11-07T21:58:37.211191Z",
     "iopub.status.busy": "2023-11-07T21:58:37.210846Z",
     "iopub.status.idle": "2023-11-07T21:58:37.215702Z",
     "shell.execute_reply": "2023-11-07T21:58:37.215030Z"
    },
    "slideshow": {
     "slide_type": "fragment"
    }
   },
   "outputs": [],
   "source": [
    "class Reverse:\n",
    "    \"\"\"Iterator for looping over a sequence backwards.\"\"\"\n",
    "    \n",
    "    def __init__(self, data):\n",
    "        self.data = data\n",
    "        self.index = len(data)\n",
    "    \n",
    "    def __iter__(self):\n",
    "        return self\n",
    "    \n",
    "    def __next__(self):\n",
    "        if self.index == 0:\n",
    "            raise StopIteration\n",
    "        self.index = self.index - 1\n",
    "        return self.data[self.index]"
   ]
  },
  {
   "cell_type": "code",
   "execution_count": 30,
   "metadata": {
    "execution": {
     "iopub.execute_input": "2023-11-07T21:58:37.219182Z",
     "iopub.status.busy": "2023-11-07T21:58:37.218850Z",
     "iopub.status.idle": "2023-11-07T21:58:37.222872Z",
     "shell.execute_reply": "2023-11-07T21:58:37.222169Z"
    },
    "slideshow": {
     "slide_type": "slide"
    }
   },
   "outputs": [
    {
     "name": "stdout",
     "output_type": "stream",
     "text": [
      "4 3 2 1 "
     ]
    }
   ],
   "source": [
    "for i in Reverse([1, 2, 3, 4]):\n",
    "    print(i,end=' ')"
   ]
  },
  {
   "cell_type": "code",
   "execution_count": 31,
   "metadata": {
    "execution": {
     "iopub.execute_input": "2023-11-07T21:58:37.226888Z",
     "iopub.status.busy": "2023-11-07T21:58:37.226483Z",
     "iopub.status.idle": "2023-11-07T21:58:37.230664Z",
     "shell.execute_reply": "2023-11-07T21:58:37.229923Z"
    },
    "slideshow": {
     "slide_type": "fragment"
    }
   },
   "outputs": [
    {
     "name": "stdout",
     "output_type": "stream",
     "text": [
      "zyxwvutsrqponmlkjihgfedcba"
     ]
    }
   ],
   "source": [
    "for i in Reverse('abcdefghijklmnopqrstuvwxyz'):\n",
    "    print(i,end='')"
   ]
  },
  {
   "cell_type": "code",
   "execution_count": 32,
   "metadata": {
    "execution": {
     "iopub.execute_input": "2023-11-07T21:58:37.234369Z",
     "iopub.status.busy": "2023-11-07T21:58:37.234046Z",
     "iopub.status.idle": "2023-11-07T21:58:37.237843Z",
     "shell.execute_reply": "2023-11-07T21:58:37.237096Z"
    },
    "slideshow": {
     "slide_type": "fragment"
    }
   },
   "outputs": [
    {
     "name": "stdout",
     "output_type": "stream",
     "text": [
      "neve ro ddo reven"
     ]
    }
   ],
   "source": [
    "for i in Reverse('never odd or even'):\n",
    "    print(i,end='')"
   ]
  },
  {
   "cell_type": "markdown",
   "metadata": {
    "slideshow": {
     "slide_type": "slide"
    }
   },
   "source": [
    "## Exercise\n",
    "* Let $A$ and $B$ be two sets. Their Cartesian product $C = A \\times B$ is the set of all ordered pairs $(x, y)$ such that $x$ belongs to $A$ and $y$ belongs to $B$\n",
    "* Develop the code to support iterating over $A \\times B$\n",
    "* A hypothetical Python session may look like this\n",
    "```\n",
    ">>> for t in IteratorCartesian([1,2,3],['a','b']):\n",
    "...     print(t)\n",
    "... \n",
    "(1, 'a')\n",
    "(2, 'a')\n",
    "(3, 'a')\n",
    "(1, 'b')\n",
    "(2, 'b')\n",
    "(3, 'b')\n",
    "```"
   ]
  }
 ],
 "metadata": {
  "celltoolbar": "Slideshow",
  "kernelspec": {
   "display_name": "Python 3 (ipykernel)",
   "language": "python",
   "name": "python3"
  },
  "language_info": {
   "codemirror_mode": {
    "name": "ipython",
    "version": 3
   },
   "file_extension": ".py",
   "mimetype": "text/x-python",
   "name": "python",
   "nbconvert_exporter": "python",
   "pygments_lexer": "ipython3",
   "version": "3.9.1"
  }
 },
 "nbformat": 4,
 "nbformat_minor": 1
}
