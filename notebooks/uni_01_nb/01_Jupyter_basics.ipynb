{
 "cells": [
  {
   "cell_type": "markdown",
   "id": "12441f50",
   "metadata": {},
   "source": [
    "# Jupyter basics\n",
    "\n",
    "CS5901: Programming in Python\n",
    "\n",
    "School of Computer Science, University of St Andrews\n",
    "\n",
    "This notebook introduces us to the basics of *Jupyter*.\n",
    "\n",
    "We can write in **bold**, *italics* or ~~strikethrough~~.\n",
    "\n",
    "The most important thing about Jupyter is that we can also write in code.  Let's run some print statements."
   ]
  },
  {
   "cell_type": "code",
   "execution_count": 1,
   "id": "398de104",
   "metadata": {
    "execution": {
     "iopub.execute_input": "2023-09-13T22:53:06.362898Z",
     "iopub.status.busy": "2023-09-13T22:53:06.362287Z",
     "iopub.status.idle": "2023-09-13T22:53:06.376262Z",
     "shell.execute_reply": "2023-09-13T22:53:06.375081Z"
    }
   },
   "outputs": [
    {
     "name": "stdout",
     "output_type": "stream",
     "text": [
      "Hello world!\n",
      "How are you?\n"
     ]
    }
   ],
   "source": [
    "print(\"Hello world!\")\n",
    "print(\"How are you?\")"
   ]
  },
  {
   "cell_type": "code",
   "execution_count": 2,
   "id": "aaa5f6cf",
   "metadata": {
    "execution": {
     "iopub.execute_input": "2023-09-13T22:53:06.381254Z",
     "iopub.status.busy": "2023-09-13T22:53:06.380619Z",
     "iopub.status.idle": "2023-09-13T22:53:06.385963Z",
     "shell.execute_reply": "2023-09-13T22:53:06.385125Z"
    }
   },
   "outputs": [
    {
     "name": "stdout",
     "output_type": "stream",
     "text": [
      "5\n"
     ]
    }
   ],
   "source": [
    "print(2 + 3)"
   ]
  },
  {
   "cell_type": "markdown",
   "id": "99abeea2",
   "metadata": {},
   "source": [
    "Besides using `print`, we can also get Jupyter to evaluate the last line of a code block."
   ]
  },
  {
   "cell_type": "code",
   "execution_count": 3,
   "id": "03fbc79d",
   "metadata": {
    "execution": {
     "iopub.execute_input": "2023-09-13T22:53:06.390415Z",
     "iopub.status.busy": "2023-09-13T22:53:06.390044Z",
     "iopub.status.idle": "2023-09-13T22:53:06.394254Z",
     "shell.execute_reply": "2023-09-13T22:53:06.393494Z"
    }
   },
   "outputs": [
    {
     "name": "stdout",
     "output_type": "stream",
     "text": [
      "5\n",
      "9\n"
     ]
    }
   ],
   "source": [
    "print(2 + 3)\n",
    "print(4 + 5)"
   ]
  },
  {
   "cell_type": "markdown",
   "id": "ad8f1a51",
   "metadata": {},
   "source": [
    "Don't forget to save your code!"
   ]
  },
  {
   "cell_type": "markdown",
   "id": "695f9981",
   "metadata": {},
   "source": [
    "# Title\n",
    "## Heading 2\n",
    "### Heading 3\n",
    "#### Heading 4"
   ]
  },
  {
   "cell_type": "markdown",
   "id": "b5a03a03",
   "metadata": {},
   "source": [
    "Finally, let's have a link to the [University website](https://www.st-andrews.ac.uk)."
   ]
  },
  {
   "cell_type": "markdown",
   "id": "afffc4b5",
   "metadata": {},
   "source": [
    "## Exercise\n",
    "Make a new notebook with a short bio of yourself, including a title, some bold and italic font, and a link.  Write Python code to print your name."
   ]
  }
 ],
 "metadata": {
  "kernelspec": {
   "display_name": "Python 3 (ipykernel)",
   "language": "python",
   "name": "python3"
  },
  "language_info": {
   "codemirror_mode": {
    "name": "ipython",
    "version": 3
   },
   "file_extension": ".py",
   "mimetype": "text/x-python",
   "name": "python",
   "nbconvert_exporter": "python",
   "pygments_lexer": "ipython3",
   "version": "3.9.1"
  }
 },
 "nbformat": 4,
 "nbformat_minor": 5
}
