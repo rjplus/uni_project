{
 "cells": [
  {
   "cell_type": "markdown",
   "id": "745eeb2c",
   "metadata": {
    "slideshow": {
     "slide_type": "slide"
    }
   },
   "source": [
    "# API Interaction\n",
    "\n",
    "Programming in Python\n",
    "\n",
    "School of Computer Science, University of St Andrews"
   ]
  },
  {
   "cell_type": "markdown",
   "id": "c0b045eb",
   "metadata": {
    "slideshow": {
     "slide_type": "slide"
    }
   },
   "source": [
    "## What is an API?\n",
    "- \"Application programming interface\"\n",
    "- A way for computer programs to interact with each other\n",
    "- Avoids manual work"
   ]
  },
  {
   "attachments": {
    "api-ui.drawio.svg": {
     "image/svg+xml": [
      "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"
     ]
    }
   },
   "cell_type": "markdown",
   "id": "d3ddd5f4",
   "metadata": {
    "slideshow": {
     "slide_type": "fragment"
    }
   },
   "source": [
    "![api-ui.drawio.svg](attachment:api-ui.drawio.svg)"
   ]
  },
  {
   "cell_type": "markdown",
   "id": "8262f01a",
   "metadata": {
    "slideshow": {
     "slide_type": "slide"
    }
   },
   "source": [
    "## Web APIs\n",
    "- Our focus today\n",
    "- Alternative version of website\n",
    "- Pages contain machine-readable data instead of display-oriented HTML\n",
    "- Great for large datasets hosted elsewhere\n",
    "- Often based on \"query\""
   ]
  },
  {
   "cell_type": "markdown",
   "id": "bca9426a",
   "metadata": {
    "slideshow": {
     "slide_type": "slide"
    }
   },
   "source": [
    "## Example 1: Open Topo Data"
   ]
  },
  {
   "cell_type": "code",
   "execution_count": 1,
   "id": "ccbd6e44",
   "metadata": {
    "execution": {
     "iopub.execute_input": "2024-01-12T16:39:03.724503Z",
     "iopub.status.busy": "2024-01-12T16:39:03.723659Z",
     "iopub.status.idle": "2024-01-12T16:39:04.026703Z",
     "shell.execute_reply": "2024-01-12T16:39:04.025569Z"
    },
    "slideshow": {
     "slide_type": "fragment"
    },
    "tags": []
   },
   "outputs": [],
   "source": [
    "import requests\n",
    "\n",
    "url = \"https://api.opentopodata.org/v1/srtm90m\"\n",
    "data = {\n",
    "    \"locations\": \"-43.5,172.5\",\n",
    "    \"interpolation\": \"cubic\",\n",
    "}\n",
    "response = requests.post(url, json=data)"
   ]
  },
  {
   "cell_type": "code",
   "execution_count": 2,
   "id": "ea08ec5d",
   "metadata": {
    "execution": {
     "iopub.execute_input": "2024-01-12T16:39:04.031560Z",
     "iopub.status.busy": "2024-01-12T16:39:04.031206Z",
     "iopub.status.idle": "2024-01-12T16:39:04.036255Z",
     "shell.execute_reply": "2024-01-12T16:39:04.035268Z"
    },
    "slideshow": {
     "slide_type": "fragment"
    },
    "tags": []
   },
   "outputs": [
    {
     "name": "stdout",
     "output_type": "stream",
     "text": [
      "<Response [200]>\n"
     ]
    }
   ],
   "source": [
    "print(response)"
   ]
  },
  {
   "cell_type": "code",
   "execution_count": 3,
   "id": "a6c2ac91",
   "metadata": {
    "execution": {
     "iopub.execute_input": "2024-01-12T16:39:04.041863Z",
     "iopub.status.busy": "2024-01-12T16:39:04.041155Z",
     "iopub.status.idle": "2024-01-12T16:39:04.046066Z",
     "shell.execute_reply": "2024-01-12T16:39:04.045404Z"
    },
    "slideshow": {
     "slide_type": "subslide"
    },
    "tags": []
   },
   "outputs": [
    {
     "name": "stdout",
     "output_type": "stream",
     "text": [
      "{'results': [{'dataset': 'srtm90m', 'elevation': 45.0, 'location': {'lat': -43.5, 'lng': 172.5}}], 'status': 'OK'}\n"
     ]
    }
   ],
   "source": [
    "data = response.json()  # a Python dictionary\n",
    "print(data)"
   ]
  },
  {
   "cell_type": "code",
   "execution_count": 4,
   "id": "86600957",
   "metadata": {
    "execution": {
     "iopub.execute_input": "2024-01-12T16:39:04.051183Z",
     "iopub.status.busy": "2024-01-12T16:39:04.050700Z",
     "iopub.status.idle": "2024-01-12T16:39:04.056659Z",
     "shell.execute_reply": "2024-01-12T16:39:04.055618Z"
    },
    "slideshow": {
     "slide_type": "fragment"
    },
    "tags": []
   },
   "outputs": [
    {
     "name": "stdout",
     "output_type": "stream",
     "text": [
      "[{'dataset': 'srtm90m', 'elevation': 45.0, 'location': {'lat': -43.5, 'lng': 172.5}}]\n"
     ]
    }
   ],
   "source": [
    "results = data[\"results\"]\n",
    "print(results)"
   ]
  },
  {
   "cell_type": "code",
   "execution_count": 5,
   "id": "04e66fa0",
   "metadata": {
    "execution": {
     "iopub.execute_input": "2024-01-12T16:39:04.062266Z",
     "iopub.status.busy": "2024-01-12T16:39:04.061930Z",
     "iopub.status.idle": "2024-01-12T16:39:04.066159Z",
     "shell.execute_reply": "2024-01-12T16:39:04.065379Z"
    },
    "scrolled": true,
    "slideshow": {
     "slide_type": "fragment"
    },
    "tags": []
   },
   "outputs": [
    {
     "name": "stdout",
     "output_type": "stream",
     "text": [
      "The altitude at the chosen spot is 45.0 metres\n"
     ]
    }
   ],
   "source": [
    "elevation = results[0][\"elevation\"]\n",
    "print(f\"The altitude at the chosen spot is {elevation} metres\")"
   ]
  },
  {
   "cell_type": "code",
   "execution_count": 6,
   "id": "557d76f1",
   "metadata": {
    "execution": {
     "iopub.execute_input": "2024-01-12T16:39:04.070927Z",
     "iopub.status.busy": "2024-01-12T16:39:04.070166Z",
     "iopub.status.idle": "2024-01-12T16:39:04.078300Z",
     "shell.execute_reply": "2024-01-12T16:39:04.077123Z"
    },
    "slideshow": {
     "slide_type": "subslide"
    },
    "tags": []
   },
   "outputs": [],
   "source": [
    "def get_elevation(latitude, longitude):\n",
    "    url = \"https://api.opentopodata.org/v1/srtm90m\"\n",
    "    data = {\n",
    "        \"locations\": f\"{latitude},{longitude}\",\n",
    "        \"interpolation\": \"cubic\",\n",
    "    }\n",
    "    response = requests.post(url, json=data)\n",
    "    if response.status_code == 200:\n",
    "        data = response.json()\n",
    "        results = data[\"results\"]\n",
    "        elevation = results[0][\"elevation\"]\n",
    "        return elevation\n",
    "    else:\n",
    "        raise Exception(\"Invalid response from API. Check input.\")"
   ]
  },
  {
   "cell_type": "code",
   "execution_count": 7,
   "id": "76b7f206",
   "metadata": {
    "execution": {
     "iopub.execute_input": "2024-01-12T16:39:04.083565Z",
     "iopub.status.busy": "2024-01-12T16:39:04.083001Z",
     "iopub.status.idle": "2024-01-12T16:39:04.547912Z",
     "shell.execute_reply": "2024-01-12T16:39:04.546735Z"
    },
    "slideshow": {
     "slide_type": "subslide"
    },
    "tags": []
   },
   "outputs": [
    {
     "name": "stdout",
     "output_type": "stream",
     "text": [
      "749.0\n",
      "45.0\n",
      "99.0\n"
     ]
    }
   ],
   "source": [
    "print(get_elevation(-43.0, 172.3))\n",
    "print(get_elevation(-43.5, 172.5))\n",
    "print(get_elevation(-43.7, 172.1))"
   ]
  },
  {
   "cell_type": "code",
   "execution_count": 8,
   "id": "429daef8",
   "metadata": {
    "execution": {
     "iopub.execute_input": "2024-01-12T16:39:04.554196Z",
     "iopub.status.busy": "2024-01-12T16:39:04.553648Z",
     "iopub.status.idle": "2024-01-12T16:39:04.905107Z",
     "shell.execute_reply": "2024-01-12T16:39:04.903863Z"
    },
    "scrolled": true,
    "slideshow": {
     "slide_type": "fragment"
    },
    "tags": []
   },
   "outputs": [
    {
     "ename": "Exception",
     "evalue": "Invalid response from API. Check input.",
     "output_type": "error",
     "traceback": [
      "\u001b[0;31m---------------------------------------------------------------------------\u001b[0m",
      "\u001b[0;31mException\u001b[0m                                 Traceback (most recent call last)",
      "Cell \u001b[0;32mIn[8], line 1\u001b[0m\n\u001b[0;32m----> 1\u001b[0m \u001b[38;5;28mprint\u001b[39m(\u001b[43mget_elevation\u001b[49m\u001b[43m(\u001b[49m\u001b[38;5;241;43m-\u001b[39;49m\u001b[38;5;241;43m43.0\u001b[39;49m\u001b[43m,\u001b[49m\u001b[43m \u001b[49m\u001b[38;5;241;43m380.0\u001b[39;49m\u001b[43m)\u001b[49m)\n",
      "Cell \u001b[0;32mIn[6], line 14\u001b[0m, in \u001b[0;36mget_elevation\u001b[0;34m(latitude, longitude)\u001b[0m\n\u001b[1;32m     12\u001b[0m     \u001b[38;5;28;01mreturn\u001b[39;00m elevation\n\u001b[1;32m     13\u001b[0m \u001b[38;5;28;01melse\u001b[39;00m:\n\u001b[0;32m---> 14\u001b[0m     \u001b[38;5;28;01mraise\u001b[39;00m \u001b[38;5;167;01mException\u001b[39;00m(\u001b[38;5;124m\"\u001b[39m\u001b[38;5;124mInvalid response from API. Check input.\u001b[39m\u001b[38;5;124m\"\u001b[39m)\n",
      "\u001b[0;31mException\u001b[0m: Invalid response from API. Check input."
     ]
    }
   ],
   "source": [
    "print(get_elevation(-43.0, 380.0))"
   ]
  },
  {
   "cell_type": "code",
   "execution_count": 9,
   "id": "c8d7b4d9",
   "metadata": {
    "execution": {
     "iopub.execute_input": "2024-01-12T16:39:04.910219Z",
     "iopub.status.busy": "2024-01-12T16:39:04.909648Z",
     "iopub.status.idle": "2024-01-12T16:39:05.044915Z",
     "shell.execute_reply": "2024-01-12T16:39:05.043297Z"
    },
    "slideshow": {
     "slide_type": "subslide"
    },
    "tags": []
   },
   "outputs": [
    {
     "name": "stdout",
     "output_type": "stream",
     "text": [
      "0\n"
     ]
    }
   ],
   "source": [
    "try:\n",
    "    height = get_elevation(-43.0, 380.0)\n",
    "except:\n",
    "    height = 0  # assume sea level if no data available\n",
    "print(height)"
   ]
  },
  {
   "cell_type": "markdown",
   "id": "910315d3",
   "metadata": {
    "slideshow": {
     "slide_type": "slide"
    }
   },
   "source": [
    "## Example 2: TheCocktailDB"
   ]
  },
  {
   "cell_type": "code",
   "execution_count": 10,
   "id": "ad48e8c9",
   "metadata": {
    "execution": {
     "iopub.execute_input": "2024-01-12T16:39:05.051203Z",
     "iopub.status.busy": "2024-01-12T16:39:05.050781Z",
     "iopub.status.idle": "2024-01-12T16:39:05.174021Z",
     "shell.execute_reply": "2024-01-12T16:39:05.173017Z"
    },
    "slideshow": {
     "slide_type": "fragment"
    },
    "tags": []
   },
   "outputs": [],
   "source": [
    "import requests\n",
    "\n",
    "ingredients_url = \"https://www.thecocktaildb.com/api/json/v1/1/filter.php\"\n",
    "data = {\"i\": \"Galliano\"}\n",
    "response = requests.get(ingredients_url, params=data)"
   ]
  },
  {
   "cell_type": "code",
   "execution_count": 11,
   "id": "2dc03c65",
   "metadata": {
    "execution": {
     "iopub.execute_input": "2024-01-12T16:39:05.180312Z",
     "iopub.status.busy": "2024-01-12T16:39:05.179906Z",
     "iopub.status.idle": "2024-01-12T16:39:05.190162Z",
     "shell.execute_reply": "2024-01-12T16:39:05.188926Z"
    },
    "slideshow": {
     "slide_type": "fragment"
    },
    "tags": []
   },
   "outputs": [
    {
     "data": {
      "text/plain": [
       "200"
      ]
     },
     "execution_count": 11,
     "metadata": {},
     "output_type": "execute_result"
    }
   ],
   "source": [
    "response.status_code"
   ]
  },
  {
   "cell_type": "code",
   "execution_count": 12,
   "id": "1fae410d",
   "metadata": {
    "execution": {
     "iopub.execute_input": "2024-01-12T16:39:05.195962Z",
     "iopub.status.busy": "2024-01-12T16:39:05.195569Z",
     "iopub.status.idle": "2024-01-12T16:39:05.200762Z",
     "shell.execute_reply": "2024-01-12T16:39:05.199294Z"
    },
    "slideshow": {
     "slide_type": "subslide"
    },
    "tags": []
   },
   "outputs": [],
   "source": [
    "data = response.json()"
   ]
  },
  {
   "cell_type": "code",
   "execution_count": 13,
   "id": "e1fdb0a2",
   "metadata": {
    "execution": {
     "iopub.execute_input": "2024-01-12T16:39:05.206989Z",
     "iopub.status.busy": "2024-01-12T16:39:05.206117Z",
     "iopub.status.idle": "2024-01-12T16:39:05.213928Z",
     "shell.execute_reply": "2024-01-12T16:39:05.212963Z"
    },
    "slideshow": {
     "slide_type": "fragment"
    },
    "tags": []
   },
   "outputs": [
    {
     "data": {
      "text/plain": [
       "{'drinks': [{'strDrink': 'Barracuda',\n",
       "   'strDrinkThumb': 'https://www.thecocktaildb.com/images/media/drink/jwmr1x1504372337.jpg',\n",
       "   'idDrink': '17209'},\n",
       "  {'strDrink': 'California Root Beer',\n",
       "   'strDrinkThumb': 'https://www.thecocktaildb.com/images/media/drink/rsxuyr1472719526.jpg',\n",
       "   'idDrink': '14282'},\n",
       "  {'strDrink': 'Gagliardo',\n",
       "   'strDrinkThumb': 'https://www.thecocktaildb.com/images/media/drink/lyloe91487602877.jpg',\n",
       "   'idDrink': '12758'},\n",
       "  {'strDrink': 'GG',\n",
       "   'strDrinkThumb': 'https://www.thecocktaildb.com/images/media/drink/vyxwut1468875960.jpg',\n",
       "   'idDrink': '15997'},\n",
       "  {'strDrink': 'Golden dream',\n",
       "   'strDrinkThumb': 'https://www.thecocktaildb.com/images/media/drink/qrot6j1504369425.jpg',\n",
       "   'idDrink': '17199'},\n",
       "  {'strDrink': 'Harvey Wallbanger',\n",
       "   'strDrinkThumb': 'https://www.thecocktaildb.com/images/media/drink/7os4gs1606854357.jpg',\n",
       "   'idDrink': '11462'},\n",
       "  {'strDrink': 'Lemon Shot',\n",
       "   'strDrinkThumb': 'https://www.thecocktaildb.com/images/media/drink/mx31hv1487602979.jpg',\n",
       "   'idDrink': '12752'},\n",
       "  {'strDrink': 'Yellow Bird',\n",
       "   'strDrinkThumb': 'https://www.thecocktaildb.com/images/media/drink/2t9r6w1504374811.jpg',\n",
       "   'idDrink': '17219'}]}"
      ]
     },
     "execution_count": 13,
     "metadata": {},
     "output_type": "execute_result"
    }
   ],
   "source": [
    "data"
   ]
  },
  {
   "cell_type": "code",
   "execution_count": 14,
   "id": "83398123",
   "metadata": {
    "execution": {
     "iopub.execute_input": "2024-01-12T16:39:05.219020Z",
     "iopub.status.busy": "2024-01-12T16:39:05.218570Z",
     "iopub.status.idle": "2024-01-12T16:39:05.225857Z",
     "shell.execute_reply": "2024-01-12T16:39:05.224384Z"
    },
    "slideshow": {
     "slide_type": "subslide"
    },
    "tags": []
   },
   "outputs": [
    {
     "data": {
      "text/plain": [
       "['Barracuda',\n",
       " 'California Root Beer',\n",
       " 'Gagliardo',\n",
       " 'GG',\n",
       " 'Golden dream',\n",
       " 'Harvey Wallbanger',\n",
       " 'Lemon Shot',\n",
       " 'Yellow Bird']"
      ]
     },
     "execution_count": 14,
     "metadata": {},
     "output_type": "execute_result"
    }
   ],
   "source": [
    "[drink[\"strDrink\"] for drink in data[\"drinks\"]]"
   ]
  },
  {
   "cell_type": "code",
   "execution_count": 15,
   "id": "1e3569d2",
   "metadata": {
    "execution": {
     "iopub.execute_input": "2024-01-12T16:39:05.232019Z",
     "iopub.status.busy": "2024-01-12T16:39:05.231614Z",
     "iopub.status.idle": "2024-01-12T16:39:05.361816Z",
     "shell.execute_reply": "2024-01-12T16:39:05.360910Z"
    },
    "slideshow": {
     "slide_type": "subslide"
    },
    "tags": []
   },
   "outputs": [],
   "source": [
    "drink_url = \"https://www.thecocktaildb.com/api/json/v1/1/search.php\"\n",
    "data = {\"s\": \"Barracuda\"}\n",
    "response = requests.get(drink_url, params=data)"
   ]
  },
  {
   "cell_type": "code",
   "execution_count": 16,
   "id": "f2305554",
   "metadata": {
    "execution": {
     "iopub.execute_input": "2024-01-12T16:39:05.366454Z",
     "iopub.status.busy": "2024-01-12T16:39:05.366065Z",
     "iopub.status.idle": "2024-01-12T16:39:05.372548Z",
     "shell.execute_reply": "2024-01-12T16:39:05.371407Z"
    },
    "slideshow": {
     "slide_type": "fragment"
    },
    "tags": []
   },
   "outputs": [
    {
     "data": {
      "text/plain": [
       "200"
      ]
     },
     "execution_count": 16,
     "metadata": {},
     "output_type": "execute_result"
    }
   ],
   "source": [
    "response.status_code"
   ]
  },
  {
   "cell_type": "code",
   "execution_count": 17,
   "id": "9ac1d332",
   "metadata": {
    "execution": {
     "iopub.execute_input": "2024-01-12T16:39:05.378843Z",
     "iopub.status.busy": "2024-01-12T16:39:05.378415Z",
     "iopub.status.idle": "2024-01-12T16:39:05.383435Z",
     "shell.execute_reply": "2024-01-12T16:39:05.382166Z"
    },
    "slideshow": {
     "slide_type": "fragment"
    },
    "tags": []
   },
   "outputs": [],
   "source": [
    "data = response.json()"
   ]
  },
  {
   "cell_type": "code",
   "execution_count": 18,
   "id": "f45dfc42",
   "metadata": {
    "execution": {
     "iopub.execute_input": "2024-01-12T16:39:05.388970Z",
     "iopub.status.busy": "2024-01-12T16:39:05.388200Z",
     "iopub.status.idle": "2024-01-12T16:39:05.397194Z",
     "shell.execute_reply": "2024-01-12T16:39:05.395897Z"
    },
    "tags": []
   },
   "outputs": [
    {
     "data": {
      "text/plain": [
       "{'drinks': [{'idDrink': '17209',\n",
       "   'strDrink': 'Barracuda',\n",
       "   'strDrinkAlternate': None,\n",
       "   'strTags': 'IBA,NewEra',\n",
       "   'strVideo': None,\n",
       "   'strCategory': 'Ordinary Drink',\n",
       "   'strIBA': 'New Era Drinks',\n",
       "   'strAlcoholic': 'Alcoholic',\n",
       "   'strGlass': 'Margarita glass',\n",
       "   'strInstructions': 'Shake pour ingredients with ice. Strain into glass, top with Sparkling wine.',\n",
       "   'strInstructionsES': None,\n",
       "   'strInstructionsDE': 'Schütteln Sie die Zutaten mit Eis. In ein Glas abseihen, mit Sekt übergießen.',\n",
       "   'strInstructionsFR': None,\n",
       "   'strInstructionsIT': 'Shakerare e versare gli ingredienti con ghiaccio.\\r\\nFiltrare in un bicchiere, completare con spumante.',\n",
       "   'strInstructionsZH-HANS': None,\n",
       "   'strInstructionsZH-HANT': None,\n",
       "   'strDrinkThumb': 'https://www.thecocktaildb.com/images/media/drink/jwmr1x1504372337.jpg',\n",
       "   'strIngredient1': 'Rum',\n",
       "   'strIngredient2': 'Galliano',\n",
       "   'strIngredient3': 'Pineapple Juice',\n",
       "   'strIngredient4': 'Lime Juice',\n",
       "   'strIngredient5': 'Prosecco',\n",
       "   'strIngredient6': None,\n",
       "   'strIngredient7': None,\n",
       "   'strIngredient8': None,\n",
       "   'strIngredient9': None,\n",
       "   'strIngredient10': None,\n",
       "   'strIngredient11': None,\n",
       "   'strIngredient12': None,\n",
       "   'strIngredient13': None,\n",
       "   'strIngredient14': None,\n",
       "   'strIngredient15': None,\n",
       "   'strMeasure1': '4.5 cl',\n",
       "   'strMeasure2': '1.5 cl',\n",
       "   'strMeasure3': '6 cl',\n",
       "   'strMeasure4': ' 1 dash',\n",
       "   'strMeasure5': 'top up ',\n",
       "   'strMeasure6': None,\n",
       "   'strMeasure7': None,\n",
       "   'strMeasure8': None,\n",
       "   'strMeasure9': None,\n",
       "   'strMeasure10': None,\n",
       "   'strMeasure11': None,\n",
       "   'strMeasure12': None,\n",
       "   'strMeasure13': None,\n",
       "   'strMeasure14': None,\n",
       "   'strMeasure15': None,\n",
       "   'strImageSource': None,\n",
       "   'strImageAttribution': None,\n",
       "   'strCreativeCommonsConfirmed': 'No',\n",
       "   'dateModified': '2017-09-02 18:12:17'}]}"
      ]
     },
     "execution_count": 18,
     "metadata": {},
     "output_type": "execute_result"
    }
   ],
   "source": [
    "data"
   ]
  },
  {
   "cell_type": "code",
   "execution_count": 19,
   "id": "2da24b83",
   "metadata": {
    "execution": {
     "iopub.execute_input": "2024-01-12T16:39:05.402945Z",
     "iopub.status.busy": "2024-01-12T16:39:05.402466Z",
     "iopub.status.idle": "2024-01-12T16:39:05.408421Z",
     "shell.execute_reply": "2024-01-12T16:39:05.407274Z"
    },
    "slideshow": {
     "slide_type": "subslide"
    },
    "tags": []
   },
   "outputs": [
    {
     "name": "stdout",
     "output_type": "stream",
     "text": [
      "Make a Barracuda in a Margarita glass using Rum\n"
     ]
    }
   ],
   "source": [
    "cocktail = data[\"drinks\"][0]\n",
    "print(f'Make a {cocktail[\"strDrink\"]} in a {cocktail[\"strGlass\"]} using {cocktail[\"strIngredient1\"]}')"
   ]
  },
  {
   "cell_type": "markdown",
   "id": "fccd9d1c",
   "metadata": {
    "slideshow": {
     "slide_type": "slide"
    }
   },
   "source": [
    "## Summary\n",
    "- Access web APIs using the `requests` library\n",
    "- `requests.get` and `requests.post` for GET and POST requests\n",
    "- Use `.json()` to convert the response to a Python dictionary\n",
    "- Read the docs for the API you're using\n",
    "- Check status codes and throw exceptions"
   ]
  },
  {
   "cell_type": "markdown",
   "id": "7416ba9c",
   "metadata": {
    "slideshow": {
     "slide_type": "slide"
    }
   },
   "source": [
    "## Exercise\n",
    "Write a function that takes the name of an ingredient, and returns one recipe from TheCocktailDB that contains that ingredient.  The output string should be easy to read, and should list all ingredients along with the cocktail name and the instructions in English."
   ]
  },
  {
   "cell_type": "markdown",
   "id": "a23d4bde",
   "metadata": {
    "slideshow": {
     "slide_type": "subslide"
    }
   },
   "source": [
    "### Hints\n",
    "- Your function will need to do at least 2 API requests\n",
    "- You'll need to handle the case where the API returns no information\n",
    "- The ingredients are in the attributes `strIngredient1`, `strIngredient2` and so on.  Can you loop through these?"
   ]
  },
  {
   "cell_type": "markdown",
   "id": "060d2fd8",
   "metadata": {
    "slideshow": {
     "slide_type": "skip"
    }
   },
   "source": [
    "## Solution"
   ]
  },
  {
   "cell_type": "code",
   "execution_count": 20,
   "id": "590a31a4",
   "metadata": {
    "execution": {
     "iopub.execute_input": "2024-01-12T16:39:05.415364Z",
     "iopub.status.busy": "2024-01-12T16:39:05.414733Z",
     "iopub.status.idle": "2024-01-12T16:39:05.688708Z",
     "shell.execute_reply": "2024-01-12T16:39:05.687612Z"
    },
    "slideshow": {
     "slide_type": "skip"
    },
    "tags": []
   },
   "outputs": [
    {
     "data": {
      "text/plain": [
       "'Barracuda: Uses Rum, Galliano, Pineapple Juice, Lime Juice, Prosecco. Shake pour ingredients with ice. Strain into glass, top with Sparkling wine.'"
      ]
     },
     "execution_count": 20,
     "metadata": {},
     "output_type": "execute_result"
    }
   ],
   "source": [
    "import requests\n",
    "\n",
    "def get_recipe_with_ingredient(ingredient):\n",
    "    ingredients_url = \"https://www.thecocktaildb.com/api/json/v1/1/filter.php\"\n",
    "    data = {\"i\": ingredient}\n",
    "    response = requests.get(ingredients_url, params=data)\n",
    "    data = response.json()\n",
    "    name = data[\"drinks\"][0][\"strDrink\"]\n",
    "    \n",
    "    drink_url = \"https://www.thecocktaildb.com/api/json/v1/1/search.php\"\n",
    "    data = {\"s\": \"Barracuda\"}\n",
    "    response = requests.get(drink_url, params=data)\n",
    "    data = response.json()\n",
    "    cocktail = data[\"drinks\"][0]\n",
    "    \n",
    "    ingredients = []\n",
    "    i = 1\n",
    "    while (ingredient := cocktail[\"strIngredient\" + str(i)]) is not None:\n",
    "        ingredients.append(ingredient)\n",
    "        i += 1\n",
    "    out = f'{cocktail[\"strDrink\"]}: Uses {\", \".join(ingredients)}. {cocktail[\"strInstructions\"]}'\n",
    "    return out\n",
    "\n",
    "get_recipe_with_ingredient(\"Gin\")"
   ]
  }
 ],
 "metadata": {
  "celltoolbar": "Slideshow",
  "kernelspec": {
   "display_name": "Python 3 (ipykernel)",
   "language": "python",
   "name": "python3"
  },
  "language_info": {
   "codemirror_mode": {
    "name": "ipython",
    "version": 3
   },
   "file_extension": ".py",
   "mimetype": "text/x-python",
   "name": "python",
   "nbconvert_exporter": "python",
   "pygments_lexer": "ipython3",
   "version": "3.9.1"
  }
 },
 "nbformat": 4,
 "nbformat_minor": 5
}
