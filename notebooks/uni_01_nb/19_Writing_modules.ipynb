{
 "cells": [
  {
   "cell_type": "markdown",
   "metadata": {
    "slideshow": {
     "slide_type": "slide"
    }
   },
   "source": [
    "# Writing modules\n",
    "\n",
    "Programming in Python\n",
    "\n",
    "School of Computer Science, University of St Andrews"
   ]
  },
  {
   "cell_type": "markdown",
   "metadata": {
    "slideshow": {
     "slide_type": "slide"
    }
   },
   "source": [
    "### Celsius vs Fahrenheit: some functions"
   ]
  },
  {
   "cell_type": "code",
   "execution_count": 1,
   "metadata": {
    "execution": {
     "iopub.execute_input": "2023-11-07T21:47:03.648665Z",
     "iopub.status.busy": "2023-11-07T21:47:03.647623Z",
     "iopub.status.idle": "2023-11-07T21:47:03.662397Z",
     "shell.execute_reply": "2023-11-07T21:47:03.661175Z"
    },
    "slideshow": {
     "slide_type": "fragment"
    }
   },
   "outputs": [],
   "source": [
    "def c2f(c):\n",
    "    f = (c * 1.8) + 32\n",
    "    return f"
   ]
  },
  {
   "cell_type": "code",
   "execution_count": 2,
   "metadata": {
    "execution": {
     "iopub.execute_input": "2023-11-07T21:47:03.668609Z",
     "iopub.status.busy": "2023-11-07T21:47:03.668048Z",
     "iopub.status.idle": "2023-11-07T21:47:03.677793Z",
     "shell.execute_reply": "2023-11-07T21:47:03.676621Z"
    },
    "slideshow": {
     "slide_type": "fragment"
    }
   },
   "outputs": [
    {
     "data": {
      "text/plain": [
       "212.0"
      ]
     },
     "execution_count": 2,
     "metadata": {},
     "output_type": "execute_result"
    }
   ],
   "source": [
    "c2f(100)"
   ]
  },
  {
   "cell_type": "code",
   "execution_count": 3,
   "metadata": {
    "execution": {
     "iopub.execute_input": "2023-11-07T21:47:03.721815Z",
     "iopub.status.busy": "2023-11-07T21:47:03.721208Z",
     "iopub.status.idle": "2023-11-07T21:47:03.725896Z",
     "shell.execute_reply": "2023-11-07T21:47:03.725095Z"
    },
    "slideshow": {
     "slide_type": "slide"
    }
   },
   "outputs": [],
   "source": [
    "def f2c(f):\n",
    "    c = (f - 32) / 1.8\n",
    "    return c"
   ]
  },
  {
   "cell_type": "code",
   "execution_count": 4,
   "metadata": {
    "execution": {
     "iopub.execute_input": "2023-11-07T21:47:03.730065Z",
     "iopub.status.busy": "2023-11-07T21:47:03.729660Z",
     "iopub.status.idle": "2023-11-07T21:47:03.734208Z",
     "shell.execute_reply": "2023-11-07T21:47:03.733476Z"
    },
    "slideshow": {
     "slide_type": "fragment"
    }
   },
   "outputs": [
    {
     "data": {
      "text/plain": [
       "37.77777777777778"
      ]
     },
     "execution_count": 4,
     "metadata": {},
     "output_type": "execute_result"
    }
   ],
   "source": [
    "f2c(100)"
   ]
  },
  {
   "cell_type": "code",
   "execution_count": 5,
   "metadata": {
    "execution": {
     "iopub.execute_input": "2023-11-07T21:47:03.738106Z",
     "iopub.status.busy": "2023-11-07T21:47:03.737766Z",
     "iopub.status.idle": "2023-11-07T21:47:03.741669Z",
     "shell.execute_reply": "2023-11-07T21:47:03.741023Z"
    },
    "slideshow": {
     "slide_type": "fragment"
    }
   },
   "outputs": [
    {
     "name": "stdout",
     "output_type": "stream",
     "text": [
      "232.77777777777777\n"
     ]
    }
   ],
   "source": [
    "a=f2c(451) # a tribute to Ray Bradbury\n",
    "print(a)"
   ]
  },
  {
   "cell_type": "markdown",
   "metadata": {
    "slideshow": {
     "slide_type": "slide"
    }
   },
   "source": [
    "### How to change output formatting"
   ]
  },
  {
   "cell_type": "code",
   "execution_count": 6,
   "metadata": {
    "execution": {
     "iopub.execute_input": "2023-11-07T21:47:03.745816Z",
     "iopub.status.busy": "2023-11-07T21:47:03.745399Z",
     "iopub.status.idle": "2023-11-07T21:47:03.749469Z",
     "shell.execute_reply": "2023-11-07T21:47:03.748725Z"
    },
    "slideshow": {
     "slide_type": "fragment"
    }
   },
   "outputs": [
    {
     "name": "stdout",
     "output_type": "stream",
     "text": [
      "t = 2.328e+02\n",
      "t = 232.78\n"
     ]
    }
   ],
   "source": [
    "print(f't = {a:.3e}') # 3 digits after the point\n",
    "print(f't = {a:.2f}') # 2 digits after the point "
   ]
  },
  {
   "cell_type": "markdown",
   "metadata": {
    "slideshow": {
     "slide_type": "slide"
    }
   },
   "source": [
    "### This is still not good – it is not documented!"
   ]
  },
  {
   "cell_type": "markdown",
   "metadata": {
    "slideshow": {
     "slide_type": "fragment"
    }
   },
   "source": [
    "**Solution: docstrings**\n",
    "\n",
    "* triple quotation marks\n",
    "* `pydoc` to generate text or html\n",
    "* may be called `pydoc3` on your machine"
   ]
  },
  {
   "cell_type": "markdown",
   "metadata": {
    "slideshow": {
     "slide_type": "slide"
    }
   },
   "source": [
    "Create the file `c2f.py`:\n",
    "\n",
    "```python\n",
    "# Convert between Celsius and Fahrenheit\n",
    "\n",
    "\"\"\"Simple program to demonstrate functions\"\"\"\n",
    "```"
   ]
  },
  {
   "cell_type": "markdown",
   "metadata": {
    "slideshow": {
     "slide_type": "fragment"
    }
   },
   "source": [
    "Now try:\n",
    "```\n",
    "pydoc c2f\n",
    "pydoc -w c2f\n",
    "open c2f.html\n",
    "```"
   ]
  },
  {
   "cell_type": "markdown",
   "metadata": {
    "slideshow": {
     "slide_type": "slide"
    }
   },
   "source": [
    "Now add some code to  `c2f.py`"
   ]
  },
  {
   "cell_type": "markdown",
   "metadata": {
    "slideshow": {
     "slide_type": "fragment"
    }
   },
   "source": [
    "```python\n",
    "# Convert between Celsius and Fahrenheit\n",
    "\n",
    "\"\"\"Simple program to demonstrate functions\"\"\"\n",
    "\n",
    "def c2f(c):\n",
    "    \"\"\"Convert degrees C to degrees F\"\"\"\n",
    "    f = (c * 1.8) + 32\n",
    "    return f\n",
    "\n",
    "def f2c(f):\n",
    "    \"\"\"Convert degrees F to degrees C\"\"\"\n",
    "    c = (f - 32) / 1.8\n",
    "    return c\n",
    "```"
   ]
  },
  {
   "cell_type": "markdown",
   "metadata": {
    "slideshow": {
     "slide_type": "slide"
    }
   },
   "source": [
    "Then try again \n",
    "```\n",
    "pydoc c2f\n",
    "pydoc -w c2f\n",
    "open c2f.html\n",
    "```"
   ]
  },
  {
   "cell_type": "markdown",
   "metadata": {
    "slideshow": {
     "slide_type": "slide"
    }
   },
   "source": [
    "## Example: Fibonacci series"
   ]
  },
  {
   "cell_type": "code",
   "execution_count": 7,
   "metadata": {
    "execution": {
     "iopub.execute_input": "2023-11-07T21:47:03.754267Z",
     "iopub.status.busy": "2023-11-07T21:47:03.753474Z",
     "iopub.status.idle": "2023-11-07T21:47:03.758384Z",
     "shell.execute_reply": "2023-11-07T21:47:03.757511Z"
    },
    "slideshow": {
     "slide_type": "fragment"
    }
   },
   "outputs": [],
   "source": [
    "def fib(n):\n",
    "    \"\"\"Write the first n entries in the Fibonacci series\"\"\"\n",
    "    a, b = 0, 1\n",
    "    while b < n:\n",
    "        print(b)\n",
    "        a, b = b, a+b"
   ]
  },
  {
   "cell_type": "code",
   "execution_count": 8,
   "metadata": {
    "execution": {
     "iopub.execute_input": "2023-11-07T21:47:03.762623Z",
     "iopub.status.busy": "2023-11-07T21:47:03.762019Z",
     "iopub.status.idle": "2023-11-07T21:47:03.766108Z",
     "shell.execute_reply": "2023-11-07T21:47:03.765391Z"
    },
    "slideshow": {
     "slide_type": "fragment"
    }
   },
   "outputs": [
    {
     "name": "stdout",
     "output_type": "stream",
     "text": [
      "1\n",
      "1\n",
      "2\n",
      "3\n",
      "5\n",
      "8\n",
      "13\n",
      "21\n",
      "34\n",
      "55\n",
      "89\n"
     ]
    }
   ],
   "source": [
    "fib(100)"
   ]
  },
  {
   "cell_type": "code",
   "execution_count": 9,
   "metadata": {
    "execution": {
     "iopub.execute_input": "2023-11-07T21:47:03.769864Z",
     "iopub.status.busy": "2023-11-07T21:47:03.769353Z",
     "iopub.status.idle": "2023-11-07T21:47:03.773540Z",
     "shell.execute_reply": "2023-11-07T21:47:03.772819Z"
    },
    "slideshow": {
     "slide_type": "slide"
    }
   },
   "outputs": [],
   "source": [
    "def fib2(n):\n",
    "    \"\"\"Return the first n entries in the Fibonacci series\"\"\"\n",
    "    result = []\n",
    "    a, b = 0, 1\n",
    "    while b < n:\n",
    "        result.append(b)\n",
    "        a, b = b, a+b\n",
    "    return result"
   ]
  },
  {
   "cell_type": "code",
   "execution_count": 10,
   "metadata": {
    "execution": {
     "iopub.execute_input": "2023-11-07T21:47:03.777192Z",
     "iopub.status.busy": "2023-11-07T21:47:03.776891Z",
     "iopub.status.idle": "2023-11-07T21:47:03.781147Z",
     "shell.execute_reply": "2023-11-07T21:47:03.780539Z"
    },
    "slideshow": {
     "slide_type": "fragment"
    }
   },
   "outputs": [
    {
     "data": {
      "text/plain": [
       "[1, 1, 2, 3, 5, 8, 13, 21, 34, 55, 89]"
      ]
     },
     "execution_count": 10,
     "metadata": {},
     "output_type": "execute_result"
    }
   ],
   "source": [
    "fib2(100)"
   ]
  },
  {
   "cell_type": "markdown",
   "metadata": {
    "slideshow": {
     "slide_type": "slide"
    }
   },
   "source": [
    "## This works everywhere"
   ]
  },
  {
   "cell_type": "code",
   "execution_count": 11,
   "metadata": {
    "execution": {
     "iopub.execute_input": "2023-11-07T21:47:03.784877Z",
     "iopub.status.busy": "2023-11-07T21:47:03.784552Z",
     "iopub.status.idle": "2023-11-07T21:47:03.788804Z",
     "shell.execute_reply": "2023-11-07T21:47:03.788015Z"
    },
    "slideshow": {
     "slide_type": "fragment"
    }
   },
   "outputs": [
    {
     "name": "stdout",
     "output_type": "stream",
     "text": [
      "Help on function fib in module __main__:\n",
      "\n",
      "fib(n)\n",
      "    Write the first n entries in the Fibonacci series\n",
      "\n"
     ]
    }
   ],
   "source": [
    "help(fib)"
   ]
  },
  {
   "cell_type": "code",
   "execution_count": 12,
   "metadata": {
    "execution": {
     "iopub.execute_input": "2023-11-07T21:47:03.792604Z",
     "iopub.status.busy": "2023-11-07T21:47:03.792298Z",
     "iopub.status.idle": "2023-11-07T21:47:03.796275Z",
     "shell.execute_reply": "2023-11-07T21:47:03.795622Z"
    },
    "slideshow": {
     "slide_type": "fragment"
    }
   },
   "outputs": [
    {
     "name": "stdout",
     "output_type": "stream",
     "text": [
      "Help on function fib2 in module __main__:\n",
      "\n",
      "fib2(n)\n",
      "    Return the first n entries in the Fibonacci series\n",
      "\n"
     ]
    }
   ],
   "source": [
    "help(fib2)"
   ]
  },
  {
   "cell_type": "markdown",
   "metadata": {
    "slideshow": {
     "slide_type": "slide"
    }
   },
   "source": [
    "## This is specific for Jupyter notebooks"
   ]
  },
  {
   "cell_type": "code",
   "execution_count": 13,
   "metadata": {
    "execution": {
     "iopub.execute_input": "2023-11-07T21:47:03.800033Z",
     "iopub.status.busy": "2023-11-07T21:47:03.799730Z",
     "iopub.status.idle": "2023-11-07T21:47:03.846255Z",
     "shell.execute_reply": "2023-11-07T21:47:03.845206Z"
    },
    "slideshow": {
     "slide_type": "fragment"
    }
   },
   "outputs": [],
   "source": [
    "fib?"
   ]
  },
  {
   "cell_type": "code",
   "execution_count": 14,
   "metadata": {
    "execution": {
     "iopub.execute_input": "2023-11-07T21:47:03.851046Z",
     "iopub.status.busy": "2023-11-07T21:47:03.850404Z",
     "iopub.status.idle": "2023-11-07T21:47:03.855222Z",
     "shell.execute_reply": "2023-11-07T21:47:03.854515Z"
    },
    "slideshow": {
     "slide_type": "fragment"
    }
   },
   "outputs": [],
   "source": [
    "fib2?"
   ]
  },
  {
   "cell_type": "markdown",
   "metadata": {
    "slideshow": {
     "slide_type": "slide"
    }
   },
   "source": [
    "# Modules"
   ]
  },
  {
   "cell_type": "markdown",
   "metadata": {
    "slideshow": {
     "slide_type": "fragment"
    }
   },
   "source": [
    "* Separate files with variable/function definitions\n",
    "* Can be used via `import` and `from`\n"
   ]
  },
  {
   "cell_type": "markdown",
   "metadata": {
    "slideshow": {
     "slide_type": "fragment"
    }
   },
   "source": [
    "Copy the functions we defined to a file `fibo.py`"
   ]
  },
  {
   "cell_type": "markdown",
   "metadata": {
    "slideshow": {
     "slide_type": "slide"
    }
   },
   "source": [
    "```python\n",
    "def fibonacci(n):\n",
    "    \"\"\"write Fibonacci series up to n\"\"\"\n",
    "    a, b = 0, 1\n",
    "    while b < n:\n",
    "        print(b)\n",
    "        a, b = b, a+b\n",
    "        \n",
    "def fibonacci2(n):\n",
    "    \"\"\"return Fibonacci series up to n\"\"\"\n",
    "    result = []\n",
    "    a, b = 0, 1\n",
    "    while b < n:\n",
    "        result.append(b)\n",
    "        a, b = b, a+b\n",
    "    return result\n",
    "```"
   ]
  },
  {
   "cell_type": "code",
   "execution_count": 15,
   "metadata": {
    "execution": {
     "iopub.execute_input": "2023-11-07T21:47:03.859856Z",
     "iopub.status.busy": "2023-11-07T21:47:03.859464Z",
     "iopub.status.idle": "2023-11-07T21:47:03.865158Z",
     "shell.execute_reply": "2023-11-07T21:47:03.864337Z"
    },
    "slideshow": {
     "slide_type": "slide"
    }
   },
   "outputs": [],
   "source": [
    "import fibo"
   ]
  },
  {
   "cell_type": "code",
   "execution_count": 16,
   "metadata": {
    "execution": {
     "iopub.execute_input": "2023-11-07T21:47:03.869443Z",
     "iopub.status.busy": "2023-11-07T21:47:03.869043Z",
     "iopub.status.idle": "2023-11-07T21:47:03.873488Z",
     "shell.execute_reply": "2023-11-07T21:47:03.872291Z"
    },
    "scrolled": true,
    "slideshow": {
     "slide_type": "fragment"
    }
   },
   "outputs": [
    {
     "name": "stdout",
     "output_type": "stream",
     "text": [
      "1\n",
      "1\n",
      "2\n",
      "3\n",
      "5\n",
      "8\n"
     ]
    }
   ],
   "source": [
    "fibo.fibonacci(10)"
   ]
  },
  {
   "cell_type": "code",
   "execution_count": 17,
   "metadata": {
    "execution": {
     "iopub.execute_input": "2023-11-07T21:47:03.877734Z",
     "iopub.status.busy": "2023-11-07T21:47:03.877155Z",
     "iopub.status.idle": "2023-11-07T21:47:03.882019Z",
     "shell.execute_reply": "2023-11-07T21:47:03.881325Z"
    },
    "slideshow": {
     "slide_type": "fragment"
    }
   },
   "outputs": [
    {
     "data": {
      "text/plain": [
       "[1, 1, 2, 3, 5, 8]"
      ]
     },
     "execution_count": 17,
     "metadata": {},
     "output_type": "execute_result"
    }
   ],
   "source": [
    "fibo.fibonacci2(10)"
   ]
  },
  {
   "cell_type": "markdown",
   "metadata": {
    "slideshow": {
     "slide_type": "slide"
    }
   },
   "source": [
    "### Alternatively, use explicit import by specifying function name"
   ]
  },
  {
   "cell_type": "code",
   "execution_count": 18,
   "metadata": {
    "execution": {
     "iopub.execute_input": "2023-11-07T21:47:03.886091Z",
     "iopub.status.busy": "2023-11-07T21:47:03.885722Z",
     "iopub.status.idle": "2023-11-07T21:47:03.889524Z",
     "shell.execute_reply": "2023-11-07T21:47:03.888713Z"
    },
    "slideshow": {
     "slide_type": "fragment"
    }
   },
   "outputs": [],
   "source": [
    "from fibo import fibonacci, fibonacci2"
   ]
  },
  {
   "cell_type": "code",
   "execution_count": 19,
   "metadata": {
    "execution": {
     "iopub.execute_input": "2023-11-07T21:47:03.893526Z",
     "iopub.status.busy": "2023-11-07T21:47:03.893182Z",
     "iopub.status.idle": "2023-11-07T21:47:03.897878Z",
     "shell.execute_reply": "2023-11-07T21:47:03.897171Z"
    },
    "slideshow": {
     "slide_type": "fragment"
    }
   },
   "outputs": [
    {
     "data": {
      "text/plain": [
       "[1, 1, 2, 3, 5, 8, 13, 21, 34, 55, 89, 144, 233, 377]"
      ]
     },
     "execution_count": 19,
     "metadata": {},
     "output_type": "execute_result"
    }
   ],
   "source": [
    "fibonacci2(500)"
   ]
  },
  {
   "cell_type": "markdown",
   "metadata": {
    "slideshow": {
     "slide_type": "slide"
    }
   },
   "source": [
    "## Reloading a module\n",
    "```python\n",
    "import importlib\n",
    "importlib.reload(fibo)\n",
    "```"
   ]
  },
  {
   "cell_type": "markdown",
   "metadata": {
    "slideshow": {
     "slide_type": "slide"
    }
   },
   "source": [
    "# How to code:\n",
    "\n",
    "* Use the interpreter interactively in the terminal or via Jupyter\n",
    "* Use a text editor to write plain text programs\n",
    "* Combine both of the above\n",
    "* Use JupyterLab: https://jupyterlab.readthedocs.io/\n",
    "* Use an IDE: see some at https://wiki.python.org/moin/IntegratedDevelopmentEnvironments"
   ]
  },
  {
   "cell_type": "markdown",
   "metadata": {
    "slideshow": {
     "slide_type": "slide"
    }
   },
   "source": [
    "## Exercise\n",
    "* Create a file `imperial_to_metric.py` with functions to convert from yards to metres, and from acres to hectares\n",
    "* Include docstrings that make it clear what your functions do\n",
    "* In the cell below, import your module and try calling the functions.\n",
    "* Get Jupyter to print out the help message "
   ]
  }
 ],
 "metadata": {
  "celltoolbar": "Slideshow",
  "kernelspec": {
   "display_name": "Python 3 (ipykernel)",
   "language": "python",
   "name": "python3"
  },
  "language_info": {
   "codemirror_mode": {
    "name": "ipython",
    "version": 3
   },
   "file_extension": ".py",
   "mimetype": "text/x-python",
   "name": "python",
   "nbconvert_exporter": "python",
   "pygments_lexer": "ipython3",
   "version": "3.9.1"
  }
 },
 "nbformat": 4,
 "nbformat_minor": 4
}
