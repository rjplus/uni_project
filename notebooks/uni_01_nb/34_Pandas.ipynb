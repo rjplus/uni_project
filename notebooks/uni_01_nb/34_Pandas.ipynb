{
 "cells": [
  {
   "cell_type": "markdown",
   "id": "1273356c",
   "metadata": {
    "slideshow": {
     "slide_type": "slide"
    }
   },
   "source": [
    "# Pandas\n",
    "\n",
    "Programming in Python\n",
    "\n",
    "School of Computer Science, University of St Andrews"
   ]
  },
  {
   "cell_type": "markdown",
   "id": "06ed0004",
   "metadata": {
    "slideshow": {
     "slide_type": "slide"
    }
   },
   "source": [
    "# What is Pandas?"
   ]
  },
  {
   "cell_type": "markdown",
   "id": "cd30c74b",
   "metadata": {
    "slideshow": {
     "slide_type": "fragment"
    }
   },
   "source": [
    "Pandas is a library for data manipulation."
   ]
  },
  {
   "cell_type": "markdown",
   "id": "6f5f8ad4",
   "metadata": {
    "slideshow": {
     "slide_type": "fragment"
    }
   },
   "source": [
    "Useful for reading, exploring, transforming, and writing table-like data with columns of different data-types."
   ]
  },
  {
   "cell_type": "markdown",
   "id": "5c58273f",
   "metadata": {
    "slideshow": {
     "slide_type": "fragment"
    }
   },
   "source": [
    "This is what makes it distinct from NumPy, the heterogeneous nature of the data."
   ]
  },
  {
   "cell_type": "markdown",
   "id": "42e5cf45",
   "metadata": {
    "slideshow": {
     "slide_type": "fragment"
    }
   },
   "source": [
    "It’s similar to a spreadsheet but can do many of the selection and transformation operations you might do with a database."
   ]
  },
  {
   "cell_type": "markdown",
   "id": "c98d03ff",
   "metadata": {
    "slideshow": {
     "slide_type": "slide"
    }
   },
   "source": [
    "# Importing Pandas\n",
    "Much like NumPy there is a convention when importing Pandas."
   ]
  },
  {
   "cell_type": "code",
   "execution_count": 1,
   "id": "5858e72d",
   "metadata": {
    "execution": {
     "iopub.execute_input": "2024-01-12T16:09:03.931927Z",
     "iopub.status.busy": "2024-01-12T16:09:03.931364Z",
     "iopub.status.idle": "2024-01-12T16:09:06.827170Z",
     "shell.execute_reply": "2024-01-12T16:09:06.825878Z"
    },
    "slideshow": {
     "slide_type": "fragment"
    }
   },
   "outputs": [],
   "source": [
    "import pandas as pd"
   ]
  },
  {
   "cell_type": "markdown",
   "id": "490e4ac3",
   "metadata": {
    "slideshow": {
     "slide_type": "slide"
    }
   },
   "source": [
    "# Series"
   ]
  },
  {
   "cell_type": "markdown",
   "id": "086140c6",
   "metadata": {
    "slideshow": {
     "slide_type": "fragment"
    }
   },
   "source": [
    "A Series is one-dimensional ndarray with labels for each of its elements – called its index."
   ]
  },
  {
   "cell_type": "markdown",
   "id": "b0c12c1b",
   "metadata": {
    "slideshow": {
     "slide_type": "fragment"
    }
   },
   "source": [
    "An index can be any hashable value, such as a string or an integer. They default to 0, 1, 2, 3, …"
   ]
  },
  {
   "cell_type": "markdown",
   "id": "6649f19c",
   "metadata": {
    "slideshow": {
     "slide_type": "fragment"
    }
   },
   "source": [
    "A Series can also have name (optionally)."
   ]
  },
  {
   "cell_type": "markdown",
   "id": "34226dee",
   "metadata": {
    "slideshow": {
     "slide_type": "fragment"
    }
   },
   "source": [
    "We can declare a Series like so, passing in a value for each element:"
   ]
  },
  {
   "cell_type": "code",
   "execution_count": 2,
   "id": "ac919f5d",
   "metadata": {
    "execution": {
     "iopub.execute_input": "2024-01-12T16:09:06.832595Z",
     "iopub.status.busy": "2024-01-12T16:09:06.832233Z",
     "iopub.status.idle": "2024-01-12T16:09:06.842084Z",
     "shell.execute_reply": "2024-01-12T16:09:06.841280Z"
    },
    "slideshow": {
     "slide_type": "subslide"
    }
   },
   "outputs": [
    {
     "data": {
      "text/plain": [
       "0    a\n",
       "1    b\n",
       "2    c\n",
       "3    c\n",
       "dtype: object"
      ]
     },
     "execution_count": 2,
     "metadata": {},
     "output_type": "execute_result"
    }
   ],
   "source": [
    "pd.Series(['a', 'b', 'c', 'c'])"
   ]
  },
  {
   "cell_type": "markdown",
   "id": "4645b22a",
   "metadata": {
    "slideshow": {
     "slide_type": "fragment"
    }
   },
   "source": [
    "This will add a Range Index by default, that is one that starts a 0 and goes up in increments of 1."
   ]
  },
  {
   "cell_type": "markdown",
   "id": "b4fdd703",
   "metadata": {
    "slideshow": {
     "slide_type": "subslide"
    }
   },
   "source": [
    "Let's say that we want to use a set of the string of our own invention as the indices. We can do this by passing a list to the `index` keyword argument."
   ]
  },
  {
   "cell_type": "code",
   "execution_count": 3,
   "id": "fdaa921d",
   "metadata": {
    "execution": {
     "iopub.execute_input": "2024-01-12T16:09:06.846368Z",
     "iopub.status.busy": "2024-01-12T16:09:06.845935Z",
     "iopub.status.idle": "2024-01-12T16:09:06.853141Z",
     "shell.execute_reply": "2024-01-12T16:09:06.851975Z"
    },
    "slideshow": {
     "slide_type": "fragment"
    }
   },
   "outputs": [
    {
     "data": {
      "text/plain": [
       "row0    a\n",
       "row1    b\n",
       "row2    c\n",
       "row3    c\n",
       "dtype: object"
      ]
     },
     "execution_count": 3,
     "metadata": {},
     "output_type": "execute_result"
    }
   ],
   "source": [
    "s = pd.Series(['a', 'b', 'c', 'c'], \n",
    "        index=['row0', 'row1', 'row2', 'row3'])\n",
    "s"
   ]
  },
  {
   "cell_type": "markdown",
   "id": "424518a5",
   "metadata": {
    "slideshow": {
     "slide_type": "slide"
    }
   },
   "source": [
    "## Indexing Series\n",
    "If we want to select a value from a series, there are two methods: "
   ]
  },
  {
   "cell_type": "markdown",
   "id": "1189450b",
   "metadata": {
    "slideshow": {
     "slide_type": "fragment"
    }
   },
   "source": [
    "- `loc` – retrieves that value with that label in the index"
   ]
  },
  {
   "cell_type": "code",
   "execution_count": 4,
   "id": "a0d8e76d",
   "metadata": {
    "execution": {
     "iopub.execute_input": "2024-01-12T16:09:06.857187Z",
     "iopub.status.busy": "2024-01-12T16:09:06.856900Z",
     "iopub.status.idle": "2024-01-12T16:09:06.861438Z",
     "shell.execute_reply": "2024-01-12T16:09:06.860722Z"
    },
    "slideshow": {
     "slide_type": "fragment"
    }
   },
   "outputs": [
    {
     "data": {
      "text/plain": [
       "'c'"
      ]
     },
     "execution_count": 4,
     "metadata": {},
     "output_type": "execute_result"
    }
   ],
   "source": [
    "s.loc['row2']"
   ]
  },
  {
   "cell_type": "markdown",
   "id": "5123d5a2",
   "metadata": {
    "slideshow": {
     "slide_type": "subslide"
    }
   },
   "source": [
    "- `iloc` – retrieves the value at that location"
   ]
  },
  {
   "cell_type": "code",
   "execution_count": 5,
   "id": "25c9f02f",
   "metadata": {
    "execution": {
     "iopub.execute_input": "2024-01-12T16:09:06.865711Z",
     "iopub.status.busy": "2024-01-12T16:09:06.865255Z",
     "iopub.status.idle": "2024-01-12T16:09:06.870023Z",
     "shell.execute_reply": "2024-01-12T16:09:06.869362Z"
    },
    "slideshow": {
     "slide_type": "fragment"
    }
   },
   "outputs": [
    {
     "data": {
      "text/plain": [
       "'c'"
      ]
     },
     "execution_count": 5,
     "metadata": {},
     "output_type": "execute_result"
    }
   ],
   "source": [
    "s.iloc[2]"
   ]
  },
  {
   "cell_type": "markdown",
   "id": "0a2b47bf",
   "metadata": {
    "slideshow": {
     "slide_type": "fragment"
    }
   },
   "source": [
    "Watch out! The subscript operator uses `loc`. This can be a source of bugs."
   ]
  },
  {
   "cell_type": "markdown",
   "id": "2fb7d56e",
   "metadata": {
    "slideshow": {
     "slide_type": "slide"
    }
   },
   "source": [
    "## Data Frames"
   ]
  },
  {
   "cell_type": "markdown",
   "id": "e66ce7ea",
   "metadata": {
    "slideshow": {
     "slide_type": "fragment"
    }
   },
   "source": [
    "- A Data Frame is two-dimensional data structure, used to represent table-like data consisting of cells, organised into rows and columns."
   ]
  },
  {
   "cell_type": "markdown",
   "id": "07ab804f",
   "metadata": {
    "slideshow": {
     "slide_type": "fragment"
    }
   },
   "source": [
    "- Each column in a Data Frame is a Series. "
   ]
  },
  {
   "cell_type": "markdown",
   "id": "707a1758",
   "metadata": {
    "slideshow": {
     "slide_type": "fragment"
    }
   },
   "source": [
    "- You can think of a Data Frame as a dictionary of Series."
   ]
  },
  {
   "cell_type": "markdown",
   "id": "c9a4f71a",
   "metadata": {
    "slideshow": {
     "slide_type": "subslide"
    }
   },
   "source": [
    "- All Series in the Data Frame have identical indices."
   ]
  },
  {
   "cell_type": "markdown",
   "id": "6f96aa61",
   "metadata": {
    "slideshow": {
     "slide_type": "fragment"
    }
   },
   "source": [
    "- Think of the indices as defining the row names and the keys for each Series as defining the column names."
   ]
  },
  {
   "cell_type": "markdown",
   "id": "ad79da67",
   "metadata": {
    "slideshow": {
     "slide_type": "fragment"
    }
   },
   "source": [
    "- They are declared using the `DataFrame` constructor. For example:"
   ]
  },
  {
   "cell_type": "code",
   "execution_count": 6,
   "id": "948b180a",
   "metadata": {
    "execution": {
     "iopub.execute_input": "2024-01-12T16:09:06.874399Z",
     "iopub.status.busy": "2024-01-12T16:09:06.873916Z",
     "iopub.status.idle": "2024-01-12T16:09:06.885920Z",
     "shell.execute_reply": "2024-01-12T16:09:06.885146Z"
    },
    "slideshow": {
     "slide_type": "slide"
    }
   },
   "outputs": [
    {
     "data": {
      "text/html": [
       "<div>\n",
       "<style scoped>\n",
       "    .dataframe tbody tr th:only-of-type {\n",
       "        vertical-align: middle;\n",
       "    }\n",
       "\n",
       "    .dataframe tbody tr th {\n",
       "        vertical-align: top;\n",
       "    }\n",
       "\n",
       "    .dataframe thead th {\n",
       "        text-align: right;\n",
       "    }\n",
       "</style>\n",
       "<table border=\"1\" class=\"dataframe\">\n",
       "  <thead>\n",
       "    <tr style=\"text-align: right;\">\n",
       "      <th></th>\n",
       "      <th>name</th>\n",
       "      <th>instrument</th>\n",
       "      <th>age</th>\n",
       "    </tr>\n",
       "  </thead>\n",
       "  <tbody>\n",
       "    <tr>\n",
       "      <th>0</th>\n",
       "      <td>Nick</td>\n",
       "      <td>drums</td>\n",
       "      <td>77</td>\n",
       "    </tr>\n",
       "    <tr>\n",
       "      <th>1</th>\n",
       "      <td>Richard</td>\n",
       "      <td>keyboards</td>\n",
       "      <td>65</td>\n",
       "    </tr>\n",
       "    <tr>\n",
       "      <th>2</th>\n",
       "      <td>Dave</td>\n",
       "      <td>guitar</td>\n",
       "      <td>74</td>\n",
       "    </tr>\n",
       "  </tbody>\n",
       "</table>\n",
       "</div>"
      ],
      "text/plain": [
       "      name instrument  age\n",
       "0     Nick      drums   77\n",
       "1  Richard  keyboards   65\n",
       "2     Dave     guitar   74"
      ]
     },
     "execution_count": 6,
     "metadata": {},
     "output_type": "execute_result"
    }
   ],
   "source": [
    "pink_floyd = pd.DataFrame({\n",
    "    \"name\": [\"Nick\", \"Richard\", \"Dave\"],\n",
    "    \"instrument\": [\"drums\", \"keyboards\", \"guitar\"],\n",
    "    \"age\": [77, 65, 74]\n",
    "})\n",
    "pink_floyd"
   ]
  },
  {
   "cell_type": "markdown",
   "id": "8f6408e8",
   "metadata": {
    "slideshow": {
     "slide_type": "fragment"
    }
   },
   "source": [
    "You can declare an empty Data Frame with the column names using the `columns` keyword argument."
   ]
  },
  {
   "cell_type": "markdown",
   "id": "a0f3800a",
   "metadata": {
    "slideshow": {
     "slide_type": "subslide"
    }
   },
   "source": [
    "Data Frames actually have a property called `columns`. Note - it is of type index but it's actually the column names, not the rows."
   ]
  },
  {
   "cell_type": "code",
   "execution_count": 7,
   "id": "ddb1e7f8",
   "metadata": {
    "execution": {
     "iopub.execute_input": "2024-01-12T16:09:06.890240Z",
     "iopub.status.busy": "2024-01-12T16:09:06.889662Z",
     "iopub.status.idle": "2024-01-12T16:09:06.899456Z",
     "shell.execute_reply": "2024-01-12T16:09:06.898759Z"
    },
    "slideshow": {
     "slide_type": "fragment"
    }
   },
   "outputs": [
    {
     "data": {
      "text/html": [
       "<div>\n",
       "<style scoped>\n",
       "    .dataframe tbody tr th:only-of-type {\n",
       "        vertical-align: middle;\n",
       "    }\n",
       "\n",
       "    .dataframe tbody tr th {\n",
       "        vertical-align: top;\n",
       "    }\n",
       "\n",
       "    .dataframe thead th {\n",
       "        text-align: right;\n",
       "    }\n",
       "</style>\n",
       "<table border=\"1\" class=\"dataframe\">\n",
       "  <thead>\n",
       "    <tr style=\"text-align: right;\">\n",
       "      <th></th>\n",
       "      <th>name</th>\n",
       "      <th>instrument</th>\n",
       "      <th>age</th>\n",
       "    </tr>\n",
       "  </thead>\n",
       "  <tbody>\n",
       "  </tbody>\n",
       "</table>\n",
       "</div>"
      ],
      "text/plain": [
       "Empty DataFrame\n",
       "Columns: [name, instrument, age]\n",
       "Index: []"
      ]
     },
     "execution_count": 7,
     "metadata": {},
     "output_type": "execute_result"
    }
   ],
   "source": [
    "band = pd.DataFrame(columns=['name', 'instrument', 'age'])\n",
    "band"
   ]
  },
  {
   "cell_type": "code",
   "execution_count": 8,
   "id": "2a55c9c5",
   "metadata": {
    "execution": {
     "iopub.execute_input": "2024-01-12T16:09:06.903055Z",
     "iopub.status.busy": "2024-01-12T16:09:06.902760Z",
     "iopub.status.idle": "2024-01-12T16:09:06.907649Z",
     "shell.execute_reply": "2024-01-12T16:09:06.906968Z"
    },
    "scrolled": true,
    "slideshow": {
     "slide_type": "subslide"
    }
   },
   "outputs": [
    {
     "data": {
      "text/plain": [
       "Index(['name', 'instrument', 'age'], dtype='object')"
      ]
     },
     "execution_count": 8,
     "metadata": {},
     "output_type": "execute_result"
    }
   ],
   "source": [
    "band.columns"
   ]
  },
  {
   "cell_type": "markdown",
   "id": "fc332d6e",
   "metadata": {
    "slideshow": {
     "slide_type": "fragment"
    }
   },
   "source": [
    "It can be useful to get a quick look at the start of any data. To do this we can use the `head` method to select as many rows at the start as we want."
   ]
  },
  {
   "cell_type": "code",
   "execution_count": 9,
   "id": "92cb60eb",
   "metadata": {
    "execution": {
     "iopub.execute_input": "2024-01-12T16:09:06.911991Z",
     "iopub.status.busy": "2024-01-12T16:09:06.911429Z",
     "iopub.status.idle": "2024-01-12T16:09:06.919107Z",
     "shell.execute_reply": "2024-01-12T16:09:06.918362Z"
    },
    "slideshow": {
     "slide_type": "fragment"
    }
   },
   "outputs": [
    {
     "data": {
      "text/html": [
       "<div>\n",
       "<style scoped>\n",
       "    .dataframe tbody tr th:only-of-type {\n",
       "        vertical-align: middle;\n",
       "    }\n",
       "\n",
       "    .dataframe tbody tr th {\n",
       "        vertical-align: top;\n",
       "    }\n",
       "\n",
       "    .dataframe thead th {\n",
       "        text-align: right;\n",
       "    }\n",
       "</style>\n",
       "<table border=\"1\" class=\"dataframe\">\n",
       "  <thead>\n",
       "    <tr style=\"text-align: right;\">\n",
       "      <th></th>\n",
       "      <th>name</th>\n",
       "      <th>instrument</th>\n",
       "      <th>age</th>\n",
       "    </tr>\n",
       "  </thead>\n",
       "  <tbody>\n",
       "    <tr>\n",
       "      <th>0</th>\n",
       "      <td>Nick</td>\n",
       "      <td>drums</td>\n",
       "      <td>77</td>\n",
       "    </tr>\n",
       "    <tr>\n",
       "      <th>1</th>\n",
       "      <td>Richard</td>\n",
       "      <td>keyboards</td>\n",
       "      <td>65</td>\n",
       "    </tr>\n",
       "  </tbody>\n",
       "</table>\n",
       "</div>"
      ],
      "text/plain": [
       "      name instrument  age\n",
       "0     Nick      drums   77\n",
       "1  Richard  keyboards   65"
      ]
     },
     "execution_count": 9,
     "metadata": {},
     "output_type": "execute_result"
    }
   ],
   "source": [
    "pink_floyd.head(2)"
   ]
  },
  {
   "cell_type": "markdown",
   "id": "abf9a1de",
   "metadata": {
    "slideshow": {
     "slide_type": "slide"
    }
   },
   "source": [
    "## Indexing Data Frames"
   ]
  },
  {
   "cell_type": "markdown",
   "id": "c4cef919",
   "metadata": {
    "slideshow": {
     "slide_type": "fragment"
    }
   },
   "source": [
    "Indexing pandas dataframes has the same label and position options as the pandas Series."
   ]
  },
  {
   "cell_type": "code",
   "execution_count": 10,
   "id": "20c9dadf",
   "metadata": {
    "execution": {
     "iopub.execute_input": "2024-01-12T16:09:06.923328Z",
     "iopub.status.busy": "2024-01-12T16:09:06.922967Z",
     "iopub.status.idle": "2024-01-12T16:09:06.932876Z",
     "shell.execute_reply": "2024-01-12T16:09:06.932190Z"
    },
    "slideshow": {
     "slide_type": "fragment"
    }
   },
   "outputs": [
    {
     "data": {
      "text/html": [
       "<div>\n",
       "<style scoped>\n",
       "    .dataframe tbody tr th:only-of-type {\n",
       "        vertical-align: middle;\n",
       "    }\n",
       "\n",
       "    .dataframe tbody tr th {\n",
       "        vertical-align: top;\n",
       "    }\n",
       "\n",
       "    .dataframe thead th {\n",
       "        text-align: right;\n",
       "    }\n",
       "</style>\n",
       "<table border=\"1\" class=\"dataframe\">\n",
       "  <thead>\n",
       "    <tr style=\"text-align: right;\">\n",
       "      <th></th>\n",
       "      <th>name</th>\n",
       "      <th>age</th>\n",
       "    </tr>\n",
       "  </thead>\n",
       "  <tbody>\n",
       "    <tr>\n",
       "      <th>0</th>\n",
       "      <td>Nick</td>\n",
       "      <td>77</td>\n",
       "    </tr>\n",
       "    <tr>\n",
       "      <th>2</th>\n",
       "      <td>Dave</td>\n",
       "      <td>74</td>\n",
       "    </tr>\n",
       "  </tbody>\n",
       "</table>\n",
       "</div>"
      ],
      "text/plain": [
       "   name  age\n",
       "0  Nick   77\n",
       "2  Dave   74"
      ]
     },
     "execution_count": 10,
     "metadata": {},
     "output_type": "execute_result"
    }
   ],
   "source": [
    "pink_floyd.loc[[0, 2], ['name', 'age']]"
   ]
  },
  {
   "cell_type": "markdown",
   "id": "bc1deb66",
   "metadata": {
    "slideshow": {
     "slide_type": "subslide"
    }
   },
   "source": [
    "We can also use a boolean condition (a *predicate*) to select specific rows."
   ]
  },
  {
   "cell_type": "code",
   "execution_count": 11,
   "id": "724f0d26",
   "metadata": {
    "execution": {
     "iopub.execute_input": "2024-01-12T16:09:06.936686Z",
     "iopub.status.busy": "2024-01-12T16:09:06.936346Z",
     "iopub.status.idle": "2024-01-12T16:09:06.944221Z",
     "shell.execute_reply": "2024-01-12T16:09:06.943594Z"
    },
    "slideshow": {
     "slide_type": "fragment"
    }
   },
   "outputs": [
    {
     "data": {
      "text/html": [
       "<div>\n",
       "<style scoped>\n",
       "    .dataframe tbody tr th:only-of-type {\n",
       "        vertical-align: middle;\n",
       "    }\n",
       "\n",
       "    .dataframe tbody tr th {\n",
       "        vertical-align: top;\n",
       "    }\n",
       "\n",
       "    .dataframe thead th {\n",
       "        text-align: right;\n",
       "    }\n",
       "</style>\n",
       "<table border=\"1\" class=\"dataframe\">\n",
       "  <thead>\n",
       "    <tr style=\"text-align: right;\">\n",
       "      <th></th>\n",
       "      <th>name</th>\n",
       "      <th>instrument</th>\n",
       "      <th>age</th>\n",
       "    </tr>\n",
       "  </thead>\n",
       "  <tbody>\n",
       "    <tr>\n",
       "      <th>0</th>\n",
       "      <td>Nick</td>\n",
       "      <td>drums</td>\n",
       "      <td>77</td>\n",
       "    </tr>\n",
       "    <tr>\n",
       "      <th>2</th>\n",
       "      <td>Dave</td>\n",
       "      <td>guitar</td>\n",
       "      <td>74</td>\n",
       "    </tr>\n",
       "  </tbody>\n",
       "</table>\n",
       "</div>"
      ],
      "text/plain": [
       "   name instrument  age\n",
       "0  Nick      drums   77\n",
       "2  Dave     guitar   74"
      ]
     },
     "execution_count": 11,
     "metadata": {},
     "output_type": "execute_result"
    }
   ],
   "source": [
    "predicate = pink_floyd['age'] > 71\n",
    "over_71 = pink_floyd[predicate]\n",
    "over_71"
   ]
  },
  {
   "cell_type": "markdown",
   "id": "0e715e43",
   "metadata": {
    "slideshow": {
     "slide_type": "subslide"
    }
   },
   "source": [
    "We can transform Data Frames in lots of ways. For example, let's say we wanted to add another column to the frame. We can do this by assigning to the column, like so:"
   ]
  },
  {
   "cell_type": "code",
   "execution_count": 12,
   "id": "8de8c35f",
   "metadata": {
    "execution": {
     "iopub.execute_input": "2024-01-12T16:09:06.947962Z",
     "iopub.status.busy": "2024-01-12T16:09:06.947610Z",
     "iopub.status.idle": "2024-01-12T16:09:06.957048Z",
     "shell.execute_reply": "2024-01-12T16:09:06.956169Z"
    },
    "slideshow": {
     "slide_type": "fragment"
    }
   },
   "outputs": [
    {
     "data": {
      "text/html": [
       "<div>\n",
       "<style scoped>\n",
       "    .dataframe tbody tr th:only-of-type {\n",
       "        vertical-align: middle;\n",
       "    }\n",
       "\n",
       "    .dataframe tbody tr th {\n",
       "        vertical-align: top;\n",
       "    }\n",
       "\n",
       "    .dataframe thead th {\n",
       "        text-align: right;\n",
       "    }\n",
       "</style>\n",
       "<table border=\"1\" class=\"dataframe\">\n",
       "  <thead>\n",
       "    <tr style=\"text-align: right;\">\n",
       "      <th></th>\n",
       "      <th>name</th>\n",
       "      <th>instrument</th>\n",
       "      <th>age</th>\n",
       "      <th>hometown</th>\n",
       "    </tr>\n",
       "  </thead>\n",
       "  <tbody>\n",
       "    <tr>\n",
       "      <th>0</th>\n",
       "      <td>Nick</td>\n",
       "      <td>drums</td>\n",
       "      <td>77</td>\n",
       "      <td>London</td>\n",
       "    </tr>\n",
       "    <tr>\n",
       "      <th>1</th>\n",
       "      <td>Richard</td>\n",
       "      <td>keyboards</td>\n",
       "      <td>65</td>\n",
       "      <td>Great Bookham</td>\n",
       "    </tr>\n",
       "    <tr>\n",
       "      <th>2</th>\n",
       "      <td>Dave</td>\n",
       "      <td>guitar</td>\n",
       "      <td>74</td>\n",
       "      <td>Cambridge</td>\n",
       "    </tr>\n",
       "  </tbody>\n",
       "</table>\n",
       "</div>"
      ],
      "text/plain": [
       "      name instrument  age       hometown\n",
       "0     Nick      drums   77         London\n",
       "1  Richard  keyboards   65  Great Bookham\n",
       "2     Dave     guitar   74      Cambridge"
      ]
     },
     "execution_count": 12,
     "metadata": {},
     "output_type": "execute_result"
    }
   ],
   "source": [
    "hometown = ['London', 'Great Bookham', 'Cambridge']\n",
    "pink_floyd['hometown'] = hometown\n",
    "pink_floyd"
   ]
  },
  {
   "cell_type": "markdown",
   "id": "6ab6edd3",
   "metadata": {
    "slideshow": {
     "slide_type": "subslide"
    }
   },
   "source": [
    "Note that we can assign to a column with a single value and it will fill the column."
   ]
  },
  {
   "cell_type": "code",
   "execution_count": 13,
   "id": "66ba87de",
   "metadata": {
    "execution": {
     "iopub.execute_input": "2024-01-12T16:09:06.961290Z",
     "iopub.status.busy": "2024-01-12T16:09:06.960899Z",
     "iopub.status.idle": "2024-01-12T16:09:06.970061Z",
     "shell.execute_reply": "2024-01-12T16:09:06.969268Z"
    },
    "slideshow": {
     "slide_type": "fragment"
    }
   },
   "outputs": [
    {
     "data": {
      "text/html": [
       "<div>\n",
       "<style scoped>\n",
       "    .dataframe tbody tr th:only-of-type {\n",
       "        vertical-align: middle;\n",
       "    }\n",
       "\n",
       "    .dataframe tbody tr th {\n",
       "        vertical-align: top;\n",
       "    }\n",
       "\n",
       "    .dataframe thead th {\n",
       "        text-align: right;\n",
       "    }\n",
       "</style>\n",
       "<table border=\"1\" class=\"dataframe\">\n",
       "  <thead>\n",
       "    <tr style=\"text-align: right;\">\n",
       "      <th></th>\n",
       "      <th>name</th>\n",
       "      <th>instrument</th>\n",
       "      <th>age</th>\n",
       "      <th>hometown</th>\n",
       "      <th>can_sing</th>\n",
       "    </tr>\n",
       "  </thead>\n",
       "  <tbody>\n",
       "    <tr>\n",
       "      <th>0</th>\n",
       "      <td>Nick</td>\n",
       "      <td>drums</td>\n",
       "      <td>77</td>\n",
       "      <td>London</td>\n",
       "      <td>True</td>\n",
       "    </tr>\n",
       "    <tr>\n",
       "      <th>1</th>\n",
       "      <td>Richard</td>\n",
       "      <td>keyboards</td>\n",
       "      <td>65</td>\n",
       "      <td>Great Bookham</td>\n",
       "      <td>True</td>\n",
       "    </tr>\n",
       "    <tr>\n",
       "      <th>2</th>\n",
       "      <td>Dave</td>\n",
       "      <td>guitar</td>\n",
       "      <td>74</td>\n",
       "      <td>Cambridge</td>\n",
       "      <td>True</td>\n",
       "    </tr>\n",
       "  </tbody>\n",
       "</table>\n",
       "</div>"
      ],
      "text/plain": [
       "      name instrument  age       hometown  can_sing\n",
       "0     Nick      drums   77         London      True\n",
       "1  Richard  keyboards   65  Great Bookham      True\n",
       "2     Dave     guitar   74      Cambridge      True"
      ]
     },
     "execution_count": 13,
     "metadata": {},
     "output_type": "execute_result"
    }
   ],
   "source": [
    "pink_floyd['can_sing'] = True  \n",
    "pink_floyd"
   ]
  },
  {
   "cell_type": "markdown",
   "id": "b3fca919",
   "metadata": {
    "slideshow": {
     "slide_type": "slide"
    }
   },
   "source": [
    "## Reading and Writing CSV files using Pandas\n",
    "Pandas can also be used to read and write CSV files using the `pd.read_csv` and `pd.to_csv` functions."
   ]
  },
  {
   "cell_type": "code",
   "execution_count": 14,
   "id": "9aef2466",
   "metadata": {
    "execution": {
     "iopub.execute_input": "2024-01-12T16:09:06.973875Z",
     "iopub.status.busy": "2024-01-12T16:09:06.973570Z",
     "iopub.status.idle": "2024-01-12T16:09:06.985149Z",
     "shell.execute_reply": "2024-01-12T16:09:06.984307Z"
    },
    "slideshow": {
     "slide_type": "fragment"
    }
   },
   "outputs": [
    {
     "data": {
      "text/html": [
       "<div>\n",
       "<style scoped>\n",
       "    .dataframe tbody tr th:only-of-type {\n",
       "        vertical-align: middle;\n",
       "    }\n",
       "\n",
       "    .dataframe tbody tr th {\n",
       "        vertical-align: top;\n",
       "    }\n",
       "\n",
       "    .dataframe thead th {\n",
       "        text-align: right;\n",
       "    }\n",
       "</style>\n",
       "<table border=\"1\" class=\"dataframe\">\n",
       "  <thead>\n",
       "    <tr style=\"text-align: right;\">\n",
       "      <th></th>\n",
       "      <th>Student ID</th>\n",
       "      <th>Name</th>\n",
       "      <th>Subject</th>\n",
       "      <th>Grade</th>\n",
       "      <th>Attendance</th>\n",
       "    </tr>\n",
       "  </thead>\n",
       "  <tbody>\n",
       "    <tr>\n",
       "      <th>0</th>\n",
       "      <td>1</td>\n",
       "      <td>John Smith</td>\n",
       "      <td>Math</td>\n",
       "      <td>85</td>\n",
       "      <td>95</td>\n",
       "    </tr>\n",
       "    <tr>\n",
       "      <th>1</th>\n",
       "      <td>2</td>\n",
       "      <td>Jane Doe</td>\n",
       "      <td>Science</td>\n",
       "      <td>92</td>\n",
       "      <td>100</td>\n",
       "    </tr>\n",
       "    <tr>\n",
       "      <th>2</th>\n",
       "      <td>3</td>\n",
       "      <td>Mark Brown</td>\n",
       "      <td>English</td>\n",
       "      <td>78</td>\n",
       "      <td>90</td>\n",
       "    </tr>\n",
       "    <tr>\n",
       "      <th>3</th>\n",
       "      <td>4</td>\n",
       "      <td>Sarah Green</td>\n",
       "      <td>History</td>\n",
       "      <td>88</td>\n",
       "      <td>85</td>\n",
       "    </tr>\n",
       "    <tr>\n",
       "      <th>4</th>\n",
       "      <td>5</td>\n",
       "      <td>Alex Lee</td>\n",
       "      <td>Math</td>\n",
       "      <td>95</td>\n",
       "      <td>100</td>\n",
       "    </tr>\n",
       "  </tbody>\n",
       "</table>\n",
       "</div>"
      ],
      "text/plain": [
       "   Student ID         Name  Subject  Grade  Attendance\n",
       "0           1   John Smith     Math     85          95\n",
       "1           2     Jane Doe  Science     92         100\n",
       "2           3   Mark Brown  English     78          90\n",
       "3           4  Sarah Green  History     88          85\n",
       "4           5     Alex Lee     Math     95         100"
      ]
     },
     "execution_count": 14,
     "metadata": {},
     "output_type": "execute_result"
    }
   ],
   "source": [
    "grades = pd.read_csv('data/grades.csv')\n",
    "grades.head()"
   ]
  },
  {
   "cell_type": "markdown",
   "id": "22c5bbbf",
   "metadata": {
    "slideshow": {
     "slide_type": "subslide"
    }
   },
   "source": [
    "Let's add a column and save it back out."
   ]
  },
  {
   "cell_type": "code",
   "execution_count": 15,
   "id": "b150b66b",
   "metadata": {
    "execution": {
     "iopub.execute_input": "2024-01-12T16:09:06.989024Z",
     "iopub.status.busy": "2024-01-12T16:09:06.988687Z",
     "iopub.status.idle": "2024-01-12T16:09:06.999029Z",
     "shell.execute_reply": "2024-01-12T16:09:06.998242Z"
    },
    "slideshow": {
     "slide_type": "fragment"
    }
   },
   "outputs": [
    {
     "data": {
      "text/html": [
       "<div>\n",
       "<style scoped>\n",
       "    .dataframe tbody tr th:only-of-type {\n",
       "        vertical-align: middle;\n",
       "    }\n",
       "\n",
       "    .dataframe tbody tr th {\n",
       "        vertical-align: top;\n",
       "    }\n",
       "\n",
       "    .dataframe thead th {\n",
       "        text-align: right;\n",
       "    }\n",
       "</style>\n",
       "<table border=\"1\" class=\"dataframe\">\n",
       "  <thead>\n",
       "    <tr style=\"text-align: right;\">\n",
       "      <th></th>\n",
       "      <th>Student ID</th>\n",
       "      <th>Name</th>\n",
       "      <th>Subject</th>\n",
       "      <th>Grade</th>\n",
       "      <th>Attendance</th>\n",
       "      <th>Normalised Grade</th>\n",
       "    </tr>\n",
       "  </thead>\n",
       "  <tbody>\n",
       "    <tr>\n",
       "      <th>0</th>\n",
       "      <td>1</td>\n",
       "      <td>John Smith</td>\n",
       "      <td>Math</td>\n",
       "      <td>85</td>\n",
       "      <td>95</td>\n",
       "      <td>0.85</td>\n",
       "    </tr>\n",
       "    <tr>\n",
       "      <th>1</th>\n",
       "      <td>2</td>\n",
       "      <td>Jane Doe</td>\n",
       "      <td>Science</td>\n",
       "      <td>92</td>\n",
       "      <td>100</td>\n",
       "      <td>0.92</td>\n",
       "    </tr>\n",
       "    <tr>\n",
       "      <th>2</th>\n",
       "      <td>3</td>\n",
       "      <td>Mark Brown</td>\n",
       "      <td>English</td>\n",
       "      <td>78</td>\n",
       "      <td>90</td>\n",
       "      <td>0.78</td>\n",
       "    </tr>\n",
       "    <tr>\n",
       "      <th>3</th>\n",
       "      <td>4</td>\n",
       "      <td>Sarah Green</td>\n",
       "      <td>History</td>\n",
       "      <td>88</td>\n",
       "      <td>85</td>\n",
       "      <td>0.88</td>\n",
       "    </tr>\n",
       "    <tr>\n",
       "      <th>4</th>\n",
       "      <td>5</td>\n",
       "      <td>Alex Lee</td>\n",
       "      <td>Math</td>\n",
       "      <td>95</td>\n",
       "      <td>100</td>\n",
       "      <td>0.95</td>\n",
       "    </tr>\n",
       "  </tbody>\n",
       "</table>\n",
       "</div>"
      ],
      "text/plain": [
       "   Student ID         Name  Subject  Grade  Attendance  Normalised Grade\n",
       "0           1   John Smith     Math     85          95              0.85\n",
       "1           2     Jane Doe  Science     92         100              0.92\n",
       "2           3   Mark Brown  English     78          90              0.78\n",
       "3           4  Sarah Green  History     88          85              0.88\n",
       "4           5     Alex Lee     Math     95         100              0.95"
      ]
     },
     "execution_count": 15,
     "metadata": {},
     "output_type": "execute_result"
    }
   ],
   "source": [
    "grades['Normalised Grade'] = grades['Grade'] / 100\n",
    "grades.head()"
   ]
  },
  {
   "cell_type": "code",
   "execution_count": 16,
   "id": "16957533",
   "metadata": {
    "execution": {
     "iopub.execute_input": "2024-01-12T16:09:07.002873Z",
     "iopub.status.busy": "2024-01-12T16:09:07.002533Z",
     "iopub.status.idle": "2024-01-12T16:09:07.011218Z",
     "shell.execute_reply": "2024-01-12T16:09:07.010217Z"
    },
    "slideshow": {
     "slide_type": "fragment"
    }
   },
   "outputs": [],
   "source": [
    "grades.to_csv('data/normed_grades.csv', index=False)"
   ]
  },
  {
   "cell_type": "markdown",
   "id": "62d2c587",
   "metadata": {
    "slideshow": {
     "slide_type": "slide"
    }
   },
   "source": [
    "## Getting Summary Statistics\n",
    "Like in other similar libraries, it's possible to get summary statistics about your data using Pandas. For example:"
   ]
  },
  {
   "cell_type": "code",
   "execution_count": 17,
   "id": "91801335",
   "metadata": {
    "execution": {
     "iopub.execute_input": "2024-01-12T16:09:07.015081Z",
     "iopub.status.busy": "2024-01-12T16:09:07.014795Z",
     "iopub.status.idle": "2024-01-12T16:09:07.021160Z",
     "shell.execute_reply": "2024-01-12T16:09:07.020340Z"
    },
    "slideshow": {
     "slide_type": "fragment"
    }
   },
   "outputs": [
    {
     "data": {
      "text/plain": [
       "88.6"
      ]
     },
     "execution_count": 17,
     "metadata": {},
     "output_type": "execute_result"
    }
   ],
   "source": [
    "# what is the mean grade\n",
    "grades['Grade'].mean()"
   ]
  },
  {
   "cell_type": "code",
   "execution_count": 18,
   "id": "bfd183b1",
   "metadata": {
    "execution": {
     "iopub.execute_input": "2024-01-12T16:09:07.025530Z",
     "iopub.status.busy": "2024-01-12T16:09:07.025174Z",
     "iopub.status.idle": "2024-01-12T16:09:07.031588Z",
     "shell.execute_reply": "2024-01-12T16:09:07.030711Z"
    },
    "slideshow": {
     "slide_type": "fragment"
    }
   },
   "outputs": [
    {
     "data": {
      "text/plain": [
       "95.0"
      ]
     },
     "execution_count": 18,
     "metadata": {},
     "output_type": "execute_result"
    }
   ],
   "source": [
    "# what is the median attendence\n",
    "grades['Attendance'].median()"
   ]
  },
  {
   "cell_type": "markdown",
   "id": "88073ae6",
   "metadata": {
    "slideshow": {
     "slide_type": "subslide"
    }
   },
   "source": [
    "You can generate a standard set of statistics about specfic columns using the `describe` function."
   ]
  },
  {
   "cell_type": "code",
   "execution_count": 19,
   "id": "aa0fd810",
   "metadata": {
    "execution": {
     "iopub.execute_input": "2024-01-12T16:09:07.036235Z",
     "iopub.status.busy": "2024-01-12T16:09:07.035875Z",
     "iopub.status.idle": "2024-01-12T16:09:07.053178Z",
     "shell.execute_reply": "2024-01-12T16:09:07.052233Z"
    },
    "slideshow": {
     "slide_type": "fragment"
    }
   },
   "outputs": [
    {
     "data": {
      "text/html": [
       "<div>\n",
       "<style scoped>\n",
       "    .dataframe tbody tr th:only-of-type {\n",
       "        vertical-align: middle;\n",
       "    }\n",
       "\n",
       "    .dataframe tbody tr th {\n",
       "        vertical-align: top;\n",
       "    }\n",
       "\n",
       "    .dataframe thead th {\n",
       "        text-align: right;\n",
       "    }\n",
       "</style>\n",
       "<table border=\"1\" class=\"dataframe\">\n",
       "  <thead>\n",
       "    <tr style=\"text-align: right;\">\n",
       "      <th></th>\n",
       "      <th>Grade</th>\n",
       "      <th>Attendance</th>\n",
       "    </tr>\n",
       "  </thead>\n",
       "  <tbody>\n",
       "    <tr>\n",
       "      <th>count</th>\n",
       "      <td>20.000000</td>\n",
       "      <td>20.000000</td>\n",
       "    </tr>\n",
       "    <tr>\n",
       "      <th>mean</th>\n",
       "      <td>88.600000</td>\n",
       "      <td>92.500000</td>\n",
       "    </tr>\n",
       "    <tr>\n",
       "      <th>std</th>\n",
       "      <td>5.030434</td>\n",
       "      <td>6.786209</td>\n",
       "    </tr>\n",
       "    <tr>\n",
       "      <th>min</th>\n",
       "      <td>78.000000</td>\n",
       "      <td>80.000000</td>\n",
       "    </tr>\n",
       "    <tr>\n",
       "      <th>25%</th>\n",
       "      <td>86.500000</td>\n",
       "      <td>88.750000</td>\n",
       "    </tr>\n",
       "    <tr>\n",
       "      <th>50%</th>\n",
       "      <td>89.500000</td>\n",
       "      <td>95.000000</td>\n",
       "    </tr>\n",
       "    <tr>\n",
       "      <th>75%</th>\n",
       "      <td>92.000000</td>\n",
       "      <td>100.000000</td>\n",
       "    </tr>\n",
       "    <tr>\n",
       "      <th>max</th>\n",
       "      <td>96.000000</td>\n",
       "      <td>100.000000</td>\n",
       "    </tr>\n",
       "  </tbody>\n",
       "</table>\n",
       "</div>"
      ],
      "text/plain": [
       "           Grade  Attendance\n",
       "count  20.000000   20.000000\n",
       "mean   88.600000   92.500000\n",
       "std     5.030434    6.786209\n",
       "min    78.000000   80.000000\n",
       "25%    86.500000   88.750000\n",
       "50%    89.500000   95.000000\n",
       "75%    92.000000  100.000000\n",
       "max    96.000000  100.000000"
      ]
     },
     "execution_count": 19,
     "metadata": {},
     "output_type": "execute_result"
    }
   ],
   "source": [
    "grades[['Grade', 'Attendance']].describe()"
   ]
  },
  {
   "cell_type": "markdown",
   "id": "2abe1a2f",
   "metadata": {
    "slideshow": {
     "slide_type": "slide"
    }
   },
   "source": [
    "## Summary"
   ]
  },
  {
   "cell_type": "markdown",
   "id": "4361d24d",
   "metadata": {
    "slideshow": {
     "slide_type": "fragment"
    }
   },
   "source": [
    "- Series"
   ]
  },
  {
   "cell_type": "markdown",
   "id": "91ad4be8",
   "metadata": {
    "slideshow": {
     "slide_type": "fragment"
    }
   },
   "source": [
    "- DataFrames"
   ]
  },
  {
   "cell_type": "markdown",
   "id": "ce9fabfe",
   "metadata": {
    "slideshow": {
     "slide_type": "fragment"
    }
   },
   "source": [
    "- Indexing and Manipulating DataFrames"
   ]
  },
  {
   "cell_type": "markdown",
   "id": "e261dd80",
   "metadata": {
    "slideshow": {
     "slide_type": "fragment"
    }
   },
   "source": [
    "- Loading and Saving DataFrames"
   ]
  },
  {
   "cell_type": "markdown",
   "id": "4c3476b9",
   "metadata": {
    "slideshow": {
     "slide_type": "fragment"
    }
   },
   "source": [
    "- Using describe to generate summary statistics of the data frame."
   ]
  },
  {
   "cell_type": "markdown",
   "id": "5e7c69a5",
   "metadata": {
    "slideshow": {
     "slide_type": "slide"
    }
   },
   "source": [
    "## Exercise\n",
    "\n",
    "Read in the data in `data/us-states.csv` and print out:\n",
    "- The quartiles of the state populations;\n",
    "- The state codes, separated by commas, in the order that the states joined the union;\n",
    "- The GDP per capita of each state (GDP divided by population)"
   ]
  }
 ],
 "metadata": {
  "celltoolbar": "Slideshow",
  "kernelspec": {
   "display_name": "Python 3 (ipykernel)",
   "language": "python",
   "name": "python3"
  },
  "language_info": {
   "codemirror_mode": {
    "name": "ipython",
    "version": 3
   },
   "file_extension": ".py",
   "mimetype": "text/x-python",
   "name": "python",
   "nbconvert_exporter": "python",
   "pygments_lexer": "ipython3",
   "version": "3.9.1"
  }
 },
 "nbformat": 4,
 "nbformat_minor": 5
}
