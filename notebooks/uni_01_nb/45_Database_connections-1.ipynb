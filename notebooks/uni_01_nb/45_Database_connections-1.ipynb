{
 "cells": [
  {
   "cell_type": "markdown",
   "id": "22fe823f",
   "metadata": {
    "slideshow": {
     "slide_type": "slide"
    }
   },
   "source": [
    "# Database connections\n",
    "\n",
    "Programming in Python\n",
    "\n",
    "School of Computer Science, University of St Andrews"
   ]
  },
  {
   "cell_type": "markdown",
   "id": "fe635152",
   "metadata": {
    "slideshow": {
     "slide_type": "slide"
    }
   },
   "source": [
    "## Databases\n",
    "- Way of storing data\n",
    "- Constraints and validation\n",
    "- Handles concurrency\n",
    "- Accessible by multiple processes\n",
    "- Remote access"
   ]
  },
  {
   "cell_type": "markdown",
   "id": "53b2d17a",
   "metadata": {
    "slideshow": {
     "slide_type": "slide"
    }
   },
   "source": [
    "## Connecting from Python"
   ]
  },
  {
   "cell_type": "markdown",
   "id": "2892af75",
   "metadata": {
    "slideshow": {
     "slide_type": "fragment"
    }
   },
   "source": [
    "First, install the mariadb package, then import it in your program:"
   ]
  },
  {
   "cell_type": "code",
   "execution_count": 1,
   "id": "e0685802",
   "metadata": {
    "slideshow": {
     "slide_type": "fragment"
    }
   },
   "outputs": [],
   "source": [
    "import mariadb"
   ]
  },
  {
   "cell_type": "code",
   "execution_count": 2,
   "id": "9a028ceb",
   "metadata": {
    "slideshow": {
     "slide_type": "subslide"
    }
   },
   "outputs": [],
   "source": [
    "try:\n",
    "    conn = mariadb.connect(\n",
    "        user=\"archie\",\n",
    "        password=\"XXXXX\",\n",
    "        host=\"localhost\",\n",
    "        port=3306,\n",
    "        database=\"flowers\"\n",
    "    )\n",
    "except mariadb.Error as e:\n",
    "    print(f\"Error connecting to MariaDB Platform: {e}\")\n",
    "\n",
    "# Get Cursor\n",
    "cur = conn.cursor()"
   ]
  },
  {
   "cell_type": "code",
   "execution_count": 3,
   "id": "976fbdb6",
   "metadata": {
    "slideshow": {
     "slide_type": "fragment"
    }
   },
   "outputs": [
    {
     "data": {
      "text/plain": [
       "<mariadb.cursor at 0x7fe20cbcd220>"
      ]
     },
     "execution_count": 3,
     "metadata": {},
     "output_type": "execute_result"
    }
   ],
   "source": [
    "cur"
   ]
  },
  {
   "cell_type": "code",
   "execution_count": 4,
   "id": "0cc18935",
   "metadata": {
    "slideshow": {
     "slide_type": "subslide"
    }
   },
   "outputs": [],
   "source": [
    "cur.execute(\"SELECT genus_name, specific_name, is_tree FROM species\")"
   ]
  },
  {
   "cell_type": "code",
   "execution_count": 5,
   "id": "4708b0d2",
   "metadata": {
    "scrolled": true,
    "slideshow": {
     "slide_type": "fragment"
    }
   },
   "outputs": [
    {
     "name": "stdout",
     "output_type": "stream",
     "text": [
      "Calystegia silvatica is a species of plant.\n",
      "It is not a tree.\n",
      "Erigeron karvinskianus is a species of plant.\n",
      "It is not a tree.\n",
      "Lonicera periclymenum is a species of plant.\n",
      "It is not a tree.\n",
      "Prunus serrulata is a species of plant.\n",
      "It is a tree.\n"
     ]
    }
   ],
   "source": [
    "for genus, species, is_tree in cur:\n",
    "    print(genus, species, \"is a species of plant.\")\n",
    "    if is_tree:\n",
    "        print(\"It is a tree.\")\n",
    "    else:\n",
    "        print(\"It is not a tree.\")"
   ]
  },
  {
   "cell_type": "code",
   "execution_count": 6,
   "id": "defe4f87",
   "metadata": {
    "slideshow": {
     "slide_type": "subslide"
    }
   },
   "outputs": [],
   "source": [
    "cherry_genus = \"Prunus\"\n",
    "cherry_species = \"serrulata\"\n",
    "cur.execute(\n",
    "    \"SELECT date, latitude, longitude FROM sighting WHERE genus_name = ? AND specific_name = ?\",\n",
    "    (cherry_genus, cherry_species)\n",
    ")"
   ]
  },
  {
   "cell_type": "code",
   "execution_count": 7,
   "id": "52f55606",
   "metadata": {
    "slideshow": {
     "slide_type": "fragment"
    }
   },
   "outputs": [
    {
     "name": "stdout",
     "output_type": "stream",
     "text": [
      "Sightings of cherry blossom (Prunus serrulata):\n",
      "Saw on 2023-06-28 at (56.3377, -2.80594)\n",
      "Saw on 2023-07-01 at (56.3377, -2.80594)\n",
      "Saw on 2023-07-12 at (56.3377, -2.80594)\n"
     ]
    }
   ],
   "source": [
    "print(\"Sightings of cherry blossom (Prunus serrulata):\")\n",
    "for date, lat, long in cur:\n",
    "    print(f\"Saw on {date} at ({lat}, {long})\")"
   ]
  },
  {
   "cell_type": "code",
   "execution_count": 8,
   "id": "bc16bdde",
   "metadata": {
    "slideshow": {
     "slide_type": "subslide"
    }
   },
   "outputs": [],
   "source": [
    "from datetime import date\n",
    "def insert_sighting(cur, genus, species, lat, long):\n",
    "    today = date.today().isoformat()\n",
    "    cur.execute(\n",
    "        \"INSERT INTO sighting VALUES (?, ?, ?, ?, ?)\",\n",
    "        (today, lat, long, genus, species)\n",
    "    )"
   ]
  },
  {
   "cell_type": "code",
   "execution_count": 9,
   "id": "144cb34b",
   "metadata": {
    "slideshow": {
     "slide_type": "fragment"
    }
   },
   "outputs": [],
   "source": [
    "insert_sighting(cur, \"Lonicera\", \"periclymenum\", 55.8, -2.994)\n",
    "conn.commit()"
   ]
  },
  {
   "cell_type": "code",
   "execution_count": 10,
   "id": "a8aab18c",
   "metadata": {
    "slideshow": {
     "slide_type": "subslide"
    }
   },
   "outputs": [
    {
     "name": "stdout",
     "output_type": "stream",
     "text": [
      "(datetime.date(2023, 7, 12),)\n",
      "(datetime.date(2023, 7, 24),)\n",
      "(datetime.date(2023, 7, 26),)\n"
     ]
    }
   ],
   "source": [
    "cur.execute(\n",
    "    \"SELECT date FROM sighting WHERE genus_name = ? AND specific_name = ?\",\n",
    "    (\"Lonicera\", \"periclymenum\")\n",
    ")\n",
    "for date in cur:\n",
    "    print(date)"
   ]
  },
  {
   "cell_type": "markdown",
   "id": "2f02dbda",
   "metadata": {
    "slideshow": {
     "slide_type": "slide"
    }
   },
   "source": [
    "## Other databases\n",
    "- Packages exist for other database management systems: MySQL, MongoDB, etc.\n",
    "- Exact usage varies\n",
    "- Look up the documentation, and try things!"
   ]
  },
  {
   "cell_type": "markdown",
   "id": "80930e58",
   "metadata": {
    "slideshow": {
     "slide_type": "slide"
    }
   },
   "source": [
    "## Summary\n",
    "- Connect to a database using the appropriate package\n",
    "- Prepare statements with parameters\n",
    "- Execute statements\n",
    "- Iterate through results\n",
    "- Be sure to commit!"
   ]
  }
 ],
 "metadata": {
  "celltoolbar": "Slideshow",
  "kernelspec": {
   "display_name": "Python 3 (ipykernel)",
   "language": "python",
   "name": "python3"
  },
  "language_info": {
   "codemirror_mode": {
    "name": "ipython",
    "version": 3
   },
   "file_extension": ".py",
   "mimetype": "text/x-python",
   "name": "python",
   "nbconvert_exporter": "python",
   "pygments_lexer": "ipython3",
   "version": "3.11.2"
  }
 },
 "nbformat": 4,
 "nbformat_minor": 5
}
