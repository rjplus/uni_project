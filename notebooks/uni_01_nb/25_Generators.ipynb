{
 "cells": [
  {
   "cell_type": "markdown",
   "metadata": {
    "slideshow": {
     "slide_type": "slide"
    }
   },
   "source": [
    "# Generators\n",
    "\n",
    "Programming in Python\n",
    "\n",
    "School of Computer Science, University of St Andrews"
   ]
  },
  {
   "cell_type": "markdown",
   "metadata": {
    "slideshow": {
     "slide_type": "slide"
    }
   },
   "source": [
    "## Generators\n",
    "* Iterators are *classes* that produce a sequence of values\n",
    "* Generators are *functions* that produce a sequence of values\n",
    "* It can be expensive to generate an entire list at once (e.g. using list comprehensions)\n",
    "* Generator does so called \"lazy generation\", yielding one element at a time"
   ]
  },
  {
   "cell_type": "markdown",
   "metadata": {
    "slideshow": {
     "slide_type": "slide"
    }
   },
   "source": [
    "## A simple generator function\n",
    "* Note the `yield` statement, which makes it special"
   ]
  },
  {
   "cell_type": "code",
   "execution_count": 1,
   "metadata": {
    "execution": {
     "iopub.execute_input": "2023-11-07T21:59:21.902836Z",
     "iopub.status.busy": "2023-11-07T21:59:21.902041Z",
     "iopub.status.idle": "2023-11-07T21:59:21.915951Z",
     "shell.execute_reply": "2023-11-07T21:59:21.914895Z"
    },
    "slideshow": {
     "slide_type": "fragment"
    }
   },
   "outputs": [],
   "source": [
    "def count_from(n): \n",
    "    while True:\n",
    "        yield n \n",
    "        n += 1"
   ]
  },
  {
   "cell_type": "code",
   "execution_count": 2,
   "metadata": {
    "execution": {
     "iopub.execute_input": "2023-11-07T21:59:21.921421Z",
     "iopub.status.busy": "2023-11-07T21:59:21.921027Z",
     "iopub.status.idle": "2023-11-07T21:59:21.926580Z",
     "shell.execute_reply": "2023-11-07T21:59:21.925688Z"
    },
    "slideshow": {
     "slide_type": "fragment"
    }
   },
   "outputs": [
    {
     "name": "stdout",
     "output_type": "stream",
     "text": [
      "1 2 3 4 5 6 7 8 9 10 "
     ]
    }
   ],
   "source": [
    "for i in count_from(1):\n",
    "    if i < 11:\n",
    "        print(i, end=' ')\n",
    "    else:\n",
    "        break"
   ]
  },
  {
   "cell_type": "markdown",
   "metadata": {
    "slideshow": {
     "slide_type": "slide"
    }
   },
   "source": [
    "## A generator function returns a generator object"
   ]
  },
  {
   "cell_type": "code",
   "execution_count": 3,
   "metadata": {
    "execution": {
     "iopub.execute_input": "2023-11-07T21:59:21.975696Z",
     "iopub.status.busy": "2023-11-07T21:59:21.975281Z",
     "iopub.status.idle": "2023-11-07T21:59:21.982484Z",
     "shell.execute_reply": "2023-11-07T21:59:21.981855Z"
    },
    "slideshow": {
     "slide_type": "fragment"
    }
   },
   "outputs": [
    {
     "data": {
      "text/plain": [
       "<generator object count_from at 0x7fbab0bc8270>"
      ]
     },
     "execution_count": 3,
     "metadata": {},
     "output_type": "execute_result"
    }
   ],
   "source": [
    "count_from(-5)"
   ]
  },
  {
   "cell_type": "code",
   "execution_count": 4,
   "metadata": {
    "execution": {
     "iopub.execute_input": "2023-11-07T21:59:21.986242Z",
     "iopub.status.busy": "2023-11-07T21:59:21.985933Z",
     "iopub.status.idle": "2023-11-07T21:59:21.989886Z",
     "shell.execute_reply": "2023-11-07T21:59:21.989271Z"
    },
    "slideshow": {
     "slide_type": "fragment"
    }
   },
   "outputs": [
    {
     "name": "stdout",
     "output_type": "stream",
     "text": [
      "-5 -4 -3 -2 -1 0 1 2 3 4 5 "
     ]
    }
   ],
   "source": [
    "for i in count_from(-5):\n",
    "    if i < 6:\n",
    "        print(i, end=' ')\n",
    "    else:\n",
    "        break"
   ]
  },
  {
   "cell_type": "markdown",
   "metadata": {
    "slideshow": {
     "slide_type": "slide"
    }
   },
   "source": [
    "## How does it work?\n",
    "* generator function is only run when you use it as an iterator\n",
    "* first time function is run, runs until `yield`\n",
    "* `yield` acts like `return` but allows to continue another execution cycle\n",
    "* each subsequent call runs the execution cycle one more time\n",
    "* this goes on and on, until `yield` no longer returns"
   ]
  },
  {
   "cell_type": "code",
   "execution_count": 5,
   "metadata": {
    "execution": {
     "iopub.execute_input": "2023-11-07T21:59:21.993904Z",
     "iopub.status.busy": "2023-11-07T21:59:21.993551Z",
     "iopub.status.idle": "2023-11-07T21:59:21.997760Z",
     "shell.execute_reply": "2023-11-07T21:59:21.996792Z"
    },
    "slideshow": {
     "slide_type": "slide"
    }
   },
   "outputs": [],
   "source": [
    "def count_from_info(n):\n",
    "    while True:\n",
    "       print(\"--- before yield, n =\", n)\n",
    "       yield n\n",
    "       n += 1\n",
    "       print(\"--- after yield, n =\", n)"
   ]
  },
  {
   "cell_type": "code",
   "execution_count": 6,
   "metadata": {
    "execution": {
     "iopub.execute_input": "2023-11-07T21:59:22.001587Z",
     "iopub.status.busy": "2023-11-07T21:59:22.001277Z",
     "iopub.status.idle": "2023-11-07T21:59:22.005704Z",
     "shell.execute_reply": "2023-11-07T21:59:22.004943Z"
    },
    "slideshow": {
     "slide_type": "fragment"
    }
   },
   "outputs": [
    {
     "name": "stdout",
     "output_type": "stream",
     "text": [
      "--- before yield, n = 1\n",
      "*** new iteration\n",
      "*** i = 1\n",
      "--- after yield, n = 2\n",
      "--- before yield, n = 2\n",
      "*** new iteration\n",
      "*** i = 2\n",
      "--- after yield, n = 3\n",
      "--- before yield, n = 3\n",
      "*** new iteration\n",
      "*** i = 3\n",
      "--- after yield, n = 4\n",
      "--- before yield, n = 4\n",
      "*** new iteration\n"
     ]
    }
   ],
   "source": [
    "for i in count_from_info(1):\n",
    "    print('*** new iteration')\n",
    "    if i <= 3: \n",
    "        print('*** i =', i)  \n",
    "    else:\n",
    "        break"
   ]
  },
  {
   "cell_type": "markdown",
   "metadata": {
    "slideshow": {
     "slide_type": "slide"
    }
   },
   "source": [
    "## Generator comprehension vs list comprehension"
   ]
  },
  {
   "cell_type": "code",
   "execution_count": 7,
   "metadata": {
    "execution": {
     "iopub.execute_input": "2023-11-07T21:59:22.009521Z",
     "iopub.status.busy": "2023-11-07T21:59:22.009212Z",
     "iopub.status.idle": "2023-11-07T21:59:22.014199Z",
     "shell.execute_reply": "2023-11-07T21:59:22.013529Z"
    },
    "slideshow": {
     "slide_type": "fragment"
    }
   },
   "outputs": [
    {
     "data": {
      "text/plain": [
       "[0, 1, 4, 9, 16, 25, 36, 49, 64, 81, 100]"
      ]
     },
     "execution_count": 7,
     "metadata": {},
     "output_type": "execute_result"
    }
   ],
   "source": [
    "squares = [n*n for n in range(0,11)]\n",
    "squares"
   ]
  },
  {
   "cell_type": "markdown",
   "metadata": {
    "slideshow": {
     "slide_type": "fragment"
    }
   },
   "source": [
    "Generator comprehension uses same notation as list comprehension but with round brackets"
   ]
  },
  {
   "cell_type": "code",
   "execution_count": 8,
   "metadata": {
    "execution": {
     "iopub.execute_input": "2023-11-07T21:59:22.018062Z",
     "iopub.status.busy": "2023-11-07T21:59:22.017721Z",
     "iopub.status.idle": "2023-11-07T21:59:22.021296Z",
     "shell.execute_reply": "2023-11-07T21:59:22.020618Z"
    },
    "slideshow": {
     "slide_type": "fragment"
    }
   },
   "outputs": [],
   "source": [
    "squares = (n*n for n in count_from(1))"
   ]
  },
  {
   "cell_type": "markdown",
   "metadata": {
    "slideshow": {
     "slide_type": "fragment"
    }
   },
   "source": [
    "Instead of returning a list, generator comprehension returned another generator!"
   ]
  },
  {
   "cell_type": "code",
   "execution_count": 9,
   "metadata": {
    "execution": {
     "iopub.execute_input": "2023-11-07T21:59:22.025326Z",
     "iopub.status.busy": "2023-11-07T21:59:22.024654Z",
     "iopub.status.idle": "2023-11-07T21:59:22.029034Z",
     "shell.execute_reply": "2023-11-07T21:59:22.028412Z"
    },
    "slideshow": {
     "slide_type": "fragment"
    }
   },
   "outputs": [
    {
     "data": {
      "text/plain": [
       "<generator object <genexpr> at 0x7fbab0bc8900>"
      ]
     },
     "execution_count": 9,
     "metadata": {},
     "output_type": "execute_result"
    }
   ],
   "source": [
    "squares"
   ]
  },
  {
   "cell_type": "code",
   "execution_count": 10,
   "metadata": {
    "execution": {
     "iopub.execute_input": "2023-11-07T21:59:22.032613Z",
     "iopub.status.busy": "2023-11-07T21:59:22.032263Z",
     "iopub.status.idle": "2023-11-07T21:59:22.036367Z",
     "shell.execute_reply": "2023-11-07T21:59:22.035621Z"
    },
    "slideshow": {
     "slide_type": "slide"
    }
   },
   "outputs": [
    {
     "name": "stdout",
     "output_type": "stream",
     "text": [
      "1 4 9 16 25 36 49 64 81 100 121 144 169 196 225 256 289 324 361 400 441 484 529 576 625 676 729 784 841 900 961 "
     ]
    }
   ],
   "source": [
    "for j in squares:\n",
    "    if j <= 1000:\n",
    "        print(j, end=' ')\n",
    "    else:\n",
    "        break"
   ]
  },
  {
   "cell_type": "markdown",
   "metadata": {
    "slideshow": {
     "slide_type": "slide"
    }
   },
   "source": [
    "## It can even be used with `enumerate`"
   ]
  },
  {
   "cell_type": "code",
   "execution_count": 11,
   "metadata": {
    "execution": {
     "iopub.execute_input": "2023-11-07T21:59:22.040278Z",
     "iopub.status.busy": "2023-11-07T21:59:22.039668Z",
     "iopub.status.idle": "2023-11-07T21:59:22.043531Z",
     "shell.execute_reply": "2023-11-07T21:59:22.042597Z"
    },
    "slideshow": {
     "slide_type": "fragment"
    }
   },
   "outputs": [],
   "source": [
    "enum = enumerate(squares)"
   ]
  },
  {
   "cell_type": "code",
   "execution_count": 12,
   "metadata": {
    "execution": {
     "iopub.execute_input": "2023-11-07T21:59:22.047294Z",
     "iopub.status.busy": "2023-11-07T21:59:22.046958Z",
     "iopub.status.idle": "2023-11-07T21:59:22.051278Z",
     "shell.execute_reply": "2023-11-07T21:59:22.050534Z"
    },
    "slideshow": {
     "slide_type": "fragment"
    }
   },
   "outputs": [
    {
     "name": "stdout",
     "output_type": "stream",
     "text": [
      "(0, 1089) (1, 1156) (2, 1225) (3, 1296) (4, 1369) (5, 1444) (6, 1521) (7, 1600) (8, 1681) (9, 1764) (10, 1849) (11, 1936) "
     ]
    }
   ],
   "source": [
    "for x in enum:\n",
    "    print(x, end=' ')\n",
    "    if x[0] > 10:\n",
    "        break"
   ]
  },
  {
   "cell_type": "markdown",
   "metadata": {
    "slideshow": {
     "slide_type": "fragment"
    }
   },
   "source": [
    "- But why does it start from 1089?\n",
    "- Need to reset `squares` to fix this"
   ]
  },
  {
   "cell_type": "code",
   "execution_count": 13,
   "metadata": {
    "execution": {
     "iopub.execute_input": "2023-11-07T21:59:22.055068Z",
     "iopub.status.busy": "2023-11-07T21:59:22.054777Z",
     "iopub.status.idle": "2023-11-07T21:59:22.058380Z",
     "shell.execute_reply": "2023-11-07T21:59:22.057759Z"
    },
    "slideshow": {
     "slide_type": "fragment"
    }
   },
   "outputs": [],
   "source": [
    "squares = (n*n for n in count_from(1))\n",
    "enum = enumerate(squares)"
   ]
  },
  {
   "cell_type": "code",
   "execution_count": 14,
   "metadata": {
    "execution": {
     "iopub.execute_input": "2023-11-07T21:59:22.062080Z",
     "iopub.status.busy": "2023-11-07T21:59:22.061732Z",
     "iopub.status.idle": "2023-11-07T21:59:22.066180Z",
     "shell.execute_reply": "2023-11-07T21:59:22.065157Z"
    },
    "slideshow": {
     "slide_type": "fragment"
    }
   },
   "outputs": [
    {
     "name": "stdout",
     "output_type": "stream",
     "text": [
      "(0, 1) (1, 4) (2, 9) (3, 16) (4, 25) (5, 36) (6, 49) (7, 64) (8, 81) (9, 100) (10, 121) (11, 144) "
     ]
    }
   ],
   "source": [
    "for x in enum:\n",
    "    print(x, end=' ')\n",
    "    if x[0] > 10:\n",
    "        break"
   ]
  },
  {
   "cell_type": "markdown",
   "metadata": {
    "slideshow": {
     "slide_type": "slide"
    }
   },
   "source": [
    "# Generating prime numbers"
   ]
  },
  {
   "cell_type": "code",
   "execution_count": 15,
   "metadata": {
    "execution": {
     "iopub.execute_input": "2023-11-07T21:59:22.070330Z",
     "iopub.status.busy": "2023-11-07T21:59:22.069825Z",
     "iopub.status.idle": "2023-11-07T21:59:22.073865Z",
     "shell.execute_reply": "2023-11-07T21:59:22.073092Z"
    },
    "slideshow": {
     "slide_type": "fragment"
    }
   },
   "outputs": [],
   "source": [
    "# a helper function to check if `n` is a multiple of some number from the list `numbers`\n",
    "def is_multiple(numbers, n):\n",
    "    for i in numbers:\n",
    "        if n % i == 0:\n",
    "            return True # n is a multiple of i\n",
    "    return False"
   ]
  },
  {
   "cell_type": "code",
   "execution_count": 16,
   "metadata": {
    "execution": {
     "iopub.execute_input": "2023-11-07T21:59:22.077458Z",
     "iopub.status.busy": "2023-11-07T21:59:22.077137Z",
     "iopub.status.idle": "2023-11-07T21:59:22.080585Z",
     "shell.execute_reply": "2023-11-07T21:59:22.080031Z"
    },
    "slideshow": {
     "slide_type": "fragment"
    }
   },
   "outputs": [],
   "source": [
    "def prime_generator():\n",
    "    primes = []\n",
    "    for i in count_from(2):\n",
    "        if not is_multiple(primes, i):\n",
    "            primes.append(i)\n",
    "            yield i"
   ]
  },
  {
   "cell_type": "code",
   "execution_count": 17,
   "metadata": {
    "execution": {
     "iopub.execute_input": "2023-11-07T21:59:22.084500Z",
     "iopub.status.busy": "2023-11-07T21:59:22.084157Z",
     "iopub.status.idle": "2023-11-07T21:59:22.088682Z",
     "shell.execute_reply": "2023-11-07T21:59:22.088068Z"
    },
    "slideshow": {
     "slide_type": "fragment"
    }
   },
   "outputs": [
    {
     "name": "stdout",
     "output_type": "stream",
     "text": [
      "2 3 5 7 11 13 17 19 23 29 31 37 41 43 47 53 59 61 67 71 73 79 83 89 97 101 103 107 109 113 127 131 137 139 149 151 157 163 167 173 179 181 191 193 197 199 211 223 227 229 233 239 241 251 257 263 269 271 277 281 283 293 307 311 313 317 331 337 347 349 353 359 367 373 379 383 389 397 401 409 419 421 431 433 439 443 449 457 461 463 467 479 487 491 499 "
     ]
    }
   ],
   "source": [
    "    for i in prime_generator():\n",
    "        if i >= 500:\n",
    "            break\n",
    "        print(i, end=\" \")"
   ]
  },
  {
   "cell_type": "markdown",
   "metadata": {
    "slideshow": {
     "slide_type": "slide"
    }
   },
   "source": [
    "## Exercise\n",
    "* Rewrite the code of `prime_generator` above to avoid using `count_from`\n",
    "* Test it on the same example to generate all primes less than 500\n"
   ]
  },
  {
   "cell_type": "code",
   "execution_count": 18,
   "metadata": {
    "execution": {
     "iopub.execute_input": "2023-11-07T21:59:22.092321Z",
     "iopub.status.busy": "2023-11-07T21:59:22.091975Z",
     "iopub.status.idle": "2023-11-07T21:59:22.096575Z",
     "shell.execute_reply": "2023-11-07T21:59:22.095615Z"
    },
    "slideshow": {
     "slide_type": "skip"
    }
   },
   "outputs": [],
   "source": [
    "def prime_generator2():\n",
    "    primes = []\n",
    "    i = 1\n",
    "    while True:\n",
    "        i += 1\n",
    "        if not is_multiple(primes, i):\n",
    "            primes.append(i)\n",
    "            yield i"
   ]
  },
  {
   "cell_type": "code",
   "execution_count": 19,
   "metadata": {
    "execution": {
     "iopub.execute_input": "2023-11-07T21:59:22.100208Z",
     "iopub.status.busy": "2023-11-07T21:59:22.099887Z",
     "iopub.status.idle": "2023-11-07T21:59:22.104502Z",
     "shell.execute_reply": "2023-11-07T21:59:22.103772Z"
    },
    "scrolled": true,
    "slideshow": {
     "slide_type": "skip"
    }
   },
   "outputs": [
    {
     "name": "stdout",
     "output_type": "stream",
     "text": [
      "2 3 5 7 11 13 17 19 23 29 31 37 41 43 47 53 59 61 67 71 73 79 83 89 97 101 103 107 109 113 127 131 137 139 149 151 157 163 167 173 179 181 191 193 197 199 211 223 227 229 233 239 241 251 257 263 269 271 277 281 283 293 307 311 313 317 331 337 347 349 353 359 367 373 379 383 389 397 401 409 419 421 431 433 439 443 449 457 461 463 467 479 487 491 499 "
     ]
    }
   ],
   "source": [
    "    for i in prime_generator2():\n",
    "        if i >= 500:\n",
    "            break\n",
    "        print(i, end=\" \")\n"
   ]
  }
 ],
 "metadata": {
  "celltoolbar": "Slideshow",
  "kernelspec": {
   "display_name": "Python 3 (ipykernel)",
   "language": "python",
   "name": "python3"
  },
  "language_info": {
   "codemirror_mode": {
    "name": "ipython",
    "version": 3
   },
   "file_extension": ".py",
   "mimetype": "text/x-python",
   "name": "python",
   "nbconvert_exporter": "python",
   "pygments_lexer": "ipython3",
   "version": "3.9.1"
  }
 },
 "nbformat": 4,
 "nbformat_minor": 1
}
