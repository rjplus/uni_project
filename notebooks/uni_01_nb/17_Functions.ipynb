{
 "cells": [
  {
   "cell_type": "markdown",
   "id": "c5daa209",
   "metadata": {
    "slideshow": {
     "slide_type": "slide"
    }
   },
   "source": [
    "# Functions\n",
    "\n",
    "CS5901: Programming in Python\n",
    "\n",
    "School of Computer Science, University of St Andrews"
   ]
  },
  {
   "cell_type": "markdown",
   "id": "afa787de",
   "metadata": {
    "slideshow": {
     "slide_type": "slide"
    }
   },
   "source": [
    "We are now getting comfortable writing code.  We started with some simple conversions:"
   ]
  },
  {
   "cell_type": "code",
   "execution_count": 1,
   "id": "d992fae7",
   "metadata": {
    "execution": {
     "iopub.execute_input": "2023-09-14T21:54:16.767831Z",
     "iopub.status.busy": "2023-09-14T21:54:16.766871Z",
     "iopub.status.idle": "2023-09-14T21:54:16.778878Z",
     "shell.execute_reply": "2023-09-14T21:54:16.778105Z"
    },
    "slideshow": {
     "slide_type": "fragment"
    }
   },
   "outputs": [
    {
     "name": "stdout",
     "output_type": "stream",
     "text": [
      "21.11111111111111\n"
     ]
    }
   ],
   "source": [
    "temp_f = 70\n",
    "temp_c = ((temp_f - 32) * (5/9))\n",
    "print(temp_c)"
   ]
  },
  {
   "cell_type": "markdown",
   "id": "97fe7c3e",
   "metadata": {
    "slideshow": {
     "slide_type": "subslide"
    }
   },
   "source": [
    "We even know about different types now, so we might do some safety checks:"
   ]
  },
  {
   "cell_type": "code",
   "execution_count": 2,
   "id": "bfb1ff76",
   "metadata": {
    "execution": {
     "iopub.execute_input": "2023-09-14T21:54:16.785574Z",
     "iopub.status.busy": "2023-09-14T21:54:16.784955Z",
     "iopub.status.idle": "2023-09-14T21:54:16.791593Z",
     "shell.execute_reply": "2023-09-14T21:54:16.790687Z"
    },
    "slideshow": {
     "slide_type": "fragment"
    }
   },
   "outputs": [
    {
     "name": "stdout",
     "output_type": "stream",
     "text": [
      "21.11111111111111\n"
     ]
    }
   ],
   "source": [
    "temp_f = 70\n",
    "if type(temp_f) is not int:\n",
    "    temp_c = \"Not a number\"\n",
    "else:\n",
    "    temp_c = ((temp_f - 32) * (5/9))\n",
    "print(temp_c)"
   ]
  },
  {
   "cell_type": "markdown",
   "id": "7cd93f17",
   "metadata": {
    "slideshow": {
     "slide_type": "subslide"
    }
   },
   "source": [
    "We might even want to make our model more advanced:"
   ]
  },
  {
   "cell_type": "code",
   "execution_count": 3,
   "id": "62d53d4b",
   "metadata": {
    "execution": {
     "iopub.execute_input": "2023-09-14T21:54:16.797265Z",
     "iopub.status.busy": "2023-09-14T21:54:16.796738Z",
     "iopub.status.idle": "2023-09-14T21:54:16.802868Z",
     "shell.execute_reply": "2023-09-14T21:54:16.801524Z"
    },
    "slideshow": {
     "slide_type": "fragment"
    }
   },
   "outputs": [
    {
     "name": "stdout",
     "output_type": "stream",
     "text": [
      "21.11111111111111\n"
     ]
    }
   ],
   "source": [
    "temp_f = 70\n",
    "if type(temp_f) is not int:\n",
    "    temp_c = \"Not a number\"\n",
    "elif temp_f < -459.67:\n",
    "    temp_c = \"Too cold!\"\n",
    "else:\n",
    "    temp_c = ((temp_f - 32) * (5/9))\n",
    "print(temp_c)"
   ]
  },
  {
   "cell_type": "markdown",
   "id": "5592dc3b",
   "metadata": {
    "slideshow": {
     "slide_type": "subslide"
    }
   },
   "source": [
    "Now what if we want to use our code several times?"
   ]
  },
  {
   "cell_type": "code",
   "execution_count": 4,
   "id": "caaa3cb0",
   "metadata": {
    "execution": {
     "iopub.execute_input": "2023-09-14T21:54:16.807465Z",
     "iopub.status.busy": "2023-09-14T21:54:16.806936Z",
     "iopub.status.idle": "2023-09-14T21:54:16.816893Z",
     "shell.execute_reply": "2023-09-14T21:54:16.815754Z"
    },
    "slideshow": {
     "slide_type": "fragment"
    }
   },
   "outputs": [
    {
     "name": "stdout",
     "output_type": "stream",
     "text": [
      "21.11111111111111\n",
      "40.55555555555556\n",
      "Too cold!\n"
     ]
    }
   ],
   "source": [
    "temp_f = 70\n",
    "if type(temp_f) is not int:\n",
    "    temp_c = \"Not a number\"\n",
    "elif temp_f < -459.67:\n",
    "    temp_c = \"Too cold!\"\n",
    "else:\n",
    "    temp_c = ((temp_f - 32) * (5/9))\n",
    "print(temp_c)\n",
    "\n",
    "temp_f = 105\n",
    "if type(temp_f) is not int:\n",
    "    temp_c = \"Not a number\"\n",
    "elif temp_f < -459.67:\n",
    "    temp_c = \"Too cold!\"\n",
    "else:\n",
    "    temp_c = ((temp_f - 32) * (5/9))\n",
    "print(temp_c)\n",
    "\n",
    "temp_f = -2000\n",
    "if type(temp_f) is not int:\n",
    "    temp_c = \"Not a number\"\n",
    "elif temp_f < -459.67:\n",
    "    temp_c = \"Too cold!\"\n",
    "else:\n",
    "    temp_c = ((temp_f - 32) * (5/9))\n",
    "print(temp_c)"
   ]
  },
  {
   "cell_type": "markdown",
   "id": "17f526ac",
   "metadata": {
    "slideshow": {
     "slide_type": "slide"
    }
   },
   "source": [
    "Our code could get a lot more complicated\n",
    "\n",
    "- Use a patient's height, weight, age, heart rate and temperature to recommend a medication\n",
    "- Find all the prime numbers up to $n$\n",
    "- Search through a DNA sequence looking for all occurrences of a given pattern\n",
    "\n",
    "Could be hundreds of lines\n",
    "\n",
    "Let's not copy and paste!"
   ]
  },
  {
   "cell_type": "markdown",
   "id": "a55c0af7",
   "metadata": {
    "slideshow": {
     "slide_type": "slide"
    }
   },
   "source": [
    "## Functions\n",
    "- A way of re-using a block of code\n",
    "- Has a name\n",
    "- Can have inputs\n",
    "- Can have outputs"
   ]
  },
  {
   "cell_type": "markdown",
   "id": "d9d1b96a",
   "metadata": {
    "slideshow": {
     "slide_type": "slide"
    }
   },
   "source": [
    "## Writing a function\n",
    "- Create a `def` block\n",
    "- Declare your parameters\n",
    "- Write the code\n",
    "- Return a value (optional)"
   ]
  },
  {
   "cell_type": "code",
   "execution_count": 5,
   "id": "949bed2f",
   "metadata": {
    "execution": {
     "iopub.execute_input": "2023-09-14T21:54:16.822207Z",
     "iopub.status.busy": "2023-09-14T21:54:16.821771Z",
     "iopub.status.idle": "2023-09-14T21:54:16.826993Z",
     "shell.execute_reply": "2023-09-14T21:54:16.826070Z"
    },
    "slideshow": {
     "slide_type": "subslide"
    }
   },
   "outputs": [],
   "source": [
    "def fahr_to_cent(temp_f):\n",
    "    if type(temp_f) is not int:\n",
    "        return \"Not a number\"\n",
    "    elif temp_f < -459.67:\n",
    "        return \"Too cold!\"\n",
    "    else:\n",
    "        return ((temp_f - 32) * (5/9))"
   ]
  },
  {
   "cell_type": "code",
   "execution_count": 6,
   "id": "0df48aa0",
   "metadata": {
    "execution": {
     "iopub.execute_input": "2023-09-14T21:54:16.831494Z",
     "iopub.status.busy": "2023-09-14T21:54:16.831076Z",
     "iopub.status.idle": "2023-09-14T21:54:16.842703Z",
     "shell.execute_reply": "2023-09-14T21:54:16.841079Z"
    },
    "slideshow": {
     "slide_type": "subslide"
    }
   },
   "outputs": [
    {
     "data": {
      "text/plain": [
       "21.11111111111111"
      ]
     },
     "execution_count": 6,
     "metadata": {},
     "output_type": "execute_result"
    }
   ],
   "source": [
    "fahr_to_cent(70)"
   ]
  },
  {
   "cell_type": "code",
   "execution_count": 7,
   "id": "8fe207c1",
   "metadata": {
    "execution": {
     "iopub.execute_input": "2023-09-14T21:54:16.847677Z",
     "iopub.status.busy": "2023-09-14T21:54:16.847242Z",
     "iopub.status.idle": "2023-09-14T21:54:16.853059Z",
     "shell.execute_reply": "2023-09-14T21:54:16.852370Z"
    },
    "slideshow": {
     "slide_type": "fragment"
    }
   },
   "outputs": [
    {
     "data": {
      "text/plain": [
       "40.55555555555556"
      ]
     },
     "execution_count": 7,
     "metadata": {},
     "output_type": "execute_result"
    }
   ],
   "source": [
    "fahr_to_cent(105)"
   ]
  },
  {
   "cell_type": "code",
   "execution_count": 8,
   "id": "364a8e8f",
   "metadata": {
    "execution": {
     "iopub.execute_input": "2023-09-14T21:54:16.856938Z",
     "iopub.status.busy": "2023-09-14T21:54:16.856515Z",
     "iopub.status.idle": "2023-09-14T21:54:16.864281Z",
     "shell.execute_reply": "2023-09-14T21:54:16.862673Z"
    },
    "slideshow": {
     "slide_type": "fragment"
    }
   },
   "outputs": [
    {
     "data": {
      "text/plain": [
       "'Too cold!'"
      ]
     },
     "execution_count": 8,
     "metadata": {},
     "output_type": "execute_result"
    }
   ],
   "source": [
    "fahr_to_cent(-2000)"
   ]
  },
  {
   "cell_type": "markdown",
   "id": "cf871f49",
   "metadata": {
    "slideshow": {
     "slide_type": "slide"
    }
   },
   "source": [
    "## Advantages\n",
    "- We only have to write complicated code *once*\n",
    "- If a bug is found, we only have to fix it *once*\n",
    "- \"Black box model\": forget about how a function *works*, just think about what it *returns*\n",
    "- Cleaner, simpler code"
   ]
  },
  {
   "cell_type": "markdown",
   "id": "10ecb724",
   "metadata": {
    "slideshow": {
     "slide_type": "slide"
    }
   },
   "source": [
    "## Arguments\n",
    "\n",
    "A function might have just one argument:"
   ]
  },
  {
   "cell_type": "code",
   "execution_count": 9,
   "id": "97d7ba61",
   "metadata": {
    "execution": {
     "iopub.execute_input": "2023-09-14T21:54:16.871714Z",
     "iopub.status.busy": "2023-09-14T21:54:16.871335Z",
     "iopub.status.idle": "2023-09-14T21:54:16.876065Z",
     "shell.execute_reply": "2023-09-14T21:54:16.874888Z"
    },
    "slideshow": {
     "slide_type": "fragment"
    }
   },
   "outputs": [],
   "source": [
    "def double(x):\n",
    "    return 2 * x"
   ]
  },
  {
   "cell_type": "code",
   "execution_count": 10,
   "id": "60028c8e",
   "metadata": {
    "execution": {
     "iopub.execute_input": "2023-09-14T21:54:16.880932Z",
     "iopub.status.busy": "2023-09-14T21:54:16.880317Z",
     "iopub.status.idle": "2023-09-14T21:54:16.886306Z",
     "shell.execute_reply": "2023-09-14T21:54:16.885646Z"
    },
    "slideshow": {
     "slide_type": "fragment"
    }
   },
   "outputs": [
    {
     "data": {
      "text/plain": [
       "24"
      ]
     },
     "execution_count": 10,
     "metadata": {},
     "output_type": "execute_result"
    }
   ],
   "source": [
    "double(12)"
   ]
  },
  {
   "cell_type": "markdown",
   "id": "197a0f7b",
   "metadata": {
    "slideshow": {
     "slide_type": "subslide"
    }
   },
   "source": [
    "A function might have multiple arguments:"
   ]
  },
  {
   "cell_type": "code",
   "execution_count": 11,
   "id": "9c44c478",
   "metadata": {
    "execution": {
     "iopub.execute_input": "2023-09-14T21:54:16.890330Z",
     "iopub.status.busy": "2023-09-14T21:54:16.890031Z",
     "iopub.status.idle": "2023-09-14T21:54:16.894893Z",
     "shell.execute_reply": "2023-09-14T21:54:16.893969Z"
    },
    "slideshow": {
     "slide_type": "fragment"
    }
   },
   "outputs": [],
   "source": [
    "def print_several_times(n, message):\n",
    "    for i in range(n):\n",
    "        print(message)"
   ]
  },
  {
   "cell_type": "code",
   "execution_count": 12,
   "id": "4887a905",
   "metadata": {
    "execution": {
     "iopub.execute_input": "2023-09-14T21:54:16.898785Z",
     "iopub.status.busy": "2023-09-14T21:54:16.898464Z",
     "iopub.status.idle": "2023-09-14T21:54:16.903493Z",
     "shell.execute_reply": "2023-09-14T21:54:16.902671Z"
    },
    "slideshow": {
     "slide_type": "fragment"
    }
   },
   "outputs": [
    {
     "name": "stdout",
     "output_type": "stream",
     "text": [
      "hello mum!\n",
      "hello mum!\n",
      "hello mum!\n",
      "hello mum!\n",
      "hello mum!\n"
     ]
    }
   ],
   "source": [
    "print_several_times(5, \"hello mum!\")"
   ]
  },
  {
   "cell_type": "markdown",
   "id": "53bc0a0e",
   "metadata": {
    "slideshow": {
     "slide_type": "subslide"
    }
   },
   "source": [
    "A function might even have no arguments at all:"
   ]
  },
  {
   "cell_type": "code",
   "execution_count": 13,
   "id": "c10f25fc",
   "metadata": {
    "execution": {
     "iopub.execute_input": "2023-09-14T21:54:16.907426Z",
     "iopub.status.busy": "2023-09-14T21:54:16.906990Z",
     "iopub.status.idle": "2023-09-14T21:54:16.912951Z",
     "shell.execute_reply": "2023-09-14T21:54:16.911429Z"
    },
    "slideshow": {
     "slide_type": "fragment"
    }
   },
   "outputs": [],
   "source": [
    "def info_about_me():\n",
    "    return \"My name is Michael and I'm \" + str(8 * 4) + \" years old.\""
   ]
  },
  {
   "cell_type": "code",
   "execution_count": 14,
   "id": "5850da3a",
   "metadata": {
    "execution": {
     "iopub.execute_input": "2023-09-14T21:54:16.917813Z",
     "iopub.status.busy": "2023-09-14T21:54:16.917317Z",
     "iopub.status.idle": "2023-09-14T21:54:16.922188Z",
     "shell.execute_reply": "2023-09-14T21:54:16.921295Z"
    },
    "slideshow": {
     "slide_type": "fragment"
    }
   },
   "outputs": [
    {
     "data": {
      "text/plain": [
       "\"My name is Michael and I'm 32 years old.\""
      ]
     },
     "execution_count": 14,
     "metadata": {},
     "output_type": "execute_result"
    }
   ],
   "source": [
    "info_about_me()"
   ]
  },
  {
   "cell_type": "markdown",
   "id": "3299673c",
   "metadata": {
    "slideshow": {
     "slide_type": "slide"
    }
   },
   "source": [
    "## Chaining functions\n",
    "\n",
    "We can also *chain* function calls together, using the output of one function as the input of another:"
   ]
  },
  {
   "cell_type": "code",
   "execution_count": 15,
   "id": "ccf17c12",
   "metadata": {
    "execution": {
     "iopub.execute_input": "2023-09-14T21:54:16.926838Z",
     "iopub.status.busy": "2023-09-14T21:54:16.926186Z",
     "iopub.status.idle": "2023-09-14T21:54:16.931461Z",
     "shell.execute_reply": "2023-09-14T21:54:16.930763Z"
    },
    "slideshow": {
     "slide_type": "fragment"
    }
   },
   "outputs": [
    {
     "data": {
      "text/plain": [
       "20"
      ]
     },
     "execution_count": 15,
     "metadata": {},
     "output_type": "execute_result"
    }
   ],
   "source": [
    "double(double(5))"
   ]
  },
  {
   "cell_type": "code",
   "execution_count": 16,
   "id": "2fc54bb4",
   "metadata": {
    "execution": {
     "iopub.execute_input": "2023-09-14T21:54:16.936366Z",
     "iopub.status.busy": "2023-09-14T21:54:16.935985Z",
     "iopub.status.idle": "2023-09-14T21:54:16.941567Z",
     "shell.execute_reply": "2023-09-14T21:54:16.940126Z"
    },
    "slideshow": {
     "slide_type": "subslide"
    }
   },
   "outputs": [
    {
     "name": "stdout",
     "output_type": "stream",
     "text": [
      "My name is Michael and I'm 32 years old.\n",
      "My name is Michael and I'm 32 years old.\n",
      "My name is Michael and I'm 32 years old.\n",
      "My name is Michael and I'm 32 years old.\n",
      "My name is Michael and I'm 32 years old.\n",
      "My name is Michael and I'm 32 years old.\n"
     ]
    }
   ],
   "source": [
    "print_several_times(double(3), info_about_me())"
   ]
  },
  {
   "attachments": {
    "chaining-functions.drawio.svg": {
     "image/svg+xml": [
      "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"
     ]
    }
   },
   "cell_type": "markdown",
   "id": "6d563613",
   "metadata": {
    "slideshow": {
     "slide_type": "fragment"
    }
   },
   "source": [
    "![chaining-functions.drawio.svg](attachment:chaining-functions.drawio.svg)"
   ]
  },
  {
   "cell_type": "markdown",
   "id": "0658da56",
   "metadata": {
    "slideshow": {
     "slide_type": "slide"
    }
   },
   "source": [
    "## Return vs print\n",
    "- Can call `print` inside a function\n",
    "  - Prints something to screen, then forgets it\n",
    "- Can use `return` instead\n",
    "  - Value is returned to whoever called the function\n",
    "  - Value can be used in any way we want"
   ]
  },
  {
   "cell_type": "code",
   "execution_count": 17,
   "id": "4709ba0e",
   "metadata": {
    "execution": {
     "iopub.execute_input": "2023-09-14T21:54:16.946547Z",
     "iopub.status.busy": "2023-09-14T21:54:16.946228Z",
     "iopub.status.idle": "2023-09-14T21:54:16.950163Z",
     "shell.execute_reply": "2023-09-14T21:54:16.949131Z"
    },
    "slideshow": {
     "slide_type": "subslide"
    }
   },
   "outputs": [],
   "source": [
    "def area_of_circle(radius):\n",
    "    print(3.14 * radius * radius)"
   ]
  },
  {
   "cell_type": "code",
   "execution_count": 18,
   "id": "6d76c7de",
   "metadata": {
    "execution": {
     "iopub.execute_input": "2023-09-14T21:54:16.954336Z",
     "iopub.status.busy": "2023-09-14T21:54:16.953998Z",
     "iopub.status.idle": "2023-09-14T21:54:16.958246Z",
     "shell.execute_reply": "2023-09-14T21:54:16.957031Z"
    },
    "slideshow": {
     "slide_type": "fragment"
    }
   },
   "outputs": [
    {
     "name": "stdout",
     "output_type": "stream",
     "text": [
      "78.5\n"
     ]
    }
   ],
   "source": [
    "area_of_circle(5.0)"
   ]
  },
  {
   "cell_type": "code",
   "execution_count": 19,
   "id": "ba0c8efa",
   "metadata": {
    "execution": {
     "iopub.execute_input": "2023-09-14T21:54:16.963451Z",
     "iopub.status.busy": "2023-09-14T21:54:16.962558Z",
     "iopub.status.idle": "2023-09-14T21:54:16.967660Z",
     "shell.execute_reply": "2023-09-14T21:54:16.966495Z"
    },
    "slideshow": {
     "slide_type": "fragment"
    }
   },
   "outputs": [
    {
     "name": "stdout",
     "output_type": "stream",
     "text": [
      "78.5\n",
      "None\n"
     ]
    }
   ],
   "source": [
    "print(area_of_circle(5.0))"
   ]
  },
  {
   "cell_type": "code",
   "execution_count": 20,
   "id": "1b3ae0ca",
   "metadata": {
    "execution": {
     "iopub.execute_input": "2023-09-14T21:54:16.972535Z",
     "iopub.status.busy": "2023-09-14T21:54:16.972204Z",
     "iopub.status.idle": "2023-09-14T21:54:17.204279Z",
     "shell.execute_reply": "2023-09-14T21:54:17.203324Z"
    },
    "slideshow": {
     "slide_type": "subslide"
    }
   },
   "outputs": [
    {
     "name": "stdout",
     "output_type": "stream",
     "text": [
      "78.5\n"
     ]
    },
    {
     "ename": "TypeError",
     "evalue": "unsupported operand type(s) for *: 'float' and 'NoneType'",
     "output_type": "error",
     "traceback": [
      "\u001b[0;31m---------------------------------------------------------------------------\u001b[0m",
      "\u001b[0;31mTypeError\u001b[0m                                 Traceback (most recent call last)",
      "Cell \u001b[0;32mIn[20], line 1\u001b[0m\n\u001b[0;32m----> 1\u001b[0m volume_of_cylinder \u001b[38;5;241m=\u001b[39m \u001b[38;5;241;43m7.5\u001b[39;49m\u001b[43m \u001b[49m\u001b[38;5;241;43m*\u001b[39;49m\u001b[43m \u001b[49m\u001b[43marea_of_circle\u001b[49m\u001b[43m(\u001b[49m\u001b[38;5;241;43m5.0\u001b[39;49m\u001b[43m)\u001b[49m\n",
      "\u001b[0;31mTypeError\u001b[0m: unsupported operand type(s) for *: 'float' and 'NoneType'"
     ]
    }
   ],
   "source": [
    "volume_of_cylinder = 7.5 * area_of_circle(5.0)"
   ]
  },
  {
   "cell_type": "code",
   "execution_count": 21,
   "id": "7139a23b",
   "metadata": {
    "execution": {
     "iopub.execute_input": "2023-09-14T21:54:17.208518Z",
     "iopub.status.busy": "2023-09-14T21:54:17.208159Z",
     "iopub.status.idle": "2023-09-14T21:54:17.212217Z",
     "shell.execute_reply": "2023-09-14T21:54:17.211323Z"
    },
    "slideshow": {
     "slide_type": "subslide"
    }
   },
   "outputs": [],
   "source": [
    "def area_of_circle(radius):\n",
    "    return 3.14 * radius * radius"
   ]
  },
  {
   "cell_type": "code",
   "execution_count": 22,
   "id": "b5d0ea26",
   "metadata": {
    "execution": {
     "iopub.execute_input": "2023-09-14T21:54:17.217326Z",
     "iopub.status.busy": "2023-09-14T21:54:17.216250Z",
     "iopub.status.idle": "2023-09-14T21:54:17.221452Z",
     "shell.execute_reply": "2023-09-14T21:54:17.220685Z"
    },
    "slideshow": {
     "slide_type": "fragment"
    }
   },
   "outputs": [
    {
     "name": "stdout",
     "output_type": "stream",
     "text": [
      "78.5\n"
     ]
    }
   ],
   "source": [
    "print(area_of_circle(5.0))"
   ]
  },
  {
   "cell_type": "code",
   "execution_count": 23,
   "id": "e31a0cac",
   "metadata": {
    "execution": {
     "iopub.execute_input": "2023-09-14T21:54:17.225683Z",
     "iopub.status.busy": "2023-09-14T21:54:17.225337Z",
     "iopub.status.idle": "2023-09-14T21:54:17.229748Z",
     "shell.execute_reply": "2023-09-14T21:54:17.228792Z"
    },
    "slideshow": {
     "slide_type": "fragment"
    }
   },
   "outputs": [
    {
     "name": "stdout",
     "output_type": "stream",
     "text": [
      "588.75\n"
     ]
    }
   ],
   "source": [
    "volume_of_cylinder = 7.5 * area_of_circle(5.0)\n",
    "print(volume_of_cylinder)"
   ]
  },
  {
   "cell_type": "markdown",
   "id": "7ff952d1",
   "metadata": {
    "slideshow": {
     "slide_type": "subslide"
    }
   },
   "source": [
    "- We nearly always want to use `return` in functions\n",
    "  - More flexible\n",
    "- Only use `print` in functions if you really mean it\n",
    "  - e.g. functions with `print` in the name"
   ]
  },
  {
   "cell_type": "markdown",
   "id": "8fb95c21",
   "metadata": {
    "slideshow": {
     "slide_type": "slide"
    }
   },
   "source": [
    "## Optional arguments\n",
    "- Can specify the *default value* of an argument\n",
    "- Can then call the function with or without the argument\n",
    "- Great for allowing a user to customise functionality"
   ]
  },
  {
   "cell_type": "code",
   "execution_count": 24,
   "id": "11af03c1",
   "metadata": {
    "execution": {
     "iopub.execute_input": "2023-09-14T21:54:17.235298Z",
     "iopub.status.busy": "2023-09-14T21:54:17.234904Z",
     "iopub.status.idle": "2023-09-14T21:54:17.239242Z",
     "shell.execute_reply": "2023-09-14T21:54:17.238504Z"
    },
    "slideshow": {
     "slide_type": "subslide"
    }
   },
   "outputs": [],
   "source": [
    "def introduction(name, town=\"St Andrews\"):\n",
    "    return \"My name is \" + name + \" and I'm from \" + town"
   ]
  },
  {
   "cell_type": "code",
   "execution_count": 25,
   "id": "4adaa264",
   "metadata": {
    "execution": {
     "iopub.execute_input": "2023-09-14T21:54:17.242909Z",
     "iopub.status.busy": "2023-09-14T21:54:17.242562Z",
     "iopub.status.idle": "2023-09-14T21:54:17.247085Z",
     "shell.execute_reply": "2023-09-14T21:54:17.246336Z"
    },
    "slideshow": {
     "slide_type": "fragment"
    }
   },
   "outputs": [
    {
     "name": "stdout",
     "output_type": "stream",
     "text": [
      "My name is Stefano and I'm from Milan\n",
      "My name is Parvati and I'm from Mumbai\n",
      "My name is Michael and I'm from St Andrews\n",
      "My name is Mariana and I'm from Rio de Janeiro\n"
     ]
    }
   ],
   "source": [
    "print(introduction(\"Stefano\", \"Milan\"))\n",
    "print(introduction(\"Parvati\", \"Mumbai\"))\n",
    "print(introduction(\"Michael\"))\n",
    "print(introduction(\"Mariana\", \"Rio de Janeiro\"))"
   ]
  },
  {
   "cell_type": "markdown",
   "id": "82581794",
   "metadata": {
    "slideshow": {
     "slide_type": "slide"
    }
   },
   "source": [
    "## Functions are great\n",
    "- Makes code easier to understand and maintain\n",
    "- A key part of *abstract thinking*\n",
    "- Use them liberally!"
   ]
  },
  {
   "cell_type": "markdown",
   "id": "874955ee",
   "metadata": {
    "slideshow": {
     "slide_type": "slide"
    }
   },
   "source": [
    "## Exercise\n",
    "\n",
    "Here is some code that I want to be able to run.  Define the functions `is_odd_number`, `square` and `meters_to_feet` that it works as intended.  Think about what these should do, based on their names and the way they're being used."
   ]
  },
  {
   "cell_type": "code",
   "execution_count": 26,
   "id": "c19f9a64",
   "metadata": {
    "execution": {
     "iopub.execute_input": "2023-09-14T21:54:17.251900Z",
     "iopub.status.busy": "2023-09-14T21:54:17.251542Z",
     "iopub.status.idle": "2023-09-14T21:54:17.271478Z",
     "shell.execute_reply": "2023-09-14T21:54:17.270508Z"
    },
    "slideshow": {
     "slide_type": "-"
    }
   },
   "outputs": [
    {
     "ename": "NameError",
     "evalue": "name 'is_odd_number' is not defined",
     "output_type": "error",
     "traceback": [
      "\u001b[0;31m---------------------------------------------------------------------------\u001b[0m",
      "\u001b[0;31mNameError\u001b[0m                                 Traceback (most recent call last)",
      "Cell \u001b[0;32mIn[26], line 4\u001b[0m\n\u001b[1;32m      1\u001b[0m \u001b[38;5;66;03m# your code here\u001b[39;00m\n\u001b[1;32m      3\u001b[0m \u001b[38;5;28;01mfor\u001b[39;00m i \u001b[38;5;129;01min\u001b[39;00m \u001b[38;5;28mrange\u001b[39m(\u001b[38;5;241m10\u001b[39m):\n\u001b[0;32m----> 4\u001b[0m     \u001b[38;5;28;01mif\u001b[39;00m \u001b[43mis_odd_number\u001b[49m(i):\n\u001b[1;32m      5\u001b[0m         \u001b[38;5;28mprint\u001b[39m(square(i))\n\u001b[1;32m      6\u001b[0m     \u001b[38;5;28;01melse\u001b[39;00m:\n",
      "\u001b[0;31mNameError\u001b[0m: name 'is_odd_number' is not defined"
     ]
    }
   ],
   "source": [
    "# your code here\n",
    "\n",
    "for i in range(10):\n",
    "    if is_odd_number(i):\n",
    "        print(square(i))\n",
    "    else:\n",
    "        print(meters_to_feet(i))"
   ]
  },
  {
   "cell_type": "markdown",
   "id": "7c1ffd4a",
   "metadata": {
    "slideshow": {
     "slide_type": "skip"
    }
   },
   "source": [
    "## Solution"
   ]
  },
  {
   "cell_type": "code",
   "execution_count": 27,
   "id": "188af1d9",
   "metadata": {
    "execution": {
     "iopub.execute_input": "2023-09-14T21:54:17.275776Z",
     "iopub.status.busy": "2023-09-14T21:54:17.275223Z",
     "iopub.status.idle": "2023-09-14T21:54:17.281133Z",
     "shell.execute_reply": "2023-09-14T21:54:17.280412Z"
    },
    "slideshow": {
     "slide_type": "skip"
    }
   },
   "outputs": [
    {
     "name": "stdout",
     "output_type": "stream",
     "text": [
      "0.0\n",
      "1\n",
      "6.56\n",
      "9\n",
      "13.12\n",
      "25\n",
      "19.68\n",
      "49\n",
      "26.24\n",
      "81\n"
     ]
    }
   ],
   "source": [
    "def is_odd_number(n):\n",
    "    return n % 2 == 1\n",
    "\n",
    "def square(x):\n",
    "    return x * x\n",
    "\n",
    "def meters_to_feet(x):\n",
    "    return 3.28 * x\n",
    "\n",
    "for i in range(10):\n",
    "    if is_odd_number(i):\n",
    "        print(square(i))\n",
    "    else:\n",
    "        print(meters_to_feet(i))"
   ]
  }
 ],
 "metadata": {
  "celltoolbar": "Slideshow",
  "kernelspec": {
   "display_name": "Python 3 (ipykernel)",
   "language": "python",
   "name": "python3"
  },
  "language_info": {
   "codemirror_mode": {
    "name": "ipython",
    "version": 3
   },
   "file_extension": ".py",
   "mimetype": "text/x-python",
   "name": "python",
   "nbconvert_exporter": "python",
   "pygments_lexer": "ipython3",
   "version": "3.9.1"
  }
 },
 "nbformat": 4,
 "nbformat_minor": 5
}
