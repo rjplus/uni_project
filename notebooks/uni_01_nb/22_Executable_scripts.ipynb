{
 "cells": [
  {
   "cell_type": "markdown",
   "metadata": {
    "slideshow": {
     "slide_type": "slide"
    }
   },
   "source": [
    "# Executable Python scripts\n",
    "\n",
    "Programming in Python\n",
    "\n",
    "School of Computer Science, University of St Andrews"
   ]
  },
  {
   "cell_type": "markdown",
   "metadata": {
    "slideshow": {
     "slide_type": "slide"
    }
   },
   "source": [
    "## First executable program in Python\n",
    "- Our aim is to be able to run Python code from a command line\n",
    "- Should be as easy as using Unix shell commands like `ls` and `cd`\n",
    "- To start with, create a file `hello.py` with the following lines:\n",
    "\n",
    "```python\n",
    "# A simple program\n",
    "\n",
    "print(\"Hello, world!\")\n",
    "```"
   ]
  },
  {
   "cell_type": "markdown",
   "metadata": {
    "slideshow": {
     "slide_type": "subslide"
    }
   },
   "source": [
    "Now we can use a Python interpreter to execute the code\n",
    "\n",
    "```\n",
    "$ python hello.py \n",
    "Hello, world!\n",
    "$ \n",
    "```\n",
    "However, we still have to call `python`\n"
   ]
  },
  {
   "cell_type": "markdown",
   "metadata": {
    "slideshow": {
     "slide_type": "slide"
    }
   },
   "source": [
    "## Transform this into an **executable script**:\n",
    "- add one line at the start\n",
    "\n",
    "```bash\n",
    "#!/usr/bin/env python\n",
    "\n",
    "# A simple program\n",
    "\n",
    "print(\"Hello, world!\")\n",
    "```"
   ]
  },
  {
   "cell_type": "markdown",
   "metadata": {
    "slideshow": {
     "slide_type": "subslide"
    }
   },
   "source": [
    "- `#!/usr/bin/env python` is there to use the first interpreter found in the `$PATH`.\n",
    "  - Could instead use `#!/usr/bin/python` but that would be less flexible.\n",
    "- the 2nd line with an empty comment is just a separator\n",
    "- need to use `chmod` to set executable permissions, then can run it as follows:"
   ]
  },
  {
   "cell_type": "markdown",
   "metadata": {
    "slideshow": {
     "slide_type": "fragment"
    }
   },
   "source": [
    "```\n",
    "$ chmod 755 hello_script.py\n",
    "$ ./hello_script.py\n",
    "Hello, world!\n",
    "$ \n",
    "```"
   ]
  },
  {
   "cell_type": "markdown",
   "metadata": {
    "slideshow": {
     "slide_type": "slide"
    }
   },
   "source": [
    "\n",
    "# main"
   ]
  },
  {
   "cell_type": "markdown",
   "metadata": {
    "slideshow": {
     "slide_type": "fragment"
    }
   },
   "source": [
    "- Next, we revisit an example from the episode on writing modules: `c2f.py`\n",
    "- Add a `#!/usr/bin/env python` line at the start\n",
    "- Add the following after the conversion functions:\n",
    "\n",
    "```python\n",
    "def main():\n",
    "    print(\"100C = \", c2f(100), \"F\")\n",
    "    print(\"212F = \", f2c(212), \"C\")\n",
    "    \n",
    "if __name__ == \"__main__\":\n",
    "    main()\n",
    "```"
   ]
  },
  {
   "cell_type": "markdown",
   "metadata": {
    "slideshow": {
     "slide_type": "fragment"
    }
   },
   "source": [
    "See https://docs.python.org/3/library/__main__.html "
   ]
  },
  {
   "cell_type": "markdown",
   "metadata": {
    "slideshow": {
     "slide_type": "slide"
    }
   },
   "source": [
    "# Program arguments"
   ]
  },
  {
   "cell_type": "markdown",
   "metadata": {
    "slideshow": {
     "slide_type": "fragment"
    }
   },
   "source": [
    "Next, put \n",
    "```python\n",
    "import sys\n",
    "```\n",
    "in the beginning of the file (just after comments) and replace the last two lines by\n",
    "\n",
    "```python\n",
    "if __name__ == \"__main__\":\n",
    "    print(\"script name is\", sys.argv[0])\n",
    "    if (len(sys.argv) == 2): # check number of arguments\n",
    "        print(sys.argv[1], \"C = \", c2f(int(sys.argv[1])), \"F\")  \n",
    "```   "
   ]
  },
  {
   "cell_type": "markdown",
   "metadata": {
    "slideshow": {
     "slide_type": "subslide"
    }
   },
   "source": [
    "Now you are able to do the following:\n",
    "```\n",
    "$ ./c2f_main_arg.py 0\n",
    "script name is ./c2f_main_arg.py\n",
    "0 C =  32.0 F\n",
    "$ ./c2f_main_arg.py 100\n",
    "script name is ./c2f_main_arg.py\n",
    "100 C =  212.0 F\n",
    "```"
   ]
  },
  {
   "cell_type": "markdown",
   "metadata": {
    "slideshow": {
     "slide_type": "fragment"
    }
   },
   "source": [
    "* See also [Python main() functions](http://www.artima.com/weblogs/viewpost.jsp?thread=4829) by Guido van Rossum"
   ]
  },
  {
   "cell_type": "markdown",
   "metadata": {
    "slideshow": {
     "slide_type": "slide"
    }
   },
   "source": [
    "## Exercise\n",
    "Modify the `fibo.py` file that we showed in the *Writing modules* lecture to turn it into an executable script.\n",
    "\n",
    "When run as a script, the file should take an integer as a command-line argument, and print out all the Fibonacci numbers up to that integer."
   ]
  },
  {
   "cell_type": "markdown",
   "metadata": {
    "slideshow": {
     "slide_type": "subslide"
    }
   },
   "source": [
    "You will need to add:\n",
    "- a `#!` line at the start;\n",
    "- an import for the `sys` package;\n",
    "- an `if __name__ == \"__main__\"` statement at the end."
   ]
  },
  {
   "cell_type": "markdown",
   "metadata": {
    "slideshow": {
     "slide_type": "skip"
    }
   },
   "source": [
    "## Solution\n",
    "The file should look like the following:"
   ]
  },
  {
   "cell_type": "code",
   "execution_count": 1,
   "metadata": {
    "execution": {
     "iopub.execute_input": "2023-11-07T21:50:03.198858Z",
     "iopub.status.busy": "2023-11-07T21:50:03.198186Z",
     "iopub.status.idle": "2023-11-07T21:50:03.215648Z",
     "shell.execute_reply": "2023-11-07T21:50:03.213569Z"
    },
    "slideshow": {
     "slide_type": "skip"
    }
   },
   "outputs": [
    {
     "name": "stdout",
     "output_type": "stream",
     "text": [
      "Incorrect number of arguments specified\n",
      "Usage: ./fibo.py n\n"
     ]
    }
   ],
   "source": [
    "#!/usr/bin/env python\n",
    "\n",
    "import sys\n",
    "\n",
    "def fibonacci(n):\n",
    "    \"\"\"write Fibonacci series up to n\"\"\"\n",
    "    a, b = 0, 1\n",
    "    while b < n:\n",
    "        print(b)\n",
    "        a, b = b, a+b\n",
    "\n",
    "def fibonacci2(n):\n",
    "    \"\"\"return Fibonacci series up to n\"\"\"\n",
    "    result = []\n",
    "    a, b = 0, 1\n",
    "    while b < n:\n",
    "        result.append(b)\n",
    "        a, b = b, a+b\n",
    "    return result\n",
    "\n",
    "if __name__ == \"__main__\":\n",
    "    if len(sys.argv) == 2: # check number of arguments\n",
    "        n = int(sys.argv[1])\n",
    "        print(\"The first few Fibonacci numbers are:\", fibonacci2(n))\n",
    "    else:\n",
    "        print(\"Incorrect number of arguments specified\")\n",
    "        print(\"Usage: ./fibo.py n\")"
   ]
  }
 ],
 "metadata": {
  "celltoolbar": "Slideshow",
  "kernelspec": {
   "display_name": "Python 3 (ipykernel)",
   "language": "python",
   "name": "python3"
  },
  "language_info": {
   "codemirror_mode": {
    "name": "ipython",
    "version": 3
   },
   "file_extension": ".py",
   "mimetype": "text/x-python",
   "name": "python",
   "nbconvert_exporter": "python",
   "pygments_lexer": "ipython3",
   "version": "3.9.1"
  }
 },
 "nbformat": 4,
 "nbformat_minor": 4
}
