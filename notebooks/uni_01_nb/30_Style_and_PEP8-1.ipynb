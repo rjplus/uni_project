{
 "cells": [
  {
   "cell_type": "markdown",
   "id": "955fcb79",
   "metadata": {},
   "source": [
    "# Style & PEP 8\n",
    "\n",
    "Programming in Python\n",
    "\n",
    "School of Computer Science, University of St Andrews"
   ]
  },
  {
   "cell_type": "markdown",
   "id": "a4ee2aa5",
   "metadata": {},
   "source": [
    "## Style\n",
    "- Correct code will run correctly\n",
    "- But horrible code will be difficult to maintain\n",
    "- We want *good style*"
   ]
  },
  {
   "cell_type": "markdown",
   "id": "70d7d259",
   "metadata": {},
   "source": [
    "## General tips\n",
    "\n",
    "- Some style tips are relevant for all languages\n",
    "- Let's see some examples"
   ]
  },
  {
   "cell_type": "markdown",
   "id": "948c73a4",
   "metadata": {},
   "source": [
    "Use meaningful names"
   ]
  },
  {
   "cell_type": "code",
   "execution_count": 1,
   "id": "c6add7b4",
   "metadata": {
    "execution": {
     "iopub.execute_input": "2023-11-07T22:00:35.572704Z",
     "iopub.status.busy": "2023-11-07T22:00:35.571709Z",
     "iopub.status.idle": "2023-11-07T22:00:35.584964Z",
     "shell.execute_reply": "2023-11-07T22:00:35.583939Z"
    }
   },
   "outputs": [],
   "source": [
    "x = 78000"
   ]
  },
  {
   "cell_type": "markdown",
   "id": "8eb8239b",
   "metadata": {},
   "source": [
    "Use lots of small functions instead of deep nesting"
   ]
  },
  {
   "cell_type": "code",
   "execution_count": 2,
   "id": "9562d16d",
   "metadata": {
    "execution": {
     "iopub.execute_input": "2023-11-07T22:00:35.590519Z",
     "iopub.status.busy": "2023-11-07T22:00:35.590005Z",
     "iopub.status.idle": "2023-11-07T22:00:35.758711Z",
     "shell.execute_reply": "2023-11-07T22:00:35.757361Z"
    }
   },
   "outputs": [
    {
     "ename": "NameError",
     "evalue": "name 'school' is not defined",
     "output_type": "error",
     "traceback": [
      "\u001b[0;31m---------------------------------------------------------------------------\u001b[0m",
      "\u001b[0;31mNameError\u001b[0m                                 Traceback (most recent call last)",
      "Cell \u001b[0;32mIn[2], line 1\u001b[0m\n\u001b[0;32m----> 1\u001b[0m \u001b[38;5;28;01mfor\u001b[39;00m classroom \u001b[38;5;129;01min\u001b[39;00m \u001b[43mschool\u001b[49m:\n\u001b[1;32m      2\u001b[0m     \u001b[38;5;28;01mif\u001b[39;00m classroom\u001b[38;5;241m.\u001b[39mcapacity \u001b[38;5;241m>\u001b[39m \u001b[38;5;241m10\u001b[39m:\n\u001b[1;32m      3\u001b[0m         \u001b[38;5;28;01mfor\u001b[39;00m student \u001b[38;5;129;01min\u001b[39;00m classroom:\n",
      "\u001b[0;31mNameError\u001b[0m: name 'school' is not defined"
     ]
    }
   ],
   "source": [
    "for classroom in school:\n",
    "    if classroom.capacity > 10:\n",
    "        for student in classroom:\n",
    "            if student.age >= 21 and len(student.criminal_convictions) == 0 and student.has_driving_licence:\n",
    "                print(student.name, \"should be considered\")\n",
    "    else:\n",
    "        print(\"No bus needed for\", classroom.name)"
   ]
  },
  {
   "cell_type": "markdown",
   "id": "ae9832eb",
   "metadata": {},
   "source": [
    "Use comments effectively"
   ]
  },
  {
   "cell_type": "code",
   "execution_count": 3,
   "id": "17ff7ad6",
   "metadata": {
    "execution": {
     "iopub.execute_input": "2023-11-07T22:00:35.763962Z",
     "iopub.status.busy": "2023-11-07T22:00:35.763475Z",
     "iopub.status.idle": "2023-11-07T22:00:35.808794Z",
     "shell.execute_reply": "2023-11-07T22:00:35.807068Z"
    }
   },
   "outputs": [
    {
     "ename": "NameError",
     "evalue": "name 'size_of_building' is not defined",
     "output_type": "error",
     "traceback": [
      "\u001b[0;31m---------------------------------------------------------------------------\u001b[0m",
      "\u001b[0;31mNameError\u001b[0m                                 Traceback (most recent call last)",
      "Cell \u001b[0;32mIn[3], line 2\u001b[0m\n\u001b[1;32m      1\u001b[0m \u001b[38;5;66;03m# add 10 to size_of_building\u001b[39;00m\n\u001b[0;32m----> 2\u001b[0m size_of_building \u001b[38;5;241m+\u001b[39m\u001b[38;5;241m=\u001b[39m \u001b[38;5;241m10\u001b[39m\n",
      "\u001b[0;31mNameError\u001b[0m: name 'size_of_building' is not defined"
     ]
    }
   ],
   "source": [
    "# add 10 to size_of_building\n",
    "size_of_building += 10"
   ]
  },
  {
   "cell_type": "code",
   "execution_count": 4,
   "id": "42c866d4",
   "metadata": {
    "execution": {
     "iopub.execute_input": "2023-11-07T22:00:35.813998Z",
     "iopub.status.busy": "2023-11-07T22:00:35.813473Z",
     "iopub.status.idle": "2023-11-07T22:00:35.818610Z",
     "shell.execute_reply": "2023-11-07T22:00:35.816982Z"
    }
   },
   "outputs": [],
   "source": [
    "# make sure year is 2024\n",
    "year = 2026"
   ]
  },
  {
   "cell_type": "markdown",
   "id": "ba77be04",
   "metadata": {},
   "source": [
    "# PEP 8\n",
    "* Style Guide for Python Code: http://python.org/dev/peps/pep-0008/\n",
    "* Widely used, and worth following most of the time"
   ]
  },
  {
   "cell_type": "markdown",
   "id": "437e33c0",
   "metadata": {},
   "source": [
    "4-space indentation (no tabs)"
   ]
  },
  {
   "cell_type": "code",
   "execution_count": 5,
   "id": "6c10a0dc",
   "metadata": {
    "execution": {
     "iopub.execute_input": "2023-11-07T22:00:35.823975Z",
     "iopub.status.busy": "2023-11-07T22:00:35.823538Z",
     "iopub.status.idle": "2023-11-07T22:00:35.839698Z",
     "shell.execute_reply": "2023-11-07T22:00:35.838555Z"
    }
   },
   "outputs": [
    {
     "ename": "NameError",
     "evalue": "name 'size' is not defined",
     "output_type": "error",
     "traceback": [
      "\u001b[0;31m---------------------------------------------------------------------------\u001b[0m",
      "\u001b[0;31mNameError\u001b[0m                                 Traceback (most recent call last)",
      "Cell \u001b[0;32mIn[5], line 2\u001b[0m\n\u001b[1;32m      1\u001b[0m \u001b[38;5;28;01mfor\u001b[39;00m i \u001b[38;5;129;01min\u001b[39;00m \u001b[38;5;28mrange\u001b[39m(\u001b[38;5;241m50\u001b[39m):\n\u001b[0;32m----> 2\u001b[0m       \u001b[38;5;28mprint\u001b[39m(\u001b[43msize\u001b[49m(rocket) \u001b[38;5;241m-\u001b[39m i)\n",
      "\u001b[0;31mNameError\u001b[0m: name 'size' is not defined"
     ]
    }
   ],
   "source": [
    "for i in range(50):\n",
    "      print(size(rocket) - i)"
   ]
  },
  {
   "cell_type": "markdown",
   "id": "bff7a6e1",
   "metadata": {},
   "source": [
    "79 character line width"
   ]
  },
  {
   "cell_type": "code",
   "execution_count": 6,
   "id": "b8973095",
   "metadata": {
    "execution": {
     "iopub.execute_input": "2023-11-07T22:00:35.845363Z",
     "iopub.status.busy": "2023-11-07T22:00:35.844931Z",
     "iopub.status.idle": "2023-11-07T22:00:35.861254Z",
     "shell.execute_reply": "2023-11-07T22:00:35.860275Z"
    }
   },
   "outputs": [
    {
     "ename": "NameError",
     "evalue": "name 'PROGRAM_NAME' is not defined",
     "output_type": "error",
     "traceback": [
      "\u001b[0;31m---------------------------------------------------------------------------\u001b[0m",
      "\u001b[0;31mNameError\u001b[0m                                 Traceback (most recent call last)",
      "Cell \u001b[0;32mIn[6], line 1\u001b[0m\n\u001b[0;32m----> 1\u001b[0m \u001b[38;5;28mprint\u001b[39m(\u001b[38;5;124m\"\u001b[39m\u001b[38;5;124mPlease note that\u001b[39m\u001b[38;5;124m\"\u001b[39m, \u001b[43mPROGRAM_NAME\u001b[49m, \u001b[38;5;124m\"\u001b[39m\u001b[38;5;124mis open-source software under the\u001b[39m\u001b[38;5;124m\"\u001b[39m, PROGRAM_LICENCE, \u001b[38;5;124m\"\u001b[39m\u001b[38;5;124mlicence and the source code is available for free.\u001b[39m\u001b[38;5;124m\"\u001b[39m)\n",
      "\u001b[0;31mNameError\u001b[0m: name 'PROGRAM_NAME' is not defined"
     ]
    }
   ],
   "source": [
    "print(\"Please note that\", PROGRAM_NAME, \"is open-source software under the\", PROGRAM_LICENCE, \"licence and the source code is available for free.\")"
   ]
  },
  {
   "cell_type": "markdown",
   "id": "a3cb00e4",
   "metadata": {},
   "source": [
    "Spaces around operators and after commas, but not directly inside bracketing constructs:"
   ]
  },
  {
   "cell_type": "code",
   "execution_count": 7,
   "id": "4c0f3e63",
   "metadata": {
    "execution": {
     "iopub.execute_input": "2023-11-07T22:00:35.866238Z",
     "iopub.status.busy": "2023-11-07T22:00:35.865931Z",
     "iopub.status.idle": "2023-11-07T22:00:35.881109Z",
     "shell.execute_reply": "2023-11-07T22:00:35.880164Z"
    }
   },
   "outputs": [
    {
     "ename": "NameError",
     "evalue": "name 'f' is not defined",
     "output_type": "error",
     "traceback": [
      "\u001b[0;31m---------------------------------------------------------------------------\u001b[0m",
      "\u001b[0;31mNameError\u001b[0m                                 Traceback (most recent call last)",
      "Cell \u001b[0;32mIn[7], line 1\u001b[0m\n\u001b[0;32m----> 1\u001b[0m a\u001b[38;5;241m=\u001b[39m\u001b[43mf\u001b[49m (\u001b[38;5;241m1\u001b[39m,\u001b[38;5;241m2\u001b[39m) \u001b[38;5;241m+\u001b[39m g ( \u001b[38;5;241m3\u001b[39m,\u001b[38;5;241m4\u001b[39m )\n",
      "\u001b[0;31mNameError\u001b[0m: name 'f' is not defined"
     ]
    }
   ],
   "source": [
    "a=f (1,2) + g ( 3,4 )"
   ]
  },
  {
   "cell_type": "markdown",
   "id": "ca3c4dab",
   "metadata": {},
   "source": [
    "* Blank lines to separate functions and classes\n",
    "* Larger blocks of code inside functions\n",
    "* Comments on their own line (where possible) \n",
    "* Use docstrings (`\"\"\"docstring\"\"\"`)\n",
    "* `CamelCase` names for classes and `lower_case_with_underscores` for functions and methods\n",
    "* UTF-8 encoding"
   ]
  },
  {
   "cell_type": "markdown",
   "id": "03e451b2",
   "metadata": {},
   "source": [
    "## Style is important!\n",
    "- Your coworkers will thank you for good style\n",
    "- So will your future self\n",
    "- So will university lecturers marking your work!"
   ]
  },
  {
   "cell_type": "markdown",
   "id": "c7308c5e",
   "metadata": {},
   "source": [
    "## Exercise\n",
    "Modify the following code so that it follows the PEP 8 style."
   ]
  },
  {
   "cell_type": "code",
   "execution_count": 8,
   "id": "d2e4a864",
   "metadata": {
    "execution": {
     "iopub.execute_input": "2023-11-07T22:00:35.885815Z",
     "iopub.status.busy": "2023-11-07T22:00:35.885365Z",
     "iopub.status.idle": "2023-11-07T22:00:35.892828Z",
     "shell.execute_reply": "2023-11-07T22:00:35.892034Z"
    }
   },
   "outputs": [
    {
     "name": "stdout",
     "output_type": "stream",
     "text": [
      "2\n",
      "3\n",
      "5\n",
      "7\n",
      "11\n",
      "13\n",
      "17\n",
      "19\n",
      "23\n",
      "29\n",
      "31\n",
      "37\n",
      "41\n",
      "43\n",
      "47\n",
      "53\n",
      "59\n",
      "61\n",
      "67\n",
      "71\n",
      "73\n",
      "79\n",
      "83\n",
      "89\n",
      "97\n",
      "101\n",
      "103\n",
      "107\n",
      "109\n",
      "113\n",
      "127\n",
      "131\n",
      "137\n",
      "139\n",
      "149\n",
      "151\n",
      "157\n",
      "163\n",
      "167\n",
      "173\n",
      "179\n",
      "181\n",
      "191\n",
      "193\n",
      "197\n",
      "199\n",
      "211\n",
      "223\n",
      "227\n",
      "229\n",
      "233\n",
      "239\n",
      "241\n",
      "251\n",
      "257\n",
      "263\n",
      "269\n",
      "271\n",
      "277\n",
      "281\n",
      "283\n",
      "293\n",
      "307\n",
      "311\n",
      "313\n",
      "317\n",
      "331\n",
      "337\n",
      "347\n",
      "349\n",
      "353\n",
      "359\n",
      "367\n",
      "373\n",
      "379\n",
      "383\n",
      "389\n",
      "397\n",
      "401\n",
      "409\n",
      "419\n",
      "421\n",
      "431\n",
      "433\n",
      "439\n",
      "443\n",
      "449\n",
      "457\n",
      "461\n",
      "463\n",
      "467\n",
      "479\n",
      "487\n",
      "491\n",
      "499\n",
      "503\n",
      "509\n",
      "521\n",
      "523\n",
      "541\n"
     ]
    }
   ],
   "source": [
    "# Returns a boolean stating whether the given integer is prime!\n",
    "def is_prime(n):\n",
    "        if n <= 1:\n",
    "              return False\n",
    "        for i in range(2,n):\n",
    "              if n%i==0:\n",
    "                      return False\n",
    "        return True\n",
    "\n",
    "count=0\n",
    "num=2\n",
    "\n",
    "while count<100:\n",
    "        if is_prime( num ):\n",
    "            print( num )\n",
    "            count += 1\n",
    "        num += 1"
   ]
  },
  {
   "cell_type": "markdown",
   "id": "71fb0de9",
   "metadata": {},
   "source": [
    "## Solution"
   ]
  },
  {
   "cell_type": "code",
   "execution_count": 9,
   "id": "0f653ee5",
   "metadata": {
    "execution": {
     "iopub.execute_input": "2023-11-07T22:00:35.897700Z",
     "iopub.status.busy": "2023-11-07T22:00:35.897345Z",
     "iopub.status.idle": "2023-11-07T22:00:35.905242Z",
     "shell.execute_reply": "2023-11-07T22:00:35.904319Z"
    }
   },
   "outputs": [
    {
     "name": "stdout",
     "output_type": "stream",
     "text": [
      "2\n",
      "3\n",
      "5\n",
      "7\n",
      "11\n",
      "13\n",
      "17\n",
      "19\n",
      "23\n",
      "29\n",
      "31\n",
      "37\n",
      "41\n",
      "43\n",
      "47\n",
      "53\n",
      "59\n",
      "61\n",
      "67\n",
      "71\n",
      "73\n",
      "79\n",
      "83\n",
      "89\n",
      "97\n",
      "101\n",
      "103\n",
      "107\n",
      "109\n",
      "113\n",
      "127\n",
      "131\n",
      "137\n",
      "139\n",
      "149\n",
      "151\n",
      "157\n",
      "163\n",
      "167\n",
      "173\n",
      "179\n",
      "181\n",
      "191\n",
      "193\n",
      "197\n",
      "199\n",
      "211\n",
      "223\n",
      "227\n",
      "229\n",
      "233\n",
      "239\n",
      "241\n",
      "251\n",
      "257\n",
      "263\n",
      "269\n",
      "271\n",
      "277\n",
      "281\n",
      "283\n",
      "293\n",
      "307\n",
      "311\n",
      "313\n",
      "317\n",
      "331\n",
      "337\n",
      "347\n",
      "349\n",
      "353\n",
      "359\n",
      "367\n",
      "373\n",
      "379\n",
      "383\n",
      "389\n",
      "397\n",
      "401\n",
      "409\n",
      "419\n",
      "421\n",
      "431\n",
      "433\n",
      "439\n",
      "443\n",
      "449\n",
      "457\n",
      "461\n",
      "463\n",
      "467\n",
      "479\n",
      "487\n",
      "491\n",
      "499\n",
      "503\n",
      "509\n",
      "521\n",
      "523\n",
      "541\n"
     ]
    }
   ],
   "source": [
    "def is_prime(n):\n",
    "    \"\"\"Returns a boolean stating whether the given integer is prime.\"\"\"\n",
    "    if n <= 1:\n",
    "        return False\n",
    "    for i in range(2, n):\n",
    "        if n % i == 0:\n",
    "            return False\n",
    "    return True\n",
    "\n",
    "count = 0\n",
    "num = 2\n",
    "\n",
    "while count < 100:\n",
    "    if is_prime(num):\n",
    "        print(num)\n",
    "        count += 1\n",
    "    num += 1"
   ]
  }
 ],
 "metadata": {
  "kernelspec": {
   "display_name": "Python 3 (ipykernel)",
   "language": "python",
   "name": "python3"
  },
  "language_info": {
   "codemirror_mode": {
    "name": "ipython",
    "version": 3
   },
   "file_extension": ".py",
   "mimetype": "text/x-python",
   "name": "python",
   "nbconvert_exporter": "python",
   "pygments_lexer": "ipython3",
   "version": "3.9.1"
  }
 },
 "nbformat": 4,
 "nbformat_minor": 5
}
